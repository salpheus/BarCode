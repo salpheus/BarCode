{
 "cells": [
  {
   "cell_type": "code",
   "execution_count": 2,
   "id": "wrong-gabriel",
   "metadata": {},
   "outputs": [],
   "source": [
    "import ast\n",
    "import os"
   ]
  },
  {
   "cell_type": "code",
   "execution_count": 8,
   "id": "devoted-electricity",
   "metadata": {},
   "outputs": [],
   "source": [
    "import pkg_resources\n",
    "import types"
   ]
  },
  {
   "cell_type": "code",
   "execution_count": 3,
   "id": "stone-punch",
   "metadata": {
    "collapsed": true,
    "jupyter": {
     "outputs_hidden": true
    }
   },
   "outputs": [
    {
     "name": "stdout",
     "output_type": "stream",
     "text": [
      "EXPLNoComments_BPick.ipynb\n",
      "StratBuilder_Aug21-Downstream-Copy1.ipynb\n",
      "BarAnalysis_July22.ipynb\n",
      "CrossPlots_May2022.ipynb\n",
      "Bpick_Jun22.ipynb\n",
      "CompareStrat_Apr21-BetweenModels.ipynb\n",
      "StratBuilder_May2022.ipynb\n",
      "0_fnl_BarAnalysys_AHManuscript.ipynb\n",
      "MegaStratBuilder_0522-EHWeelers.ipynb\n",
      "StratBuilder_ForBarPackageInterp.ipynb\n",
      "BPick_fnl.ipynb\n",
      "StratBuilder_July2021-Copy1.ipynb\n",
      "Trampush_CompStatSpace.ipynb\n",
      ".DS_Store\n",
      "Interp-movements-8groups.ipynb\n",
      "BPick_fnl.py\n",
      "Bpick_May22.ipynb\n",
      "StratBuilder_ForBarPackageMeasurementsONLY.ipynb\n",
      "BarAnalysis_AHManuscript22.ipynb\n",
      "BarKinematics.ipynb\n",
      "WettedWidth.ipynb\n",
      "FullDomainProcesses_2022.ipynb\n",
      "Interp-movements-8groups-monday.ipynb\n",
      "WhiteNoiseDischarge_Mar21.ipynb\n",
      "NAYS_eBI_discharge.ipynb\n",
      "FullDomain_skyscrapers_2023_nomove.ipynb\n",
      "Untitled.ipynb\n",
      "ebi-boxplots.ipynb\n",
      "StratBuilder-Oct21.ipynb\n",
      "StratBuilder_April2021-DwnStm.ipynb\n",
      "Bpick_XS_DWN-PATCH.ipynb\n",
      "StratBuilder_Aug21.ipynb\n",
      "StratBuilder_nparrayimport.ipynb\n",
      "Untitled4.ipynb\n",
      "ReplotBars.ipynb\n",
      "StratBuilder_nparrayimport-faciesfig.ipynb\n",
      "BarPickers.ipynb\n",
      "Vids-from-frames.ipynb\n",
      "Create Topo Videos.ipynb\n",
      "StratBuilder_July2021v2.ipynb\n",
      "message :wq\n",
      "NAYS_eBI.ipynb\n",
      "CrossPlots_June2022-xlsx.ipynb\n",
      "StratBuilder_buildchannelwidth.ipynb\n",
      "MegaStratBuilder_TurnTime.ipynb\n",
      "StratBuilder_Aug21-Downstream.ipynb\n",
      "scratch--faciesstratgiraphybatch.ipynb\n",
      "BarPickers.py\n",
      "Recompose-BarPickers.ipynb\n",
      "FullDomainProcesses_2021.ipynb\n",
      "BarAnalysis_July22-ud.ipynb\n",
      "Remove_Duplicates.ipynb\n",
      "StratBuilder_Mar22.ipynb\n",
      "RiverTopo_Vids-0621.ipynb\n",
      "README.md\n",
      "White Noise Discharge-Constant.ipynb\n",
      "Interp-movements-Sp22.ipynb\n",
      "pkg-retriever.ipynb\n",
      "Loop-BarPickers.ipynb\n",
      "Bpick_July22.ipynb\n",
      "MegaStratBuilder_0522.ipynb\n",
      "FullDomain_skyscrapers_2023.ipynb\n",
      "StratBuilder_Aug21-v2.ipynb\n",
      "suc-height-380.csv\n",
      "StratBuilder_Aug21-Copy1.ipynb\n",
      "depthdata.npy\n",
      "Calculate_TurnoverTume.ipynb\n",
      "discharge-peakedness.ipynb\n",
      "NoComments_BPick.ipynb\n",
      "Interp-covabr-Sp22.ipynb\n",
      "StratBuilder_downstream2022.ipynb\n",
      "StratBuilder_July2021v2-Slope.ipynb\n",
      "make-cmaps-from-hex.ipynb\n",
      "BarPreservationStatistics.ipynb\n",
      "StratBuilder_Aug21-ExtractStats.ipynb\n",
      "Centroid_Classification.ipynb\n",
      "BarPickNew.ipynb\n",
      "PlotBars.ipynb\n",
      "Lague-discharge copy.ipynb\n",
      "wtf.csv\n",
      ".ipynb_checkpoints\n",
      "Convert_files.ipynb\n",
      "Plot-Planform.ipynb\n",
      "more-stats-pon-ya-headtop-v2.ipynb\n",
      "PBT_onBars.ipynb\n",
      "BarCode_WIKIPICS\n",
      "StratBuilder_April2021.ipynb\n",
      "StratBuilder_plotBarPkgs.ipynb\n",
      ".git\n",
      "Bpick_XS_DWN.ipynb\n",
      "Bar_topography.ipynb\n",
      "BPick_fnl-patch.ipynb\n",
      "Interp-Bar-Packages.ipynb\n",
      "fullsectionstrat.png\n",
      "Videos-Using-interpolateddata.ipynb\n",
      "StratBuilder_aug21-Copy2.ipynb\n",
      "StratBuilder-AGU21_Figs.ipynb\n",
      "StratBuilder_Aug21-Downstream-barpkg.ipynb\n",
      "heightdata.npy\n",
      "StratBuilder_Aug21-Downstream-fnl.ipynb\n",
      "AH_Replot_Sections.ipynb\n"
     ]
    }
   ],
   "source": [
    "for filename in os.listdir(os.getcwd()):"
   ]
  },
  {
   "cell_type": "code",
   "execution_count": 6,
   "id": "comparable-bahrain",
   "metadata": {},
   "outputs": [
    {
     "name": "stdout",
     "output_type": "stream",
     "text": [
      "Packages used in the script: []\n"
     ]
    }
   ],
   "source": [
    "def get_imported_packages(script_path):\n",
    "    with open(script_path, 'r') as file:\n",
    "        tree = ast.parse(file.read(), filename=script_path)\n",
    "\n",
    "    imported_packages = set()\n",
    "\n",
    "    for node in ast.walk(tree):\n",
    "        if isinstance(node, ast.Import):\n",
    "            for alias in node.names:\n",
    "                imported_packages.add(alias.name)\n",
    "        elif isinstance(node, ast.ImportFrom):\n",
    "            imported_packages.add(node.module)\n",
    "\n",
    "    return list(imported_packages)\n",
    "\n",
    "# Example usage:\n",
    "script_path = 'BarPickers.ipynb'\n",
    "packages_used = get_imported_packages(script_path)\n",
    "\n",
    "print(\"Packages used in the script:\", packages_used)"
   ]
  },
  {
   "cell_type": "code",
   "execution_count": 9,
   "id": "controversial-surgeon",
   "metadata": {},
   "outputs": [
    {
     "ename": "NameError",
     "evalue": "name 'sys' is not defined",
     "output_type": "error",
     "traceback": [
      "\u001b[0;31m---------------------------------------------------------------------------\u001b[0m",
      "\u001b[0;31mNameError\u001b[0m                                 Traceback (most recent call last)",
      "\u001b[0;32m<ipython-input-9-645d480ecd8c>\u001b[0m in \u001b[0;36m<module>\u001b[0;34m\u001b[0m\n\u001b[1;32m     24\u001b[0m \u001b[0;31m# of installed packages vs. imported packages\u001b[0m\u001b[0;34m\u001b[0m\u001b[0;34m\u001b[0m\u001b[0;34m\u001b[0m\u001b[0m\n\u001b[1;32m     25\u001b[0m \u001b[0mmodules\u001b[0m \u001b[0;34m=\u001b[0m \u001b[0;34m[\u001b[0m\u001b[0;34m]\u001b[0m\u001b[0;34m\u001b[0m\u001b[0;34m\u001b[0m\u001b[0m\n\u001b[0;32m---> 26\u001b[0;31m \u001b[0;32mfor\u001b[0m \u001b[0mm\u001b[0m \u001b[0;32min\u001b[0m \u001b[0msys\u001b[0m\u001b[0;34m.\u001b[0m\u001b[0mbuiltin_module_names\u001b[0m\u001b[0;34m:\u001b[0m\u001b[0;34m\u001b[0m\u001b[0;34m\u001b[0m\u001b[0m\n\u001b[0m\u001b[1;32m     27\u001b[0m     \u001b[0;32mif\u001b[0m \u001b[0mm\u001b[0m\u001b[0;34m.\u001b[0m\u001b[0mlower\u001b[0m\u001b[0;34m(\u001b[0m\u001b[0;34m)\u001b[0m \u001b[0;32min\u001b[0m \u001b[0mimports\u001b[0m \u001b[0;32mand\u001b[0m \u001b[0mm\u001b[0m \u001b[0;34m!=\u001b[0m\u001b[0;34m'builtins'\u001b[0m\u001b[0;34m:\u001b[0m\u001b[0;34m\u001b[0m\u001b[0;34m\u001b[0m\u001b[0m\n\u001b[1;32m     28\u001b[0m         \u001b[0mmodules\u001b[0m\u001b[0;34m.\u001b[0m\u001b[0mappend\u001b[0m\u001b[0;34m(\u001b[0m\u001b[0;34m(\u001b[0m\u001b[0mm\u001b[0m\u001b[0;34m,\u001b[0m\u001b[0;34m'Python BuiltIn'\u001b[0m\u001b[0;34m)\u001b[0m\u001b[0;34m)\u001b[0m\u001b[0;34m\u001b[0m\u001b[0;34m\u001b[0m\u001b[0m\n",
      "\u001b[0;31mNameError\u001b[0m: name 'sys' is not defined"
     ]
    }
   ],
   "source": [
    "    def get_imports():\n",
    "        for name, val in globals().items():\n",
    "            if isinstance(val, types.ModuleType):\n",
    "                # Split ensures you get root package, \n",
    "                # not just imported function\n",
    "                name = val.__name__.split(\".\")[0]\n",
    "            elif isinstance(val, type):\n",
    "                name = val.__module__.split(\".\")[0]\n",
    "            # Some packages are weird and have different\n",
    "            # imported names vs. system/pip names. Unfortunately,\n",
    "            # there is no systematic way to get pip names from\n",
    "            # a package's imported name. You'll have to add\n",
    "            # exceptions to this list manually!\n",
    "            poorly_named_packages = {\n",
    "                \"sklearn\": \"scikit-learn\"\n",
    "            }\n",
    "            if name in poorly_named_packages.keys():\n",
    "                name = poorly_named_packages[name]\n",
    "            yield name.lower()\n",
    "    imports = list(set(get_imports()))\n",
    "\n",
    "    # The only way I found to get the version of the root package\n",
    "    # from only the name of the package is to cross-check the names \n",
    "    # of installed packages vs. imported packages\n",
    "    modules = []\n",
    "    for m in sys.builtin_module_names:\n",
    "        if m.lower() in imports and m !='builtins':\n",
    "            modules.append((m,'Python BuiltIn'))\n",
    "            imports.remove(m.lower())\n",
    "\n",
    "    for m in pkg_resources.working_set:\n",
    "        if m.project_name.lower() in imports and m.project_name!=\"pip\":\n",
    "            modules.append((m.project_name, m.version))\n",
    "            imports.remove(m.project_name.lower())\n",
    "\n",
    "    for m in sys.modules:\n",
    "        if m.lower() in imports and m !='builtins':\n",
    "            modules.append((m,'unknown'))\n",
    "\n",
    "    # print('System=='+platform.system()+' '+platform.release()+'; Version=='+platform.version())\n",
    "    for r in modules:\n",
    "        print(\"{}=={}\".format(*r))"
   ]
  },
  {
   "cell_type": "code",
   "execution_count": null,
   "id": "incorporated-brass",
   "metadata": {},
   "outputs": [],
   "source": []
  }
 ],
 "metadata": {
  "kernelspec": {
   "display_name": "Python 3",
   "language": "python",
   "name": "python3"
  },
  "language_info": {
   "codemirror_mode": {
    "name": "ipython",
    "version": 3
   },
   "file_extension": ".py",
   "mimetype": "text/x-python",
   "name": "python",
   "nbconvert_exporter": "python",
   "pygments_lexer": "ipython3",
   "version": "3.7.4"
  }
 },
 "nbformat": 4,
 "nbformat_minor": 5
}
