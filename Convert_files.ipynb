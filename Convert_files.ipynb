{
 "cells": [
  {
   "cell_type": "code",
   "execution_count": 2,
   "id": "eastern-accessory",
   "metadata": {
    "ExecuteTime": {
     "end_time": "2021-09-20T19:43:05.039719Z",
     "start_time": "2021-09-20T19:43:05.037326Z"
    }
   },
   "outputs": [],
   "source": [
    "import os \n",
    "import pandas as pd\n",
    "import numpy as np"
   ]
  },
  {
   "cell_type": "code",
   "execution_count": 16,
   "id": "e3d8913d-8106-4606-8fb1-fbfc537acd03",
   "metadata": {
    "ExecuteTime": {
     "end_time": "2021-09-20T19:43:07.952672Z",
     "start_time": "2021-09-20T19:43:05.640873Z"
    }
   },
   "outputs": [],
   "source": [
    "dataloc = 'agubh2-10km' #where csv files are\n",
    "savefolder = 'data-agubh2-10km_0hrflood' #folder name of data\n",
    "\n",
    "filepathcore = f'/Volumes/SAF_Data/NAYS2DH_files/Data/Raw/{dataloc}/'\n",
    "\n",
    "savefilesto = f'/Volumes/SAF_Data/NAYS2DH_files/Data/ConvertedArrays/{savefolder}/'\n",
    "idf = '0hfld' #identifier so all the datamaster files arent named the same\n",
    "iricoutputt = 1/6 #time of output in hours"
   ]
  },
  {
   "cell_type": "code",
   "execution_count": 5,
   "id": "b0e07b09-7aad-4e3f-a78e-06783c04fedb",
   "metadata": {
    "ExecuteTime": {
     "end_time": "2021-09-20T19:43:07.952672Z",
     "start_time": "2021-09-20T19:43:05.640873Z"
    }
   },
   "outputs": [
    {
     "name": "stdout",
     "output_type": "stream",
     "text": [
      "4581\n",
      "12\n",
      "12 382\n",
      "(26026, 12, 382)\n"
     ]
    }
   ],
   "source": [
    "gridx = 1001\n",
    "gridy = 26\n",
    "datacond = 1\n",
    "if datacond == 1:\n",
    "    cells = gridy\n",
    "else:\n",
    "    cells = gridx\n",
    "length = 1001#length of the domain in the x direction\n",
    "erostart = 5\n",
    "erostop = 5\n",
    "\n",
    "num_timesteps = len(os.listdir(filepathcore))-1\n",
    "print(num_timesteps)\n",
    "\n",
    "position = np.arange(0, length, dtype = float)\n",
    "coevelev = np.empty([num_timesteps])\n",
    "len(coevelev)\n",
    "#print(coevelev[40])\n",
    "\n",
    "interval_to_plot = 120/60 #we want to plot every ___  HOURS \n",
    "intstring = '2hour'\n",
    "skipstep = int(interval_to_plot/iricoutputt) #the skip rate\n",
    "print(skipstep)\n",
    "end_t = len(np.arange(1, num_timesteps, skipstep)) #number of timesteps in data master array\n",
    "print(skipstep, end_t)  \n",
    "\n",
    "datamaster = np.empty([gridx*gridy, 12, end_t]) #22 output variables\n",
    "print(datamaster.shape)"
   ]
  },
  {
   "cell_type": "code",
   "execution_count": 6,
   "id": "bb5a0b02-588f-4435-a288-074ed48a219f",
   "metadata": {},
   "outputs": [
    {
     "data": {
      "text/plain": [
       "3745"
      ]
     },
     "execution_count": 6,
     "metadata": {},
     "output_type": "execute_result"
    }
   ],
   "source": [
    "np.arange(1, num_timesteps, skipstep)[312]"
   ]
  },
  {
   "cell_type": "code",
   "execution_count": 7,
   "id": "handed-aside",
   "metadata": {
    "ExecuteTime": {
     "end_time": "2021-09-20T19:44:07.429242Z",
     "start_time": "2021-09-20T19:43:13.604741Z"
    }
   },
   "outputs": [],
   "source": [
    "for t, idx in zip(np.arange(1, num_timesteps, skipstep), np.arange(0, datamaster.shape[2])):\n",
    "    #print(t, idx)\n",
    "    fulldomaindata = pd.read_csv(filepathcore+'Result_'+str(t)+'.csv', header = 2, usecols = ['I', 'J', 'X', 'Y', 'Depth(m)', 'Elevation(m)', 'ShearStress(Nm-2)', 'ElevationChange(m)', 'FroudeNumber', 'ShieldsNumber','Velocity(ms-1) (magnitude)', 'BedloadFlux(m2s-1) (magnitude)'])\n",
    "    #print(fulldomaindata['X']) ##indexing in data frames \n",
    "    #coevelev[t-1] = variation('Elevation(m)')\n",
    "    #print(fulldomaindata.shape)\n",
    "    datamaster[:, :, idx] = fulldomaindata\n",
    "    #datamaster[t-1, :, :] = fulldomaindata\n",
    "#print(coevelev)"
   ]
  },
  {
   "cell_type": "code",
   "execution_count": 8,
   "id": "tracked-mounting",
   "metadata": {
    "ExecuteTime": {
     "end_time": "2021-09-20T19:44:17.805078Z",
     "start_time": "2021-09-20T19:44:09.127637Z"
    }
   },
   "outputs": [],
   "source": [
    "np.save(savefilesto+f'{idf}-datamaster-{intstring}-flux', datamaster)"
   ]
  },
  {
   "cell_type": "markdown",
   "id": "4f3e600a-55e0-4f3d-a985-f3579bb0643b",
   "metadata": {
    "ExecuteTime": {
     "end_time": "2021-08-25T18:24:38.758349Z",
     "start_time": "2021-08-25T18:24:12.530Z"
    }
   },
   "source": [
    "***\n",
    "\n",
    "### Create mega downstream stratigraphy centreline array"
   ]
  },
  {
   "cell_type": "code",
   "execution_count": 18,
   "id": "68b4e1d4-f388-4c62-b741-b9111c518306",
   "metadata": {},
   "outputs": [
    {
     "name": "stdout",
     "output_type": "stream",
     "text": [
      "(382, 2000, 7)\n",
      "(382, 3000, 7)\n",
      "(382, 4000, 7)\n",
      "(382, 5000, 7)\n",
      "(382, 6000, 7)\n",
      "(382, 7000, 7)\n",
      "(382, 8000, 7)\n"
     ]
    }
   ],
   "source": [
    "init = '/Volumes/SAF_Data/NAYS2DH_files/Data/nparrays/streamwise-masters/agubh2-10km'\n",
    "fullsection = np.load(f'{init}/1000-2000.npy')\n",
    "for root, dirs, files in os.walk(init):\n",
    "    for file in files[1:]:\n",
    "        #print(file)\n",
    "        arr = np.load(os.path.join(root, file), allow_pickle = True)\n",
    "        fullsection = np.concatenate((fullsection, arr), axis = 1)\n",
    "        print(fullsection.shape)\n",
    "        #     plt.figure()\n",
    "        #     for i in range (0, len(arr)):\n",
    "        #         plt.plot(arr[i, :, 0])\n",
    "        #         plt.title(file)\n",
    "np.save(f'/Volumes/SAF_Data/NAYS2DH_files/Data/nparrays/streamwise-masters/fullsections/{dataloc}-centrefull', fullsection)"
   ]
  },
  {
   "cell_type": "code",
   "execution_count": 14,
   "id": "c79f98fa-0c5b-4d04-bcb8-93af0446eb2a",
   "metadata": {},
   "outputs": [
    {
     "data": {
      "text/plain": [
       "(382, 1000, 7)"
      ]
     },
     "execution_count": 14,
     "metadata": {},
     "output_type": "execute_result"
    }
   ],
   "source": [
    "fullsection.shape"
   ]
  },
  {
   "cell_type": "code",
   "execution_count": null,
   "id": "ec9aae43-d837-48f8-8c3d-25f7e9cf409e",
   "metadata": {},
   "outputs": [],
   "source": []
  }
 ],
 "metadata": {
  "kernelspec": {
   "display_name": "Python 3 (ipykernel)",
   "language": "python",
   "name": "python3"
  },
  "language_info": {
   "codemirror_mode": {
    "name": "ipython",
    "version": 3
   },
   "file_extension": ".py",
   "mimetype": "text/x-python",
   "name": "python",
   "nbconvert_exporter": "python",
   "pygments_lexer": "ipython3",
   "version": "3.8.12"
  },
  "toc": {
   "base_numbering": 1,
   "nav_menu": {},
   "number_sections": true,
   "sideBar": true,
   "skip_h1_title": false,
   "title_cell": "Table of Contents",
   "title_sidebar": "Contents",
   "toc_cell": false,
   "toc_position": {},
   "toc_section_display": true,
   "toc_window_display": false
  },
  "varInspector": {
   "cols": {
    "lenName": 16,
    "lenType": 16,
    "lenVar": 40
   },
   "kernels_config": {
    "python": {
     "delete_cmd_postfix": "",
     "delete_cmd_prefix": "del ",
     "library": "var_list.py",
     "varRefreshCmd": "print(var_dic_list())"
    },
    "r": {
     "delete_cmd_postfix": ") ",
     "delete_cmd_prefix": "rm(",
     "library": "var_list.r",
     "varRefreshCmd": "cat(var_dic_list()) "
    }
   },
   "types_to_exclude": [
    "module",
    "function",
    "builtin_function_or_method",
    "instance",
    "_Feature"
   ],
   "window_display": false
  }
 },
 "nbformat": 4,
 "nbformat_minor": 5
}
