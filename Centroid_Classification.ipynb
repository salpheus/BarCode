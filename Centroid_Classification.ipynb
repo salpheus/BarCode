{
 "cells": [
  {
   "cell_type": "code",
   "execution_count": 2,
   "id": "accomplished-chance",
   "metadata": {
    "ExecuteTime": {
     "end_time": "2021-05-12T20:11:37.278793Z",
     "start_time": "2021-05-12T20:11:37.274267Z"
    }
   },
   "outputs": [],
   "source": [
    "import numpy as np\n",
    "import matplotlib as mpl\n",
    "import matplotlib.pyplot as plt\n",
    "import pandas as pd\n",
    "import scipy \n",
    "import matplotlib.cm as cm\n",
    "import matplotlib.colors as mcol\n"
   ]
  },
  {
   "cell_type": "code",
   "execution_count": 3,
   "id": "public-jumping",
   "metadata": {
    "ExecuteTime": {
     "end_time": "2021-05-12T20:11:37.663430Z",
     "start_time": "2021-05-12T20:11:37.658499Z"
    }
   },
   "outputs": [],
   "source": [
    "# Change it according to your directory\n",
    "fldlength = 2\n",
    "idf = '48hfld' #identifier/classifier about the flood setting\n",
    "iloc = 'c100'\n",
    "intstring = '2hour' #time interval of output\n",
    "nickname = 'agubh2' #model nickname, agubh2, gentle_wide etc\n",
    "#floodname ='_5random'\n",
    "\n",
    "#datnam = f'{idf}-datamaster-{intstring}.npy' #name of the data file to upload\n",
    "dataloc = f'c-{idf}-{nickname}' #where csv files are\n",
    "c_path = f'/Volumes/SAF_MSCWORK/Python/Stratigraphy/Data/nparrays/centroids/{dataloc}/{iloc}.npy'\n",
    "#image_path = f'/Volumes/SAF_MSCWORK/Python/Stratigraphy/Plots/eigenstrat/eig-data-agubh2_crossmodel/{window}'"
   ]
  },
  {
   "cell_type": "code",
   "execution_count": 4,
   "id": "speaking-dollar",
   "metadata": {
    "ExecuteTime": {
     "end_time": "2021-05-12T20:11:38.369711Z",
     "start_time": "2021-05-12T20:11:38.043212Z"
    }
   },
   "outputs": [],
   "source": [
    "centroids = np.load(c_path, allow_pickle = True)\n",
    "centroids = np.append(centroids, np.zeros([len(centroids), 1]), axis=1)\n"
   ]
  },
  {
   "cell_type": "code",
   "execution_count": 5,
   "id": "scientific-disease",
   "metadata": {
    "ExecuteTime": {
     "end_time": "2021-05-12T20:11:38.505117Z",
     "start_time": "2021-05-12T20:11:38.501168Z"
    }
   },
   "outputs": [
    {
     "name": "stdout",
     "output_type": "stream",
     "text": [
      "(272, 15)\n"
     ]
    }
   ],
   "source": [
    "#crop centroids\n",
    "print(centroids.shape)\n",
    "#centroids = centroids[:25, :]\n",
    "#print(centroids[:, 0])"
   ]
  },
  {
   "cell_type": "code",
   "execution_count": 6,
   "id": "unnecessary-tension",
   "metadata": {
    "ExecuteTime": {
     "end_time": "2021-05-12T20:11:40.111008Z",
     "start_time": "2021-05-12T20:11:40.065778Z"
    },
    "scrolled": false
   },
   "outputs": [],
   "source": [
    "hoods = np.empty([1, 3]) #will hold the neighbourhoods the centroids could fall into and the age of the centroid\n",
    "hoods[0] = centroids[0, :3]\n",
    "\n",
    "thresh = 50 #distance threshold to call it a neighbour\n",
    "\n",
    "for i, age in zip(range(1, len(centroids)), centroids[1:, 0]):\n",
    "    potential_hoods = hoods[np.isclose(hoods[:, 0], age, atol=2)]\n",
    "    \n",
    "    if len(potential_hoods) == 0:\n",
    "        hoods = np.append(hoods, np.reshape(centroids[i, :3], [1, 3]), axis=0)\n",
    "        centroids[i, -1] = centroids[i, 0]\n",
    "        \n",
    "    else: \n",
    "        potential_hoods = np.reshape(potential_hoods, [len(potential_hoods), 3])    \n",
    "        #print(i, potential_hoods)\n",
    "        #print(potential_hoods.shape)\n",
    "        #print(np.where(np.isclose(hoods[:, 0], age, atol=5)))\n",
    "        #potential_hoods = np.resha\n",
    "        #print('ph', potential_hoods)\n",
    "        distances = np.array([])\n",
    "    \n",
    "    \n",
    "        #test each potential hood for distance\n",
    "        for row in potential_hoods:\n",
    "        \n",
    "            dist = ((centroids[i, 1]-row[1])**2 + (centroids[i, 2]-row[2])**2)**0.5\n",
    "            distances = np.append(distances, dist)\n",
    "        #print('dist shape', distances.shape, )\n",
    "            #find nearest neighbour, append or make ner neighbourhood\n",
    "    \n",
    "        mindist = distances.min() #ifind minimum calculated distance between point and all potential neighbours\n",
    "        potenti = potential_hoods[np.where(distances==mindist)]\n",
    "        #print(distances)\n",
    "        if mindist < thresh: \n",
    "            md_hood = np.where((hoods[:, :3] == potenti).all(axis=1))\n",
    "            #print(md_hood)\n",
    "            hoods[md_hood, 1:] = potenti[:, 1:]\n",
    "            centroids[i, -1] = hoods[md_hood, 0]\n",
    "        elif mindist > thresh:\n",
    "            hoods = np.append(hoods, np.reshape(centroids[i, :3], [1, 3]), axis=0)\n",
    "            centroids[i, -1] = centroids[i, 0]"
   ]
  },
  {
   "cell_type": "code",
   "execution_count": 7,
   "id": "hispanic-disposal",
   "metadata": {
    "ExecuteTime": {
     "end_time": "2021-05-12T20:11:41.512911Z",
     "start_time": "2021-05-12T20:11:41.508344Z"
    }
   },
   "outputs": [],
   "source": [
    "neighbourhoods = np.unique(centroids[:, -1])\n",
    "cnorm = mcol.Normalize(vmin=min(neighbourhoods),vmax=max(neighbourhoods))\n",
    "cpick = cm.ScalarMappable(norm=cnorm,cmap='gist_earth') \n",
    "cpick.set_array([])"
   ]
  },
  {
   "cell_type": "code",
   "execution_count": 8,
   "id": "desperate-rescue",
   "metadata": {
    "ExecuteTime": {
     "end_time": "2021-05-12T20:11:43.089115Z",
     "start_time": "2021-05-12T20:11:42.607035Z"
    }
   },
   "outputs": [
    {
     "data": {
      "image/png": "[encoded data removed]",
      "text/plain": [
       "<Figure size 432x288 with 1 Axes>"
      ]
     },
     "metadata": {
      "needs_background": "light"
     },
     "output_type": "display_data"
    }
   ],
   "source": [
    "for i in range(0, len(centroids)):\n",
    "    plt.plot(centroids[i, 1], centroids[i, 2], color = cpick.to_rgba(centroids[i, -1]), marker = '*')"
   ]
  },
  {
   "cell_type": "code",
   "execution_count": 9,
   "id": "agreed-branch",
   "metadata": {
    "ExecuteTime": {
     "end_time": "2021-05-12T20:12:11.604077Z",
     "start_time": "2021-05-12T20:12:11.598088Z"
    }
   },
   "outputs": [
    {
     "name": "stdout",
     "output_type": "stream",
     "text": [
      "[  0.   3.   6.   9.  12.  15.  18.  21.  23.  24.  26.  27.  39.  40.\n",
      "  42.  48.  53.  55.  56.  61.  75.  81.  87.  90.  92.  93.  96.  97.\n",
      "  98. 100. 105. 107. 110. 111. 114. 115. 117. 119. 121. 122. 124. 126.\n",
      " 128. 129. 130. 131. 132. 133. 134. 135. 136. 137. 140. 141. 143. 144.\n",
      " 145. 146. 147. 149. 150. 152. 153. 155. 156. 158. 159. 160. 161. 163.\n",
      " 164. 166.]\n"
     ]
    }
   ],
   "source": [
    "print(neighbourhoods)"
   ]
  },
  {
   "cell_type": "code",
   "execution_count": null,
   "id": "sporting-lucas",
   "metadata": {},
   "outputs": [],
   "source": []
  }
 ],
 "metadata": {
  "kernelspec": {
   "display_name": "Python 3",
   "language": "python",
   "name": "python3"
  },
  "language_info": {
   "codemirror_mode": {
    "name": "ipython",
    "version": 3
   },
   "file_extension": ".py",
   "mimetype": "text/x-python",
   "name": "python",
   "nbconvert_exporter": "python",
   "pygments_lexer": "ipython3",
   "version": "3.7.4"
  }
 },
 "nbformat": 4,
 "nbformat_minor": 5
}
