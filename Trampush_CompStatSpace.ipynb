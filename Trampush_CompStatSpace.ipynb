{
 "cells": [
  {
   "cell_type": "markdown",
   "id": "4f32c6f6-a119-46a9-b25f-bee2e304e96e",
   "metadata": {},
   "source": [
    "Trampush Comp Statistic Code"
   ]
  },
  {
   "cell_type": "code",
   "execution_count": null,
   "id": "c1d37f98-ee72-445e-bd50-5952e744e59b",
   "metadata": {},
   "outputs": [],
   "source": []
  },
  {
   "cell_type": "code",
   "execution_count": null,
   "id": "81334405-b7f3-4f52-b3a5-01ef608328b0",
   "metadata": {},
   "outputs": [],
   "source": [
    "function CV_all = CompStatSpace(Topo, n)\n",
    "% Calulate CV values from chronostratigraphic surfaces mapped in space.\n",
    "% Created by Sheila Trampush, Last updated 2016-08-26. \n",
    "% Surface data (Topo) must be evenly spaced, in chronostratigraphic order, \n",
    "% and the matrix must only contain elevations, with lateral position\n",
    "% indicated by row number and time/surface number by column number. \n",
    "% Produces matrix with 4 fields: (1) mean thickness between 2 surfaces,\n",
    "% (2)CV value for the two surfaces, (3) index number of first surface used, \n",
    "% and (4) index number of the second surface used. \n",
    "\n",
    "A=~isnan(Topo);\n",
    "\n",
    "max_thick = nanmean(nanmax(Topo, [], 2)-nanmin(Topo,[],2)); %mean thickness of dataset\n",
    "eta_mean = max_thick/mean(sum(A,2)); %expected thickness between two surfaces\n",
    "exp_pair_no=n*(n-1)/2; %expected number of unique pairs of surfaces\n",
    "CV_all=nan(exp_pair_no,4); %initialize matrix for CV/eta pairs\n",
    "pair=1; % initialize counter for the number of pairs \n",
    "\n",
    "for i=1:n %loop through all surfaces \n",
    "   for j=1:n-1 %loop through all surfaces \n",
    "      if i+j>n %make sure it isn't looping through surfaces that don't exist\n",
    "          break\n",
    "      end\n",
    "      surf1=Topo(:,j); %lower surface\n",
    "      surf2=Topo(:, j+i); %surface above lower surface \n",
    "      diffTopo=surf2-surf1; %difference in elevation for each x \n",
    "      Positive = diffTopo > 0; %make sure that negative or zero values can't occur (I assume they are digitizing errors)\n",
    "      diffTopo(~Positive) = NaN;%replace values with nans to prevent negative values \n",
    "      rat_diffTopo=diffTopo/(eta_mean*i); %ratio of observed sedimentation to expected sedimentation\n",
    "      if nanstd(rat_diffTopo)>1e-5 %sum(Positive) > 2 %how many x nodes should overlap? \n",
    "            CV_all(pair,2)=nanstd(rat_diffTopo); %CV--standard deviation of ratio observed to expected (~sigma_ss)\n",
    "            CV_all(pair, 1)=nanmean(diffTopo); %eta-mean stratigraphic thickness measured (~time/measurement window)\n",
    "      else\n",
    "            CV_all(pair,2)=NaN; %CV--standard deviation of ratio observed to expected (~sigma_ss)\n",
    "            CV_all(pair, 1)=NaN; %eta-mean stratigraphic thickness measured (~time/measurement window)\n",
    "      end \n",
    "      CV_all(pair,3)=j; %to keep track of which CV pair belongs with which pair of surfaces \n",
    "      CV_all(pair,4)=j+i; %to keep track of which CV pair belongs with which pair of surfaces \n",
    "      pair=pair+1; %update counter for next loop iteration\n",
    "      \n",
    "   end\n",
    "end\n",
    "end\n"
   ]
  },
  {
   "cell_type": "markdown",
   "id": "a0ef6e88-4424-44f0-baf6-3fa2e3a48408",
   "metadata": {},
   "source": [
    "CompStatLogBin\n"
   ]
  },
  {
   "cell_type": "code",
   "execution_count": null,
   "id": "5fa9d260-dfe2-4317-be1f-70afecd6594e",
   "metadata": {},
   "outputs": [],
   "source": [
    "function CV_LogBinned = CompStatLogBin(CV_all, N, minBin, maxBin)\n",
    "% To bin CV data into log bins. Input needs to be from CompStatSpace.m.\n",
    "% Created by Sheila Trampush at Penn State, last updated 2016-03-04. \n",
    "\n",
    "binLog=logspace(minBin,maxBin,N); %boundaries of bins\n",
    "CV_LogBinned=nan(N,6); %initialize matrix\n",
    "CV_all_sorted=sortrows(CV_all, 1); %sort all data points by strat thickness\n",
    "\n",
    "for b=1:N-1\n",
    "    \n",
    "    [bin_temp_i, ~]=find(CV_all_sorted(:,1)>=binLog(b),1, 'first');\n",
    "%     find first appearance of a datapoint that has thickness larger than\n",
    "%     b, the minimum extent of bin.\n",
    "    [bin_temp_I, ~]=find(CV_all_sorted(:,1)<=binLog(b+1),1, 'last');\n",
    "%     find last appearance of a datpoint that has thickness smaller than\n",
    "%     the maximum extent of bin.\n",
    "    temp_CV = CV_all_sorted(bin_temp_i:bin_temp_I, :); \n",
    "%     if sorted right, the bin should be everything after the first\n",
    "%     appearance of the minimum extent to the last appearance of the\n",
    "%     maximum extent. \n",
    "    midpoint=(binLog(b)+binLog(b+1))/2; %place at center of bin\n",
    "    [i, ~]=find(temp_CV(:,2)>0);\n",
    "    temp_CV=temp_CV(i,:); %exclude CV below 0 \n",
    "if numel(temp_CV)>2 %exclude bins with one datapoint \n",
    "    CV_LogBinned(b, :)=[midpoint, median(temp_CV(:,2)), ...\n",
    "        prctile(temp_CV(:,2), 2.5), prctile(temp_CV(:,2), 97.5), ...\n",
    "        (prctile(temp_CV(:,2), 97.5)-prctile(temp_CV(:,2), 5))/geomean(temp_CV(:,2)),...\n",
    "        length(temp_CV)]; \n",
    "    %     final binned data matrix should have mean eta, mean CV, std eta,\n",
    "    %     and std CV to enable both vertical and horizontal error bars\n",
    "elseif numel(temp_CV)==2\n",
    "    CV_LogBinned(b, :)=[temp_CV(:,1), temp_CV(:,2), 0, 0, 0, 1];\n",
    "end\n",
    "\n",
    "end\n",
    "end"
   ]
  }
 ],
 "metadata": {
  "kernelspec": {
   "display_name": "Python 3 (ipykernel)",
   "language": "python",
   "name": "python3"
  },
  "language_info": {
   "codemirror_mode": {
    "name": "ipython",
    "version": 3
   },
   "file_extension": ".py",
   "mimetype": "text/x-python",
   "name": "python",
   "nbconvert_exporter": "python",
   "pygments_lexer": "ipython3",
   "version": "3.8.12"
  }
 },
 "nbformat": 4,
 "nbformat_minor": 5
}
