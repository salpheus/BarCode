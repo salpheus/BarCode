{
 "cells": [
  {
   "cell_type": "markdown",
   "id": "578c8798-dc05-424e-bf36-faae86c6b63d",
   "metadata": {},
   "source": [
    "# Stratigraphic Analysis with NAYS2DH ReadME \n",
    "Safiya Alpheus"
   ]
  },
  {
   "cell_type": "markdown",
   "id": "3bd348cf-a350-428a-be69-259300b9e859",
   "metadata": {},
   "source": [
    "This is a very comprehensive guide to compiling, organising and analysing outputs from NAYS2DH runs. It gives a breakdown of how the data is stored and structured, details on the intent and purposes of each script used in this project, and details on the math and decision-making steps associated with all of the components. This is a working document, last updated 17 Aug 2022."
   ]
  },
  {
   "cell_type": "markdown",
   "id": "d1368450-4284-40b6-a923-4c48439665af",
   "metadata": {},
   "source": [
    "## Table of Contents\n"
   ]
  }
 ],
 "metadata": {
  "kernelspec": {
   "display_name": "Python 3 (ipykernel)",
   "language": "python",
   "name": "python3"
  },
  "language_info": {
   "codemirror_mode": {
    "name": "ipython",
    "version": 3
   },
   "file_extension": ".py",
   "mimetype": "text/x-python",
   "name": "python",
   "nbconvert_exporter": "python",
   "pygments_lexer": "ipython3",
   "version": "3.8.12"
  }
 },
 "nbformat": 4,
 "nbformat_minor": 5
}
