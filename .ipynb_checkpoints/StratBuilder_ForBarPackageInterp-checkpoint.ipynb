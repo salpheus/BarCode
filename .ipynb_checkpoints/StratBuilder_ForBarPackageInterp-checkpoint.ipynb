{
 "cells": [
  {
   "cell_type": "markdown",
   "metadata": {
    "hide_input": false,
    "id": "UpkwI8oJ4uVE",
    "tags": []
   },
   "source": [
    "Import packages"
   ]
  },
  {
   "cell_type": "code",
   "execution_count": 1,
   "metadata": {
    "ExecuteTime": {
     "end_time": "2021-09-24T14:39:15.771733Z",
     "start_time": "2021-09-24T14:39:13.482619Z"
    },
    "colab": {
     "base_uri": "https://localhost:8080/"
    },
    "executionInfo": {
     "elapsed": 30854,
     "status": "ok",
     "timestamp": 1616012075897,
     "user": {
      "displayName": "Safiya Alpheus",
      "photoUrl": "",
      "userId": "18049693271511077124"
     },
     "user_tz": 240
    },
    "hide_input": false,
    "id": "UfJ8KbOl4uVE",
    "outputId": "b09c468a-be2a-423e-a950-95008f74745d",
    "scrolled": true,
    "tags": []
   },
   "outputs": [],
   "source": [
    "import pandas as pd\n",
    "import numpy as np\n",
    "import matplotlib as mpl\n",
    "import matplotlib.pyplot as plt\n",
    "import csv\n",
    "import os\n",
    "import scipy.stats as stats\n",
    "import seaborn as sns\n",
    "import math \n",
    "import matplotlib.animation as animation\n",
    "import matplotlib.colors as mcol\n",
    "import matplotlib.cm as cm\n",
    "import time\n",
    "import random\n",
    "import statistics as stat\n",
    "import collections\n",
    "import copy \n",
    "\n",
    "import matplotlib.gridspec as gridspec\n",
    "\n",
    "\n",
    "import PIL\n",
    "from xml.dom import minidom\n",
    "from shapely.geometry import Polygon, MultiPolygon\n",
    "#from descartes import PolygonPatch\n",
    "#from PIL import Image\n",
    "from scipy.spatial import distance\n",
    "from scipy import signal\n",
    "from scipy import interpolate\n",
    "from scipy.stats import variation\n",
    "from mpl_toolkits.axes_grid1 import make_axes_locatable\n",
    "from IPython.display import Image\n",
    "from mpl_toolkits.axes_grid1.inset_locator import inset_axes\n",
    "from celluloid import Camera\n",
    "from matplotlib.ticker import (MultipleLocator, AutoMinorLocator)\n",
    "\n",
    "#plt.style.use('seaborn-white')\n",
    "\n",
    "from matplotlib.collections import LineCollection, PatchCollection\n",
    "from matplotlib.colors import ListedColormap, BoundaryNorm, LinearSegmentedColormap\n",
    "\n",
    "%matplotlib inline\n",
    "#%matplotlib qt\n",
    "#%matplotlib notebook\n",
    "#from google.colab import drive\n",
    "#drive.mount(\"/content/gdrive\")"
   ]
  },
  {
   "cell_type": "markdown",
   "metadata": {
    "id": "ABjUenJS4uVF",
    "tags": []
   },
   "source": [
    "## Setting up all the aesthetics:\n",
    "plot fonts, colourmaps (for timestep, shears tress facies and gradient) "
   ]
  },
  {
   "cell_type": "code",
   "execution_count": 2,
   "metadata": {
    "ExecuteTime": {
     "end_time": "2021-09-24T14:39:15.776435Z",
     "start_time": "2021-09-24T14:39:15.773389Z"
    },
    "executionInfo": {
     "elapsed": 402,
     "status": "ok",
     "timestamp": 1616012087286,
     "user": {
      "displayName": "Safiya Alpheus",
      "photoUrl": "",
      "userId": "18049693271511077124"
     },
     "user_tz": 240
    },
    "hide_input": true,
    "id": "i5syel9j4uVG",
    "tags": []
   },
   "outputs": [],
   "source": [
    "font = {'family' : 'Helvetica',\n",
    "        'weight' : 'normal',\n",
    "        'size'   : 8}\n",
    "\n",
    "mpl.rc('font', **font)\n",
    "kwargs = dict(edgecolor = 'k', fc = 'xkcd:greyish', alpha=0.5, bins=20)"
   ]
  },
  {
   "cell_type": "code",
   "execution_count": 3,
   "metadata": {
    "ExecuteTime": {
     "end_time": "2021-09-24T14:39:16.217439Z",
     "start_time": "2021-09-24T14:39:15.778430Z"
    },
    "colab": {
     "base_uri": "https://localhost:8080/"
    },
    "executionInfo": {
     "elapsed": 2644,
     "status": "ok",
     "timestamp": 1616012090978,
     "user": {
      "displayName": "Safiya Alpheus",
      "photoUrl": "",
      "userId": "18049693271511077124"
     },
     "user_tz": 240
    },
    "hide_input": true,
    "id": "_al9IuVW4uVG",
    "outputId": "bafdf1f6-e3d3-4ba0-c113-698a054892a6",
    "scrolled": true,
    "tags": []
   },
   "outputs": [
    {
     "name": "stdout",
     "output_type": "stream",
     "text": [
      "converted successfully!\n",
      "converted successfully!\n",
      "converted successfully!\n",
      "converted successfully!\n",
      "converted successfully!\n"
     ]
    }
   ],
   "source": [
    " ## source of this function: http://schubert.atmos.colostate.edu/~cslocum/custom_cmap.html#code\n",
    "def make_cmap(colors, position=None, bit=False):\n",
    "\n",
    "    if len(position) != len(colors):\n",
    "        sys.exit('position length must be the same as colors')\n",
    "    elif position[0] != 0 or position[-1] != 1:\n",
    "        sys.exit('position must start with 0 and end with 1')\n",
    "    \n",
    "    cdict = {'red':[], 'green':[], 'blue':[]}\n",
    "    for pos, color in zip(position, colors):\n",
    "\n",
    "        cdict['red'].append((pos, color[0], color[0]))\n",
    "        cdict['green'].append((pos, color[1], color[1]))\n",
    "        cdict['blue'].append((pos, color[2], color[2]))\n",
    "\n",
    "        cmap = mpl.colors.LinearSegmentedColormap('my_colormap',cdict,256)\n",
    "\n",
    "    return cmap\n",
    "\n",
    "## load source xml file\n",
    "xmldoc = minidom.parse('/Volumes/SAF_Data/Python/colourmaps/mellow-rainbow.xml')\n",
    "itemlist = xmldoc.getElementsByTagName('Point')\n",
    "data_vals=[]\n",
    "color_vals=[]\n",
    "\n",
    "for s in itemlist:\n",
    "    \n",
    "    data_vals.append(float(s.attributes['x'].value))\n",
    "    color_vals.append((float(s.attributes['r'].value),\n",
    "    float(s.attributes['g'].value),\n",
    "    float(s.attributes['b'].value)))\n",
    "\n",
    "## construct the colormap\n",
    "\n",
    "mycmap = make_cmap(color_vals,data_vals) ##this is the main rainbow colourmap to be used in the code\n",
    "print('converted successfully!')\n",
    "\n",
    "#mycmap_r = ListedColormap(mycmap.colors[::-1])\n",
    "\n",
    "# mycmap is matplotlib compatible object. to query color value out of it:\n",
    "\n",
    "#print('example rgba value for data value 0 is: ' + str(mycmap(0.0)))\n",
    "\n",
    "## load source xml file\n",
    "xmldoc = minidom.parse('/Volumes/SAF_Data/Python/colourmaps/brown-2.xml')\n",
    "itemlist = xmldoc.getElementsByTagName('Point')\n",
    "data_vals=[]\n",
    "color_vals=[]\n",
    "\n",
    "for s in itemlist:\n",
    "    \n",
    "    data_vals.append(float(s.attributes['x'].value))\n",
    "    color_vals.append((float(s.attributes['r'].value),\n",
    "    float(s.attributes['g'].value),\n",
    "    float(s.attributes['b'].value)))\n",
    "\n",
    "## construct the colormap\n",
    "\n",
    "ss_facies = make_cmap(color_vals,data_vals) ##this is the main rainbow colourmap to be used in the code\n",
    "print('converted successfully!')\n",
    "\n",
    "## load source xml file\n",
    "xmldoc = minidom.parse('/Volumes/SAF_Data/Python/colourmaps//green-brown-div.xml')\n",
    "itemlist = xmldoc.getElementsByTagName('Point')\n",
    "data_vals=[]\n",
    "color_vals=[]\n",
    "\n",
    "for s in itemlist:\n",
    "    \n",
    "    data_vals.append(float(s.attributes['x'].value))\n",
    "    color_vals.append((float(s.attributes['r'].value),\n",
    "    float(s.attributes['g'].value),\n",
    "    float(s.attributes['b'].value)))\n",
    "\n",
    "## construct the colormap\n",
    "\n",
    "grads = make_cmap(color_vals,data_vals) ##this is the main rainbow colourmap to be used in the code\n",
    "print('converted successfully!')\n",
    "\n",
    "xmldoc = minidom.parse('/Volumes/SAF_Data/Python/colourmaps/blue-3.xml')\n",
    "itemlist = xmldoc.getElementsByTagName('Point')\n",
    "data_vals=[]\n",
    "color_vals=[]\n",
    "\n",
    "for s in itemlist:\n",
    "    \n",
    "    data_vals.append(float(s.attributes['x'].value))\n",
    "    color_vals.append((float(s.attributes['r'].value),\n",
    "    float(s.attributes['g'].value),\n",
    "    float(s.attributes['b'].value)))\n",
    "\n",
    "## construct the colormap\n",
    "\n",
    "depths = make_cmap(color_vals,data_vals) ##this is the main rainbow colourmap to be used in the code\n",
    "print('converted successfully!')\n",
    "\n",
    "##for velocities\n",
    "\n",
    "xmldoc = minidom.parse('/Volumes/SAF_Data/Python/colourmaps/orange-6.xml')\n",
    "itemlist = xmldoc.getElementsByTagName('Point')\n",
    "data_vals=[]\n",
    "color_vals=[]\n",
    "\n",
    "for s in itemlist:\n",
    "    \n",
    "    data_vals.append(float(s.attributes['x'].value))\n",
    "    color_vals.append((float(s.attributes['r'].value),\n",
    "    float(s.attributes['g'].value),\n",
    "    float(s.attributes['b'].value)))\n",
    "\n",
    "## construct the colormap\n",
    "\n",
    "vels = make_cmap(color_vals,data_vals) ##this is the main rainbow colourmap to be used in the code\n",
    "print('converted successfully!')\n",
    "\n",
    "\n",
    "# xmldoc = minidom.parse('/Volumes/SAF_Data/Python/colourmaps/1-3wbgy.xml')\n",
    "# itemlist = xmldoc.getElementsByTagName('Point')\n",
    "# data_vals=[]\n",
    "# color_vals=[]\n",
    "\n",
    "# for s in itemlist:\n",
    "    \n",
    "#     data_vals.append(float(s.attributes['x'].value))\n",
    "#     color_vals.append((float(s.attributes['r'].value),\n",
    "#     float(s.attributes['g'].value),\n",
    "#     float(s.attributes['b'].value)))\n",
    "\n",
    "# ## construct the colormap\n",
    "\n",
    "# planformcmap = make_cmap(color_vals,data_vals) ##this is the main rainbow colourmap to be used in the code\n",
    "# print('converted successfully!')\n",
    "\n"
   ]
  },
  {
   "cell_type": "code",
   "execution_count": 4,
   "metadata": {
    "ExecuteTime": {
     "end_time": "2021-09-24T14:39:16.225041Z",
     "start_time": "2021-09-24T14:39:16.220728Z"
    },
    "executionInfo": {
     "elapsed": 399,
     "status": "ok",
     "timestamp": 1616012096398,
     "user": {
      "displayName": "Safiya Alpheus",
      "photoUrl": "",
      "userId": "18049693271511077124"
     },
     "user_tz": 240
    },
    "hide_input": true,
    "id": "q8rGrmVD4uVH",
    "tags": []
   },
   "outputs": [],
   "source": [
    "def reverse_colourmap(cmap, name = 'my_cmap_r'):\n",
    "    reverse = []\n",
    "    k = []   \n",
    "\n",
    "    for key in cmap._segmentdata:    \n",
    "        k.append(key)\n",
    "        channel = cmap._segmentdata[key]\n",
    "        data = []\n",
    "\n",
    "        for t in channel:                    \n",
    "            data.append((1-t[0],t[2],t[1]))            \n",
    "        reverse.append(sorted(data))    \n",
    "\n",
    "    LinearL = dict(zip(k,reverse))\n",
    "    my_cmap_r = mpl.colors.LinearSegmentedColormap(name, LinearL) \n",
    "    return my_cmap_r"
   ]
  },
  {
   "cell_type": "code",
   "execution_count": 5,
   "metadata": {
    "ExecuteTime": {
     "end_time": "2021-09-24T14:39:16.233412Z",
     "start_time": "2021-09-24T14:39:16.226953Z"
    },
    "hide_input": true,
    "tags": []
   },
   "outputs": [],
   "source": [
    "def hex_to_rgb(value):\n",
    "    '''\n",
    "    Converts hex to rgb colours\n",
    "    value: string of 6 characters representing a hex colour.\n",
    "    Returns: list length 3 of RGB values'''\n",
    "    value = value.strip(\"#\") # removes hash symbol if present\n",
    "    lv = len(value)\n",
    "    return tuple(int(value[i:i + lv // 3], 16) for i in range(0, lv, lv // 3))\n",
    "\n",
    "\n",
    "def rgb_to_dec(value):\n",
    "    '''\n",
    "    Converts rgb to decimal colours (i.e. divides each value by 256)\n",
    "    value: list (length 3) of RGB values\n",
    "    Returns: list (length 3) of decimal values'''\n",
    "    return [v/256 for v in value]\n",
    "\n",
    "def get_continuous_cmap(hex_list, float_list=None):\n",
    "    ''' creates and returns a color map that can be used in heat map figures.\n",
    "        If float_list is not provided, colour map graduates linearly between each color in hex_list.\n",
    "        If float_list is provided, each color in hex_list is mapped to the respective location in float_list. \n",
    "        \n",
    "        Parameters\n",
    "        ----------\n",
    "        hex_list: list of hex code strings\n",
    "        float_list: list of floats between 0 and 1, same length as hex_list. Must start with 0 and end with 1.\n",
    "        \n",
    "        Returns\n",
    "        ----------\n",
    "        colour map'''\n",
    "    rgb_list = [rgb_to_dec(hex_to_rgb(i)) for i in hex_list]\n",
    "    if float_list:\n",
    "        pass\n",
    "    else:\n",
    "        float_list = list(np.linspace(0,1,len(rgb_list)))\n",
    "        \n",
    "    cdict = dict()\n",
    "    for num, col in enumerate(['red', 'green', 'blue']):\n",
    "        col_list = [[float_list[i], rgb_list[i][num], rgb_list[i][num]] for i in range(len(float_list))]\n",
    "        cdict[col] = col_list\n",
    "    cmp = mcol.LinearSegmentedColormap('my_cmp', segmentdata=cdict, N=256)\n",
    "    return cmp"
   ]
  },
  {
   "cell_type": "code",
   "execution_count": 6,
   "metadata": {
    "ExecuteTime": {
     "end_time": "2021-09-24T14:39:16.238411Z",
     "start_time": "2021-09-24T14:39:16.235677Z"
    },
    "hide_input": true,
    "tags": []
   },
   "outputs": [],
   "source": [
    "#planformcmap = reverse_colourmap(planformcmap)"
   ]
  },
  {
   "cell_type": "code",
   "execution_count": 7,
   "metadata": {
    "ExecuteTime": {
     "end_time": "2021-09-24T14:39:16.244871Z",
     "start_time": "2021-09-24T14:39:16.241199Z"
    },
    "executionInfo": {
     "elapsed": 428,
     "status": "ok",
     "timestamp": 1616012097503,
     "user": {
      "displayName": "Safiya Alpheus",
      "photoUrl": "",
      "userId": "18049693271511077124"
     },
     "user_tz": 240
    },
    "hide_input": true,
    "id": "5ZvyK8_d4uVH",
    "tags": []
   },
   "outputs": [],
   "source": [
    "ss_facies_r = reverse_colourmap(ss_facies)\n",
    "timesteps_r = reverse_colourmap(mycmap)"
   ]
  },
  {
   "cell_type": "markdown",
   "metadata": {
    "id": "7RGObugk4uVI"
   },
   "source": [
    "Important model parameters that might be used in calculation:"
   ]
  },
  {
   "cell_type": "code",
   "execution_count": 8,
   "metadata": {
    "ExecuteTime": {
     "end_time": "2021-09-24T14:39:41.693531Z",
     "start_time": "2021-09-24T14:39:35.133982Z"
    },
    "executionInfo": {
     "elapsed": 320,
     "status": "ok",
     "timestamp": 1616012100018,
     "user": {
      "displayName": "Safiya Alpheus",
      "photoUrl": "",
      "userId": "18049693271511077124"
     },
     "user_tz": 240
    },
    "id": "La49XvqT4uVI",
    "tags": []
   },
   "outputs": [
    {
     "name": "stdin",
     "output_type": "stream",
     "text": [
      "Enter DV flag:  0\n",
      "Enter bed adjustment time here, be wary of timestep conversion:  65\n",
      "Enter iloc:  330\n"
     ]
    },
    {
     "name": "stdout",
     "output_type": "stream",
     "text": [
      "/Volumes/SAF_Data/Data/ConvertedArrays/data-agubh2-10km_0hrflood/0hfld-datamaster-2hour.npy\n"
     ]
    }
   ],
   "source": [
    "Q = str(100)# discharge in m3/s\n",
    "slope = 0.00137#gradient\n",
    "d50 = 0.31e-3 #d50 grain size in m\n",
    "\n",
    "thot_SS = 802800 #\n",
    "#time from which we restarted the runs to add a flood\n",
    "fldstart_s = 0 ##start time of flood in seconds\n",
    "variabd = int(input('Enter DV flag: ')) #flag for if in variable discharge regime\n",
    "adjustment_time = int(input('Enter bed adjustment time here, be wary of timestep conversion: ')) #number of timesteps, in hours taken for bed to equilibrate\n",
    "iloc = int(input('Enter iloc: '))\n",
    "fldlength = 0\n",
    "idf = '0hfld' #identifier/classifier about the flood setting\n",
    "intstring = '2hour' #time interval of output\n",
    "nickname = 'agubh2-10km' #model nickname, agubh2, gentle_wide etc\n",
    "floodname ='_0hrflood'\n",
    "\n",
    "datnam = f'{idf}-datamaster-{intstring}.npy' #name of the data file to upload\n",
    "dataloc = f'data-{nickname}{floodname}' #where csv files are\n",
    "arrayfolder = f'c-{idf}-{nickname}' #where raw centroid data array stored\n",
    "mainsurfto = f'ms-{idf}-{nickname}' #where bounding surfaces array will go\n",
    "iricoutputt =600 #output time from the model, s\n",
    "\n",
    "print(f'/Volumes/SAF_Data/Data/ConvertedArrays/{dataloc}/{datnam}')\n",
    "datamaster = np.load(f'/Volumes/SAF_Data/NAYS2DH_files/Data/ConvertedArrays/{dataloc}/{datnam}', allow_pickle = True)\n",
    "\n"
   ]
  },
  {
   "cell_type": "markdown",
   "metadata": {},
   "source": [
    "More model set up"
   ]
  },
  {
   "cell_type": "code",
   "execution_count": 9,
   "metadata": {
    "ExecuteTime": {
     "end_time": "2021-09-24T14:39:53.718310Z",
     "start_time": "2021-09-24T14:39:53.714083Z"
    },
    "executionInfo": {
     "elapsed": 320,
     "status": "ok",
     "timestamp": 1616012100018,
     "user": {
      "displayName": "Safiya Alpheus",
      "photoUrl": "",
      "userId": "18049693271511077124"
     },
     "user_tz": 240
    },
    "hide_input": false,
    "id": "La49XvqT4uVI",
    "tags": []
   },
   "outputs": [],
   "source": [
    "jloc = 14#location of the secion along j axis\n",
    "\n",
    "\n",
    "cellW = 4\n",
    "cellL = 10\n",
    "xloc = iloc*cellL\n",
    "xsloc = iloc*cellL\n",
    "#print(xsloc)\n",
    "spacing = 1 #spacing of cross stream x locations, m\n",
    "\n",
    "ps = 2650 # bulk density of quartz kg/m3\n",
    "p = 1000 # density of water in kg/m3\n",
    "nu = 1.787*10e-6 #kinematic viscosity of water in m2/s\n",
    "nu=1.0533e-6\n",
    "g = 9.81 # acceleration due to gravity, m/s2\n",
    "\n",
    "savefilesto = '/Volumes/SAF_Data/NAYS2DH_files/Plots/'\n",
    "modelrun = f'{nickname}-{idf}-{iloc}'"
   ]
  },
  {
   "cell_type": "markdown",
   "metadata": {
    "id": "2S7JkgH74uVI"
   },
   "source": [
    "## Import data"
   ]
  },
  {
   "cell_type": "code",
   "execution_count": 10,
   "metadata": {
    "ExecuteTime": {
     "end_time": "2021-09-24T14:39:54.863116Z",
     "start_time": "2021-09-24T14:39:54.858729Z"
    },
    "hide_input": true,
    "scrolled": true,
    "tags": []
   },
   "outputs": [
    {
     "name": "stdout",
     "output_type": "stream",
     "text": [
      "Shape of the datamaster dataset is:  (26026, 11, 310)\n"
     ]
    }
   ],
   "source": [
    "##define grid dimensions\n",
    "gridx = 1001\n",
    "gridy = 26\n",
    "\n",
    "datacond = 1\n",
    "if datacond == 1:\n",
    "    cells = gridy\n",
    "else:\n",
    "    cells = gridx\n",
    "length = 1001 #length of the domain in the x direction\n",
    "erostart = 5\n",
    "erostop = 5\n",
    "\n",
    "print('Shape of the datamaster dataset is: ', datamaster.shape)"
   ]
  },
  {
   "cell_type": "code",
   "execution_count": 11,
   "metadata": {
    "ExecuteTime": {
     "end_time": "2021-09-24T14:39:55.306009Z",
     "start_time": "2021-09-24T14:39:55.299477Z"
    },
    "hide_input": false,
    "scrolled": true,
    "tags": []
   },
   "outputs": [
    {
     "name": "stdout",
     "output_type": "stream",
     "text": [
      "Number of timesteps being used:  310\n",
      "Shape of data used to plot: (26026, 11, 310)\n"
     ]
    }
   ],
   "source": [
    "num_timesteps = datamaster.shape[2] ## or 168 for 2 weeks# len(os.listdir(filepathcore))-1 ##when u want to stop plotting\n",
    "print('Number of timesteps being used: ', num_timesteps)\n",
    "datamaster = datamaster[:, :, :num_timesteps]\n",
    "position = np.arange(0, length, dtype = float)\n",
    "coevelev = np.empty([num_timesteps])\n",
    "interval_to_plot = 60/60 #we want to plot every ___  HOURS \n",
    "end_t = num_timesteps #len(np.arange(1, num_timesteps, skipstep)) #number of timesteps in data master array\n",
    "fldstart = ((thot_SS+fldstart_s)/3600)/interval_to_plot ##flood starttime, s\n",
    "\n",
    "print('Shape of data used to plot:', datamaster.shape)"
   ]
  },
  {
   "cell_type": "markdown",
   "metadata": {
    "hide_input": true
   },
   "source": [
    "\n",
    "## Plotting full model domain\n",
    "\n",
    "Links for colourmap help\n",
    "\n",
    "big up towards data science for the tutorial:\n",
    "https://towardsdatascience.com/creating-colormaps-in-matplotlib-4d4de78a04b8\n",
    "\n",
    "diy cmap from twoards data science, again: https://towardsdatascience.com/beautiful-custom-colormaps-with-matplotlib-5bab3d1f0e72\n",
    "\n",
    "**Define colormaps here**"
   ]
  },
  {
   "cell_type": "code",
   "execution_count": 12,
   "metadata": {
    "ExecuteTime": {
     "end_time": "2021-09-24T14:40:00.224474Z",
     "start_time": "2021-09-24T14:40:00.212473Z"
    },
    "hide_input": true,
    "tags": []
   },
   "outputs": [],
   "source": [
    "## DEFINE COLOURMAPS\n",
    "x, y = np.mgrid[-5:5:0.05, -5:5:0.05]\n",
    "z = (np.sqrt(x**2 + y**2) + np.sin(x**2 + y**2))\n",
    "hex_list = ['#0091ad', '#3fcdda', '#83f9f8', '#d6f6eb', '#fdf1d2', '#f8eaad', '#faaaae', '#ff57bb']\n",
    "planform_colours = ['#3f9b0b', '#e2ca76', '#886806','02ccfe','#0485d1','#0504aa', ] \n",
    "                ##grass green, sand, shit, muddy brown, turquoise, cerulean, royal blue \n",
    "\n",
    "temperate= ['3f9b0b', 'bf9005', '02ccfe','3c9992', '0485d1', '0504aa' ] #ugly and green and glue\n",
    "                    #dark tan, sand, sea green, cerulean, navy blue\n",
    "test = ['a75e09','bd6c48', 'af884a', 'cb7723','7bc8f6','069af3', '0e87cc', '2242c77', '0504aa', '00035b'] \n",
    "#raw umber, adobe, dark tan, brownish orange, light blue, azure, water blue,  blue blue, royal blue, dark blue    \n",
    "#test  = ['bd6c48','cb7723','ad8150', '0e87cc', '0504aa', '00035b']\n",
    "#adobe, brownish orange, dark tan, light brown,water blue, royal blue, dark blue\n",
    "glacial = ['ffffcb', 'e2ca76','bf9005', '7f5e00','6dedfd', '02ccfe','0504aa']\n",
    "#dark sand, light grey, stone, azure, navy blue\n",
    "redyellow = ['cf0234','e50000','ffffff', 'ffff14', 'fec615']\n",
    "#cherry, red, white, yellow, golden yellow\n",
    "redblue = ['cf0234','e50000', 'ffffff','152eff', '0203e2']\n",
    "redblue_r = ['0203e2', '152eff','ffffff', 'e50000', 'cf0234']\n",
    "yellowblue = ['fec615', 'ffff14', 'ffffff','152eff', '0203e2']\n",
    "centrelines = ['ffffff', '000000']\n",
    "discrete_channel = ['af884a', 'cb7723', '2242c77', '00035b']\n",
    "#dark tan, brownish orange, water blue, dark blue\n",
    "#cherry, red, white, vivid blue, pure blue"
   ]
  },
  {
   "cell_type": "code",
   "execution_count": 13,
   "metadata": {
    "ExecuteTime": {
     "end_time": "2021-09-24T14:40:00.720582Z",
     "start_time": "2021-09-24T14:40:00.715879Z"
    },
    "hide_input": true,
    "tags": []
   },
   "outputs": [],
   "source": [
    "class MidpointNormalize(mcol.Normalize):\n",
    "    def __init__(self, vmin=None, vmax=None, vcenter=None, clip=False):\n",
    "        self.vcenter = vcenter\n",
    "        mcol.Normalize.__init__(self, vmin, vmax, clip)\n",
    "\n",
    "    def __call__(self, value, clip=None):\n",
    "        # I'm ignoring masked values and all kinds of edge cases to make a\n",
    "        # simple example...\n",
    "        x, y = [self.vmin, self.vcenter, self.vmax], [0, 0.5, 1]\n",
    "        return np.ma.masked_array(np.interp(value, x, y))"
   ]
  },
  {
   "cell_type": "code",
   "execution_count": 14,
   "metadata": {
    "ExecuteTime": {
     "end_time": "2021-09-24T14:40:00.842596Z",
     "start_time": "2021-09-24T14:40:00.837732Z"
    },
    "hide_input": true,
    "tags": []
   },
   "outputs": [
    {
     "name": "stdout",
     "output_type": "stream",
     "text": [
      "Flood start at timestep:  223\n",
      "Flood ends at:  223\n"
     ]
    }
   ],
   "source": [
    "## find the indices for preflood and post flood\n",
    "\n",
    "pref_idx = int(np.floor(fldstart)) ##index of time at pre flood\n",
    "post_idx = int(np.floor((((thot_SS+fldstart_s)/3600)+fldlength)/interval_to_plot)) ##index of time at post flood\n",
    "\n",
    "print(\"Flood start at timestep: \", pref_idx)\n",
    "print(\"Flood ends at: \", post_idx)"
   ]
  },
  {
   "cell_type": "code",
   "execution_count": 15,
   "metadata": {
    "ExecuteTime": {
     "end_time": "2021-09-24T14:40:01.454424Z",
     "start_time": "2021-09-24T14:40:01.098088Z"
    },
    "hide_input": false,
    "tags": []
   },
   "outputs": [
    {
     "name": "stderr",
     "output_type": "stream",
     "text": [
      "/Applications/anaconda3/lib/python3.8/site-packages/scipy/stats/_distn_infrastructure.py:1870: RuntimeWarning: divide by zero encountered in true_divide\n",
      "  x = np.asarray((x - loc)/scale, dtype=dtyp)\n"
     ]
    },
    {
     "name": "stdout",
     "output_type": "stream",
     "text": [
      "[0.08191124 0.23175856 0.24162302 2.05012655]\n",
      "attribute top: 0.68. Midpoint: 0.44\n",
      "Bankfull discharge (90th p):  1.7797687823690005\n"
     ]
    },
    {
     "data": {
      "image/png": "[encoded data removed]",
      "text/plain": [
       "<Figure size 432x288 with 1 Axes>"
      ]
     },
     "metadata": {
      "needs_background": "light"
     },
     "output_type": "display_data"
    }
   ],
   "source": [
    "char = 10 ## what do you want to colour by? flow depth (4), elevation change (7) etc\n",
    "attribs = datamaster[:, char, :].ravel() # scaling to find your normalisation for the attribute/char you choose to colour with\n",
    "avattribs = np.average(attribs)\n",
    "locd = np.average(avattribs)\n",
    "scd = np.std(avattribs)\n",
    "attx = np.linspace(attribs.min(), attribs.max())\n",
    "apdf = stats.norm.pdf(attx, locd, scd)\n",
    "plt.hist(attribs, density=True);\n",
    "\n",
    "toplim = np.quantile(attribs, 0.65)\n",
    "lowlim = np.quantile(attribs, 0.45)\n",
    "discrete_vel = np.quantile(attribs, (0.1, 0.25, 0.26, 0.99))\n",
    "print(discrete_vel)\n",
    "plt.axvline(toplim, c = 'r', label = '95th ptile')\n",
    "plt.axvline(lowlim, c = 'b', label = '30th ptile')\n",
    "plt.xlabel('attribute, m')\n",
    "plt.ylabel('Count')\n",
    "plt.legend()\n",
    "plt.title('Histogram of depth in entire model domain for entire run');\n",
    "print(f'attribute top: {np.round(toplim, 2)}. Midpoint: {np.round(lowlim, 2)}')\n",
    "\n",
    "bankfull = np.quantile(datamaster[:, 4, :], 0.90)\n",
    "print('Bankfull discharge (90th p): ', bankfull)"
   ]
  },
  {
   "cell_type": "markdown",
   "metadata": {},
   "source": [
    "For the colourbar and filling in the model domain plots, we are plotting scaled to the 95th percentile depth"
   ]
  },
  {
   "cell_type": "markdown",
   "metadata": {},
   "source": [
    "Crop and sort the data by jloc (removing ilocs that are not the desired section) so its in section order and not streamwise"
   ]
  },
  {
   "cell_type": "code",
   "execution_count": 16,
   "metadata": {
    "ExecuteTime": {
     "end_time": "2021-09-24T14:40:05.781955Z",
     "start_time": "2021-09-24T14:40:05.740538Z"
    },
    "hide_input": true,
    "tags": []
   },
   "outputs": [
    {
     "name": "stdout",
     "output_type": "stream",
     "text": [
      "Cropped, final dataset shape:  (26, 11, 310)\n"
     ]
    }
   ],
   "source": [
    "#crop data\n",
    "remove_ilocs = np.where(datamaster[:, 0, :] != iloc)\n",
    "data = np.delete(datamaster, remove_ilocs[0], axis=0)\n",
    "print('Cropped, final dataset shape: ', data.shape)\n",
    "\n",
    "#sort in cross stream direction from rightbank to left bank\n",
    "#test = np.empty_like(datamaster)    \n",
    "for i in range (0, num_timesteps):\n",
    "    data[:, :, i] = data[:, :, i][np.argsort(data[:, :, i][:, 3])]\n",
    "    #print(i, data[:, 3, i])\n"
   ]
  },
  {
   "cell_type": "markdown",
   "metadata": {
    "hide_input": false
   },
   "source": [
    "\n",
    "\n",
    "\n",
    "\n",
    "Now fill in arrays for elevation, position, shear etc..."
   ]
  },
  {
   "cell_type": "code",
   "execution_count": 17,
   "metadata": {
    "ExecuteTime": {
     "end_time": "2021-09-24T14:40:06.269616Z",
     "start_time": "2021-09-24T14:40:06.264336Z"
    },
    "hide_input": true,
    "tags": []
   },
   "outputs": [
    {
     "name": "stdout",
     "output_type": "stream",
     "text": [
      "Shape of prelim arrays:  (310, 26)\n"
     ]
    }
   ],
   "source": [
    "##Make the arrays to store data\n",
    "stratigraphy = np.empty([end_t, cells]) ##will hold data for topography accounting for changes due to erosion\n",
    "#print(elevation.shape) #elevation = np.empty([n, end_t])\n",
    "\n",
    "print('Shape of prelim arrays: ', stratigraphy.shape)\n",
    "\n",
    "#this matrix is to record unmodified stratigraphy in the same shape as the eroded strat\n",
    "stratigraphy_idx = stratigraphy.copy()\n",
    "#stratigraphy_idx[:] =  np.nan\n",
    "#print(stratigraphy)\n",
    "\n",
    "shearstresseroded = stratigraphy.copy() #will hold data for shear stress accounting for changes due to erosion\n",
    "#shearstresseroded[:] = np.nan\n",
    "#print('!!!', shearstresseroded.shape)\n",
    "\n",
    "stratflowdepth =  stratigraphy.copy() #will hold data for flow depth accounting for changes due to erosion\n",
    "#stratflowdepth[:] = np.nan\n",
    "\n",
    "scaleflowdepth =  stratigraphy.copy() #will hold data for local flow depth scaled to max accounting for changes due to erosion\n",
    "#scaleflowdepth[:] = np.nan\n",
    "\n",
    "froudedata =  stratigraphy.copy() #will hold data for local flow depth scaled to max accounting for changes due to erosion\n",
    "#froudedata[:] = np.nan\n",
    "\n",
    "velocity =  stratigraphy.copy()\n",
    "runtime = len(stratigraphy)\n",
    "#print(runtime)\n",
    "xposition =  stratigraphy.copy()"
   ]
  },
  {
   "cell_type": "code",
   "execution_count": 18,
   "metadata": {
    "ExecuteTime": {
     "end_time": "2021-09-24T14:40:06.500035Z",
     "start_time": "2021-09-24T14:40:06.492147Z"
    },
    "hide_input": true,
    "tags": []
   },
   "outputs": [
    {
     "name": "stdout",
     "output_type": "stream",
     "text": [
      "Left bank max position:  116.854999795\n",
      "Right bank max position:  -108.859420602\n",
      "Shape of stratigraphy matrix:,  (310, 229)\n"
     ]
    }
   ],
   "source": [
    "in_section = np.where(datamaster[:, 0, -1]==iloc)\n",
    "in_section = in_section[0]\n",
    "bankpos = datamaster[:, 3, :][in_section]\n",
    "#print(bankpos)\n",
    "rightbank = bankpos.min() ##negativee\n",
    "leftbank = bankpos.max() #positive\n",
    "print('Left bank max position: ', leftbank)\n",
    "print('Right bank max position: ', rightbank)\n",
    "\n",
    "xy_strat = np.empty([end_t, int(3+np.round((leftbank-rightbank)/spacing, 0))]) # will put stratigraphies here, in proper x pos\n",
    "print('Shape of stratigraphy matrix:, ', xy_strat.shape)\n",
    "xy_strat[:] = np.nan\n",
    "ages = np.empty_like(xy_strat)"
   ]
  },
  {
   "cell_type": "markdown",
   "metadata": {
    "hide_input": false
   },
   "source": [
    "## Import, and fill the arrays that will be used for the rest of the code\n",
    "1. Import data for shear stress, flow depth, velocity and froude\n",
    "2. Interpolate data to represent actual channel dimensions and not grid dimensions\n",
    "3. Fill and remove any remaining nans from the arrays"
   ]
  },
  {
   "cell_type": "code",
   "execution_count": 19,
   "metadata": {
    "ExecuteTime": {
     "end_time": "2021-09-24T14:40:06.968783Z",
     "start_time": "2021-09-24T14:40:06.963178Z"
    },
    "hide_input": true,
    "scrolled": true,
    "tags": []
   },
   "outputs": [],
   "source": [
    "## Import the data\n",
    "for time in range (0, data.shape[2]): #TIME\n",
    "    #print(stratigraphy[time, :].shape)\n",
    "    stratigraphy[time, :] = data[:, 7, time] #elevation change, elevation in 5\n",
    "    shearstresseroded[time, :] = data[:, 6, time] \n",
    "    stratflowdepth[time, :] = data[:, 4, time]\n",
    "    froudedata[time, :] = data[:, 9, time]\n",
    "    velocity[time, :] = data[:, 10, time]\n",
    "    \n",
    "    ypos = data[:, 3, time]-rightbank #coreect supid centreline indexing\n",
    "    #print(ypos)\n",
    "    xposition[time, :] = ypos\n",
    "\n",
    "stratigraphy_idx = stratigraphy.copy()\n",
    "\n",
    "##you need to change the y positions from centreline position to actual positional data\n",
    "#print(xposition.max(axis = 1))"
   ]
  },
  {
   "cell_type": "code",
   "execution_count": 20,
   "metadata": {
    "ExecuteTime": {
     "end_time": "2021-09-24T14:40:07.223054Z",
     "start_time": "2021-09-24T14:40:07.218151Z"
    },
    "colab": {
     "base_uri": "https://localhost:8080/"
    },
    "executionInfo": {
     "elapsed": 43567,
     "status": "ok",
     "timestamp": 1616014269921,
     "user": {
      "displayName": "Safiya Alpheus",
      "photoUrl": "",
      "userId": "18049693271511077124"
     },
     "user_tz": 240
    },
    "hide_input": true,
    "id": "g_6iKJ3s4uVL",
    "outputId": "fb5f5ccb-67b1-4dcf-ef5f-e4ad7f520265",
    "tags": []
   },
   "outputs": [
    {
     "name": "stdout",
     "output_type": "stream",
     "text": [
      "True shape, m:  (310, 229) (310, 229) (310, 229) (310, 229) (310, 229)\n"
     ]
    }
   ],
   "source": [
    "## these arrays will house interpolated data\n",
    "shear = xy_strat.copy()\n",
    "froude = xy_strat.copy()\n",
    "scaleflow = xy_strat.copy() #flow depth scaled to max per time\n",
    "trueflow = xy_strat.copy() #unscaled flow depth\n",
    "flowvel = xy_strat.copy() #flow velocity\n",
    "\n",
    "print('True shape, m: ', shear.shape, froude.shape, scaleflow.shape, trueflow.shape, flowvel.shape)"
   ]
  },
  {
   "cell_type": "code",
   "execution_count": 21,
   "metadata": {
    "ExecuteTime": {
     "end_time": "2021-09-24T14:40:07.642143Z",
     "start_time": "2021-09-24T14:40:07.630324Z"
    },
    "executionInfo": {
     "elapsed": 42262,
     "status": "ok",
     "timestamp": 1616014269922,
     "user": {
      "displayName": "Safiya Alpheus",
      "photoUrl": "",
      "userId": "18049693271511077124"
     },
     "user_tz": 240
    },
    "hide_input": true,
    "id": "KFYjB5X94uVM",
    "scrolled": true,
    "tags": []
   },
   "outputs": [],
   "source": [
    "#put all data values in their correct x/index position\n",
    "for t in range (0, end_t):\n",
    "    #print(t)\n",
    "    for idx, x in zip(np.arange(0, stratigraphy.shape[1]), xposition[t, :]):\n",
    "        #print(x)\n",
    "        #print(idx, x)\n",
    "        x = int(np.floor(x)) #rounding down positions, making integers so can use as index\n",
    "        #print(x, idx)\n",
    "        xy_strat[t, x] = stratigraphy[t, idx]\n",
    "        shear[t, x] = shearstresseroded[t, idx]\n",
    "        froude[t, x] = froudedata[t, idx]\n",
    "        trueflow[t, x] = stratflowdepth[t, idx]\n",
    "        scaleflow[t, x] = scaleflowdepth[t, idx]\n",
    "        flowvel[t, x] = velocity[t, idx]\n",
    "    #plt.plot(xy_strat[t, :], '.')"
   ]
  },
  {
   "cell_type": "code",
   "execution_count": 22,
   "metadata": {
    "ExecuteTime": {
     "end_time": "2021-09-24T14:40:07.901690Z",
     "start_time": "2021-09-24T14:40:07.812583Z"
    },
    "hide_input": true,
    "tags": []
   },
   "outputs": [],
   "source": [
    "xy_topo = np.empty_like(xy_strat)\n",
    "xy_topo[:] = np.nan\n",
    "for t in range (0, end_t):\n",
    "    #print(t)\n",
    "    length = int(np.floor(xposition[t, -1]-xposition[t, 0])) #length of the section at time, t\n",
    "    pos = np.linspace(0, length, length) #create a metre scale array with each x pos = location\n",
    "    #dataint = np.linspace(int(np.round(xposition[t, 0], 0)), int(np.round(xposition[t, -1], 0)), length, dtype=int) #range of locations to interpolate over?\n",
    "    dataint = np.arange(xposition[t, 0], np.round(xposition[t, -1], 0), dtype=int)\n",
    "    #print(t, pos.max(), length)\n",
    "    #print(len(dataint))\n",
    "    #print(pos)\n",
    "    \n",
    "    stratnotnan = xy_strat[t, :][~np.isnan(xy_strat[t, :])] #pull out real values of strat\n",
    "    shearnotnan = shear[t, :][~np.isnan(shear[t, :])] #pull out real values of shear\n",
    "    froudenotnan = froude[t, :][~np.isnan(froude[t, :])] #pull out real values of froude\n",
    "    truefnotnan = trueflow[t, :][~np.isnan(trueflow[t, :])] #pull out real values of true flow depth\n",
    "    #scalefnotnan = scaleflow[t, :][~np.isnan(scaleflow[t, :])] #pull out real values of scaled flow depth\n",
    "    velnotnan = flowvel[t, :][~np.isnan(flowvel[t, :])] #pull out real values of strat\n",
    "    #print(shear[t, :][~np.isnan(shear[t, :])])\n",
    "    #print(shearnotnan[:].shape, froudenotnan[:].shape, truefnotnan[:].shape, velnotnan[:].shape)\n",
    "    #print(xposition[t, :])\n",
    "    #print(dataint)\n",
    "    fx = interpolate.interp1d(xposition[t, :], stratnotnan[:], kind = 'cubic', fill_value = 'extrapolate') #stratigraphy interpolation\n",
    "    #print(fx)\n",
    "    fsh = interpolate.interp1d(xposition[t, :], shearnotnan[:], kind = 'cubic', fill_value = 'extrapolate') #shear stress interpolation\n",
    "    ffr = interpolate.interp1d(xposition[t, :], froudenotnan[:], kind = 'cubic', fill_value = 'extrapolate') #froude number interpolation\n",
    "    ftf = interpolate.interp1d(xposition[t, :], truefnotnan[:], kind = 'cubic', fill_value = 'extrapolate') #true flow depth interpolation\n",
    "    #fsf = interpolate.interp1d(xposition[t, :], scalefnotnan[:], kind = 'cubic') #scaled flow depth interpolation\n",
    "    ffv = interpolate.interp1d(xposition[t, :], velnotnan[:], kind = 'cubic', fill_value = 'extrapolate') #flow veloity interpolation\n",
    "    \n",
    "    #print(fx(dataint))\n",
    "    \n",
    "    xy_topo[t, dataint] = fx(dataint) #reassign strat\n",
    "    #print(xy_topo[t, :])\n",
    "    shear[t, dataint] = fsh(dataint) #reassign shear\n",
    "    froude[t, dataint] = ffr(dataint) #reassign froude\n",
    "    trueflow[t, dataint] = ftf(dataint) #reassign true fd\n",
    "    #scaleflow[t, 0:length] = fsf(pos) #reassign scaled fd\n",
    "    flowvel[t, dataint] = ffv(dataint) #reassign flow vel\n",
    "    \n",
    "    #plt.plot(xy_topo[t, :])\n",
    "#plt.ylim(-3, 3)"
   ]
  },
  {
   "cell_type": "markdown",
   "metadata": {
    "id": "tF74__Am4uVM"
   },
   "source": [
    "Now I have an array with one column of cross-stream distance data and n columns of elevation data...now we plot. \n",
    "Because we are eroding to the position it was before then the shear stress must also be what it was before, therefore we can do thge same thing with stratgiraphy."
   ]
  },
  {
   "cell_type": "markdown",
   "metadata": {
    "id": "FPIUlbb64uVP"
   },
   "source": [
    "###### Set up the grids for plotting"
   ]
  },
  {
   "cell_type": "code",
   "execution_count": 23,
   "metadata": {
    "ExecuteTime": {
     "end_time": "2021-09-24T14:40:08.756691Z",
     "start_time": "2021-09-24T14:40:08.752755Z"
    },
    "executionInfo": {
     "elapsed": 33689,
     "status": "ok",
     "timestamp": 1616014272039,
     "user": {
      "displayName": "Safiya Alpheus",
      "photoUrl": "",
      "userId": "18049693271511077124"
     },
     "user_tz": 240
    },
    "hide_input": false,
    "id": "6Nge8uwA4uVP",
    "tags": []
   },
   "outputs": [],
   "source": [
    "start_time = 0 #would be start of model run\n",
    "end_time = end_t #would be end of model run\n",
    "\n",
    "tim = range(start_time,end_time) #range of time\n",
    "\n",
    "position = np.arange(0, xy_topo.shape[1], dtype = float)"
   ]
  },
  {
   "cell_type": "markdown",
   "metadata": {},
   "source": [
    "Set up plotting cmaps"
   ]
  },
  {
   "cell_type": "code",
   "execution_count": 24,
   "metadata": {
    "ExecuteTime": {
     "end_time": "2021-09-24T14:40:09.512168Z",
     "start_time": "2021-09-24T14:40:09.508428Z"
    },
    "executionInfo": {
     "elapsed": 28443,
     "status": "ok",
     "timestamp": 1616014272225,
     "user": {
      "displayName": "Safiya Alpheus",
      "photoUrl": "",
      "userId": "18049693271511077124"
     },
     "user_tz": 240
    },
    "hide_input": false,
    "id": "7arfqtVH4uVQ",
    "tags": []
   },
   "outputs": [],
   "source": [
    "# Make a user-defined colormap.\n",
    "cm1 = mycmap\n",
    "cnorm = mcol.Normalize(vmin=min(tim),vmax=max(tim))\n",
    "\n",
    "# Turn these into an object that can be used to map time values to colors and can be passed to plt.colorbar().\n",
    "cpick = cm.ScalarMappable(norm=cnorm,cmap='hsv') \n",
    "cpick.set_array([])"
   ]
  },
  {
   "cell_type": "code",
   "execution_count": 25,
   "metadata": {
    "ExecuteTime": {
     "end_time": "2021-09-24T14:40:09.807333Z",
     "start_time": "2021-09-24T14:40:09.803733Z"
    },
    "colab": {
     "base_uri": "https://localhost:8080/"
    },
    "executionInfo": {
     "elapsed": 40898,
     "status": "ok",
     "timestamp": 1616014270077,
     "user": {
      "displayName": "Safiya Alpheus",
      "photoUrl": "",
      "userId": "18049693271511077124"
     },
     "user_tz": 240
    },
    "hide_input": true,
    "id": "953kXuke4uVN",
    "outputId": "4a0f1c18-0f1c-45f3-b981-dd14a9f2eab8",
    "tags": []
   },
   "outputs": [],
   "source": [
    "#each of these conditional arrays have a border of nans to helo pick out the 'packages'\n",
    "stratcondition = np.zeros_like(xy_topo)\n",
    "stratcondition[:] = np.nan\n",
    "\n",
    "\n",
    "erosurf = np.empty([end_t, xy_topo.shape[1]])\n",
    "erosurf[:] = np.nan\n"
   ]
  },
  {
   "cell_type": "code",
   "execution_count": 26,
   "metadata": {
    "ExecuteTime": {
     "end_time": "2021-09-24T14:40:10.638922Z",
     "start_time": "2021-09-24T14:40:10.143308Z"
    },
    "executionInfo": {
     "elapsed": 41044,
     "status": "ok",
     "timestamp": 1616014270735,
     "user": {
      "displayName": "Safiya Alpheus",
      "photoUrl": "",
      "userId": "18049693271511077124"
     },
     "user_tz": 240
    },
    "hide_input": false,
    "id": "TilC6Tq14uVN",
    "tags": []
   },
   "outputs": [],
   "source": [
    "strat = copy.deepcopy(xy_topo)\n",
    "\n",
    "halfwidth=25\n",
    "\n",
    "for time in range (0, end_t):\n",
    "    #plt.plot(stratigraphy[time]) #this is just a check to make sure youre importing the data correctly\n",
    "    \n",
    "    #now we have stratigraphy at each timestep with time on the j axis and position on the i\n",
    "    #we want to check each location at each timestep for areas that have erodible elevation (i.e. higher than current timestep)\n",
    "    \n",
    "    for space in range (0, xy_topo.shape[1]):\n",
    "        #print(space)\n",
    "        preexisting_strata = xy_topo[:time, :] #this is our search array, where we will erode\n",
    "        #preexisting_strata_idx = stratigraphy_idx[:time, :]\n",
    "        \n",
    "        #print(preexisting_strata.shape)\n",
    "        #print('xy', xy_strat[time, :].shape)\n",
    "        willerode = np.where(preexisting_strata[:, space] > xy_topo[time, space])\n",
    "        #print('willerode', willerode)\n",
    "        \n",
    "        #print(time, column, willerode)\n",
    "        \n",
    "        xy_topo[willerode, space] = xy_topo[time, space]\n",
    "        ages[willerode, space] = time\n",
    "        \n",
    "for i in range (end_t-2, -1, -1):\n",
    "    \n",
    "    fillinx = np.where(np.isnan(xy_topo[i, :]))\n",
    "    xy_topo[i, fillinx] = xy_topo[i+1, fillinx]\n",
    "    #strat[i, fillinx] = strat[i+1, fillinx]\n",
    "    ## fill in all filled in areas in the strat condition matrix with the flag for erosion\n",
    "    stratcondition[i, fillinx] = 1\n",
    "    #print(stratcondition[i, fillinx])\n",
    "    \n",
    "    fillinsh = np.where(np.isnan(shear[i, :]))\n",
    "    shear[i, fillinsh] = shear[i+1, fillinsh]\n",
    "    \n",
    "    fillinfr = np.where(np.isnan(froude[i, :]))\n",
    "    froude[i, fillinfr] = froude[i+1, fillinfr]\n",
    "    \n",
    "    fillintf = np.where(np.isnan(trueflow[i, :]))\n",
    "    trueflow[i, fillintf] = trueflow[i+1, fillintf]\n",
    "    \n",
    "    fillinsf = np.where(np.isnan(scaleflow[i, :]))\n",
    "    scaleflow[i, fillinsf] = scaleflow[i+1, fillinsf]\n",
    "    \n",
    "    fillinfv = np.where(np.isnan(flowvel[i, :]))\n",
    "    flowvel[i, fillinfv] = flowvel[i+1, fillinfv]\n",
    "    \n",
    "    fillinstrat = np.where(np.isnan(strat[i, :]))\n",
    "    #strat[i, fillinstrat] = strat[i+1, fillinstrat]\n",
    "    \n",
    "    #print('no fill', xy_topo[i, fillin])\n",
    "    \n",
    "    #print('fill', xy_topo[i, fillin])"
   ]
  },
  {
   "cell_type": "markdown",
   "metadata": {
    "ExecuteTime": {
     "end_time": "2021-06-22T15:52:55.492349Z",
     "start_time": "2021-06-22T15:52:55.485882Z"
    }
   },
   "source": [
    "*Verify that the stratigraphy looks the way it should*"
   ]
  },
  {
   "cell_type": "code",
   "execution_count": 27,
   "metadata": {
    "ExecuteTime": {
     "end_time": "2021-09-24T14:40:11.697855Z",
     "start_time": "2021-09-24T14:40:11.444843Z"
    },
    "colab": {
     "base_uri": "https://localhost:8080/",
     "height": 265
    },
    "executionInfo": {
     "elapsed": 40066,
     "status": "ok",
     "timestamp": 1616014271841,
     "user": {
      "displayName": "Safiya Alpheus",
      "photoUrl": "",
      "userId": "18049693271511077124"
     },
     "user_tz": 240
    },
    "hide_input": false,
    "id": "9TYJqm-A4uVO",
    "outputId": "91f3d444-eb91-42ce-fdc4-c56f95ad0b61",
    "tags": []
   },
   "outputs": [
    {
     "data": {
      "text/plain": [
       "<matplotlib.lines.Line2D at 0x7fa051dd5070>"
      ]
     },
     "execution_count": 27,
     "metadata": {},
     "output_type": "execute_result"
    },
    {
     "data": {
      "image/png": "[encoded data removed]",
      "text/plain": [
       "<Figure size 720x216 with 1 Axes>"
      ]
     },
     "metadata": {
      "needs_background": "light"
     },
     "output_type": "display_data"
    }
   ],
   "source": [
    "#%matplotlib notebook\n",
    "fig, ax = plt.subplots(figsize = (10, 3), tight_layout=True)\n",
    "for i in range(0, end_t):\n",
    "    ax.plot(xy_topo[i, :], 'k', alpha = 0.2, lw = 0.5)\n",
    "ax.set_aspect('10')\n",
    "ax.set_xlim(xposition[-1, :].min(), xposition[-1, :].max())\n",
    "ax.axvline(abs(data[:, 3, -1]).min()-rightbank, c='b', ls='-.', lw=1)"
   ]
  },
  {
   "cell_type": "code",
   "execution_count": 28,
   "metadata": {
    "ExecuteTime": {
     "end_time": "2021-09-23T15:06:04.715976Z",
     "start_time": "2021-09-23T15:06:04.690998Z"
    }
   },
   "outputs": [],
   "source": [
    "fig = plt.figure()\n",
    "xs_area = plt.fill_between(np.arange(0, xy_topo.shape[1]), xy_topo[0], xy_topo[-1])\n",
    "plt.close(fig)\n",
    "xs_verts = xs_area.get_paths()[0].vertices\n",
    "xs_polygon = Polygon(xs_verts) \n",
    "\n",
    "xs_bds = xs_polygon.bounds\n",
    "xs_area = xs_polygon.area\n",
    "xsleft = xs_bds[0]\n",
    "xsbottom = xs_bds[1]\n",
    "xsright = xs_bds[2]\n",
    "xstop = xs_bds[3]\n",
    "#bar_height = abs(bottom-top)\n",
    "xs_thick = abs(xy_topo[-1].min()-xy_topo[-1].max())\n",
    "xs_width = xsright-xsleft"
   ]
  },
  {
   "cell_type": "code",
   "execution_count": 29,
   "metadata": {
    "ExecuteTime": {
     "end_time": "2021-09-23T15:06:05.743724Z",
     "start_time": "2021-09-23T15:06:04.717520Z"
    }
   },
   "outputs": [
    {
     "name": "stdout",
     "output_type": "stream",
     "text": [
      "Last timestep is 310\n"
     ]
    },
    {
     "data": {
      "image/png": "[encoded data removed]",
      "text/plain": [
       "<Figure size 720x288 with 2 Axes>"
      ]
     },
     "metadata": {
      "needs_background": "light"
     },
     "output_type": "display_data"
    }
   ],
   "source": [
    "plt.figure(tight_layout=True, figsize = (10,4))\n",
    "ax = plt.gca()\n",
    "ax.set_aspect('7.5')\n",
    "ax.set_facecolor('xkcd:sienna')\n",
    "for i in range (0, end_t):\n",
    "    plt.plot(xy_topo[i], color = cpick.to_rgba(i), lw = .5)\n",
    "ticks = np.arange(0, end_t, 25)\n",
    "plt.colorbar(cpick,label=\"Time\", shrink=0.25, ticks=ticks)\n",
    "print(f'Last timestep is {end_t}')"
   ]
  },
  {
   "cell_type": "code",
   "execution_count": 30,
   "metadata": {
    "ExecuteTime": {
     "end_time": "2021-09-23T15:06:12.944935Z",
     "start_time": "2021-09-23T15:06:05.745780Z"
    },
    "tags": []
   },
   "outputs": [
    {
     "name": "stdin",
     "output_type": "stream",
     "text": [
      "Enter start model timestep for video:  0\n",
      "Enter end model timestep for video:  309\n",
      "Enter left limit of plot here:  0\n",
      "Enter right limit of plot here:  230\n",
      "Enter bar ID:  l-good\n"
     ]
    },
    {
     "name": "stdout",
     "output_type": "stream",
     "text": [
      "(310, 229)\n"
     ]
    },
    {
     "data": {
      "image/png": "[encoded data removed]",
      "text/plain": [
       "<Figure size 432x288 with 1 Axes>"
      ]
     },
     "metadata": {
      "needs_background": "light"
     },
     "output_type": "display_data"
    }
   ],
   "source": [
    "st_time = int(input('Enter start model timestep for video: '))\n",
    "en_time = int(input('Enter end model timestep for video: '))\n",
    "\n",
    "barleft = int(input('Enter left limit of plot here: '))\n",
    "barright = int(input('Enter right limit of plot here: '))\n",
    "buffer = 50 #some extra buffer space to account for widening during the run\n",
    "rblim = data[:, 3, :].min()+barleft-(buffer/2)\n",
    "lblim = rblim+(barright-barleft+(buffer/2))\n",
    "\n",
    "barID = input('Enter bar ID: ')\n",
    "cropped_topo = xy_topo[st_time:en_time+1, barleft:barright+1]\n",
    "print(cropped_topo.shape)\n",
    "\n",
    "for i in range (0, len(cropped_topo)):\n",
    "    plt.plot(position[barleft:barright+1], cropped_topo[i], color = cpick.to_rgba(i), lw=3)\n",
    "ax = plt.gca()\n",
    "ax.set_facecolor('xkcd:sienna')\n",
    "ax.set_aspect('10')\n",
    "\n",
    "#lt.colorbar(cpick,label=\"Time\")"
   ]
  },
  {
   "cell_type": "markdown",
   "metadata": {},
   "source": [
    "## Crop EVERYTHING"
   ]
  },
  {
   "cell_type": "code",
   "execution_count": 33,
   "metadata": {
    "ExecuteTime": {
     "end_time": "2021-09-23T15:06:12.950860Z",
     "start_time": "2021-09-23T15:06:12.946807Z"
    },
    "tags": []
   },
   "outputs": [],
   "source": [
    "## crop the strat matrix too\n",
    "xy_topo = copy.deepcopy(cropped_topo)\n",
    "position = position[barleft:barright+1]\n",
    "strat = xy_strat[st_time:en_time+1, barleft:barright+1]\n",
    "stratcondition = stratcondition[st_time:en_time+1, barleft:barright+1]\n",
    "\n",
    "end_t = len(xy_topo)\n",
    "num_timesteps = end_t\n",
    "\n",
    "shear = shear[st_time:en_time+1, barleft:barright+1]\n",
    "scaleflow = scaleflow[st_time:en_time+1, barleft:barright+1]\n",
    "trueflow = trueflow[st_time:en_time+1, barleft:barright+1]\n",
    "flowvel = flowvel[st_time:en_time+1, barleft:barright+1]\n",
    "erosurf = erosurf[st_time:en_time+1, barleft:barright+1]"
   ]
  },
  {
   "cell_type": "markdown",
   "metadata": {
    "id": "hOTSTe364uVO"
   },
   "source": [
    "## Declare maximum flow depth for scaling"
   ]
  },
  {
   "cell_type": "code",
   "execution_count": 34,
   "metadata": {
    "ExecuteTime": {
     "end_time": "2021-09-23T15:06:12.960923Z",
     "start_time": "2021-09-23T15:06:12.957721Z"
    },
    "executionInfo": {
     "elapsed": 35226,
     "status": "ok",
     "timestamp": 1616014272038,
     "user": {
      "displayName": "Safiya Alpheus",
      "photoUrl": "",
      "userId": "18049693271511077124"
     },
     "user_tz": 240
    },
    "id": "3ghxct7e4uVP",
    "scrolled": true,
    "tags": []
   },
   "outputs": [],
   "source": [
    "maxflow = np.reshape(np.nanmax(trueflow, axis=1), [end_t, 1])\n",
    "scaleflow = trueflow/maxflow"
   ]
  },
  {
   "cell_type": "code",
   "execution_count": 35,
   "metadata": {
    "ExecuteTime": {
     "end_time": "2021-09-23T15:06:13.527765Z",
     "start_time": "2021-09-23T15:06:12.965300Z"
    },
    "colab": {
     "base_uri": "https://localhost:8080/",
     "height": 282
    },
    "executionInfo": {
     "elapsed": 34727,
     "status": "ok",
     "timestamp": 1616014272038,
     "user": {
      "displayName": "Safiya Alpheus",
      "photoUrl": "",
      "userId": "18049693271511077124"
     },
     "user_tz": 240
    },
    "id": "9z4BzHs84uVP",
    "outputId": "970515b4-af44-4c41-b030-6e9ba794b53a",
    "tags": []
   },
   "outputs": [
    {
     "name": "stdout",
     "output_type": "stream",
     "text": [
      "Maximum flow depth:  3.5849098834183337\n"
     ]
    }
   ],
   "source": [
    "print('Maximum flow depth: ', maxflow.max())\n",
    "fig, ax = plt.subplots(1, 2, figsize= (14, 6), tight_layout = True)\n",
    "ax[0].hist(stratflowdepth.ravel(), **kwargs)\n",
    "flowdep = np.mean(stratflowdepth)\n",
    "\n",
    "for i in range (0, end_t):\n",
    "    ax[1].plot(i, stratflowdepth[i, :].min(), marker = 'v', ms = '2', mec = 'xkcd:grey', mfc = 'r')\n",
    "    ax[1].plot(i, stratflowdepth[i, :].max(), marker = '^', ms = '2', mec = 'b', mfc = 'b')\n",
    "    ax[1].plot(i, np.mean(stratflowdepth[i, :]), marker = '.', ms = '5', mec = 'k', mfc = 'k')\n",
    "    \n",
    "ax[1].set_title('Time Series of Flow Depth at XS\\n blue = max, grey = min, black = mean') \n",
    "ax[0].set_title('Distribution of flow depth at section')\n",
    "ax[0].set_ylabel('Count')\n",
    "ax[0].set_xlabel('Flow Depth, m')\n",
    "\n",
    "ax[1].set_ylabel('Flow Depth, m')\n",
    "ax[1].set_xlabel('Timestep, 2hours')\n",
    "\n",
    "ax[1].axvline(fldstart, c='r', ls = '--');\n",
    "ax[1].axvline(fldstart+(fldlength/interval_to_plot), c='r', ls = '--');\n",
    "\n",
    "plt.close(fig)"
   ]
  },
  {
   "cell_type": "markdown",
   "metadata": {
    "id": "wjQiavSI4uVP"
   },
   "source": [
    "## Define formulae:\n",
    "\n",
    "<b>Calulating moving gravient along the stratigraphy </b> this shit dont work, take t from an old code\n"
   ]
  },
  {
   "cell_type": "code",
   "execution_count": 36,
   "metadata": {
    "ExecuteTime": {
     "end_time": "2021-09-23T15:06:13.544011Z",
     "start_time": "2021-09-23T15:06:13.536996Z"
    }
   },
   "outputs": [
    {
     "name": "stdout",
     "output_type": "stream",
     "text": [
      "1.0019999999999997e-06\n",
      "0.7770191533135022\n"
     ]
    },
    {
     "name": "stderr",
     "output_type": "stream",
     "text": [
      "/var/folders/yg/89nlrh5x2xzgdlgr2bczm4_m0000gn/T/ipykernel_53040/2417788035.py:7: RuntimeWarning: invalid value encountered in log10\n",
      "  chezy_rough = 18*(np.log10(4*trueflow/d50)) #i think this is log10, else they would've put ln no?\n"
     ]
    }
   ],
   "source": [
    "temp = 20.0 #temperature in degrees celcius\n",
    "kv = (1.14-0.031*(temp-15)+0.00068*((temp-15)**2))*10**-6\n",
    "print(kv)\n",
    "D_star = np.power((1.65*9.81)/(1e3*(kv**2)), 0.333)*3.1e-4\n",
    "print(D_star)\n",
    "d50um = 310\n",
    "chezy_rough = 18*(np.log10(4*trueflow/d50)) #i think this is log10, else they would've put ln no?\n",
    "\n",
    "mmp =(p*(flowvel**2))/(1650*(chezy_rough**2)*d50)## modified mobility parameter\n",
    "mmprange = [0.01, 0.025, 0.17, 0.35, 1.5, 10] ## LP, R, D, D-UP, UP"
   ]
  },
  {
   "cell_type": "markdown",
   "metadata": {
    "id": "zRZ8W81m4uVQ"
   },
   "source": []
  },
  {
   "cell_type": "markdown",
   "metadata": {
    "id": "4G9IqN294uVQ"
   },
   "source": [
    "<b> To find ideal number of bins for histogram using Sturges rule: n = 1 + 3.22 log (n) </b>\n",
    "\n",
    "This really is only for normal data, but whatever, otherwise, declare your own nbins\n"
   ]
  },
  {
   "cell_type": "markdown",
   "metadata": {
    "id": "LPkPj_vq4uVQ"
   },
   "source": [
    "## Plot of stratigraphy only"
   ]
  },
  {
   "cell_type": "markdown",
   "metadata": {
    "id": "2lSnNuUQ4uVR"
   },
   "source": [
    "\n",
    "## Plot the froude and WSE profile of the run (if in streamwise direction)"
   ]
  },
  {
   "cell_type": "markdown",
   "metadata": {
    "id": "miWZaWNH4uVR"
   },
   "source": [
    "## Declaring what the threshold for a hiatal surface is"
   ]
  },
  {
   "cell_type": "code",
   "execution_count": 37,
   "metadata": {
    "ExecuteTime": {
     "end_time": "2021-09-23T15:06:13.558266Z",
     "start_time": "2021-09-23T15:06:13.555223Z"
    },
    "executionInfo": {
     "elapsed": 27211,
     "status": "ok",
     "timestamp": 1616014272226,
     "user": {
      "displayName": "Safiya Alpheus",
      "photoUrl": "",
      "userId": "18049693271511077124"
     },
     "user_tz": 240
    },
    "id": "A4rw5J6g4uVR"
   },
   "outputs": [],
   "source": [
    "ages_ero = np.empty_like(xy_topo)\n",
    "posnew = np.arange(0, xy_topo.shape[1])"
   ]
  },
  {
   "cell_type": "code",
   "execution_count": 38,
   "metadata": {
    "ExecuteTime": {
     "end_time": "2021-09-23T15:06:13.562528Z",
     "start_time": "2021-09-23T15:06:13.560120Z"
    },
    "executionInfo": {
     "elapsed": 26230,
     "status": "ok",
     "timestamp": 1616014272227,
     "user": {
      "displayName": "Safiya Alpheus",
      "photoUrl": "",
      "userId": "18049693271511077124"
     },
     "user_tz": 240
    },
    "id": "QhFVo-yL4uVR"
   },
   "outputs": [],
   "source": [
    "## SCENARIO 1: Hiatus = any elevation change that is less than x cm\n",
    "\n",
    "## SCENARIO 2: Hiatus = any elevation change that is less than x % of the average elevation change\n",
    "\n",
    "## SCENARIO 3: Hiatus = any elevation change that is less than the xth percentile of change at the timestep\n",
    "hiatal_scenario = 2\n",
    "\n",
    "threshold_thick = 0.005  #absolute value in metres \n",
    "\n",
    "nth = 25 #what percentile distribution to use to calculate hiatal surfaces for each timestep\n",
    "perc = 0.1 #fraction of percentile"
   ]
  },
  {
   "cell_type": "markdown",
   "metadata": {},
   "source": [
    "### Now we are defining the ages of each surface "
   ]
  },
  {
   "cell_type": "code",
   "execution_count": 39,
   "metadata": {
    "ExecuteTime": {
     "end_time": "2021-09-23T15:06:13.604856Z",
     "start_time": "2021-09-23T15:06:13.564209Z"
    },
    "executionInfo": {
     "elapsed": 25799,
     "status": "ok",
     "timestamp": 1616014272227,
     "user": {
      "displayName": "Safiya Alpheus",
      "photoUrl": "",
      "userId": "18049693271511077124"
     },
     "user_tz": 240
    },
    "hide_input": false,
    "id": "WiPeM6hA4uVS"
   },
   "outputs": [],
   "source": [
    "#print(len(posnew))\n",
    "for time in range (1, end_t):\n",
    "    #print(time)\n",
    "    ages_ero[time, :] = time \n",
    "    #stratinterpcub[time, :] = topointerp[time, :]\n",
    "    \n",
    "    lessthan = np.where(strat[time, :] < xy_topo[time-1, :])\n",
    "    ele_change = strat[time, :]-xy_topo[time-1, :] #find the bed elevation change across the domain\n",
    "                                                                   #it has to be before you reassign topography else \n",
    "                                                                   #you will get zeros where replaced\n",
    "    #print(ele_change)\n",
    "    #for space in range (0, ages_ero.shape[1]):\n",
    "        \n",
    "        #preexisting_strata_int = stratinterpcub[:time, :] #this is our search array, where we will erode\n",
    "        \n",
    "    #willerode_int = np.where(ele_change < 0)\n",
    "    #print(willerode_int)\n",
    "        #stratinterpcub[willerode_int, space] = stratinterpcub[time, space] #tune the stratigraphy for erosion\n",
    "        \n",
    "    ages_ero[time, lessthan] = ages_ero[time-1, lessthan]\n",
    "        \n",
    "    \n",
    "    if hiatal_scenario == 1:\n",
    "        threshold_thick = perc*(np.mean(ele_change)) #find the fraction of the average elevation change between the two latest timesteps\n",
    "    \n",
    "    if hiatal_scenario == 2:\n",
    "        threshold_thick = perc*np.percentile(ele_change, nth)\n",
    "    \n",
    "    if time != 0:\n",
    "        hiatus_idx = np.where(abs(ele_change) < abs(threshold_thick))\n",
    "    #print(time, hiatus_idx)\n",
    "    #print('change', ele_change)\n",
    "    #print(time, hiatalrange, hiatus_idx)\n",
    "    #print(time, np.mean(ele_change), hiatalrange)\n",
    "        ages_ero[time, hiatus_idx] = ages_ero[time-1, hiatus_idx]\n",
    "ages_ero[-1, :] = end_t\n",
    "        #print(ages_ero)"
   ]
  },
  {
   "cell_type": "markdown",
   "metadata": {
    "hide_input": false,
    "id": "6K_uao1A4uVS"
   },
   "source": [
    "### Now we construct the conditions of deposition, hiatus or erosion\n",
    "\n",
    "This might be something to come back to becuase I currently do not have a working, transferrable definition of a hiatal surface, but for shits and giggles sake, since we are working with a field scale simulation and we expect m scale bars, lets say that a hiatal surface is a surface that aggrades less than 1mm ~ 0.1% of the elevation of the bar i.e. 0.99 x topo ≤ topo[t] ≤ 1.01 x topo[t-1]\n",
    "\n",
    "Let's define erosion where topo[t] < 0.99 x topo[t]\n",
    "\n",
    "Lets define deposition where topo[t] > 1.01 x topo[t-1]\n",
    "\n",
    "Then we will make an array that houses the condition of the surfaces only (stratcondition) defined by whether the subsequent surface is eroding, depositing or non-depositing sediment "
   ]
  },
  {
   "cell_type": "markdown",
   "metadata": {
    "id": "06YwKxT24uVS"
   },
   "source": [
    "##### Making the arrays that store erosion, hiatal, deposition and erosional and hiatal surfaces"
   ]
  },
  {
   "cell_type": "code",
   "execution_count": 40,
   "metadata": {
    "ExecuteTime": {
     "end_time": "2021-09-23T15:06:13.610272Z",
     "start_time": "2021-09-23T15:06:13.606773Z"
    },
    "executionInfo": {
     "elapsed": 24224,
     "status": "ok",
     "timestamp": 1616014272390,
     "user": {
      "displayName": "Safiya Alpheus",
      "photoUrl": "",
      "userId": "18049693271511077124"
     },
     "user_tz": 240
    },
    "hide_input": true,
    "id": "lloIvTWf4uVS"
   },
   "outputs": [],
   "source": [
    "#these will all be filled with nans\n",
    "deposurf = erosurf.copy()\n",
    "hiatalsurf = erosurf.copy()\n",
    "erohiatalsurf = erosurf.copy()\n",
    "time_of_ero = erosurf.copy()"
   ]
  },
  {
   "cell_type": "markdown",
   "metadata": {
    "id": "gyVeOcZq4uVS"
   },
   "source": [
    "### Create stratcondition (0, 1, 2 for depo, ero, hiatal) and surface arrays with nans and topo of ero/depo/hiatal surfaces"
   ]
  },
  {
   "cell_type": "code",
   "execution_count": 41,
   "metadata": {
    "ExecuteTime": {
     "end_time": "2021-09-23T15:06:13.615134Z",
     "start_time": "2021-09-23T15:06:13.611977Z"
    }
   },
   "outputs": [
    {
     "data": {
      "text/plain": [
       "(310, 229)"
      ]
     },
     "execution_count": 41,
     "metadata": {},
     "output_type": "execute_result"
    }
   ],
   "source": [
    "stratcondition.shape"
   ]
  },
  {
   "cell_type": "code",
   "execution_count": 42,
   "metadata": {
    "ExecuteTime": {
     "end_time": "2021-09-23T15:06:15.467220Z",
     "start_time": "2021-09-23T15:06:13.616636Z"
    },
    "colab": {
     "base_uri": "https://localhost:8080/"
    },
    "executionInfo": {
     "elapsed": 23936,
     "status": "ok",
     "timestamp": 1616014273797,
     "user": {
      "displayName": "Safiya Alpheus",
      "photoUrl": "",
      "userId": "18049693271511077124"
     },
     "user_tz": 240
    },
    "hide_input": true,
    "id": "_nYu8ljm4uVT",
    "outputId": "e1c9dc2f-5f5d-4a0f-d9bd-a8612a1c3816",
    "scrolled": true,
    "tags": []
   },
   "outputs": [
    {
     "name": "stderr",
     "output_type": "stream",
     "text": [
      "No handles with labels found to put in legend.\n"
     ]
    }
   ],
   "source": [
    "#stratcondition = np.zeros_like(xy_topo)\n",
    "#print(stratcondition.shape)\n",
    "\n",
    "thickness = np.zeros_like(xy_topo)\n",
    "#print(thickness.shape)\n",
    "\n",
    "#erosurf[stratcondition==1] = xy_topo[stratcondition==1]\n",
    "\n",
    "#hiatal_prop = 0.1 #multiple for proportion of thickness change defining a hiatal surface (decimal) \n",
    "                #i.e. a surface is hiatal if its elevation changes by less than 10% (of the percentile or average)\n",
    "\n",
    "#stratcondition[0, :] = 0\n",
    "\n",
    "fig, ax = plt.subplots(2, 3, figsize = (19.80, 10.8), tight_layout = True)#, sharey = True, sharex = True)#, sharex = True, sharey = True)\n",
    "\n",
    "for time in range (1, end_t):\n",
    "    \n",
    "    #ax[0,0].plot(posnew, topointerp[time], color=cpick.to_rgba(time))\n",
    "    thickness[time, :] = strat[time, :]-strat[time-1, :]\n",
    "    thickness[time, :][np.isnan(thickness[time, :])] = 0\n",
    "    #print(thickness[time, :])\n",
    "    ax[0,1].plot(time, thickness[time, :].max(), marker = 'o', mew = 0, markerfacecolor = 'xkcd:cobalt blue')\n",
    "    ax[0,1].plot(time, thickness[time, :].min(), marker = 'o', mew = 0, markerfacecolor = 'xkcd:green yellow')\n",
    "    ax[0,1].plot(time, np.average(thickness[time, :]), marker = 'o', mew = 0, markerfacecolor = 'xkcd:coral')\n",
    "    #print(thickness[time, :].max(), thickness[time, :].min(), np.average(thickness[time, :]))\n",
    "    #print(thickness[thickness>0])\n",
    "    #ax[0, 1].set_xlim(0, end_t)\n",
    "    #ax[0, 1].set_ylim(-1, 1)\n",
    "    if hiatal_scenario == 1:\n",
    "            #using a percentage of the average thickness to constrain hiatal surfaces\n",
    "        threshold_thick = perc*(np.mean(thickness[time, :]))  #x% of the average sediment thickness at x time. may be negative.\n",
    "    elif hiatal_scenario == 2:\n",
    "            #using nth percentile of the thicknesses at each timestep\n",
    "        threshold_thick = perc*np.percentile(abs(thickness[time, :]), nth) #find the nth percentile of depositon at x time. positive number.\n",
    "    \n",
    "    ax[0,0].plot(time, threshold_thick, 'o', markerfacecolor = cpick.to_rgba(time), markeredgecolor = cpick.to_rgba(time), linewidth = 0.0001, markersize = 14, alpha = 0.5)\n",
    "    \n",
    "    \n",
    "    ax[0,0].set_ylim(-0.05, .05)\n",
    "    #print('10th', np.percentile(abs(thickness), nth), 'thresh', threshold_thick)\n",
    "    \n",
    "    hiatalwhere = np.where(abs(thickness[time, :]) < threshold_thick) #where elev change is less than 10% avg\n",
    "    depositingwhere = np.where(thickness[time, :] > threshold_thick)\n",
    "    erodingwhere = np.where(thickness[time, :] < -abs(threshold_thick))\n",
    "    #print(time, depositing where)\n",
    "    \n",
    "    \n",
    "    #print(time, 'hiatus', hiatalwhere)\n",
    "    #print('hdata', thickness[hiatalwhere])\n",
    "    #print(time, 'ero', erodingwhere)\n",
    "    #print('edata', thickness[thickness<0])\n",
    "    \n",
    "    #print(time, stratcondition[time, :])\n",
    "    \n",
    "    stratcondition[time, depositingwhere] = 0\n",
    "    stratcondition[time, erodingwhere] = 1\n",
    "    stratcondition[time, hiatalwhere] = 2\n",
    "    erodereset = np.where(stratcondition[time, :]==1)\n",
    "   \n",
    "    #print(erodingwhere, erodereset)\n",
    "    #print(stratcondition[time, :])\n",
    "    #print(erodereset)\n",
    "    #erosurf[time, erodingwhere] = xy_topo[time, erodingwhere]\n",
    "    erosurf[time, erodereset] = xy_topo[time, erodereset]\n",
    "    deposurf[time, depositingwhere] = xy_topo[time, depositingwhere]\n",
    "    hiatalsurf[time, hiatalwhere] = xy_topo[time, hiatalwhere]\n",
    "    erohiatalsurf[time, erodereset] = xy_topo[time, erodereset]\n",
    "    erohiatalsurf[time, hiatalwhere] = xy_topo[time, hiatalwhere]\n",
    "    #print('surf', erosurf[time, 220:])\n",
    "    \n",
    "    ax[1,0].plot(erosurf[time], color=cpick.to_rgba(time))\n",
    "    ax[1,1].plot(hiatalsurf[time], color=cpick.to_rgba(time))\n",
    "    ax[0, 2].plot(deposurf[time], color=cpick.to_rgba(time))\n",
    "    #ax[1, 2].plot(posnew, erohiatalsurf[time], color=cpick.to_rgba(time))\n",
    "    ax[1, 2].plot(erosurf[time], 'r')\n",
    "    ax[1, 2].plot(hiatalsurf[time], 'g')\n",
    "#erohiatalsurf[-1, :] = xy_topo[-1, :]\n",
    "\n",
    "#ax[1, 3].hist(percentile)\n",
    "#ax[0, 3].hist(abs(thickness).flatten())\n",
    "#ax[0, 3].axvline(x=np.percentile(abs(thickness), 1), c = 'r')   \n",
    "ax[0,0].title.set_text('Time Series of Threshold thickness vals')\n",
    "ax[0,1].title.set_text('time seties of bed elevation changes')\n",
    "ax[0,2].title.set_text('Depositional Surfaces Only')\n",
    "ax[1,0].title.set_text('Erosion Surfaces Only')\n",
    "ax[1,1].title.set_text('Hiatal Surfaces Only')\n",
    "ax[1,2].title.set_text('Erosional and Hiatal Surfaces')\n",
    "#ax[0, 3].title.set_text('Distribution of ALL thicknesses, red line = '+str(nth)+'th Percentile')\n",
    "#ax[1, 3].title.set_text('Distribution of ALL percentiles/timestep')\n",
    "\n",
    "ax[0, 1].legend()\n",
    "ax[0,0].set_facecolor('xkcd:grey') \n",
    "ax[0,1].set_facecolor('xkcd:grey') \n",
    "ax[0,2].set_facecolor('xkcd:grey') \n",
    "ax[1,0].set_facecolor('xkcd:grey') \n",
    "ax[1,1].set_facecolor('xkcd:grey') \n",
    "ax[1,2].set_facecolor('xkcd:grey') \n",
    "#print(thickness[3, :])\n",
    "#print(stratcondition)#[3, :])\n",
    "#np.where(stratcondition == 1)\n",
    "\n",
    "#plt.savefig(savefilesto+'surf_creation/'+modelrun+'testforhiat.png', format='png', dpi = 200)\n",
    "plt.close(fig)"
   ]
  },
  {
   "cell_type": "markdown",
   "metadata": {
    "id": "UUWu5Fp64uVT"
   },
   "source": [
    "## Look at histogram of thickness changes in entire stratigraphy"
   ]
  },
  {
   "cell_type": "code",
   "execution_count": 43,
   "metadata": {
    "ExecuteTime": {
     "end_time": "2021-09-23T15:06:15.823520Z",
     "start_time": "2021-09-23T15:06:15.469092Z"
    },
    "colab": {
     "base_uri": "https://localhost:8080/",
     "height": 314
    },
    "executionInfo": {
     "elapsed": 22541,
     "status": "ok",
     "timestamp": 1616014274745,
     "user": {
      "displayName": "Safiya Alpheus",
      "photoUrl": "",
      "userId": "18049693271511077124"
     },
     "user_tz": 240
    },
    "hide_input": true,
    "id": "JoeAYn6C4uVT",
    "outputId": "f7010af3-e70d-4b8e-8266-7a1ce374476e",
    "tags": []
   },
   "outputs": [
    {
     "data": {
      "text/plain": [
       "<matplotlib.legend.Legend at 0x7fa056bf6730>"
      ]
     },
     "execution_count": 43,
     "metadata": {},
     "output_type": "execute_result"
    },
    {
     "data": {
      "image/png": "[encoded data removed]",
      "text/plain": [
       "<Figure size 720x288 with 2 Axes>"
      ]
     },
     "metadata": {
      "needs_background": "light"
     },
     "output_type": "display_data"
    }
   ],
   "source": [
    "fig, ax = plt.subplots(1, 2, figsize = (10, 4), tight_layout = True)\n",
    "hist = ax[0].hist(thickness.ravel(), bins = 50, ec = 'k', fc = 'xkcd:greyish', alpha = 0.5)\n",
    "ax[0].set_xlim(thickness.min(), thickness.max())\n",
    "thickavg = np.average(thickness, axis = 1)\n",
    "loc = np.average(thickavg)\n",
    "scale = np.std(thickavg)\n",
    "x = np.linspace(thickavg.min(), thickavg.max())\n",
    "y = stats.norm.pdf(x, loc, scale)\n",
    "\n",
    "ax[1].plot(x, y, label = 'PDF')\n",
    "ax[0].set_xlabel('Amount of elevation change at each xloc, m')\n",
    "ax[0].set_ylabel('Count')\n",
    "ax[0].set_title('Thickness change at every xpos/timestep \\n throughout the entire model run n = '+str(len(thickness.ravel())))\n",
    "#ax[0].set_xlim(-0.1, 0.1)\n",
    "\n",
    "avghist = ax[1].hist(thickavg, bins = 25, ec = 'k', fc = 'xkcd:greyish', alpha = 0.75, density = True, label = 'Actual data')\n",
    "ax[1].set_title('Avg thickness across entire XS per timestep')\n",
    "ax[1].set_xlabel('Thickness change (avg), across entire bed')\n",
    "ax[1].legend()\n",
    "#plt.savefig(savefilesto+'stats/'+modelrun+'erodephist.png', dpi = 100)\n"
   ]
  },
  {
   "cell_type": "markdown",
   "metadata": {
    "id": "7hIP60LN4uVT"
   },
   "source": [
    "## so we have the ages of the stratigraphy\n",
    "technically an erosion surface will be all the same age? \n",
    "\n",
    "Sambrook smith et al, 2019 did a similar thing where they found the main topographic surfaces by collecting the topography that connects the erosional points\n",
    "\n",
    "I'm going to try to do that somehow\n",
    "\n",
    "ages_ero is the age of all the erosion surfaces\n",
    "erosurf houses all the erosional surfaces in their space time structure\n",
    "if we find age at erosurf and plot stratinterbcub at that time then we might have done it????"
   ]
  },
  {
   "cell_type": "markdown",
   "metadata": {
    "id": "i4Fi2E3L4uVU"
   },
   "source": [
    "## Plot Stratigraphy with erosurfaces and hiatals colourised"
   ]
  },
  {
   "cell_type": "markdown",
   "metadata": {},
   "source": [
    "*Save data as arrays to compare CDFs*"
   ]
  },
  {
   "cell_type": "markdown",
   "metadata": {
    "ExecuteTime": {
     "end_time": "2021-09-01T18:13:32.804363Z",
     "start_time": "2021-09-01T18:13:32.458072Z"
    }
   },
   "source": [
    "np.save(f'/Volumes/SAF_MSCWORK/Python/Stratigraphy/Data/nparrays/velocity/{nickname}_{idf}_vel/v{iloc}', flowvel)\n",
    "np.save(f'/Volumes/SAF_MSCWORK/Python/Stratigraphy/Data/nparrays/depth/{nickname}_{idf}_depth/v{iloc}', trueflow)\n",
    "np.save(f'/Volumes/SAF_MSCWORK/Python/Stratigraphy/Data/nparrays/facies/{nickname}_{idf}_tparam/fac{iloc}', Tparam)\n",
    "np.save(f'/Volumes/SAF_MSCWORK/Python/Stratigraphy/Data/nparrays/shearstress/{nickname}_{idf}_ss/ss{iloc}', shear)\n",
    "np.save(f'/Volumes/SAF_MSCWORK/Python/Stratigraphy/Data/nparrays/discharge/{nickname}_{idf}_q/cq{iloc}', cellularQ)\n",
    "np.save(f'/Volumes/SAF_MSCWORK/Python/Stratigraphy/Data/nparrays/xytopo/{nickname}_{idf}_topo/topo{iloc}', xy_topo)"
   ]
  },
  {
   "cell_type": "markdown",
   "metadata": {
    "ExecuteTime": {
     "end_time": "2021-09-08T20:04:53.165266Z",
     "start_time": "2021-09-08T20:04:53.092736Z"
    }
   },
   "source": [
    "master = np.dstack((xy_topo, shear, trueflow, flowvel, Tparam))\n",
    "np.save(f'/Volumes/SAF_MSCWORK/Python/Stratigraphy/Data/nparrays/master/{nickname}_{idf}_{iloc}_master', master)"
   ]
  },
  {
   "cell_type": "markdown",
   "metadata": {
    "ExecuteTime": {
     "end_time": "2021-09-08T20:04:53.259072Z",
     "start_time": "2021-09-08T20:04:53.166983Z"
    }
   },
   "source": [
    "nbins = 1+3.122*math.log(len(xy_topo), 10)\n",
    "nbins = np.round(nbins, 0)\n",
    "print(nbins)\n",
    "\n",
    "tpoh, tpob = np.histogram(xy_topo.ravel(), range = (np.nanmin(xy_topo), np.nanmax(xy_topo)), bins=int(nbins))\n",
    "sheh, sheb = np.histogram(shear.ravel(), range = (np.nanmin(shear), np.nanmax(shear)), bins=int(nbins))\n",
    "deph, depb = np.histogram(trueflow.ravel(), range = (np.nanmin(trueflow), np.nanmax(trueflow)), bins=int(nbins))\n",
    "velh, velb = np.histogram(flowvel.ravel(), range = (np.nanmin(flowvel), np.nanmax(flowvel)), bins=int(nbins))\n",
    "\n",
    "variablist = [tpoh, tpob, sheh, sheb, deph, depb, velh, velb]\n",
    "masterh = np.dstack((tpoh, sheh, deph, velh))\n",
    "masterb = np.dstack((tpob, sheb, depb, velb))\n",
    "np.save(f'/Volumes/SAF_MSCWORK/Python/Stratigraphy/Data/nparrays/masterhist/{nickname}_{idf}-h/h_{nickname}_{iloc}', masterh)\n",
    "np.save(f'/Volumes/SAF_MSCWORK/Python/Stratigraphy/Data/nparrays/masterbins/{nickname}_{idf}-b/b_{nickname}_{iloc}', masterb)"
   ]
  },
  {
   "cell_type": "markdown",
   "metadata": {
    "id": "BBvBWUob4uVV"
   },
   "source": [
    "## four subplots only (elev, depth, shear, velocity)"
   ]
  },
  {
   "cell_type": "code",
   "execution_count": 44,
   "metadata": {
    "ExecuteTime": {
     "end_time": "2021-09-23T15:06:25.296404Z",
     "start_time": "2021-09-23T15:06:19.311812Z"
    },
    "tags": []
   },
   "outputs": [
    {
     "data": {
      "image/png": "[encoded data removed]",
      "text/plain": [
       "<Figure size 500x300 with 8 Axes>"
      ]
     },
     "metadata": {
      "needs_background": "light"
     },
     "output_type": "display_data"
    }
   ],
   "source": [
    "\n",
    "cmap_vvfac = ListedColormap(['xkcd:mud brown', 'xkcd:shit', 'xkcd:dark tan', 'xkcd:sand', 'xkcd:stone'])\n",
    "mmprange = [0.01, 0.025, 0.17, 0.35, 1.5, 10] ## LP, R, D, D-UP, UP\n",
    "norm_vvfac = BoundaryNorm(mmprange, cmap_vvfac.N)\n",
    "\n",
    "fig, (ax1, ax2, ax3, ax4) = plt.subplots(4, 1, sharex=True, sharey=True, squeeze = True, tight_layout=True, figsize=(5, 3), dpi = 100)\n",
    "fig.subplots_adjust(hspace=.05)\n",
    "\n",
    "#for y, t in zip(ydat_int,tim_int):\n",
    "#    stratig = ax1.plot(xdat_int,y,color=cpick.to_rgba(t), lw = 3, alpha = 1)\n",
    "\n",
    "#fig.colorbar(cpick,label=\"Time\", ax=ax1)\n",
    "\n",
    "for strata in range (0, end_t):\n",
    "    \n",
    "    ax1.set_xlim((posnew.min(), posnew.max())) #braided test\n",
    "    #ax1.set_xlim((4000, 5000))\n",
    "    #ax1.set_ylim((-2.5, 2.5))\n",
    "    ax1.set_ylim(np.nanmin(xy_topo), np.nanmax(xy_topo)) #braided test\n",
    "\n",
    "    ########### PULL THE DATA OUT FOR EACH TIMESTEP\n",
    "    \n",
    "    elevint = xy_topo[strata]\n",
    "    shearstressint = shear[strata]\n",
    "    depthint = scaleflow[strata]\n",
    "    actualdepth = trueflow[strata]*flowvel[strata] #we do not want scaled flow depth for the facies\n",
    "    cellularQ = trueflow[strata]*flowvel[strata] \n",
    "    #froudenumint = froudecub[strata]\n",
    "    #slopeint = gradcub[strata]\n",
    "    #froudenum[0] = is.nan\n",
    "    velint = flowvel[strata]\n",
    "    vvfacies = mmp[strata] #van den berg and van gelder\n",
    " \n",
    "    pointsint = np.array([posnew, elevint]).T.reshape(-1, 1, 2)\n",
    "    segmentsint = np.concatenate([pointsint[:-1], pointsint[1:]], axis=1)\n",
    "\n",
    "    ########### SET UP THE NORMALISATION\n",
    "\n",
    "    sheargradint = plt.Normalize(np.nanmin(shear), np.nanmax(shear)) #bed shear based on skin friction for anti dunes = 4.410)\n",
    "    cellQint = plt.Normalize(np.nanmin(cellularQ), np.nanmax(cellularQ))\n",
    "    depth_quant = plt.Normalize(np.nanmin(depthint), np.nanquantile(trueflow, 0.95))\n",
    "    velogradint = plt.Normalize(np.nanmin(velint), np.nanmax(velint)) ##gradient plot for flow velocity\n",
    "    acdepth = plt.Normalize(np.nanmin(actualdepth), np.nanmax(actualdepth)) #normalistion with the aactual flow depth\n",
    "    shear_quant = plt.Normalize(np.nanmin(shear), np.nanquantile(shear, 0.99)) #normalising ot shear stress max 99th ptile bc 10 is too high\n",
    "    #transport = plt.Normalize(np.nanmin(transportstage), np.nanmax(transportstage)) ##gradient plot for flow velocity\n",
    "    \n",
    "  \n",
    "\n",
    "  ########### MAKE THE LINE COLLECTIONS ###########\n",
    "    \n",
    "    #-------- SHEAR STRESS\n",
    "    gradlcint = LineCollection(segmentsint, cmap=plt.get_cmap(ss_facies_r), norm=shear_quant)\n",
    "    #gradlcint = LineCollection(segmentsint, cmap=cmap, norm=normbd)\n",
    "    \n",
    "    gradlcint.set_array(shearstressint)\n",
    "    gradlcint.set_linewidth(1.5)\n",
    "    gradlineint = ax3.add_collection(gradlcint)\n",
    "\n",
    "    #-------- SCALED FLOW DEPTH\n",
    "    #depthlcint = LineCollection(segmentsint, cmap=plt.get_cmap(depths), norm=depth_quant)\n",
    "    #depthlcint.set_array(actualdepth)\n",
    "    #depthlcint.set_linewidth(3)\n",
    "    \n",
    "    #depthlineint = ax2.add_collection(depthlcint)\n",
    "    \n",
    "    cellularQint = LineCollection(segmentsint, cmap=plt.get_cmap(depths), norm=cellQint)\n",
    "    cellularQint.set_array(cellularQ)\n",
    "    cellularQint.set_linewidth(1.5)\n",
    "    \n",
    "    cellularQline = ax2.add_collection(cellularQint)\n",
    "   \n",
    "    #-------- DOUBLE PLOT OF VELOCITY/FLOW DEPTH AND SHEAR STRESS\n",
    "#    vel_mix = LineCollection(segmentsint, cmap=get_continuous_cmap(redyellow), norm=velogradint)\n",
    "    vel_mix = LineCollection(segmentsint, cmap='Reds', norm=velogradint)\n",
    "    vel_mix.set_array(velint)\n",
    "    vel_mix.set_linewidth(1.5)\n",
    "    \n",
    "#    shear_mix = LineCollection(segmentsint, cmap=get_continuous_cmap(yellowblue), norm=shear_quant)\n",
    "#     shear_mix = LineCollection(segmentsint, cmap='Blues', norm=shear_quant)\n",
    "#     shear_mix.set_array(shearstressint)\n",
    "#     shear_mix.set_alpha(0.7)\n",
    "    \n",
    "#     depth_mix = LineCollection(segmentsint, cmap=get_continuous_cmap(redyellow), norm=depth_quant)\n",
    "#     depth_mix.set_array(depthint)\n",
    "#     depth_mix.set_alpha(0.5)\n",
    "    \n",
    "#    shear_mix_line = ax1.add_collection(shear_mix)\n",
    "    #depth_mix_line = ax1.add_collection(depth_mix)\n",
    "    vel_mix_line = ax1.add_collection(vel_mix)\n",
    "    #-------- FROUDE NUMBER\n",
    "    #froudegradint = plt.Normalize(froudenumint.min(), froudenumint.max())\n",
    "    \n",
    "    #froudelcint = LineCollection(segmentsint, cmap=plt.get_cmap('seismic'), norm=froudegradint)\n",
    "    #froudelcint.set_array(froudenumint)\n",
    "    #froudelcint.set_linewidth(2.5)\n",
    "    \n",
    "    #froudelineint = ax4.add_collection(froudelcint)\n",
    "\n",
    "    #-------- VELOCITY    \n",
    "    \n",
    "    #velolcint = LineCollection(segmentsint, cmap = cmap_fac, norm = normbd)\n",
    "    #velolcint.set_array(velint)\n",
    "    #velolcint.set_linewidth(3)\n",
    "    \n",
    "    #-------- MOBILITY PARAMETER (FACIES)\n",
    "        \n",
    "    #transportlc = LineCollection(segmentsint, cmap = cmap_fac, norm = norm_fac)\n",
    "    #transportlc.set_array(transportstage)\n",
    "    #transportlc.set_linewidth(2)\n",
    "    #transportline = ax4.add_collection(transportlc)\n",
    "    \n",
    "    #-------- MOBILITY WITH MMP\n",
    "    vvfac = LineCollection(segmentsint, cmap = cmap_vvfac, norm = norm_vvfac)\n",
    "    vvfac.set_array(vvfacies)\n",
    "    vvfac.set_linewidth(1.5)\n",
    "    vvfac_line = ax4.add_collection(vvfac)\n",
    "    \n",
    "if variabd == 1:\n",
    "    ax1.plot(xy_topo[pref_idx], 'r--', lw = 3)\n",
    "    ax2.plot(xy_topo[pref_idx], 'r--', lw = 3)\n",
    "    ax3.plot(xy_topo[pref_idx], 'r--', lw = 3)\n",
    "    ax4.plot(xy_topo[pref_idx], 'r--', lw = 3)\n",
    "ax1.set_facecolor('xkcd:grey')\n",
    "ax2.set_facecolor('xkcd:grey')\n",
    "ax3.set_facecolor('xkcd:grey')\n",
    "ax4.set_facecolor('xkcd:midnight blue')\n",
    "\n",
    "ax4.set_xlabel('Cross stream distance, m')\n",
    "\n",
    "#ax1.set_ylabel('Bed Elevation, m')\n",
    "ax2.set_ylabel('Bed Elevation, m')\n",
    "#ax3.set_ylabel('Bed Elevation, m')\n",
    "#ax4.set_ylabel('Bed Elevation, m')\n",
    "\n",
    "ax1.set_aspect('10')\n",
    "ax2.set_aspect('10')\n",
    "ax3.set_aspect('10')\n",
    "ax4.set_aspect('10')\n",
    "\n",
    "#fig.colorbar(shear_mix_line, label = 'SS', ax=ax1)\n",
    "cbvel = fig.colorbar(vel_mix_line, label = 'Vel', ax=ax1, pad = 0.01, shrink=0.7)\n",
    "cbss = fig.colorbar(gradlineint, label = \"Shear Stress, N/m$^2$\", ax=ax3,pad = 0.01, shrink=0.7)\n",
    "cbq = fig.colorbar(cellularQline, ax=ax2, label = 'Cellular Discharge, m3/s', pad = 0.01, shrink=0.7)\n",
    "cbfac = fig.colorbar(vvfac_line, ax = ax4, label = 'Facies VV, 1993',  pad = 0.01, shrink=0.7)\n",
    "\n",
    "cblist = [cbvel, cbss, cbq, cbfac]\n",
    "for i in cblist:\n",
    "    i.ax.tick_params(labelsize=6) \n",
    "\n",
    "ax1.title.set_text(f'Cross Stream Stratigraphy at {xloc}m')\n",
    "ax3.title.set_text('Shear Stress, N/m$^2$')\n",
    "ax2.title.set_text('Discharge at each location/cell (after interpolation)')\n",
    "\n",
    "if d50 == 0.31e-3:\n",
    "    ax4.title.set_text('Facies from van den Berg and van Gelder (1993) \\n LSPB, R, D, D-UP, UP')\n",
    "elif d50 == 1e-3:\n",
    "    ax4.title.set_text('facies: RECALCULATE!')\n",
    "#ax4.title.set_text('facies: Ripples, Dunes, USPB, antidunes')\n",
    "#plt.savefig(savefilesto+'tripleplot/'+modelrun+'.png', dpi = 100, pad_inches = 0)\n",
    "#plt.close(fig)\n",
    "#print(depth.min(), depth.max())"
   ]
  },
  {
   "cell_type": "markdown",
   "metadata": {},
   "source": [
    "## Plotting the local slope"
   ]
  },
  {
   "cell_type": "code",
   "execution_count": 45,
   "metadata": {
    "ExecuteTime": {
     "end_time": "2021-09-23T15:06:25.302392Z",
     "start_time": "2021-09-23T15:06:25.298438Z"
    },
    "tags": []
   },
   "outputs": [],
   "source": [
    "def movinggrad(stratarray, posarray):\n",
    "    ## find the moving gradient of the surfaces at 1m intervals\n",
    "    ##stratarray = array with final stratigraphy, posarray = array with xposition in m\n",
    "    #create gradmatrix\n",
    "    \n",
    "    gradmatrix = np.zeros_like(stratarray)\n",
    "    angles = np.zeros_like(gradmatrix)\n",
    "\n",
    "    for t in range (0, stratarray.shape[0]): #for each timestep in the matrix\n",
    "        for x in range (0, stratarray.shape[1]-1): #for each x position, have to stop before 1 to work with array dims\n",
    "            gradmatrix[t, x] = abs(stratarray[t, x+1]-stratarray[t, x])/(posarray[x+1]-posarray[x])\n",
    "            angles[t, x] = np.degrees(np.arctan(gradmatrix[t,x]))\n",
    "            #print(gradmatrix[t, x], angles[t,x])\n",
    "    return gradmatrix, angles"
   ]
  },
  {
   "cell_type": "markdown",
   "metadata": {},
   "source": [
    "##### Take a look at the facies"
   ]
  },
  {
   "cell_type": "code",
   "execution_count": 46,
   "metadata": {
    "ExecuteTime": {
     "end_time": "2021-09-23T15:06:25.331675Z",
     "start_time": "2021-09-23T15:06:25.304088Z"
    },
    "tags": []
   },
   "outputs": [
    {
     "data": {
      "text/plain": [
       "Text(0, 0.5, 'Count')"
      ]
     },
     "execution_count": 46,
     "metadata": {},
     "output_type": "execute_result"
    },
    {
     "data": {
      "image/png": "[encoded data removed]",
      "text/plain": [
       "<Figure size 288x216 with 1 Axes>"
      ]
     },
     "metadata": {
      "needs_background": "light"
     },
     "output_type": "display_data"
    }
   ],
   "source": [
    "fig = plt.figure(figsize = (4, 3))\n",
    "colours = ['xkcd:mud brown', 'xkcd:dirt', 'xkcd:sandy brown', 'xkcd:beige', 'xkcd:stone']\n",
    "fachist, facbins, facpatch = plt.hist(mmp.ravel(), bins=mmprange, ec= 'k', density=True)\n",
    "for f in range (0, len(mmprange)-1):\n",
    "    facpatch[f].set_facecolor(colours[f])\n",
    "plt.xlim(0, 1.25)\n",
    "#plt.ylim(0, 30000)\n",
    "if d50 == 0.31e-3:\n",
    "    plt.title('facies: No Mvt, Ripples, \\n Dunes, Washed out dunes, UPB')\n",
    "elif d50 == 1e-3:\n",
    "    plt.title('facies: No Mvt, LSPB, \\n Dunes, Washed out dunes, UPB')\n",
    "plt.xlabel('Mobility parameter (facies)')\n",
    "plt.ylabel('Count')\n",
    "#plt.close(fig)"
   ]
  },
  {
   "cell_type": "code",
   "execution_count": 47,
   "metadata": {
    "ExecuteTime": {
     "end_time": "2021-09-23T15:06:25.382035Z",
     "start_time": "2021-09-23T15:06:25.333390Z"
    },
    "tags": []
   },
   "outputs": [
    {
     "name": "stderr",
     "output_type": "stream",
     "text": [
      "/var/folders/yg/89nlrh5x2xzgdlgr2bczm4_m0000gn/T/ipykernel_53040/3680266158.py:11: MatplotlibDeprecationWarning: normalize=None does not normalize if the sum is less than 1 but this behavior is deprecated since 3.3 until two minor releases later. After the deprecation period the default value will be normalize=True. To prevent normalization pass normalize=False \n",
      "  during=ax.pie(f_fac, radius=2-sz1, colors=colours, wedgeprops=dict(width=sz1, edgecolor='w', alpha=0.8))\n"
     ]
    },
    {
     "data": {
      "text/plain": [
       "<matplotlib.legend.Legend at 0x7fa098ca83d0>"
      ]
     },
     "execution_count": 47,
     "metadata": {},
     "output_type": "execute_result"
    },
    {
     "data": {
      "image/png": "[encoded data removed]",
      "text/plain": [
       "<Figure size 432x288 with 1 Axes>"
      ]
     },
     "metadata": {},
     "output_type": "display_data"
    }
   ],
   "source": [
    "fig, ax = plt.subplots()\n",
    "\n",
    "pf_fac, facbins = np.histogram(mmp[:pref_idx, :].ravel(), bins=mmprange)\n",
    "f_fac, facbins= np.histogram(mmp[pref_idx:post_idx, :].ravel(), bins=mmprange)\n",
    "end_fac, facbins= np.histogram(mmp[post_idx:, :].ravel(), bins=mmprange)\n",
    "all_fac, facbins= np.histogram(mmp[:, :].ravel(), bins=mmprange)\n",
    "sz1=0.3\n",
    "sz2=0.3\n",
    "allf=ax.pie(all_fac, radius=2+.4, colors=colours, wedgeprops=dict(width=0.2, edgecolor='k'))\n",
    "pre=ax.pie(pf_fac, radius=2, colors=colours, wedgeprops=dict(width=sz1, edgecolor='w', alpha=0.7))\n",
    "during=ax.pie(f_fac, radius=2-sz1, colors=colours, wedgeprops=dict(width=sz1, edgecolor='w', alpha=0.8))\n",
    "post=ax.pie(end_fac, radius=2-2*sz2, colors=colours, wedgeprops=dict(width=sz2, edgecolor='w', alpha=0.9))\n",
    "\n",
    "if d50 == 0.31e-3:\n",
    "    facies=['No Mvt', 'Ripples', 'Dunes', 'Washed out dunes', 'UPB']\n",
    "elif d50 == 1e-3:\n",
    "    facies=['No Mvt', 'LSPB', 'Dunes', 'Washed out dunes', 'UPB']\n",
    "\n",
    "ax.legend(facies,\n",
    "          title=f'{idf} Facies',\n",
    "          loc=\"center\",\n",
    "          bbox_to_anchor=(0.5, 0.5))#, 5, 1))\n",
    "\n",
    "#plt.savefig(savefilesto+'faciesdist/'+modelrun+'.png', dpi = 100)\n",
    "#plt.close(fig)"
   ]
  },
  {
   "cell_type": "markdown",
   "metadata": {},
   "source": [
    "## Make a gif of the strat infill and bar growth\n",
    "\n",
    "Inputs: axes limits, scaling limits for colourbar, fill by colour parameters?"
   ]
  },
  {
   "cell_type": "code",
   "execution_count": 48,
   "metadata": {
    "ExecuteTime": {
     "end_time": "2021-09-23T15:06:30.612414Z",
     "start_time": "2021-09-23T15:06:30.022638Z"
    },
    "scrolled": true
   },
   "outputs": [
    {
     "name": "stdout",
     "output_type": "stream",
     "text": [
      "Last timestep is 310\n"
     ]
    },
    {
     "data": {
      "image/png": "[encoded data removed]",
      "text/plain": [
       "<Figure size 720x144 with 2 Axes>"
      ]
     },
     "metadata": {
      "needs_background": "light"
     },
     "output_type": "display_data"
    }
   ],
   "source": [
    "plt.figure(figsize = (10,2))\n",
    "for i in range (0, end_t):\n",
    "    plt.plot(xy_topo[i], color = cpick.to_rgba(i))\n",
    "plt.colorbar(cpick,label=\"Time\")\n",
    "print(f'Last timestep is {end_t}')"
   ]
  },
  {
   "cell_type": "markdown",
   "metadata": {
    "id": "Y1ZfMljA4uVV"
   },
   "source": [
    "## Heat Maps"
   ]
  },
  {
   "cell_type": "markdown",
   "metadata": {
    "id": "HybvyFmA4uVW"
   },
   "source": [
    "Find the left and right edges of depositional packages, append depositional matrix to get co-ordintes of rectangles for wheeler diagram.\n",
    "\n",
    "In order for the logic statement to work to find the polygons, I created a border of nans around all ofthe arrays "
   ]
  },
  {
   "cell_type": "code",
   "execution_count": 49,
   "metadata": {
    "ExecuteTime": {
     "end_time": "2021-09-23T15:06:31.043692Z",
     "start_time": "2021-09-23T15:06:31.030291Z"
    },
    "executionInfo": {
     "elapsed": 22355,
     "status": "ok",
     "timestamp": 1616014284929,
     "user": {
      "displayName": "Safiya Alpheus",
      "photoUrl": "",
      "userId": "18049693271511077124"
     },
     "user_tz": 240
    },
    "hide_input": false,
    "id": "9qpeKsUe4uVW"
   },
   "outputs": [],
   "source": [
    "nan_border = np.empty([end_t, 1])\n",
    "nan_border.shape\n",
    "nan_border[:] = np.nan\n",
    "#topointerp_nb = np.concatenate((nan_border, strat, nan_border), axis = 1) #nb = nan border\n",
    "stratinterpcub_nb = np.concatenate((nan_border, xy_topo, nan_border), axis = 1)\n",
    "erosurf_nb = np.concatenate((nan_border, erosurf, nan_border), axis = 1)\n",
    "deposurf_nb = np.concatenate((nan_border, deposurf, nan_border), axis = 1)\n",
    "\n",
    "hiatalsurf_nb = np.concatenate((nan_border, hiatalsurf, nan_border), axis = 1)\n",
    "erohiatalsurf_nb = np.concatenate((nan_border, erohiatalsurf, nan_border), axis = 1)\n",
    "posnew = np.arange(0, xy_topo.shape[1], dtype = float)\n",
    "posnew_nb = np.insert(posnew, [0], [np.nan])\n",
    "posnew_nb = np.insert(posnew_nb, -1, np.nan)"
   ]
  },
  {
   "cell_type": "code",
   "execution_count": 50,
   "metadata": {
    "ExecuteTime": {
     "end_time": "2021-09-23T15:06:31.054670Z",
     "start_time": "2021-09-23T15:06:31.046057Z"
    },
    "colab": {
     "base_uri": "https://localhost:8080/"
    },
    "executionInfo": {
     "elapsed": 21454,
     "status": "ok",
     "timestamp": 1616014284930,
     "user": {
      "displayName": "Safiya Alpheus",
      "photoUrl": "",
      "userId": "18049693271511077124"
     },
     "user_tz": 240
    },
    "id": "RZAbghNT4uVW",
    "outputId": "2ebfd749-1dc0-47b4-c1bd-8e3252476f33",
    "scrolled": true
   },
   "outputs": [
    {
     "name": "stdout",
     "output_type": "stream",
     "text": [
      "(434,)\n"
     ]
    }
   ],
   "source": [
    "#was trying tosee if you can plot the topo at the same time of the erosion surffaces only, but the that ends up plotting all the topo\n",
    "time_erohiat = np.empty_like(ages_ero) #will store only the ages of the erosional and hiatal surfaces\n",
    "time_erohiat[:] = np.nan\n",
    "\n",
    "EHindex = np.where(stratcondition != 0) #find and remove locations of deposition\n",
    "\n",
    "time_erohiat[EHindex] = ages_ero[EHindex] #add ages to locations of erosion and hiatuses only\n",
    "\n",
    "boundary_time_notnan = time_erohiat[~np.isnan(time_erohiat)]\n",
    "\n",
    "boundary_time = np.unique(boundary_time_notnan)\n",
    "\n",
    "print(boundary_time.shape)\n",
    "boundary_time = np.sort(boundary_time)\n",
    "\n",
    "#for time in boundary_time:\n",
    "#    plt.plot(posnew, stratinterpcub[int(time)])"
   ]
  },
  {
   "cell_type": "code",
   "execution_count": 51,
   "metadata": {
    "ExecuteTime": {
     "end_time": "2021-09-23T15:06:31.061467Z",
     "start_time": "2021-09-23T15:06:31.057137Z"
    },
    "colab": {
     "base_uri": "https://localhost:8080/"
    },
    "executionInfo": {
     "elapsed": 20647,
     "status": "ok",
     "timestamp": 1616014284930,
     "user": {
      "displayName": "Safiya Alpheus",
      "photoUrl": "",
      "userId": "18049693271511077124"
     },
     "user_tz": 240
    },
    "hide_input": true,
    "id": "mvNhdKbP4uVW",
    "outputId": "a38b4552-f33a-458b-bfe4-e67d133ded23"
   },
   "outputs": [],
   "source": [
    "depcontrol = deposurf_nb.copy()\n",
    "depcontrol[~np.isnan(depcontrol)] = 1\n",
    "erocontrol = erosurf_nb.copy()\n",
    "erocontrol[~np.isnan(erocontrol)] = 1\n",
    "#erocontrol[~np.isnan()]"
   ]
  },
  {
   "cell_type": "markdown",
   "metadata": {
    "id": "6T9o0MNF4uVW"
   },
   "source": [
    "## Wheeler Diagram"
   ]
  },
  {
   "cell_type": "code",
   "execution_count": 52,
   "metadata": {
    "ExecuteTime": {
     "end_time": "2021-09-23T15:06:32.348840Z",
     "start_time": "2021-09-23T15:06:31.063657Z"
    },
    "executionInfo": {
     "elapsed": 19927,
     "status": "ok",
     "timestamp": 1616014285876,
     "user": {
      "displayName": "Safiya Alpheus",
      "photoUrl": "",
      "userId": "18049693271511077124"
     },
     "user_tz": 240
    },
    "id": "UpFIbSho4uVW"
   },
   "outputs": [],
   "source": [
    "#print(len(posnew_nb))\n",
    "l_edges = np.empty([1,]) #left edge distance measure of the wheeler fill\n",
    "l_index = np.empty([1,]) #index value of left edge\n",
    "r_edges = np.empty([1,]) #right edge of the wheeler fill\n",
    "r_index = np.empty([1,]) #index value of right edge\n",
    "dep_age = np.empty([1,]) #age of each deposit for the wheeler diagram\n",
    "for i in range (0,end_t):\n",
    "    #if ~np.isnan(deposurf[i, 0]):\n",
    "    #   rectangles[i, 0] = ages[i, 0] #if the left edge of the stratigraphy is a depositional surface\n",
    "\n",
    "    for xpos in range (0, len(posnew_nb)-1):\n",
    "        l_edge = np.all((np.isnan(deposurf_nb[i, xpos]) and ~np.isnan(deposurf_nb[i, xpos+1])))\n",
    "        r_edge = np.all((~np.isnan(deposurf_nb[i, xpos]) and np.isnan(deposurf_nb[i, xpos+1])))\n",
    "        \n",
    "        if l_edge == True:\n",
    "            l_edges = np.append(l_edges, [posnew_nb[xpos+1]], axis = 0)\n",
    "            l_index = np.append(l_index, [xpos+1], axis = 0)\n",
    "            #print(posnew_nb[xpos+1], 'potato')\n",
    "        if r_edge == True:\n",
    "            #print(xpos, 'tomato')\n",
    "            r_edges = np.append(r_edges, [posnew_nb[xpos-1]], axis = 0)\n",
    "            r_index = np.append(r_index, [xpos+1], axis = 0)\n",
    "            dep_age = np.append(dep_age, [i], axis = 0)\n",
    "        \n",
    "#print('L', l_edges)\n",
    "#print('R',r_edges)\n",
    "#print(dep_age)"
   ]
  },
  {
   "cell_type": "code",
   "execution_count": null,
   "metadata": {},
   "outputs": [],
   "source": [
    "##Now we concatenate the L and R and age arrays to form a database to plot the rectangles\n",
    "l_edges = np.reshape(l_edges, [len(l_edges), 1])\n",
    "r_edges = np.reshape(r_edges, [len(r_edges), 1])\n",
    "dep_age = np.reshape(dep_age, [len(dep_age), 1])\n",
    "\n",
    "rectangles = np.empty([len(l_edges), 5])\n",
    "rectangles[:, 0] = dep_age[:, 0]\n",
    "rectangles[:, 1] = l_edges[:, 0]\n",
    "rectangles[:, 2] = r_edges[:, 0]\n",
    "rectangles[:, 3] = rectangles[:, 2]-rectangles[:, 1]\n",
    "rectangles[:, 4] = 1\n",
    "#print(rectangles)\n",
    "\n",
    "fig, (ax1, ax2) = plt.subplots(1, 2, figsize = (15,3), gridspec_kw={'width_ratios': [1, 2]}, tight_layout =True)\n",
    "for i in range (1, len(rectangles)):\n",
    "    #rect = plt.Rectangle((rectangles[i,1], rectangles[i,0]), rectangles[i,3], rectangles[i,4], color=cpick.to_rgba(rectangles[i, 0]), ec = 'k', linewidth = 0.5)\n",
    "    ax1.add_patch(plt.Rectangle((rectangles[i,1], rectangles[i,0]), rectangles[i,3], rectangles[i,4], color=cpick.to_rgba(rectangles[i, 0]), ec = 'k', linewidth = 0.5))\n",
    "    \n",
    "for i in range(0, end_t):\n",
    "    ax1.plot(posnew_nb, i*erocontrol[i, :], 'r--', linewidth = 0.5)\n",
    "    ax1.plot(posnew, i*(hiatalsurf[i, :]/hiatalsurf[i, :]), 'g--', linewidth = 0.5)\n",
    "    #ax1.plot(posnew_nb, i*depcontrol[i, :], 'b.', linewidth = 0.5)\n",
    "\n",
    "for i in range (0, end_t-1):\n",
    "    ax2.fill_between(posnew, xy_topo[i+1], xy_topo[i], color=cpick.to_rgba(i), alpha = .7)\n",
    "    #polys = PolyCollection.get_clip_path(self)\n",
    "\n",
    "#Plot topo in black to find main surfaces    \n",
    "for i in range (0, end_t):\n",
    "    #ax1.plot(posnew, stratinterpcub[i], 'k', lw = '1', alpha = 0.1)\n",
    "    ax2.plot(posnew, erosurf[i], 'r', lw='1.5', alpha = 1)\n",
    "    ax2.plot(posnew, hiatalsurf[i], 'c', lw='1.5', alpha = 1)\n",
    "    ax2.plot(posnew, deposurf[i], 'w', lw='0.5', alpha = 0.7)\n",
    "\n",
    "    \n",
    "ax1.axhline(fldstart, c='k', ls = '--')\n",
    "ax1.axhline(fldstart+fldlength/interval_to_plot, c='k', ls = '--')\n",
    "\n",
    "ax2.plot(posnew, erosurf[end_t-1], 'r', lw='1.5', alpha = 1)\n",
    "ax2.plot(posnew, deposurf[end_t-1], 'b', lw='0.5', alpha = 0.7)\n",
    "ax2.plot(posnew, hiatalsurf[end_t-1], 'y', lw='1.5', alpha = 1)\n",
    "ax2.set_facecolor('k')\n",
    "plt.xlim(0, posnew.max())\n",
    "#plt.ylim(0, num_timesteps)\n",
    "fig.colorbar(cpick,label=\"Time\", ax=ax2, pad = 0.05)\n",
    "#plt.savefig(savefilesto+'wheeler/'+modelrun+'.png', dpi = 100)\n",
    "#plt.close(fig)"
   ]
  },
  {
   "cell_type": "code",
   "execution_count": 54,
   "metadata": {
    "ExecuteTime": {
     "end_time": "2021-09-23T15:06:41.743395Z",
     "start_time": "2021-09-23T15:06:41.735531Z"
    },
    "executionInfo": {
     "elapsed": 22494,
     "status": "ok",
     "timestamp": 1616014291102,
     "user": {
      "displayName": "Safiya Alpheus",
      "photoUrl": "",
      "userId": "18049693271511077124"
     },
     "user_tz": 240
    },
    "id": "WB5AiJLw4uVX"
   },
   "outputs": [],
   "source": [
    "SIC_startcrop = copy.deepcopy(xy_topo)\n",
    "SIC_startcrop = np.concatenate((nan_border, SIC_startcrop, nan_border), axis = 1)\n",
    "\n",
    "SIC_startcrop = np.delete(SIC_startcrop, 0, axis = 0)\n",
    "SIC_startcrop.shape\n",
    "\n",
    "SIC_endcrop = copy.deepcopy(xy_topo)\n",
    "SIC_endcrop = np.concatenate((nan_border, SIC_endcrop, nan_border), axis = 1)\n",
    "\n",
    "SIC_endcrop = np.delete(SIC_endcrop, -1, axis=0)\n",
    "SIC_endcrop.shape\n",
    "\n",
    "delta = SIC_startcrop-SIC_endcrop\n",
    "\n",
    "delta[np.where(delta[:]==0)] = np.nan\n"
   ]
  },
  {
   "cell_type": "markdown",
   "metadata": {
    "id": "mOj_KouR4uVX"
   },
   "source": [
    "## Create the left and right vertices of each polygon"
   ]
  },
  {
   "cell_type": "code",
   "execution_count": 86,
   "metadata": {
    "ExecuteTime": {
     "end_time": "2021-09-23T15:06:42.969146Z",
     "start_time": "2021-09-23T15:06:41.746152Z"
    },
    "executionInfo": {
     "elapsed": 21924,
     "status": "ok",
     "timestamp": 1616014292041,
     "user": {
      "displayName": "Safiya Alpheus",
      "photoUrl": "",
      "userId": "18049693271511077124"
     },
     "user_tz": 240
    },
    "id": "LMZPq_uE4uVX"
   },
   "outputs": [],
   "source": [
    "\n",
    "#print(len(posnew_nb))\n",
    "#l_edges = np.empty([1,]) #left edge distance measure of the wheeler fill\n",
    "l_idx = np.empty([1,]) #index value of left edge\n",
    "#r_edges = np.empty([1,]) #right edge of the wheeler fill\n",
    "r_idx = np.empty([1,]) #index value of right edge\n",
    "surf_age = np.empty([1,]) #age of each deposit for the wheeler diagram\n",
    "for i in range (0, len(delta)):\n",
    "    #if ~np.isnan(deposurf[i, 0]):\n",
    "    #   rectangles[i, 0] = ages[i, 0] #if the left edge of the stratigraphy is a depositional surface\n",
    "\n",
    "    for xpos in range (0, len(posnew_nb)-1):\n",
    "        l_edge = np.all((np.isnan(delta[i, xpos]) and ~np.isnan(delta[i, xpos+1])))\n",
    "        r_edge = np.all((~np.isnan(delta[i, xpos]) and np.isnan(delta[i, xpos+1])))\n",
    "        #print(xpos, 'L', l_edge)\n",
    "        #print(xpos, 'R', r_edge)\n",
    "        if l_edge == True:\n",
    "            #l_edges = np.append(l_edges, [posnew_nb[xpos+1]], axis = 0)\n",
    "            l_idx = np.append(l_idx, [xpos], axis = 0)\n",
    "            #print(posnew_nb[xpos+1], 'potato')\n",
    "            surf_age = np.append(surf_age, [i], axis = 0)\n",
    "        if r_edge == True:\n",
    "            #print(xpos, 'tomato')\n",
    "            #r_edges = np.append(r_edges, [posnew_nb[xpos-1]], axis = 0)\n",
    "            r_idx = np.append(r_idx, [xpos], axis = 0)\n",
    "            \n",
    "#surf_age = np.append(surf_age, [i+1], axis = 0)\n",
    "#print('L', l_edges)\n",
    "#print('R',r_edges)\n",
    "#print(dep_age)"
   ]
  },
  {
   "cell_type": "markdown",
   "metadata": {
    "id": "NIsIGe2A4uVX"
   },
   "source": [
    "Store all those vertices in an array that houses the time of each polygon and the left and right edges of the poly"
   ]
  },
  {
   "cell_type": "code",
   "execution_count": 108,
   "metadata": {
    "ExecuteTime": {
     "end_time": "2021-09-23T15:06:42.977242Z",
     "start_time": "2021-09-23T15:06:42.971106Z"
    },
    "colab": {
     "base_uri": "https://localhost:8080/"
    },
    "executionInfo": {
     "elapsed": 20298,
     "status": "ok",
     "timestamp": 1616014292043,
     "user": {
      "displayName": "Safiya Alpheus",
      "photoUrl": "",
      "userId": "18049693271511077124"
     },
     "user_tz": 240
    },
    "id": "nREpL9ZZ4uVX",
    "outputId": "6c1202a1-646b-4246-d2c3-d3c2fb7d06c2"
   },
   "outputs": [
    {
     "name": "stdout",
     "output_type": "stream",
     "text": [
      "(334, 1) (334, 1) (334, 1)\n",
      "(334, 2)\n"
     ]
    }
   ],
   "source": [
    "l_idx = np.reshape(l_idx, [len(l_idx), 1])\n",
    "#l_index = np.delete(l_index, 1)\n",
    "\n",
    "l_idx = l_idx.astype(int)\n",
    "r_idx = np.reshape(r_idx, [len(r_idx), 1])\n",
    "#r_index = np.delete(r_index, 1)\n",
    "r_idx = r_idx.astype(int)\n",
    "\n",
    "#print(l_idx[:, 0], r_idx[:, 0])\n",
    "surf_age = np.reshape(surf_age, [len(surf_age), 1])\n",
    "\n",
    "print(l_idx.shape, r_idx.shape, surf_age.shape)\n",
    "\n",
    "vertices_b = surf_age\n",
    "vertices_b = np.append(vertices_b, l_idx, axis = 1)\n",
    "vertices_b = np.append(vertices_b, r_idx, axis = 1)\n",
    "\n",
    "#print(vertices)#, vertices.shape)\n",
    "\n",
    "\n",
    "cent_array = np.empty([len(vertices_b), 8])\n",
    "cent_array[:] = np.nan\n",
    "cent_mass = np.empty([len(vertices_b), 2]) ##store the centre of mass of the polygons\n",
    "print(cent_mass.shape)"
   ]
  },
  {
   "cell_type": "code",
   "execution_count": 109,
   "metadata": {},
   "outputs": [],
   "source": [
    "def cgravity(vertices):\n",
    "    ''' find the centre of gravity of a polygon given the veritces listed in a counter clickwise direction. formula from Paul Bourke'''\n",
    "    pgon = Polygon(vertices)\n",
    "    pgonarea = pgon.area\n",
    "    if pgonarea ==0:\n",
    "        cgravx = np.nan\n",
    "        cgravy = np.nan\n",
    "    else:\n",
    "        xy = np.empty([len(vertices)-1, 2])\n",
    "        for i in range (0, len(vertices)-1):\n",
    "            xy[i, 0] = (vertices[i, 0]+vertices[i+1, 0])*(vertices[i, 0]*vertices[i+1, 1]-(vertices[i+1, 0]*vertices[i, 1]))\n",
    "            xy[i, 1] = (vertices[i, 1]+vertices[i+1, 1])*(vertices[i, 0]*vertices[i+1, 1]-(vertices[i+1, 0]*vertices[i, 1]))\n",
    "        XY = np.sum(xy, axis = 0)\n",
    "        prefactor = 1/(6*pgonarea)\n",
    "        cgrav = (prefactor*(XY.T))\n",
    "        cgravx = cgrav[0]\n",
    "        cgravy = cgrav[1]\n",
    "    return cgravx, cgravy\n"
   ]
  },
  {
   "cell_type": "code",
   "execution_count": 110,
   "metadata": {
    "ExecuteTime": {
     "end_time": "2021-09-23T15:06:43.224206Z",
     "start_time": "2021-09-23T15:06:42.979319Z"
    },
    "executionInfo": {
     "elapsed": 19930,
     "status": "ok",
     "timestamp": 1616014292896,
     "user": {
      "displayName": "Safiya Alpheus",
      "photoUrl": "",
      "userId": "18049693271511077124"
     },
     "user_tz": 240
    },
    "id": "2uLNHbs64uVY"
   },
   "outputs": [],
   "source": [
    "## Plot the filled stratigraphy, create a polygon for each, find the centroid, store the centroid and its age\n",
    "testfig, ax1 = plt.subplots(1, 1, tight_layout=True, squeeze=True, figsize = (10,6))\n",
    "poly_data = {}\n",
    "for i in range (1, len(vertices_b)):\n",
    "    time = int(vertices_b[i, 0])\n",
    "    left = int(vertices_b[i, 1])\n",
    "    right = int(vertices_b[i, 2])\n",
    "\n",
    "    poly = ax1.fill_between(posnew[left:right], xy_topo[time, left:right], xy_topo[time+1, left:right], color=cpick.to_rgba(i))\n",
    "    pverts = poly.get_paths()[0].vertices\n",
    "    \n",
    "    cent_mass[i, 0], cent_mass[i, 1] = cgravity(pverts)\n",
    "    polygon = Polygon(pverts) #create a shapely polygon\n",
    "    #print(polygon)\n",
    "    poly_data[i] = polygon\n",
    "    area = polygon.area\n",
    "    bounds = polygon.bounds\n",
    "    #print(type(bounds[0]))\n",
    "    cent_array[i, 4] = bounds[0]\n",
    "    cent_array[i, 5] = bounds[1]\n",
    "    cent_array[i, 6] = bounds[2]\n",
    "    cent_array[i, 7] = bounds[3]\n",
    "    cent_array[i, 3] = area\n",
    "    ctroid = polygon.centroid\n",
    "    cent_array[i, 0] = time\n",
    "    cent_array[i, 1] = ctroid.x\n",
    "    cent_array[i, 2] = ctroid.y\n",
    "\n",
    "    \n",
    "    #ax1.plot(cent_array[i, 1], cent_array[i, 2], 'k*')\n",
    "#ax1.set_facecolor('xkcd:midnight blue')\n",
    "    \n",
    "\n",
    "ax1.set_xlim(posnew.min(), posnew.max())\n",
    "#ax1.set_ylim(xy_topo.min(), xy_topo.max())\n",
    "#print('12', poly_data[12])\n",
    "plt.close(testfig)\n",
    "#for i in range (0, num_timesteps-1):\n",
    "#   plt.plot(posnew, stratinterpcub[i, :], 'k')\n"
   ]
  },
  {
   "cell_type": "markdown",
   "metadata": {
    "id": "Zue7dBlL4uVZ"
   },
   "source": [
    "Centroids are being plotted in very tiny polygons so this is a bit of code to delete the centroids of the polygons with the 10th percentile smallest area\n"
   ]
  },
  {
   "cell_type": "code",
   "execution_count": 105,
   "metadata": {
    "ExecuteTime": {
     "end_time": "2021-09-23T15:06:43.429401Z",
     "start_time": "2021-09-23T15:06:43.385653Z"
    },
    "colab": {
     "base_uri": "https://localhost:8080/"
    },
    "executionInfo": {
     "elapsed": 15716,
     "status": "ok",
     "timestamp": 1616014298569,
     "user": {
      "displayName": "Safiya Alpheus",
      "photoUrl": "",
      "userId": "18049693271511077124"
     },
     "user_tz": 240
    },
    "id": "FKQhg2Wd4uVZ",
    "outputId": "7f74ebef-87e1-4637-9a99-36e5e0870cc9"
   },
   "outputs": [
    {
     "name": "stdout",
     "output_type": "stream",
     "text": [
      "1\n"
     ]
    }
   ],
   "source": [
    "fig, (ax1, ax2) = plt.subplots(1, 2, figsize = (10, 4))\n",
    "#too_small_area = (cent_array[np.where(abs(cent_array[:, 3])<0.000001)])\n",
    "#print(cent_array[:, 3])\n",
    "ax1.hist(cent_array[:, 3])\n",
    "#ptile10 = np.nanpercentile(cent_array[:, 3], 20)\n",
    "ptile10 = 1 ## setting an actual threshold bc some of these are still too small\n",
    "print(ptile10)\n",
    "ax1.axvline(ptile10, c = 'r')\n",
    "\n",
    "cent_wnan = copy.deepcopy(cent_array)\n",
    "deletewhere = np.where(cent_array[:, 3] < ptile10)\n",
    "cent_wnan[deletewhere] = np.nan\n",
    "\n",
    "cent_nonan = cent_wnan[~np.isnan(cent_wnan).any(axis = 1)] #delete all rows in cent_wnan matrix with nan values\n",
    "ax2.hist(cent_nonan[:, 0])\n",
    "ax1.set_title('Distribution of polygon areas woth 10thp', fontsize = 12)\n",
    "ax2.set_title('distribution of ages of polys with area > 10thp', fontsize = 12)\n",
    "textstr1 = str(len(cent_array))\n",
    "textstr2 = len(cent_nonan)\n",
    "ax1.set_xlabel('polygon area')\n",
    "ax2.set_xlabel('deposit age (10s of min)')\n",
    "ax1.text(2, 200, 'n='+str(len(cent_array)))\n",
    "ax2.text(25, 40, 'n='+str(len(cent_nonan)))\n",
    "plt.close(fig)"
   ]
  },
  {
   "cell_type": "code",
   "execution_count": 118,
   "metadata": {},
   "outputs": [
    {
     "data": {
      "text/plain": [
       "[<matplotlib.lines.Line2D at 0x7fa0443dc160>]"
      ]
     },
     "execution_count": 118,
     "metadata": {},
     "output_type": "execute_result"
    },
    {
     "data": {
      "image/png": "[encoded data removed]",
      "text/plain": [
       "<Figure size 504x144 with 2 Axes>"
      ]
     },
     "metadata": {
      "needs_background": "light"
     },
     "output_type": "display_data"
    }
   ],
   "source": [
    "fig, ax = plt.subplots(2, figsize = (7, 2), tight_layout = True)\n",
    "for i in range (0, end_t):\n",
    "    ax[0].plot(posnew, xy_topo[i], 'k', lw = 0.5)\n",
    "    ax[1].plot(posnew, xy_topo[i], 'k', lw = 0.5)\n",
    "ax[0].plot(cent_mass[1:, 0], cent_mass[1:, 1], '.', c = 'r')\n",
    "ax[0].plot(cent_nonan[:, 1], cent_nonan[:, 2], 'bx')\n"
   ]
  },
  {
   "cell_type": "code",
   "execution_count": null,
   "metadata": {
    "ExecuteTime": {
     "end_time": "2021-09-23T15:06:46.499506Z",
     "start_time": "2021-09-23T15:06:43.431140Z"
    },
    "colab": {
     "base_uri": "https://localhost:8080/",
     "height": 501
    },
    "executionInfo": {
     "elapsed": 19573,
     "status": "ok",
     "timestamp": 1616014303070,
     "user": {
      "displayName": "Safiya Alpheus",
      "photoUrl": "",
      "userId": "18049693271511077124"
     },
     "user_tz": 240
    },
    "id": "mYfnfebP4uVZ",
    "outputId": "c88b77d9-a562-4836-db34-e07dc89c827c",
    "scrolled": true
   },
   "outputs": [],
   "source": [
    "%matplotlib inline\n",
    "fig, ax = plt.subplots(1, tight_layout = True, figsize = (5, 2), dpi = 100)\n",
    "for i in range (0, end_t-1):\n",
    "    #ax.plot(posnew, stratinterpcub[i], cpick.to_rgba(i), lw = 0.5, alpha = 0.4)\n",
    "    ax.fill_between(posnew, xy_topo[i+1], xy_topo[i], color=cpick.to_rgba(i), alpha= 0.5, linewidth = 0.0)\n",
    "    #ax.plot(posnew, erohiatalsurf[i], 'r', lw = 1, alpha = 0.5)\n",
    "\n",
    "    #ax.plot(cent_array[i, 1], cent_array[i, 2], marker = '*', markerfacecolor = 'k', markeredgecolor = 'k', mew = .5,   ms = 4, alpha = 1)\n",
    "for i in range (0, end_t):#,5):\n",
    "    #ax.plot(posnew, stratinterpcub[i], color = 'xkcd:midnight blue',  ls = '--', lw = .8, alpha = .3)\n",
    "    #ax.plot(cent_wnan[i, 1], cent_array[i, 2], marker = '.', markerfacecolor = cpick.to_rgba(cent_array[i, 0]), markeredgecolor = 'k', mew = .1,   ms = 5, alpha = 1)\n",
    "    ax.plot(posnew, erohiatalsurf[i], 'k', lw = 1, alpha = .2)\n",
    "for i in range (1, len(vertices_b)):\n",
    "    ax.plot(cent_wnan[i, 1], cent_wnan[i, 2], marker = 'o', markerfacecolor = 'k', markeredgecolor = 'k', mew = .5,   ms = 5, alpha = 1)\n",
    "for i in range (1, len(cent_nonan)):\n",
    "    ax.plot(cent_nonan[i, 1], cent_nonan[i, 2], marker = 'o', color = cpick.to_rgba(cent_nonan[i, 0]), markeredgecolor = 'k', mew = .5,   ms = 5, alpha = 1)\n",
    "print(erohiatalsurf.shape)\n",
    "print(posnew.shape)\n",
    "ax.set_facecolor('xkcd:grey')\n",
    "fig.colorbar(cpick,label=\"Time, min\", ax=ax, shrink=0.25)\n",
    "#ax.set_xlim((200, 300))\n",
    "ax.set_xlim(posnew.min(), posnew.max())\n",
    "#ax.set_ylim(xy_topo.min(), xy_topo.max())\n",
    "ax.set_aspect('equal')\n",
    "ax.set_xlabel('Cross Stream Distance, m')\n",
    "ax.set_ylabel('Bed Elevation, m')\n",
    "#cpick.to_rgba(cent_wnan[i, 0]), marker color by time\n",
    "#ax.set_ylim(stratinterpcub.min(), stratinterpcub.max())\n",
    "plt.title(f'Stratigraphy at {iloc*10} km')\n",
    "#plt.savefig(savefilesto+'herofig/'+modelrun+'.png', dpi = 100)\n",
    "#plt.close(fig)"
   ]
  },
  {
   "cell_type": "markdown",
   "metadata": {
    "id": "OyP95Se54uVa"
   },
   "source": [
    "age, cent x (1), cent y (2), cent area (3), pol minx (4), pol miny (5), pol maxx (6), pol maxy (7), pol width (8), pol heigt (9), distance (10), reltime (11), delx (12), dely (13)"
   ]
  },
  {
   "cell_type": "markdown",
   "metadata": {
    "ExecuteTime": {
     "end_time": "2021-09-13T12:50:05.715499Z",
     "start_time": "2021-09-13T12:50:05.701781Z"
    }
   },
   "source": [
    "## calculate bearings of the centroids\n",
    "\n",
    "#calculate angle from north\n",
    "##first one might be wrong\n",
    "#bearings = np.degrees(np.arctan(cent_nonan[1:, 1]-cent_nonan[:-1, 1]/cent_nonan[1:, 2]-cent_nonan[:-1, 2])) \n",
    "bearings = np.rad2deg(np.arctan(cent_nonan[:, 1]/cent_nonan[:, 2]))\n",
    "#calculate trajectory\n",
    "trajectories = np.empty(len(cent_nonan)-1)\n",
    "for i in range (0, len(cent_nonan)-1):\n",
    "    trajectories[i] = np.rad2deg(angle_between([cent_nonan[i+1, 1], cent_nonan[i, 2]], [cent_nonan[i+1, 3], cent_nonan[i, 3]]))\n",
    "    \n"
   ]
  },
  {
   "cell_type": "code",
   "execution_count": null,
   "metadata": {
    "ExecuteTime": {
     "end_time": "2021-09-23T15:06:46.506116Z",
     "start_time": "2021-09-23T15:06:46.501523Z"
    },
    "tags": []
   },
   "outputs": [],
   "source": [
    "## using cos rule to calculate bearing angles instead\n",
    "## impose a limit on the y axis to create a y axis vector\n",
    "def dist_between(x1, y1, x2, y2):\n",
    "    d = np.sqrt((x1-x2)**2+(y1-y2)**2)\n",
    "    return d\n",
    "\n",
    "def angle_between(ax, ay, bx, by, ox = 0, oy = 0):\n",
    "    \n",
    "    '''find the angle between two vectors in centroid space, i.e. the trajectory'''\n",
    "\n",
    "    ##find the lengths of all the sides of the triangle\n",
    "    oa = dist_between(ox, oy, ax, ay)\n",
    "    ob = dist_between(ox, oy, bx, by)\n",
    "    ab = dist_between(ax, ay, bx, by)\n",
    "        \n",
    "    #use cosing rule to get the bearing\n",
    "    cos_theta = (oa**2+ob**2-ab**2)/(2*oa*ob)\n",
    "    bear = np.rad2deg(np.arccos(cos_theta))\n",
    "    #if bx < ax:\n",
    "    #    bear = 360-bear\n",
    "    return bear"
   ]
  },
  {
   "cell_type": "code",
   "execution_count": null,
   "metadata": {
    "ExecuteTime": {
     "end_time": "2021-09-23T15:06:46.512225Z",
     "start_time": "2021-09-23T15:06:46.507809Z"
    },
    "tags": []
   },
   "outputs": [],
   "source": [
    "def tan_bearing(ax, ay, bx, by):\n",
    "    ''' find the bearing using tan instead of the cos rule'''\n",
    "    dx = bx-ax\n",
    "    dz = by-ay\n",
    "    \n",
    "    \n",
    "    ## account for the differences in sngle based on the quadrant\n",
    "    # Q1\n",
    "    if np.logical_and(bx>ax, by>ay): \n",
    "        theta = np.rad2deg(np.arctan(dx/dz))\n",
    "    # Q4\n",
    "    elif np.logical_and(bx>ax, by<ay): \n",
    "        alpha = np.rad2deg(np.arctan(dz/dx))\n",
    "        theta = 90 + abs(np.rad2deg(np.arctan(alpha))) ## because alpha will be negative\n",
    "    # Q2\n",
    "    elif np.logical_and(bx<ax, by>ay): \n",
    "        alpha = np.rad2deg(np.arctan(dz/dx))\n",
    "        theta = 270 + abs(alpha) ## because alpha will be negative \n",
    "    # Q3\n",
    "    else: \n",
    "        alpha = np.rad2deg(np.arctan(dz/dx))\n",
    "        theta = 270- abs(alpha)\n",
    "\n",
    "    if theta > 360:\n",
    "        print(f'ERROR: ({ax, ay}, {bx, by})')\n",
    "    return theta"
   ]
  },
  {
   "cell_type": "code",
   "execution_count": null,
   "metadata": {
    "ExecuteTime": {
     "end_time": "2021-09-23T15:06:46.522108Z",
     "start_time": "2021-09-23T15:06:46.513997Z"
    },
    "scrolled": true
   },
   "outputs": [],
   "source": [
    "bearings_usingtan = np.empty(len(cent_nonan)-1)\n",
    "for i in range (0, len(cent_nonan)-1):\n",
    "    bearings_usingtan[i] = tan_bearing(cent_nonan[i, 1], cent_nonan[i, 2],\n",
    "                                       cent_nonan[i+1, 1],cent_nonan[i+1, 2])\n",
    "#calculate the difference in trajectory between centroids\n",
    "ang_between = np.empty(len(cent_nonan)-1)\n",
    "for i in range(0, len(cent_nonan)-2):\n",
    "    #print('a',cent_nonan[i, 1:3])\n",
    "    #print('b', cent_nonan[i+1, 1:3])\n",
    "    ax, ay, bx, by = cent_nonan[i:i+2, 1:3].ravel()\n",
    "    #print(ax, ay, bx, by)\n",
    "    ang_between[i] = angle_between(ax, ay, bx, by)  "
   ]
  },
  {
   "cell_type": "code",
   "execution_count": null,
   "metadata": {},
   "outputs": [],
   "source": [
    "fig = plt.figure(tight_layout=True, figsize = (15, 3))\n",
    "ax1 = fig.add_subplot(121)\n",
    "ax1.plot(np.arange(0, len(bearings_usingtan)), bearings_usingtan, 'ro')\n",
    "ax1.plot(np.arange(0, len(ang_between)), ang_between, '.')\n",
    "ax2 = fig.add_subplot(122)\n",
    "for i in range(0, end_t):\n",
    "    ax2.plot(xy_topo[i])\n",
    "for j in range (0, len(cent_nonan)):\n",
    "    ax2.plot(cent_nonan[j, 1], cent_nonan[j, 2], 'o')\n",
    "ax2.plot(cent_nonan[:, 1], cent_nonan[:, 2], lw=0.5, ls = '--')\n",
    "ax2.set_aspect(10)"
   ]
  },
  {
   "cell_type": "markdown",
   "metadata": {},
   "source": [
    "Note to future self, all of these calculations are actually right, the stratigraphy is just bonkers\n",
    "--Nov 29 2021"
   ]
  },
  {
   "cell_type": "code",
   "execution_count": null,
   "metadata": {
    "ExecuteTime": {
     "end_time": "2021-09-23T15:06:49.815126Z",
     "start_time": "2021-09-23T15:06:47.231729Z"
    },
    "tags": []
   },
   "outputs": [],
   "source": [
    "fig, ax = plt.subplots(7, 5, figsize = (8,8))\n",
    "ax = ax.ravel()\n",
    "if len(cent_nonan) < 35: \n",
    "    for i in range (0, len(cent_nonan)-2):\n",
    "        ax[i].plot(cent_nonan[i, 1], cent_nonan[i, 2], 'r*', cent_nonan[i+1, 1], cent_nonan[i+1, 2], 'g*',)\n",
    "        ax[i].set_aspect('1')\n",
    "        ax[i].set_title(f'{np.round(bearings_usingtan[i], 2)}, ({np.round(cent_nonan[i, 1], 2)},{np.round(cent_nonan[i, 2], 2)}), ({np.round(cent_nonan[i+1, 1], 2)}, {np.round(cent_nonan[i+1, 2], 2)})')\n",
    "else:\n",
    "    randset = np.random.randint(0, len(cent_nonan)-1, 35)\n",
    "    for i, r in enumerate (randset):\n",
    "        ax[i].plot(cent_nonan[r, 1], cent_nonan[r, 2], 'r*', cent_nonan[r+1, 1], cent_nonan[r+1, 2], 'g*',)\n",
    "        ax[i].set_aspect('1')\n",
    "        ax[i].set_title(f'{np.round(bearings_usingtan[r], 2)}, ({np.round(cent_nonan[r, 1], 2)},{np.round(cent_nonan[r, 2], 2)}), ({np.round(cent_nonan[r+1, 1], 2)}, {np.round(cent_nonan[r+1, 2], 2)})')"
   ]
  },
  {
   "cell_type": "code",
   "execution_count": null,
   "metadata": {
    "ExecuteTime": {
     "end_time": "2021-09-23T15:06:49.823969Z",
     "start_time": "2021-09-23T15:06:49.816844Z"
    }
   },
   "outputs": [],
   "source": [
    "## calculate angles for the rose diagram ##all of these bearings are right (SA, 1/12/21)\n",
    "nbins = np.deg2rad(np.arange(0, 370, 10)) #10° bins\n",
    "rad_bearings = np.deg2rad(bearings_usingtan) #these are fine, exactly the same as the degree version, duh\n",
    "bearing_radii, bearing_edges = np.histogram(rad_bearings, bins = nbins, density=False)\n",
    "bearing_centres = bearing_edges[:-1]+0.5*(bearing_edges[1]-bearing_edges[0])\n",
    "print(bearing_radii)\n",
    "wedge_width = ((2*np.pi)/len(nbins))*np.ones(len(bearing_centres)) #10°, this is also fine. \n",
    "\n",
    "\n",
    "rad_ang_between = np.deg2rad(ang_between)\n",
    "ab_radii, ab_edges = np.histogram(rad_ang_between, bins = nbins, range= (0, 2*np.pi))\n",
    "ab_centres = ab_edges[:-1]+0.5*(ab_edges[1]-ab_edges[0])\n",
    "\n",
    "mean_bearing = np.average(bearings_usingtan)\n",
    "variance = abs(bearings_usingtan-mean_bearing)\n",
    "\n",
    "rad_variance = np.deg2rad(variance)\n",
    "var_radii, var_edges = np.histogram(rad_variance, bins = nbins, range= (0, 2*np.pi))\n",
    "var_centres = var_edges[:-1]+0.5*(var_edges[1]-var_edges[0])\n",
    "print(var_radii)"
   ]
  },
  {
   "cell_type": "code",
   "execution_count": null,
   "metadata": {
    "ExecuteTime": {
     "end_time": "2021-09-23T15:06:53.102983Z",
     "start_time": "2021-09-23T15:06:49.825977Z"
    }
   },
   "outputs": [],
   "source": [
    "## Plot the diagram\n",
    "fig = plt.figure(figsize=(10, 3))\n",
    "fig.subplots_adjust(wspace=.50)\n",
    "\n",
    "ax1 = fig.add_subplot(141, projection='polar')\n",
    "ax2 = fig.add_subplot(142, projection='polar')\n",
    "ax3 = fig.add_subplot(143)\n",
    "\n",
    "\n",
    "ax1.set_theta_zero_location('N')\n",
    "ax2.set_theta_zero_location('N')\n",
    "ax1.set_theta_direction(-1)\n",
    "ax2.set_theta_direction(-1)\n",
    "for i in range(0, end_t):\n",
    "    ax3.plot(posnew, xy_topo[i], color=cpick.to_rgba(i))\n",
    "for j in range(0, len(cent_nonan)):\n",
    "    ax3.plot(cent_nonan[j, 1], cent_nonan[j, 2], 'k*')\n",
    "\n",
    "\n",
    "ax1.bar(bearing_centres, bearing_radii, width = wedge_width, bottom=0)\n",
    "ax2.bar(var_centres, var_radii, width = wedge_width, bottom=0)\n",
    "\n",
    "fig.suptitle(f'{iloc}-{barID}');\n",
    "#plt.savefig(f'{savefilesto}bardims/rose/{nickname}-{iloc}-{barID}.png', dpi = 100)"
   ]
  },
  {
   "cell_type": "code",
   "execution_count": null,
   "metadata": {
    "ExecuteTime": {
     "end_time": "2021-09-23T15:06:53.109572Z",
     "start_time": "2021-09-23T15:06:53.104796Z"
    },
    "colab": {
     "base_uri": "https://localhost:8080/"
    },
    "executionInfo": {
     "elapsed": 18284,
     "status": "ok",
     "timestamp": 1616014303071,
     "user": {
      "displayName": "Safiya Alpheus",
      "photoUrl": "",
      "userId": "18049693271511077124"
     },
     "user_tz": 240
    },
    "id": "OMG_oPR44uVa",
    "outputId": "02589047-6f33-4825-ae36-cbb3c880550e"
   },
   "outputs": [],
   "source": [
    "print(cent_nonan[:5, 4])\n",
    "print(cent_nonan[:5, 6])\n",
    "poly_widths = cent_nonan[:, 6]-cent_nonan[:, 4]\n",
    "poly_widths = np.reshape(poly_widths, [len(poly_widths), 1])\n",
    "\n",
    "poly_heights = cent_nonan[:, 7]-cent_nonan[:, 5]\n",
    "poly_heights = np.reshape(poly_heights, [len(poly_heights), 1])\n",
    "#print(poly_widths.shape)\n",
    "\n",
    "cent_nonan = np.concatenate((cent_nonan, poly_widths, poly_heights), axis = 1)"
   ]
  },
  {
   "cell_type": "code",
   "execution_count": null,
   "metadata": {
    "ExecuteTime": {
     "end_time": "2021-09-23T15:06:53.115296Z",
     "start_time": "2021-09-23T15:06:53.111282Z"
    },
    "colab": {
     "base_uri": "https://localhost:8080/"
    },
    "executionInfo": {
     "elapsed": 17619,
     "status": "ok",
     "timestamp": 1616014303071,
     "user": {
      "displayName": "Safiya Alpheus",
      "photoUrl": "",
      "userId": "18049693271511077124"
     },
     "user_tz": 240
    },
    "id": "DOElZXe84uVa",
    "outputId": "3fd7a4e1-0c0f-4fac-c4f9-0b442a265149",
    "scrolled": true
   },
   "outputs": [],
   "source": [
    "range_x = position.max()-position.min()\n",
    "range_y = np.nanmax(xy_topo)-np.nanmin(xy_topo)\n",
    "print(range_x, range_y)"
   ]
  },
  {
   "cell_type": "code",
   "execution_count": null,
   "metadata": {
    "ExecuteTime": {
     "end_time": "2021-09-23T15:06:53.124124Z",
     "start_time": "2021-09-23T15:06:53.117126Z"
    },
    "executionInfo": {
     "elapsed": 16948,
     "status": "ok",
     "timestamp": 1616014303072,
     "user": {
      "displayName": "Safiya Alpheus",
      "photoUrl": "",
      "userId": "18049693271511077124"
     },
     "user_tz": 240
    },
    "id": "qNWfohLb4uVa"
   },
   "outputs": [],
   "source": [
    "dists = np.zeros([len(cent_nonan[:, 3]), 1])\n",
    "reltime = np.zeros([len(cent_nonan[:, 3]), 1]) #will store the elapsed time between two consecutive centroids\n",
    "delx = np.zeros([len(cent_nonan[:, 3]), 1])\n",
    "dely = np.zeros([len(cent_nonan[:, 3]), 1])\n",
    "\n",
    "for i in range (0, len(cent_nonan)-1):\n",
    "    dists[i, 0] = ((cent_nonan[i+1, 1]-cent_nonan[i, 1])**2+(cent_nonan[i+1, 2]-cent_nonan[i, 2])**2)**0.5\n",
    "    reltime[i,0] = cent_nonan[i+1, 0]-cent_nonan[i, 0]\n",
    "    delx[i, 0] = abs(cent_nonan[i+1, 1]-cent_nonan[i, 1])/range_x\n",
    "    dely[i, 0] = abs(cent_nonan[i+1, 2]-cent_nonan[i, 2])/range_y\n",
    "cent_nonan = np.concatenate((cent_nonan, dists, reltime, delx, dely), axis = 1)\n",
    "print(cent_nonan.shape)"
   ]
  },
  {
   "cell_type": "code",
   "execution_count": null,
   "metadata": {
    "ExecuteTime": {
     "end_time": "2021-09-23T15:06:53.128971Z",
     "start_time": "2021-09-23T15:06:53.126187Z"
    },
    "executionInfo": {
     "elapsed": 16318,
     "status": "ok",
     "timestamp": 1616014303073,
     "user": {
      "displayName": "Safiya Alpheus",
      "photoUrl": "",
      "userId": "18049693271511077124"
     },
     "user_tz": 240
    },
    "id": "V1ttV5zl4uVa"
   },
   "outputs": [],
   "source": [
    "\n",
    "\n",
    "delx = np.delete(delx, -1, axis=0)\n",
    "dely = np.delete(dely, -1, axis=0)"
   ]
  },
  {
   "cell_type": "markdown",
   "metadata": {},
   "source": [
    "## SAVE CENTROIDS"
   ]
  },
  {
   "cell_type": "markdown",
   "metadata": {},
   "source": [
    "age, cent x (1), cent y (2), cent area (3), pol minx (4), pol miny (5), pol maxx (6), pol maxy (7), pol width (8), pol heigt (9), distance (10), reltime (11), delx (12), dely (13)"
   ]
  },
  {
   "cell_type": "code",
   "execution_count": null,
   "metadata": {
    "ExecuteTime": {
     "end_time": "2021-09-23T15:06:53.134129Z",
     "start_time": "2021-09-23T15:06:53.131030Z"
    }
   },
   "outputs": [],
   "source": [
    "print(posnew.min(), posnew.max())"
   ]
  },
  {
   "cell_type": "code",
   "execution_count": null,
   "metadata": {
    "ExecuteTime": {
     "end_time": "2021-09-23T15:06:53.156141Z",
     "start_time": "2021-09-23T15:06:53.136274Z"
    }
   },
   "outputs": [],
   "source": [
    "fig=plt.figure()\n",
    "fullbar = plt.fill_between(posnew, xy_topo[0], xy_topo[-1])\n",
    "plt.close(fig)\n",
    "barverts = fullbar.get_paths()[0].vertices\n",
    "    \n",
    "bar_polygon = Polygon(barverts) \n",
    "\n",
    "bds = bar_polygon.bounds\n",
    "bar_area = bar_polygon.area\n",
    "left = bds[0]\n",
    "bottom = bds[1]\n",
    "right = bds[2]\n",
    "top = bds[3]\n",
    "#bar_height = abs(bottom-top)\n",
    "bar_height = abs(np.nanmin(xy_topo[-1])-np.nanmax(xy_topo[-1]))\n",
    "bar_width = right-left\n",
    "\n",
    "fd_bar_height = bar_height/bankfull\n",
    "fd_bar_width = bar_width/bankfull\n",
    "bar_w_to_h = bar_width/bar_height\n"
   ]
  },
  {
   "cell_type": "code",
   "execution_count": null,
   "metadata": {
    "ExecuteTime": {
     "end_time": "2021-09-23T15:06:53.287847Z",
     "start_time": "2021-09-23T15:06:53.158465Z"
    }
   },
   "outputs": [],
   "source": [
    "dist_btwn = np.empty(len(cent_nonan)-1)\n",
    "for i in range(0, len(cent_nonan)-2):\n",
    "    ax, ay, bx, by = cent_nonan[i:i+2, 1:3].ravel()\n",
    "    \n",
    "    dist_btwn[i] = dist_between(ax, ay, bx, by)\n",
    "dist_btwn = dist_btwn/bar_width\n",
    "xdist = np.empty(len(cent_nonan)-1)\n",
    "for i in range(0, len(cent_nonan)-2):\n",
    "    ax, bx = cent_nonan[i:i+2, 1].ravel()\n",
    "    \n",
    "    xdist[i] = abs(ax-bx)\n",
    "xdist = xdist/bar_width\n",
    "plt.hist(dist_btwn, **kwargs, range=(0, 1));\n",
    "plt.hist(xdist, bins=20, range=(0, 1), histtype = 'step');"
   ]
  },
  {
   "cell_type": "markdown",
   "metadata": {},
   "source": [
    "## Do some statistics on the bar"
   ]
  },
  {
   "cell_type": "code",
   "execution_count": null,
   "metadata": {
    "ExecuteTime": {
     "end_time": "2021-09-23T15:06:54.124508Z",
     "start_time": "2021-09-23T15:06:53.289619Z"
    }
   },
   "outputs": [],
   "source": [
    "packages_rel_to_bar_height = cent_nonan[:, 9]/bar_height\n",
    "prop_of_xs_is_bar = bar_area/xs_polygon.area \n",
    "bar_time = (en_time-st_time)*interval_to_plot #how long wad the bar around\n",
    "bar_time_rel_to_xs_time = bar_time/(datamaster.shape[2]*interval_to_plot) #how old is bar rel to channel\n",
    "age_dist_in_bar = ages_ero#/bar_time #how many ages represented in bar, scaled to the length of the bar deposition time\n",
    "\n",
    "print('Bar height rel to flow depth:', fd_bar_height)\n",
    "print('Bar width rel to flow depth: ', fd_bar_width)\n",
    "print('Bar w/h: ', bar_w_to_h)\n",
    "print(bankfull)\n",
    "print(f'Bar makes up {prop_of_xs_is_bar*100}% of the xs\\nBar around for {bar_time} hours, which is {bar_time_rel_to_xs_time*100}% of the total channel depo time\\nMode package height relative to bar height: {np.quantile(packages_rel_to_bar_height, 0.5)}', end='\\n')\n",
    "\n",
    "fig, ax = plt.subplots(1, 2, figsize = (10, 4), tight_layout = True)\n",
    "ax[0].hist(packages_rel_to_bar_height.ravel(), bins = 10, range=(0, 1),facecolor = 'k', edgecolor = 'k', alpha = .5);\n",
    "ax[1].hist(age_dist_in_bar.ravel(), bins = 20, facecolor = 'k', edgecolor = 'k', alpha = .5);\n",
    "#plt.savefig(f'{savefilesto}bardims/histos/{nickname}-{iloc}-{barID}.png', dpi = 100)"
   ]
  },
  {
   "cell_type": "code",
   "execution_count": null,
   "metadata": {
    "ExecuteTime": {
     "end_time": "2021-09-23T15:06:56.500518Z",
     "start_time": "2021-09-23T15:06:54.127836Z"
    }
   },
   "outputs": [],
   "source": [
    "input('just somgthing to stop')"
   ]
  },
  {
   "cell_type": "code",
   "execution_count": null,
   "metadata": {
    "ExecuteTime": {
     "end_time": "2021-09-23T15:06:56.509234Z",
     "start_time": "2021-09-23T15:06:56.503322Z"
    },
    "scrolled": true
   },
   "outputs": [],
   "source": [
    "   raise SystemExit(\"Stop right there!\")"
   ]
  },
  {
   "cell_type": "code",
   "execution_count": null,
   "metadata": {
    "ExecuteTime": {
     "end_time": "2021-09-23T15:06:56.521756Z",
     "start_time": "2021-09-23T15:05:51.280Z"
    }
   },
   "outputs": [],
   "source": [
    "#np.save(f'/Volumes/SAF_MSCWORK/Python/Stratigraphy/Data/nparrays/centroids/{arrayfolder}/c{iloc}', cent_nonan)"
   ]
  },
  {
   "cell_type": "code",
   "execution_count": null,
   "metadata": {
    "ExecuteTime": {
     "end_time": "2021-09-23T15:06:56.523661Z",
     "start_time": "2021-09-23T15:05:51.284Z"
    },
    "colab": {
     "base_uri": "https://localhost:8080/",
     "height": 702
    },
    "executionInfo": {
     "elapsed": 17703,
     "status": "ok",
     "timestamp": 1616014305233,
     "user": {
      "displayName": "Safiya Alpheus",
      "photoUrl": "",
      "userId": "18049693271511077124"
     },
     "user_tz": 240
    },
    "id": "mNMyGedg4uVa",
    "outputId": "762cbb5d-c0e2-4d53-fc43-c6a266631825"
   },
   "outputs": [],
   "source": [
    "nbins = 1+3.122*math.log(len(cent_nonan), 10)\n",
    "nbins = np.round(nbins, 10)\n",
    "\n",
    "fig, ax = plt.subplots(2,4, figsize = (20,10))\n",
    "\n",
    "## del ICD\n",
    "deldist = (delx**2+dely**2)**0.5\n",
    "ax[0,0].hist(deldist, **kwargs)\n",
    "ax[0,0].set_title('Normalised/ND ICD', fontsize = 12)\n",
    "ax[0,0].set_xlabel('ND Distance',  fontsize = 12)\n",
    "ax[0,0].set_ylim(0, 200)\n",
    "ax[0,0].set_xlim(0, 1)\n",
    "## del x\n",
    "ax[0,1].hist(cent_nonan[:, 12], **kwargs)\n",
    "ax[0,1].set_title('del x',  fontsize = 12)\n",
    "ax[0,1].set_xlabel('Fraction of cross stream distance',  fontsize = 12)\n",
    "ax[0,1].set_ylim(0, 200)\n",
    "## del y\n",
    "ax[0,2].hist(cent_nonan[:, 13],  **kwargs)\n",
    "ax[0,2].set_title('del y',  fontsize = 12)\n",
    "ax[0,2].set_xlabel('Fraction of total elevation',  fontsize = 12)\n",
    "ax[0,2].set_ylim(0, 200)\n",
    "## distance in terms of del x and del y\n",
    "#\n",
    "delxdely = delx/dely\n",
    "ax[0, 3].hist(delxdely,  **kwargs)\n",
    "ax[0, 3].set_title('ND W:H ratio',  fontsize = 12)\n",
    "ax[0, 3].set_xlabel('non-dimensionalised W:H ratio',  fontsize = 12)\n",
    "ax[0, 3].set_ylim(0, 200)\n",
    "## polygon widths\n",
    "ax[1,0].hist(cent_nonan[:, 8],  **kwargs)\n",
    "ax[1,0].set_title('Distribution of polygon widths', fontsize = 12)\n",
    "ax[1,0].set_xlabel('widths, m',  fontsize = 12)\n",
    "ax[1,0].set_ylim(0, 400)\n",
    "#polygon heights\n",
    "ax[1,1].hist(cent_nonan[:, 9], **kwargs)\n",
    "ax[1,1].set_title('Distribution of polygon heights', fontsize = 12)\n",
    "ax[1,1].set_xlabel('heights, m',  fontsize = 12)\n",
    "ax[1,1].set_ylim(0, 400)\n",
    "#polygon w:H ratio\n",
    "ax[1,2].hist(cent_nonan[:, 8]/cent_nonan[:, 9], **kwargs)\n",
    "ax[1,2].set_title('Distribution of W:H Ratios of polys', fontsize = 12)\n",
    "ax[1,2].set_xlabel('W:H Ratios of polys',  fontsize = 12)\n",
    "ax[1, 2].set_ylim(0, 400)\n",
    "## polygon areas\n",
    "ax[1, 3].hist(cent_nonan[:, 3], **kwargs)\n",
    "ax[1, 3].set_title('Distribution of polygon areas',  fontsize = 12)\n",
    "ax[1, 3].set_xlabel('area, $m^2$',  fontsize = 12)\n",
    "ax[1, 3].set_ylim(0, 400)\n",
    "\n",
    "ptiles = np.array([10, 25, 50, 75, 95])\n",
    "ptile_store = np.empty([8, len(ptiles)])\n",
    "\n",
    "indexlist = [cent_nonan[:, 10], cent_nonan[:, 12], cent_nonan[:, 13], delxdely, cent_nonan[:, 8], cent_nonan[:, 9], cent_nonan[:, 8]/cent_nonan[:, 9],cent_nonan[:, 3]]\n",
    "colours = ['r', 'b', 'g', 'c', 'm', 'y', 'k']\n",
    "ax = ax.ravel()\n",
    "\n",
    "for i in range(0, len(ax)):\n",
    "\n",
    "    ptile_store[i, :] = np.percentile(indexlist[i], ptiles)\n",
    "    for j in range (0, len(ptiles)):\n",
    "        ax[i].axvline(ptile_store[i, j], c = colours[j], ls = '--', label = str(ptiles[j])+'th = '+ str(round(ptile_store[i, j], 2))) \n",
    "        #ax[i].axvline(ptile_store[i, j], c = 'b', ls = '--', label = '25th = '+ str(round(icd_ptiles[1])))\n",
    "        #ax[i].axvline(ptile_store[i, j], c = 'g', ls = '--', label = '50th = '+ str(round(icd_ptiles[2])))\n",
    "    ax[i].legend()\n",
    "#icd_ptiles = np.percentile(cent_nonan[:, 10], [10, 25, 50])\n",
    "\n",
    "#print(icd_ptiles)\n",
    "#p10 = ax[0, 0].axvline(icd_ptiles[0], c = 'r', ls = '--', label = '10th = '+ str(round(icd_ptiles[0]))) \n",
    "#p25 = ax[0, 0].axvline(icd_ptiles[1], c = 'b', ls = '--', label = '25th = '+ str(round(icd_ptiles[1])))\n",
    "#p50 = ax[0, 0].axvline(icd_ptiles[2], c = 'g', ls = '--', label = '50th = '+ str(round(icd_ptiles[2])))\n",
    "\n",
    "\n",
    "icd_norm = cent_nonan[:, 10]/ptile_store[0, 0]\n",
    "\n",
    "#ax[1, 0].hist(icd_norm, bins = nbins)\n",
    "#ax[1,0].set_title('Normalised ICD',  fontsize = 12)\n",
    "#ax[0,0].text(20, 50, 'n='+str(len(cent_nonan)))\n",
    "\n",
    "\n",
    "\n",
    "fig.suptitle('I = '+str(iloc)+' n='+str(len(cent_nonan)))\n",
    "plt.savefig(savefilesto+'stats/'+modelrun+'.png', dpi = 100)"
   ]
  },
  {
   "cell_type": "code",
   "execution_count": null,
   "metadata": {
    "ExecuteTime": {
     "end_time": "2021-09-23T15:06:56.524875Z",
     "start_time": "2021-09-23T15:05:51.288Z"
    }
   },
   "outputs": [],
   "source": [
    "masterh.shape"
   ]
  },
  {
   "cell_type": "code",
   "execution_count": null,
   "metadata": {
    "ExecuteTime": {
     "end_time": "2021-09-23T15:06:56.526777Z",
     "start_time": "2021-09-23T15:05:51.291Z"
    },
    "colab": {
     "base_uri": "https://localhost:8080/",
     "height": 367
    },
    "executionInfo": {
     "elapsed": 15696,
     "status": "ok",
     "timestamp": 1616014310452,
     "user": {
      "displayName": "Safiya Alpheus",
      "photoUrl": "",
      "userId": "18049693271511077124"
     },
     "user_tz": 240
    },
    "id": "pHI7fhLX4uVb",
    "outputId": "529d3ae9-3afe-44ea-9b3e-fd1a2320c786"
   },
   "outputs": [],
   "source": [
    "cent_xage = copy.deepcopy(cent_nonan[:, :2]) #create an array with only the centroid age and the rounded x location\n",
    "cent_xage[:, 1] = np.round(cent_xage[:, 1], 0)\n",
    "\n",
    "gappiness = np.empty([int(position.max()), 2]) #matrix to store the gappiness measure of the data\n",
    "                                       #0-position (rounded) #1 = number of centroids at xpos\n",
    "    \n",
    "for i in range (0, int(position.max()), 1):\n",
    "    gappiness[i, 0] = i\n",
    "    gappiness[i, 1] = 100*len(np.where(cent_xage[:, 1]==i)[0])/end_t\n",
    "\n",
    "fig, ax = plt.subplots(1, figsize = (5, 5))\n",
    "distofages = ax.hist(gappiness[:, 1],  **kwargs)\n",
    "ax.set_title('Activity Metric--Distribution of number of centroids per core location')\n",
    "ax.set_xlabel('% time represented (# of centroids/number of timesteps)')\n",
    "#plt.savefig(savefilesto+'stats/'+modelrun+'activity.png', dpi = 100)"
   ]
  },
  {
   "cell_type": "markdown",
   "metadata": {},
   "source": [
    "## Load the reach width data"
   ]
  },
  {
   "cell_type": "code",
   "execution_count": null,
   "metadata": {
    "ExecuteTime": {
     "end_time": "2021-09-23T15:06:56.528273Z",
     "start_time": "2021-09-23T15:05:51.296Z"
    }
   },
   "outputs": [],
   "source": [
    "reach_raw = np.load(f'/Volumes/SAF_MSCWORK/Python/Stratigraphy/Data/chan-widths/CW-{datnam}')\n",
    "reach_raw = reach_raw[:, :, :num_timesteps]\n",
    "## create array to store the statiistics on the channel width for the full reach \n",
    "## This is a end_t x 3 array with min, max and mean reach width\n",
    "max_chw = reach_raw[:, 2].max(axis=0)\n",
    "min_chw = reach_raw[:, 2].min(axis=0)\n",
    "reach_raw = np.concatenate((reach_raw, np.empty([len(reach_raw), 1, end_t])), axis = 1)\n",
    "print(reach_raw.shape)\n",
    "for i in range (0, end_t-1):\n",
    "    reach_raw[:, 3, i] = (reach_raw[:, 2, i+1]-reach_raw[:, 2, i])/interval_to_plot #find and append reach data with widening rate, PER HOUR\n",
    "    "
   ]
  },
  {
   "cell_type": "code",
   "execution_count": null,
   "metadata": {
    "ExecuteTime": {
     "end_time": "2021-09-23T15:06:56.529674Z",
     "start_time": "2021-09-23T15:05:51.299Z"
    },
    "colab": {
     "base_uri": "https://localhost:8080/",
     "height": 523
    },
    "executionInfo": {
     "elapsed": 823,
     "status": "ok",
     "timestamp": 1616017566818,
     "user": {
      "displayName": "Safiya Alpheus",
      "photoUrl": "",
      "userId": "18049693271511077124"
     },
     "user_tz": 240
    },
    "id": "EcCMgmAD4uVX",
    "outputId": "53354ae9-86cb-4a24-b97d-c7fff41f23df"
   },
   "outputs": [],
   "source": [
    "widths = xposition.max(axis = 1)-xposition.min(axis = 1)\n",
    "times = np.arange(0, end_t*interval_to_plot, interval_to_plot)\n",
    "rate = np.empty([end_t, 3])\n",
    "rate[:] = np.nan\n",
    "\n",
    "floodzone = mpl.patches.Rectangle((fldstart, widths.min()), fldlength/interval_to_plot, max_chw.max()-min_chw.min(), color = 'xkcd:sea blue', alpha = 0.1, label = 'Flooding')\n",
    "\n",
    "\n",
    "for i in range(0, end_t-1):\n",
    "    rate[i, 0] = (widths[i]-widths[i+1])/(times[i]-times[i+1])\n",
    "    rate[i, 1] = reach_raw[:, 3, i].min()\n",
    "    rate[i, 2] = reach_raw[:, 3, i].max()\n",
    "    #print(rate[i])\n",
    "fig, ax = plt.subplots(figsize = (10, 6), tight_layout = True)\n",
    "ax.plot(times, widths, c = 'r', ls = '--', marker='.', mfc = 'r', mec = 'k', mew = 0, label = 'section width')\n",
    "\n",
    "\n",
    "ax.add_patch(floodzone)\n",
    "ax.axvline(fldstart, c = 'xkcd:sea blue', ls = '--')\n",
    "ax.axvline(fldstart+fldlength/interval_to_plot, c = 'xkcd:sea blue', ls = '--')\n",
    "ax.fill_between(times, min_chw, max_chw, color = 'xkcd:stone', alpha = 0.3, label = 'Min/Max of reach')\n",
    "ax2 = ax.twinx()\n",
    "ax2.plot(times, thickness.max(axis = 1)/times, c = 'xkcd:black', ls = '--', marker='.', mfc = 'k', mec = 'k', mew = 0.3, label = 'Max thickness')\n",
    "ax2.plot(times, thickness.min(axis = 1)/times, c = 'xkcd:steel grey', ls = '--', marker='.', mfc = 'xkcd:steel grey', mec = 'xkcd:steel grey', mew = 0, label = 'Min thickness')\n",
    "ax2.plot(times, np.mean(thickness, axis = 1)/times, c = 'xkcd:cerise', marker='.', mfc = 'xkcd:cerise', mec = 'k', mew = 0, label = 'Mean thickness')\n",
    "\n",
    "ax.set_ylim(min_chw.min(), max_chw.max())\n",
    "ax.set_xlim(0, end_t)\n",
    "ax.set_ylabel('Channel Width, m')\n",
    "ax.set_xlabel('Timestep')\n",
    "ax2.set_ylabel('Bed thickness, m')\n",
    "plt.title('The question is: Will these trends hold for variable discharge')\n",
    "ax.legend(loc = 'upper left')\n",
    "plt.legend(loc = 'best')\n",
    "#plt.savefig(savefilesto+'widths/'+modelrun+'.png', dpi = 100)"
   ]
  },
  {
   "cell_type": "code",
   "execution_count": null,
   "metadata": {
    "ExecuteTime": {
     "end_time": "2021-09-23T15:06:56.531060Z",
     "start_time": "2021-09-23T15:05:51.303Z"
    }
   },
   "outputs": [],
   "source": [
    "\n",
    "fig, ax = plt.subplots(1, figsize = (5, 2), tight_layout=True)\n",
    "ax.plot(times, rate[:, 0], 'r', ms = '5', mec = 'r', mfc = 'k', label = 'Section Widening Rate')\n",
    "ax.fill_between(times, rate[:, 1], rate[:, 2], color = 'xkcd:stone', alpha = 0.3, label = 'Min/Max of reach')\n",
    "ax.axvline(fldstart*interval_to_plot, c = 'xkcd:sea blue', ls = '--', alpha = 0.5)\n",
    "ax.axvline(fldstart*interval_to_plot+fldlength, c = 'xkcd:sea blue', ls = '--', alpha = 0.5)\n",
    "#ax.legend()\n",
    "ax.set_ylim(-20, 20)\n",
    "ax.set_title(f'Widening trends aong the reach compared to section at {iloc*cellL} m')\n",
    "ax.set_ylabel('Widening Rate, m/hr')\n",
    "ax.set_xlabel('Time, hr intervals')\n",
    "\n",
    "plt.savefig(savefilesto+'widths/rate'+modelrun+'.png', dpi = 100)"
   ]
  },
  {
   "cell_type": "code",
   "execution_count": null,
   "metadata": {
    "ExecuteTime": {
     "end_time": "2021-09-23T15:06:56.532671Z",
     "start_time": "2021-09-23T15:05:51.307Z"
    },
    "colab": {
     "base_uri": "https://localhost:8080/",
     "height": 282
    },
    "executionInfo": {
     "elapsed": 514,
     "status": "ok",
     "timestamp": 1616017593718,
     "user": {
      "displayName": "Safiya Alpheus",
      "photoUrl": "",
      "userId": "18049693271511077124"
     },
     "user_tz": 240
    },
    "id": "l1yP7VPDJ2x1",
    "outputId": "a68e4a4e-9a66-4c87-985f-30c471326b47",
    "scrolled": true
   },
   "outputs": [],
   "source": [
    "rate[~np.isnan(rate)].min()\n"
   ]
  },
  {
   "cell_type": "markdown",
   "metadata": {},
   "source": [
    "## Group centroids by age and location \n",
    "My version of an okayish nearest neighbour regression"
   ]
  },
  {
   "cell_type": "markdown",
   "metadata": {},
   "source": [
    "## EXTRACT MAIN BOUNDING SURFACES"
   ]
  },
  {
   "cell_type": "markdown",
   "metadata": {
    "id": "bNyoSDsk4uVb"
   },
   "source": [
    "### A overly wordy note on pervasive surfaces of erosion and non-depositon..."
   ]
  },
  {
   "cell_type": "markdown",
   "metadata": {
    "id": "ytEo3iLZ4uVb"
   },
   "source": [
    "22/01/2021\n",
    "\n",
    "(tl;dr) Skip to the 5th paragraph for the code logic, paragraphs 1-5 are sort of an amuse-bouche:\n",
    "\n",
    "Okay, I spent the last coupe of weeks tinkering with different methods of picking out the mot pervasive/prominent/erosiva/longest non-depositional surfaces in the stratigraphy and it feels immensely complicated. I've tried multiple methods that are equally shitty, but some have their own advantages. \n",
    "\n",
    "In an ideal case, I'd be able to lot out entire, through-going and complete surfaces at each timestep that repesent the major bounding surfaces in the stratigraphy after the end of the entire model run. I have, to this date, never seen this done in a paper. The closest to this was the extracion of surfaces of erosion in Wietse Van de Lageweg's dissertation (Chapter 5, also published in 2014ish, its a sedimentology paper i think). Being able to pull out these surfaces is important becuse they most likely represent the best (quality and quantity) resolution of the internal evolution of the channel belt that we may be able to capture in the feld, so naturally, we would want to compare the model stratigraphy at this similar scale. \n",
    "\n",
    "The problem I'm having is that I only have piecemal locations of erosion and non-deposition that do not make complete surfaces on the plots, ergo I cannot create polygons (read: bar packages) to get various statistics from the model stratigraphy. No statistics == No thesis == Stuck in State College forever (only a little bit melodramatic here, if you are reading this and you are not Safiya, I apologise, unless you find this rant amusing. I hope you do. Sorry for the digression, anyway back to extracting the most prominent bar packges from the model stratigraphy...). In an ideal case I would be able to (and sorry this is essentially a figure so I am thinking like a graphic artist/GIS person here) plot all the piecemal erosion and hiatal surfaces on a plot that is technically 3D (x-y-time) as I plotted it using a for loop then flatten the plot onto only the x-y dimension, then I would have essentially a polyline (I think, idk what a polyline is tbh, but essentially I'd have a complex shape made up of multiple polygons..maybe I'll have a muiltipolygon idk) which I could transfer to another software package (maybe Petrel, Arc, Photoshop, ImageJ or something) and extract the dimesions and attributeds of the polygons, get my statistics and graduate (or publish, who know's what future Saf will do). There are two problems with this approach:\n",
    "\n",
    "1. I do not know how to do that, and I worry that the exercise in figuring it out will literally take all of the power my two brain cells possess and take literally forever because I ain't no coder and have yet to find a comp scientist that can help with this problem in a *helpful* way. \n",
    "2. This mightn't even be beneficial because then we will have the same problem of assessing the universiality of image based statistical approaches to building statistics like this (re Ellen and Liz stick model avulsion problems with relating model space to field space) and all of my years of furious stack exchange searches will be a (comparative) waste\n",
    "    \n",
    "With this in mind, I am trying to adopt a vector-based, pseudo-statistical approach to figure put exactly which surfaces will statistically get preserved in outcrop (omfg I could literally write a paper on this but again I digress...). I've tried a couple ways to get this going in the cells that follow, using the array that stores the ages of all surfaces of the stratigraphy (ages_ero). This array accounts for resetting of the age of a deposit when it is eroded and also for when there is non-deposition (hiatus):\n",
    "\n",
    "<u>Approach 1: </u> Non-normalised, high-frequency surfaces\n",
    "In this method I plot the frequency of the ages of the aurfaces in the straitgraphy assuming that more pervasive and persistence surfaces will have higher frequencies. We want to then know what the distribution of frequencies looks like. Essentially we want the freuqncies that are the outliers, the things that are more frequent than anything else, these are, theoretially correspodent to erosion surfaces that rework the most stratigraphy or hiatal surfaces that receive no deposition for the longest time. When building the aes_ero matrix, these are the surfaces that get reset the most therefore should have an inordinately high frequency. I then create set of quantiles that we want (that in this case specify te degree of eworking/non-depositing at the surface), for this case I use the 75th, 80th, 85th and 90th. I plot the ages (read: timesteps) that correspond to those quantiles, and compare the resultant stratigraphy to that which is output when I plot the erohiatalsurfs only. This method is ok, however it doesn't cover some of the earlier surfaces since either (1) the 'area' that is available to be reworked at a time is much less than that available at a later time, say comparing erosion at timestep 25 having '25 x posnew' number of locations for erosion vs timestep 200 with '200 x posnew' locations to erode (assuming even deposition everyhere between those time maybe. I'm hoping you understand how this might be problematic. But somehow it kinda works, it seems like consistently, surfaces above the 85th ish percentile best for the erohistalsurf surfaces, which is interesting. \n",
    "\n",
    "<u>Approach 2: </u> Normalised, high-frequency surfaces\n",
    "This is the same method as Approach 1 except I normalise the Frequency of ages in the ages_ero matrix to the area available for erosion at each timestep. Theoretically this would give us a more representative distribution of the most erosive surfaces but so far it just skewes the histogram to the left (aggressively) and almost all of the surfaces become insignificant (excl the initial surface and the final one)\n",
    "\n",
    "<u>Approach 3: </u>Most continuous erosion surfaces\n",
    "Here I found the count of the number of points of erosion/non-deposition at each timestep with the hypothesis that the surfaces that were the most pervasive and persistent were the ones that resampled the most stratigrahy therefore the count of non-nan elements in the array should be highest in the important surfaces (again using quantiles). There are a couple problems with this but the most significant is that erosion surfaces are not always the same age  so when you sum the non-nan elements it's not entirely an accurate representation and it isqute unlikely that a surface across the entire cross section is an erosion surface, meaning that we get alo the bits of the surface that are depositonal and that does not help in further defining the packages. \n",
    "\n",
    "These all suk, but I think Approach 1 is the best so far, at 85th percentile. I have to find the right way to normalise for Approach 2 because theoretically it should be the most ideal method of the 3. \n",
    "\n",
    "## Update 25/01\n",
    "I think the 50th quantile (median) using te corrected version of approach 2 (v2, new UP 25/01) is the best at pulling out the erosion surfaces most accurately with the least 'extra' surfaces that make the resolution finer than what we seee in the field. \n",
    "\n",
    "## LOL JOKES 03/02\n",
    "The previous statement was only true for like one cross section. The EH count approach (approach 3) seems to be effective-est for now"
   ]
  },
  {
   "cell_type": "markdown",
   "metadata": {
    "id": "mbrZLMV84uVb"
   },
   "source": [
    "## EH Count method (rooted in approach 3)\n",
    "So far the method of finding the surfaces that reworked > x frac of surf is the best\n",
    "3 Feb 2021\n",
    "\n",
    "Here we find the number of points of erosion and hiatus on each surface (Erocount) then find the fraction of the surface that is reworked"
   ]
  },
  {
   "cell_type": "code",
   "execution_count": null,
   "metadata": {
    "ExecuteTime": {
     "end_time": "2021-09-23T15:06:56.534113Z",
     "start_time": "2021-09-23T15:05:51.315Z"
    },
    "colab": {
     "base_uri": "https://localhost:8080/",
     "height": 350
    },
    "executionInfo": {
     "elapsed": 13059,
     "status": "ok",
     "timestamp": 1616014310453,
     "user": {
      "displayName": "Safiya Alpheus",
      "photoUrl": "",
      "userId": "18049693271511077124"
     },
     "user_tz": 240
    },
    "id": "izmy8LU44uVb",
    "outputId": "205042f8-5915-4c44-f42e-55881f793a9d"
   },
   "outputs": [],
   "source": [
    "erocount = np.empty([end_t, 3]) #holding the count of non-nan elements to identiy major erosion/hiatal surfs\n",
    "\n",
    "for row in range (0, end_t):\n",
    "    length = int(np.floor(xposition[row, -1]-xposition[row, 0])) #length of the section at time, t\n",
    "    \n",
    "    erocount[row, 0] = row #timestep value\n",
    "    endpos = int(xposition[row].max())\n",
    "    startpos = int(xposition[row].min())\n",
    "    #print(endpos)\n",
    "    erocount[row, 1] = np.count_nonzero(~np.isnan(erohiatalsurf[row, startpos:endpos])) #count number of EH surfs\n",
    "    erocount[row, 2] = erocount[row, 1]/length #fraction of surf EH reworked\n",
    "    #print(row, length, erocount[row, 1],length-erocount[row, 1])\n",
    "    #print(erocount.shape)\n",
    "\n",
    "plt.hist(erocount[:, 2], bins = 10)"
   ]
  },
  {
   "cell_type": "markdown",
   "metadata": {
    "hide_input": false,
    "id": "ynlm3gMC4uVb"
   },
   "source": [
    "## Another Friday, another ramble about percentiles:\n",
    "\n",
    "So, right now I'm using (today is Feb 5th 2021 btw) a 'propoerion of bed surface reworked' type approach to find the main erosional and hiatal surfaces in the stratigraphy. The fundamental tenet here is that the most 'boundy' bounding surfaces will be he surfaces that have had the longest times of non-deposition or the most erosion, ie. I'm assuming that the stratigraphy is made up of deposition along the most active reworking surfaces. \n",
    "\n",
    "Do the method I employ to do this is to find the sum of locations across the section, at each timestep, that undergo hiatal or erosion events and represent that as the fraction of the bed that is reworked. Then, I find, from the distribution of these fractions, the nth percentile, my threshold for what is major vs minor. To check to find which percentile is the 'best' percentile, I have a nifty little loop that basically tests the stratigraphy/main surfaces output at each percentile against the true erohiatalsurf array for similarity. \n",
    "\n",
    "My rule for similarity is as follows: *the percentiles that produce the best stratigraphy will be the percentiles where (1) as many unique elevation points are incorporated into the bounding surface array as possible and (2) as little true erosion data are deleted*. This 2nd rule requires then, that the number of elements in the bounding surface array cannot be less than the number of elements in the erohiatal array, which is why, as you'll see, the percentile value is so low-I'm leaving in a lot of extra stratigraphy to make sure that this statistical stratigraphy I develop is as faithful to the actual erohiatal data as possible. \n",
    "\n",
    "As you'll see, we end up with a lot of extra surfaces that are likely unresolveable in the field, much like the hiatal situation. I think it's fair to say that for a 100m wide outcrop, we will not be able to resolve bars/mar kinematics that are less than ~2cm thickness, so I removed any surface that aggrades by less than that, kind of like how those folks remove surfaces for dunes...maybe ths is something worth checking out. I think the Van Rijn literature cites that the scaling/removal relationship for sub-bar scale topography is 0.3 x flowdepth dune scale)...what I'm getting at is that for my ~0.8m flow depths, remooving 2cm of topography is a non-issue.  \n",
    "\n",
    "As you will see, this method produces a very nice estimation of the EH stratigraphy, with much of the small scale topography removed. I think, for my efforts and the value of this piece, this method will suffice and I am moving on to statistics headaches. "
   ]
  },
  {
   "cell_type": "code",
   "execution_count": null,
   "metadata": {
    "ExecuteTime": {
     "end_time": "2021-09-23T15:06:56.535734Z",
     "start_time": "2021-09-23T15:05:51.319Z"
    },
    "colab": {
     "base_uri": "https://localhost:8080/"
    },
    "executionInfo": {
     "elapsed": 10557,
     "status": "ok",
     "timestamp": 1616014310640,
     "user": {
      "displayName": "Safiya Alpheus",
      "photoUrl": "",
      "userId": "18049693271511077124"
     },
     "user_tz": 240
    },
    "id": "b2qEJqUU4uVc",
    "outputId": "c22f75bc-8375-4aab-979f-66bd6be9925f"
   },
   "outputs": [],
   "source": [
    "threshperc = np.arange(50, 100) #range of percentiles to test the fir over\n",
    "coverage = np.empty([1, len(posnew)])\n",
    "\n",
    "for i in threshperc:\n",
    "    thresh_frac = np.percentile(erocount[:, 2], i) #fraction of surface we want reworked to call it a major surface\n",
    "    big_times = erocount[np.where(erocount[:, 2] >= thresh_frac), 0]\n",
    "    big_times = big_times.ravel()\n",
    "    print(len(big_times))\n",
    "    bounding_surfaces = np.empty([1, len(posnew)+1]) #will store coordinates of main bounding surfaces plus the time of the surface\n",
    "    bounding_surfaces[:] = np.nan\n",
    "\n",
    "\n",
    "    for t in big_times:\n",
    "        t = int(t)\n",
    "    #ax[0].plot(posnew, stratinterpcub[i, :], c='w', lw=1.5)#, color = cpick.to_rgba(i), lw = 1.5)\n",
    "        #pull true topography\n",
    "        boundscratch = np.append(t, xy_topo[t, :])\n",
    "        bounding_surfaces = np.append(bounding_surfaces, np.reshape(boundscratch, [1, len(posnew)+1]), axis=0)\n",
    "\n",
    "\n",
    "    dummymatrix = np.empty_like(xy_topo)\n",
    "\n",
    "    dummymatrix[:] = np.nan\n",
    "    \n",
    "# dont nee dummy matrix\n",
    "    #count all non nan elements, subtract elements in the first column\n",
    "    num_elements = np.count_nonzero(~np.isnan(bounding_surfaces))-len(bounding_surfaces)+1\n",
    "    #num_elements = np.count_nonzero(~np.isnan(erohiatalsurf))\n",
    "    #print(num_elements, len(bounding_surfaces))\n",
    "    for column in range (1, len(posnew)): #search corewise across the section\n",
    "        uniquebounds = np.unique(bounding_surfaces[:, column][np.where(~np.isnan(bounding_surfaces[:, column]))]) #search bounding surfaces\n",
    "        unique_eh_bounds = np.unique(erohiatalsurf[:, column-1][np.where(~np.isnan(erohiatalsurf[:, column-1]))]) #search erohiatal surfaces\n",
    "        #uniquebounds = np.delete(uniquebounds, np.nan)\n",
    "        #unique_eh_bounds = np.delete(unique_eh_bounds, np.nan)\n",
    "        #print(uniquebounds, unique_eh_bounds)\n",
    "        #print(np.intersect1d(uniquebounds, unique_eh_bounds))\n",
    "        coverage[0, column] = len(np.intersect1d(uniquebounds, unique_eh_bounds))\n",
    "    \n",
    "    totalcoverage = np.sum(coverage) #total overlap of the two arrays\n",
    "    total_coverage_frac = totalcoverage/num_elements\n",
    "\n",
    "    \n",
    "    if num_elements < np.count_nonzero(~np.isnan(erohiatalsurf)):\n",
    "        break\n",
    "print('Best percentile = ', i, '. Coverage = ', total_coverage_frac)\n",
    "bestperc = i"
   ]
  },
  {
   "cell_type": "code",
   "execution_count": null,
   "metadata": {
    "ExecuteTime": {
     "end_time": "2021-09-23T15:06:56.537325Z",
     "start_time": "2021-09-23T15:05:51.322Z"
    },
    "colab": {
     "base_uri": "https://localhost:8080/"
    },
    "executionInfo": {
     "elapsed": 9594,
     "status": "ok",
     "timestamp": 1616014310640,
     "user": {
      "displayName": "Safiya Alpheus",
      "photoUrl": "",
      "userId": "18049693271511077124"
     },
     "user_tz": 240
    },
    "id": "_lBZpSk64uVc",
    "outputId": "0fd28709-9775-4d10-d860-3b6300b0f341"
   },
   "outputs": [],
   "source": [
    "np.count_nonzero(~np.isnan(erohiatalsurf[1, :]))"
   ]
  },
  {
   "cell_type": "code",
   "execution_count": null,
   "metadata": {
    "ExecuteTime": {
     "end_time": "2021-09-23T15:06:56.539046Z",
     "start_time": "2021-09-23T15:05:51.326Z"
    },
    "colab": {
     "base_uri": "https://localhost:8080/",
     "height": 1000
    },
    "executionInfo": {
     "elapsed": 12749,
     "status": "ok",
     "timestamp": 1616014314628,
     "user": {
      "displayName": "Safiya Alpheus",
      "photoUrl": "",
      "userId": "18049693271511077124"
     },
     "user_tz": 240
    },
    "id": "o7QeHEaM4uVc",
    "outputId": "e4a9ccfa-d5f1-4bf5-bb3a-52fb2bc672cd"
   },
   "outputs": [],
   "source": [
    "## look at what removing some different threshold thicknesses will do to the data\n",
    "\n",
    "fig = plt.figure()\n",
    "\n",
    "bd_surfs = np.zeros([1, len(posnew)+1])\n",
    "#print(fnl_surfs)\n",
    "\n",
    "for i in range(2, bounding_surfaces.shape[0]):\n",
    "    x = np.nanmean(bounding_surfaces[i, :]-bounding_surfaces[i-1, :])\n",
    "    #print(x)\n",
    "    \n",
    "    plt.plot(i, x, 'ro')\n",
    "plt.axhline(np.percentile(thickness, 70))    \n",
    "fig, ax = plt.subplots(4, 1, figsize = (5, 5), tight_layout = True, sharex = True)\n",
    "for i in range (0, 3):\n",
    "    for j in range (0, end_t):\n",
    "        ax[i].plot(posnew, erohiatalsurf[j, :], 'k',  lw = 0.1, alpha = 0.7)\n",
    "\n",
    "mean_thickness_threshold = np.array([0.025, 0.030, 0.035])\n",
    "#print(mean_thickness_threshold)\n",
    "for i in range(1, bounding_surfaces.shape[0]): ## bounding_surfaces row 0 is a row of nans, start from 2\n",
    "    x = np.nanmean(bounding_surfaces[i, :]-bounding_surfaces[i-1, :]) #check to see hpw much sediment added at that time\n",
    "\n",
    "    if x > mean_thickness_threshold[0]:\n",
    "        ax[0].plot(posnew, bounding_surfaces[i, 1:])\n",
    "    \n",
    "    if x > mean_thickness_threshold[1]:\n",
    "        ax[1].plot(posnew, bounding_surfaces[i, 1:])\n",
    "        ax[1].set_title('Threshold = '+str(mean_thickness_threshold[1]))\n",
    "    if x > mean_thickness_threshold.max():\n",
    "        ax[2].plot(posnew, bounding_surfaces[i, 1:])\n",
    "        ax[2].set_title('Threshold = '+str(mean_thickness_threshold.max()))\n",
    "        bd_surfs = np.append(bd_surfs, np.reshape(bounding_surfaces[i, :], [1, len(posnew)+1]), axis = 0)\n",
    "        \n",
    "    #if x < 0.03:\n",
    "        #print(i)\n",
    "        \n",
    "\n",
    "#print(fnl_surfs[0, :])\n",
    "fnl_surfs = copy.deepcopy(bd_surfs)\n",
    "fnl_surfs[0, 1:] = xy_topo[0, :]\n",
    "\n",
    "#print(fnl_surfs[0, :])\n",
    "print(bounding_surfaces.shape, bd_surfs.shape, fnl_surfs.shape)\n",
    "print('number of surfaces deleted = ', (bounding_surfaces.shape[0]-1)-fnl_surfs.shape[0])\n",
    "\n",
    "for i in range (0, len(fnl_surfs)):\n",
    "    ax[3].plot(posnew, fnl_surfs[i, 1:])\n",
    "ax[3].set_title('Final surfaces matrix')\n",
    "ax[-1].set_xlim(0, posnew.max())"
   ]
  },
  {
   "cell_type": "code",
   "execution_count": null,
   "metadata": {
    "ExecuteTime": {
     "end_time": "2021-09-23T15:06:56.540505Z",
     "start_time": "2021-09-23T15:05:51.329Z"
    },
    "executionInfo": {
     "elapsed": 11510,
     "status": "ok",
     "timestamp": 1616014314629,
     "user": {
      "displayName": "Safiya Alpheus",
      "photoUrl": "",
      "userId": "18049693271511077124"
     },
     "user_tz": 240
    },
    "id": "pQZV9IjB4uVc"
   },
   "outputs": [],
   "source": [
    "#np.save(f'/Volumes/SAF_MSCWORK/Python/Stratigraphy/Data/nparrays/mainsurfs/{mainsurfto}/'+modelrun, fnl_surfs)"
   ]
  },
  {
   "cell_type": "code",
   "execution_count": null,
   "metadata": {
    "ExecuteTime": {
     "end_time": "2021-09-23T15:06:56.541983Z",
     "start_time": "2021-09-23T15:05:51.333Z"
    }
   },
   "outputs": [],
   "source": [
    "strat_gradient, strat_dip = movinggrad(fnl_surfs[:, 1:], posnew)"
   ]
  },
  {
   "cell_type": "code",
   "execution_count": null,
   "metadata": {
    "ExecuteTime": {
     "end_time": "2021-09-23T15:06:56.543494Z",
     "start_time": "2021-09-23T15:05:51.337Z"
    }
   },
   "outputs": [],
   "source": [
    "plt.hist(strat_dip.ravel(), bins = 20);\n",
    "print(strat_dip.min(), strat_dip.max())"
   ]
  },
  {
   "cell_type": "code",
   "execution_count": null,
   "metadata": {
    "ExecuteTime": {
     "end_time": "2021-09-23T15:06:56.545277Z",
     "start_time": "2021-09-23T15:05:51.340Z"
    }
   },
   "outputs": [],
   "source": [
    "fig, ax = plt.subplots(1, tight_layout = True, figsize = (6, 2))\n",
    "cmap_dip = ListedColormap(['xkcd:taupe', 'xkcd:baby blue', 'xkcd:orange', 'xkcd:red'])\n",
    "norm_dip = BoundaryNorm([0, 2, 5, 20, 30], cmap_dip.N)\n",
    "    \n",
    "for i in range (0, end_t):\n",
    "    ax.plot(xy_topo[i, :], c='w', lw = 0.2, zorder = 1 )\n",
    "for t in range (0, fnl_surfs.shape[0]):\n",
    "    #slope = strat_gradient[t]\n",
    "    dip = strat_dip[t]\n",
    "    zdata = fnl_surfs[t, 1:]\n",
    "    \n",
    "    points = np.array([posnew, zdata]).T.reshape(-1, 1, 2)\n",
    "    segments = np.concatenate([points[:-1], points[1:]], axis=1)\n",
    "    \n",
    "    slopenorm = plt.Normalize(np.nanmin(strat_gradient), np.nanmax(strat_gradient))\n",
    "    #dipnorm = plt.Normalize(np.nanmin(strat_dip), np.nanmax(strat_dip))\n",
    "    \n",
    "    slopelc = LineCollection(segments, cmap = cmap_dip, norm = norm_dip)\n",
    "    slopelc.set_array(dip)\n",
    "    slopelc.set_linewidth(2)\n",
    "    slopeline = ax.add_collection(slopelc)\n",
    "\n",
    "ax.set_facecolor('xkcd:midnight blue')    \n",
    "ax.set_xlim(posnew.min(), posnew.max());\n",
    "ax.set_ylim(np.nanmin(xy_topo), np.nanmax(xy_topo));\n",
    "ax.set_aspect(10)\n",
    "cbar = fig.colorbar(slopeline, label='dip angles', ax=ax, shrink = 0.6, pad = 0.01, aspect = 10)\n",
    "cbar.ax.tick_params(labelsize=6) \n",
    "\n",
    "plt.savefig(savefilesto+'surfslope/'+modelrun+'.png', dpi = 100)"
   ]
  },
  {
   "cell_type": "markdown",
   "metadata": {
    "id": "QJhddDyu4uVc"
   },
   "source": [
    "## Coring the *new* stratigraphy\n",
    "\n",
    "I am too lazy to really change the names of things that much so Imma prefix all the copied variables with 'bs'...for 'bounding surfaces'....not bullshit. "
   ]
  },
  {
   "cell_type": "code",
   "execution_count": null,
   "metadata": {
    "ExecuteTime": {
     "end_time": "2021-09-23T15:06:56.546684Z",
     "start_time": "2021-09-23T15:05:51.344Z"
    },
    "executionInfo": {
     "elapsed": 9459,
     "status": "ok",
     "timestamp": 1616014314630,
     "user": {
      "displayName": "Safiya Alpheus",
      "photoUrl": "",
      "userId": "18049693271511077124"
     },
     "user_tz": 240
    },
    "id": "SiGxms9X4uVd",
    "scrolled": true
   },
   "outputs": [],
   "source": [
    "bs_coresthick = {} #dictionary to hold set thickness\n",
    "bs_coresbounds = {} #dictionary to hold bound surfaces\n",
    "bs_num_sets = np.empty([len(posnew), 2])\n",
    "bs_num_sets[:, 0] = posnew\n",
    "bs_threshold = 0.1\n",
    "for i in range(0, len(posnew)):\n",
    "    keystr = 'x'+str(i)\n",
    "    \n",
    "    elevatcore = fnl_surfs[:, i+1]\n",
    "    bounds = np.unique(elevatcore)\n",
    "    \n",
    "    bs_coresbounds[keystr] = bounds #finds the bounding elevations of sets\n",
    "    \n",
    "    diffs = np.empty([0]) #temp array to store thickness of sets > a threshold thickness\n",
    "    \n",
    "    for j, k in zip(bounds[:-1], bounds[1:]):\n",
    "        #print(i, j, k)\n",
    "        diff = k-j #more positive -- less positive = positive\n",
    "        if diff > bs_threshold:\n",
    "            diffs = np.append(diffs, diff)\n",
    "    bs_coresthick[keystr] = diffs\n",
    "    bs_num_sets[i, 1] = len(diffs)\n",
    "    \n",
    "    #print(cores[keystr+'_thick'])\n",
    "#print(cores)\n"
   ]
  },
  {
   "cell_type": "code",
   "execution_count": null,
   "metadata": {
    "ExecuteTime": {
     "end_time": "2021-09-23T15:06:56.548274Z",
     "start_time": "2021-09-23T15:05:51.348Z"
    },
    "colab": {
     "base_uri": "https://localhost:8080/",
     "height": 314
    },
    "executionInfo": {
     "elapsed": 10279,
     "status": "ok",
     "timestamp": 1616014316257,
     "user": {
      "displayName": "Safiya Alpheus",
      "photoUrl": "",
      "userId": "18049693271511077124"
     },
     "user_tz": 240
    },
    "id": "VYmLwvD34uVd",
    "outputId": "ea631e61-a8f4-4e87-b3af-e70d4b3919a6"
   },
   "outputs": [],
   "source": [
    "fig, ax = plt.subplots(1, 2, figsize = (14, 4), tight_layout=True)\n",
    "ax[0].plot(bs_num_sets[:, 0], bs_num_sets[:, 1], 'k', label = 'Main Surfaces extract')\n",
    "ax[0].plot(num_sets[:, 0], num_sets[:, 1], 'k--', alpha = 0.7, label = 'True EH surfaces')\n",
    "for i in range (0, end_t):\n",
    "    #ax[1].plot(posnew, stratinterpcub[i], 'k', lw = 0.1, alpha = 0.4)\n",
    "    #ax[1].plot(posnew, erosurf[i], 'r', lw = 2)\n",
    "    #ax[1].plot(posnew, hiatalsurf[i], 'g', lw = 2)\n",
    "    ax[1].plot(posnew, erohiatalsurf[i], 'r', lw = 2)\n",
    "for i in range (0, len(fnl_surfs)):\n",
    "    ax[1].plot(posnew, fnl_surfs[i, 1:], 'k', lw = 0.5)\n",
    "\n",
    "for i in range(0, len(posnew)):\n",
    "    ax[1].axvline(posnew[i], c = 'k', ls = 'dotted', lw = 0.3)\n",
    "    ax[0].axvline(posnew[i], c = 'k', ls = 'dotted', lw = 0.3)\n",
    "ax[1].set_ylabel('Bed Elevation, m')\n",
    "ax[0].set_ylabel('Number of Sets')\n",
    "ax[1].set_xlabel(\"Cross Stream Position\")\n",
    "ax[0].set_xlabel(\"Cross Stream Position\")\n",
    "ax[0].legend()\n",
    "ax[0].set_ylim(0, 15)\n",
    "\n",
    "ax[0].set_title('Time series of number of sets at iloc = '+str(iloc))\n",
    "ax[1].set_title('Stratigraphy at '+str(iloc)+'. Ero = red, Hiatal = green')\n",
    "#plt.savefig(savefilesto+'corestats/compare'+modelrun+'.png', dpi = 100)"
   ]
  },
  {
   "cell_type": "code",
   "execution_count": null,
   "metadata": {
    "ExecuteTime": {
     "end_time": "2021-09-23T15:06:56.549722Z",
     "start_time": "2021-09-23T15:05:51.352Z"
    },
    "colab": {
     "base_uri": "https://localhost:8080/",
     "height": 319
    },
    "executionInfo": {
     "elapsed": 11096,
     "status": "ok",
     "timestamp": 1616014317721,
     "user": {
      "displayName": "Safiya Alpheus",
      "photoUrl": "",
      "userId": "18049693271511077124"
     },
     "user_tz": 240
    },
    "id": "_kE8CBvA4uVd",
    "outputId": "62e094c2-ff2c-4d30-de96-a98aebee842e"
   },
   "outputs": [],
   "source": [
    "fig, ax = plt.subplots(1, 3, figsize = (14, 4), tight_layout = True)\n",
    "ax[0].plot(bs_num_sets[:, 0], bs_num_sets[:, 1], 'k')\n",
    "ax[0].set_title('Number of sets along the section')\n",
    "\n",
    "for loc, core in zip(posnew, bs_coresthick):\n",
    "    avg = np.average(bs_coresthick[core])\n",
    "    #print(coresthick[core], avg)\n",
    "    if len(bs_coresthick[core]) >0:\n",
    "        ax[1].plot(loc, np.average(bs_coresthick[core]), 'o', markerfacecolor = 'b', markeredgecolor = 'k')\n",
    "        ax[2].plot(loc, bs_coresthick[core].max(), 'o', markerfacecolor = 'g', markeredgecolor = 'k')\n",
    "        \n",
    "ax[2].set_ylim(0, 2)\n",
    "ax[1].set_ylim(0, 2)\n",
    "\n",
    "ax[2].set_title('Maximum set thickness at each cor loc')\n",
    "ax[1].set_title('Average set thickness at each cor loc')\n",
    "\n",
    "fig.suptitle(str(iloc))\n",
    "\n",
    "plt.savefig(savefilesto+'/corestats/'+modelrun+'.png', dpi = 100)"
   ]
  },
  {
   "cell_type": "code",
   "execution_count": null,
   "metadata": {
    "ExecuteTime": {
     "end_time": "2021-09-23T15:06:56.551816Z",
     "start_time": "2021-09-23T15:05:51.355Z"
    },
    "colab": {
     "base_uri": "https://localhost:8080/",
     "height": 421
    },
    "executionInfo": {
     "elapsed": 10875,
     "status": "ok",
     "timestamp": 1616014318161,
     "user": {
      "displayName": "Safiya Alpheus",
      "photoUrl": "",
      "userId": "18049693271511077124"
     },
     "user_tz": 240
    },
    "id": "7RV7xUTVgYTg",
    "outputId": "73988c6b-28cc-422b-c3a3-5cfe6bdb3986"
   },
   "outputs": [],
   "source": [
    "allthick_der = np.array([])\n",
    "allthick_eh= np.array([])\n",
    "plt.figure(figsize = (10, 6))\n",
    "#print(allthicknesses_derived.shape)\n",
    "for key1, key2 in zip(bs_coresthick, coresthick):\n",
    "\n",
    "  #print(bs_coresthick[key])\n",
    "  allthick_der = np.append(allthick_der, bs_coresthick[key1])\n",
    "  allthick_eh = np.append(allthick_eh, coresthick[key2])\n",
    "  \n",
    "hist2 = plt.hist(allthick_der, **kwargs, density =True,label = 'Main Surfaces extract')\n",
    "  \n",
    "hist = plt.hist(allthick_eh, histtype='step', density=True, edgecolor = 'k', linewidth = 2.5, bins= 20, label='True EH thicknesses')\n",
    "  \n",
    "plt.legend()\n",
    "plt.ylabel('Normalised Frequency')\n",
    "plt.xlabel('Vertical Set Thickness, m')\n",
    "plt.title('Distribution of core thicknesses of sets')"
   ]
  },
  {
   "cell_type": "markdown",
   "metadata": {
    "id": "hiN6RZ5p4uVd"
   },
   "source": [
    "def find_percentiles (age_array, ptilestart, ptilestop, ptileint):\n",
    "    \n",
    "    \n",
    "    #create the frequency array\n",
    "    \n",
    "    hist, bins = np.histogram(age_array.ravel(), bins = end_t) #find frequency of all ages in stratigraphy\n",
    "    hist = np.reshape(hist, [num_timesteps, 1])\n",
    "    age_dist = np.reshape(np.arange(0, num_timesteps), [num_timesteps, 1]) \n",
    "    frequencies = np.append(age_dist, hist, axis = 1) #frequency of each timestep in the stratigraphy\n",
    "    \n",
    "    #declare the percentile range you want to test fit to\n",
    "    ptiles_to_test = np.arange(ptilestart/100, ptilestop/100, ptileint/100)\n",
    "    #print('get ptiles', ptiles_to_test.shape)\n",
    "    ptile_vals = np.quantile(frequencies[:, 1], ptiles_to_test)\n",
    "    #print('ptilevals', ptile_vals.shape)\n",
    "    \n",
    "    best_intersect = 0.0000 #pace holder for best value of intersection across the percentiles\n",
    "    best_ptile = 0 #placeholder for best percentile value\n",
    "    \n",
    "    for val in ptile_vals:\n",
    "        #print(val)\n",
    "        ## make new array to store main surfaces\n",
    "        main_surfs_age = np.empty_like(erohiatalsurf) \n",
    "    \n",
    "        ero_idx = np.where(frequencies[:, 1] > val) #find which ages exceed the percentile value youre testing\n",
    "        #print('ero_idx', ero_idx)\n",
    "        target_ages = frequencies[:, 0][ero_idx] #fidnthe ages that correspond tp the value\n",
    "        #print('ages', target_ages)\n",
    "        for age in target_ages:\n",
    "            main_surfs_age[age, :] = stratinterpcub[age, :]\n",
    "            \n",
    "        find_intersections = np.where(main_surfs_age == erohiatalsurf)\n",
    "        #print(find_intersections)\n",
    "        num_intersect = len(find_intersections[0])/(len(erohiatalsurf.ravel()))\n",
    "        #print('number of intersections', num_intersect)\n",
    "        if num_intersect > best_intersect:\n",
    "            best_intersect = num_intersect\n",
    "            best_ptile = ptiles_to_test[np.where(ptile_vals ==val)]\n",
    "    #print(best_intersect, best_ptile)\n",
    "    return('Best percentile: ', best_ptile, 'Intersection value:', best_intersect)#, 'Percentile vals:', ptile_vals)\n",
    "        \n",
    "    \n",
    "    "
   ]
  },
  {
   "cell_type": "markdown",
   "metadata": {
    "id": "8PI_U0RT4uVd"
   },
   "source": [
    "find_percentiles(ages_ero, 75, 100, 1)\n",
    "\n",
    "#main_surfs.shape"
   ]
  },
  {
   "cell_type": "markdown",
   "metadata": {
    "id": "5_iUBj6E4uVd"
   },
   "source": [
    "## Grouping centroids by their spacing"
   ]
  },
  {
   "cell_type": "code",
   "execution_count": null,
   "metadata": {
    "ExecuteTime": {
     "end_time": "2021-09-23T15:06:56.553205Z",
     "start_time": "2021-09-23T15:05:51.361Z"
    },
    "scrolled": true
   },
   "outputs": [],
   "source": [
    "centroids = np.append(cent_nonan, np.zeros([len(cent_nonan), 1]), axis=1)\n",
    "hoods = np.empty([1, 3]) #will hold the neighbourhoods the centroids could fall into and the age of the centroid\n",
    "hoods[0] = centroids[0, :3]\n",
    "\n",
    "thresh = np.median(dists) #50 #distance threshold to call it a neighbour\n",
    "print('ICD Threshold is: ', thresh)\n",
    "for i, age in zip(range(1, len(centroids)), centroids[1:, 0]):\n",
    "    #print('*******age: ', age, '******** i: ', i)\n",
    "    potential_hoods = hoods[np.isclose(hoods[:, 0], age, atol=2)]\n",
    "    \n",
    "    #print('I: ',i, ' age: ', ' hood: ', potential_hoods)\n",
    "    if len(potential_hoods) == 0:\n",
    "        hoods = np.append(hoods, np.reshape(centroids[i, :3], [1, 3]), axis=0) #create new hood with cent x, y and age\n",
    "        centroids[i, -1] = centroids[i, 0] #add new hood zipcode zipcode column (last column)\n",
    "        #print('no existing hood is good, new hood ->', hoods.shape)\n",
    "    else: \n",
    "        potential_hoods = np.reshape(potential_hoods, [len(potential_hoods), 3])    \n",
    "        #print(i, potential_hoods)\n",
    "        #print(potential_hoods.shape)\n",
    "        #print(np.where(np.isclose(hoods[:, 0], age, atol=5)))\n",
    "        #potential_hoods = np.resha\n",
    "        #print('ph', potential_hoods)\n",
    "        distances = np.array([])\n",
    "    \n",
    "    \n",
    "        #test each potential hood for distance\n",
    "        for row in potential_hoods:\n",
    "        \n",
    "            dist = ((centroids[i, 1]-row[1])**2 + (centroids[i, 2]-row[2])**2)**0.5\n",
    "            distances = np.append(distances, dist)\n",
    "        #print('dist shape', distances.shape, )\n",
    "            #find nearest neighbour, append or make ner neighbourhood\n",
    "    \n",
    "        mindist = distances.min() #ifind minimum calculated distance between point and all potential neighbours\n",
    "        potenti = potential_hoods[np.where(distances==mindist)]\n",
    "        #print('potenti shape: ', potenti.shape)\n",
    "        #print('Mini dist: ', mindist,'potential neighbourhoods: ', potenti)\n",
    "        #print(distances)\n",
    "        if (mindist < thresh) & np.isclose(potenti[:, 0], age, atol=2) : \n",
    "            md_hood = np.where((hoods[:, :3] == potenti).all(axis=1))\n",
    "            #print('equal at: ', md_hood)\n",
    "            hoods[md_hood, 1:] = potenti[:, 1:]\n",
    "            centroids[i, -1] = hoods[md_hood, 0]\n",
    "            #print(centroids[:i+1, -1])\n",
    "        elif mindist > thresh:\n",
    "            hoods = np.append(hoods, np.reshape(centroids[i, :3], [1, 3]), axis=0)\n",
    "            centroids[i, -1] = centroids[i, 0]\n",
    "            #print('Too far from everything, make new hood, it = ', i, hoods.shape)"
   ]
  },
  {
   "cell_type": "code",
   "execution_count": null,
   "metadata": {
    "ExecuteTime": {
     "end_time": "2021-09-23T15:06:56.554820Z",
     "start_time": "2021-09-23T15:05:51.364Z"
    }
   },
   "outputs": [],
   "source": [
    "fig = plt.figure(figsize = (10, 4), tight_layout = True)\n",
    "for i in range(0, len(centroids)):\n",
    "    plt.plot(centroids[i, 1], centroids[i, 2], color = cpick.to_rgba(centroids[i, -1]), marker = 'o')\n",
    "for i in range (0, end_t):\n",
    "    plt.plot(erohiatalsurf[i], 'w', alpha = 0.2)\n",
    "ax = plt.axes()\n",
    "ax.set_facecolor('xkcd:midnight blue')"
   ]
  },
  {
   "cell_type": "code",
   "execution_count": null,
   "metadata": {
    "ExecuteTime": {
     "end_time": "2021-09-23T15:06:56.556500Z",
     "start_time": "2021-09-23T15:05:51.368Z"
    }
   },
   "outputs": [],
   "source": [
    "##look at/calculate residence time/reworking tme \n",
    "fig = plt.figure(figsize = (10, 3))\n",
    "numneighbs = collections.Counter(centroids[:, -1])\n",
    "plt.stem(numneighbs.keys(), numneighbs.values())\n",
    "plt.title('Stem Plot of size of Neighbourhoods \\n possible proxy for degree of persistence?');\n",
    "plt.xlabel('Neighbourhood Zip Code')\n",
    "plt.ylabel('Number of deposits \\n in neighbourhood')\n",
    "neighb_list = collections.Counter(centroids[:, -1]).most_common()\n",
    "print(neighb_list)"
   ]
  },
  {
   "cell_type": "markdown",
   "metadata": {},
   "source": [
    "**This is just a check to see if the neighbourhood code works correctly** <br> Pick a neighbourhood and plot the centroids in that neighbourhood and the ages of the centroids in that neighbourhood."
   ]
  },
  {
   "cell_type": "code",
   "execution_count": null,
   "metadata": {
    "ExecuteTime": {
     "end_time": "2021-09-23T15:06:56.558439Z",
     "start_time": "2021-09-23T15:05:51.372Z"
    },
    "scrolled": true
   },
   "outputs": [],
   "source": [
    "tn = 280 #test neighbourhood number\n",
    "intn = centroids[:, 0][centroids[:, -1]==tn].astype('int')\n",
    "plt.plot((centroids[:, 1][centroids[:, -1]==tn]), (centroids[:, 2][centroids[:, -1]==tn]), '.')\n",
    "for i in intn:\n",
    "    plt.plot(posnew, xy_topo[i], 'k', lw = '0.1')"
   ]
  },
  {
   "cell_type": "markdown",
   "metadata": {
    "ExecuteTime": {
     "end_time": "2021-05-12T20:27:33.126539Z",
     "start_time": "2021-05-12T20:27:28.608637Z"
    },
    "colab": {
     "base_uri": "https://localhost:8080/",
     "height": 388
    },
    "executionInfo": {
     "elapsed": 1663,
     "status": "ok",
     "timestamp": 1616018142711,
     "user": {
      "displayName": "Safiya Alpheus",
      "photoUrl": "",
      "userId": "18049693271511077124"
     },
     "user_tz": 240
    },
    "id": "mFYypUyWRAvD",
    "outputId": "97acdfc9-8aa0-439b-9f72-ae580695a320"
   },
   "source": [
    "##plot length of centroid groups with time compared to widening rate\n",
    "fig, (ax1, ax2, ax3, ax4) = plt.subplots(4, figsize = (12, 15), tight_layout = True)\n",
    "#ax.plot(times, widths, c = 'r', ls = '--', marker='.', mfc = 'r', mec = 'k', mew = 0, label = 'channel widening')\n",
    "#floodzone = mpl.patches.Rectangle((fldstart, rate.min()), fldlength, rate.max()-rate.min(), color = 'b', alpha = 0.1, label = 'Flooding')\n",
    "\n",
    "\n",
    "\n",
    "ax1.plot(rate[:, 0], c = 'r', ls = '--', marker='.', mfc = 'r', mec = 'k', mew = 0, label = 'rate')\n",
    "ax1.set_ylabel('Channel Widening Rate, m/timestep')\n",
    "ax1.set_title('Widening and group width')\n",
    "\n",
    "ax2.plot(rate[:, 0], c = 'r', ls = '--', marker='.', mfc = 'r', mec = 'k', mew = 0, label = 'rate')\n",
    "ax2.set_ylabel('Channel Widening Rate, m/timestep')\n",
    "ax1.set_title('Widening and group height')\n",
    "\n",
    "ax3.plot(rate[:, 0], c = 'r', ls = '--', marker='.', mfc = 'r', mec = 'k', mew = 0, label = 'rate')\n",
    "ax3.set_ylabel('Channel Widening Rate, m/timestep')\n",
    "ax1.set_title('Widening and group W:H')\n",
    "\n",
    "ax4.plot(rate[:, 0], c = 'r', ls = '--', marker='.', mfc = 'r', mec = 'k', mew = 0, label = 'rate')\n",
    "ax4.set_ylabel('Channel Widening Rate, m/timestep')\n",
    "ax1.set_title('Widening and bed elevation change')\n",
    "\n",
    "ax1.fill_between(times/2, rate[:, 1], rate[:, 2], color = 'xkcd:stone', alpha = 0.3, label = 'Min/Max of reach')\n",
    "ax2.fill_between(times/2, rate[:, 1], rate[:, 2], color = 'xkcd:stone', alpha = 0.3, label = 'Min/Max of reach')\n",
    "ax3.fill_between(times/2, rate[:, 1], rate[:, 2], color = 'xkcd:stone', alpha = 0.3, label = 'Min/Max of reach')\n",
    "ax4.fill_between(times/2, rate[:, 1], rate[:, 2], color = 'xkcd:stone', alpha = 0.3, label = 'Min/Max of reach')\n",
    "\n",
    "\n",
    "ax4.set_xlabel('Timestep')\n",
    "ax1.xaxis.grid(True)\n",
    "ax5 = ax1.twinx()\n",
    "ax6 = ax2.twinx()\n",
    "ax7 = ax3.twinx()\n",
    "ax8 = ax4.twinx()\n",
    "#ax3 = ax.twinx()\n",
    "for key in groups:\n",
    "    #print(cent_nonan[groups[key], 1].max(), cent_nonan[groups[key], 1].min())\n",
    "    #print(cent_nonan[groups[key], 2].max(), cent_nonan[groups[key], 2].min())\n",
    "    t = int(cent_nonan[groups[key][0], 0])\n",
    "    tsi = np.where(cent_nonan[:, 0]==t)#time of group\n",
    "    ts = tsi[0]\n",
    "    #tmax = cent_nonan[groups[key][-1], 0] #time of group\n",
    "    #grp_num = len(groups[key]) #how many packages in the group\n",
    "    length = abs(cent_nonan[groups[key][-1], 0]-cent_nonan[groups[key][0], 1]) #length of time epresented in package, duration, timesteps\n",
    "    width = cent_nonan[groups[key], 1].max()-cent_nonan[groups[key], 1].min() #width, m of package\n",
    "    height = cent_nonan[groups[key], 2].max()-cent_nonan[groups[key], 2].min() #height, m of package\n",
    "    #print(width, height, length, t)\n",
    "    ax5.plot(t, width, 'x', mew = 2.5, c = 'k')#, color = cpick.to_rgba(cent_nonan[int(t), 0]))\n",
    "    ax6.plot(t, height, '^', mew = 2.5, c='k')# color = cpick.to_rgba(cent_nonan[int(t), 0]))\n",
    "    ax7.plot(t, (width/range_x)/(height/range_y), 'o', mew = 2.5, c = 'k')# color = cpick.to_rgba(cent_nonan[tsi, 0]))\n",
    "    #ax3.plot(t, height, '^', mew = 2.5, color = cpick.to_rgba(cent_nonan[int(t), 0]))\n",
    "    #ax.set_xlabel('Package width, m')\n",
    "\n",
    "deltaelev = np.nanmax(xy_topo, axis = 1)-np.nanmin(xy_topo, axis = 1)\n",
    "ax8.plot(times/2, deltaelev, '+', label = 'min-max')\n",
    "ax8.plot(times/2, np.nanmean(xy_topo, axis = 1), '.', label = 'mean')\n",
    "ax8.legend()\n",
    "\n",
    "\n",
    "#ax1.add_patch(floodzone)\n",
    "#plt.savefig(savefilesto+'centstats/'+modelrun+'.png', dpi = 100)"
   ]
  },
  {
   "cell_type": "markdown",
   "metadata": {
    "ExecuteTime": {
     "end_time": "2021-04-03T19:07:18.351606Z",
     "start_time": "2021-04-03T19:07:18.304570Z"
    }
   },
   "source": [
    "#### Some more bed elevation plots"
   ]
  },
  {
   "cell_type": "code",
   "execution_count": null,
   "metadata": {
    "ExecuteTime": {
     "end_time": "2021-09-23T15:06:56.559988Z",
     "start_time": "2021-09-23T15:05:51.377Z"
    }
   },
   "outputs": [],
   "source": [
    "coev_bedelev = stats.variation(strat, axis = 1, nan_policy='omit') ##gives wonky values, using SD because it is normalised to N and the mean also\n",
    "sd_bedelev = np.nanstd(strat, axis = 1)\n",
    "fig, ax = plt.subplots(2, figsize = (12, 8), tight_layout = True)\n",
    "\n",
    "ax[0].plot(rate[:, 0], c = 'r', ls = '--', marker='.', mfc = 'r', mec = 'k', mew = 0, label = 'rate')\n",
    "ax2 = ax[0].twinx()\n",
    "ax2.plot(times/2, sd_bedelev, 'b.', label = 'SD Bed Elev')\n",
    "ax2.plot(times/2, coev_bedelev, 'k.', label = 'CV Bed Elev')\n",
    "ax[0].fill_between(times/2, rate[:, 1], rate[:, 2], color = 'xkcd:stone', alpha = 0.3, label = 'Min/Max of reach')\n",
    "\n",
    "ax[0].set_ylabel('Channel Widening Rate, m/timestep')\n",
    "ax[0].set_title('Widening and SD of bed elevation, IN SECTION')\n",
    "\n",
    "ax[0].legend(loc='right')\n",
    "ax2.legend(loc = 'best')\n",
    "\n",
    "#ax[0].axvline(fldstart, c = 'b', ls = '--')\n",
    "#ax[0].axvline(fldstart+fldlength/interval_to_plot, c = 'b', ls = '--')\n",
    "\n",
    "ax[1].set_title('Distribution of bed elevations before and immediately after flood \\n Inset showing bed elevation pre and post flood')\n",
    "axins = inset_axes(ax[1], width=3, height=1)\n",
    "ax[1].hist(strat[pref_idx, :], **kwargs, label = 'Pre-Flood Hist')\n",
    "ax[1].hist(strat[post_idx, :], histtype = 'step', bins = 20, lw = 2, ec = 'k', label = 'Post-Flood Hist')\n",
    "\n",
    "axins.plot(strat[pref_idx, :], c = 'xkcd:greyish')\n",
    "axins.plot(strat[post_idx, :], c = 'b')\n",
    "axins.set_ylabel('Bed Elev')\n",
    "axins.set_xlabel('XSD, m')\n",
    "\n",
    "ax[1].set_ylabel('Count')\n",
    "ax[1].set_xlabel('Bed Elevation, m')\n",
    "ax[1].legend(loc='upper left')\n",
    "\n",
    "plt.savefig(savefilesto+'centstats/WSD'+modelrun+'.png', dpi = 100)"
   ]
  },
  {
   "cell_type": "code",
   "execution_count": null,
   "metadata": {
    "ExecuteTime": {
     "end_time": "2021-09-23T15:06:56.561405Z",
     "start_time": "2021-09-23T15:05:51.380Z"
    }
   },
   "outputs": [],
   "source": [
    "plt.subplots(figsize = (10, 4), tight_layout = True)\n",
    "\n",
    "plt.plot(times/2, np.nanmin(shear, axis = 1), c = 'xkcd:grey', marker = 'v', lw = 0.0, label = 'Min shear')\n",
    "plt.plot(times/2, np.nanmax(shear, axis = 1), c = 'b', marker = '^', lw = 0, label = 'Max shear')\n",
    "plt.plot(times/2, np.nanmean(shear, axis = 1), c = 'k', marker = '.', lw = 0, label = 'mean shear')\n",
    "plt.axvline(fldstart, c = 'b', ls = '--')\n",
    "plt.axvline(fldstart+fldlength/interval_to_plot, c = 'b', ls = '--')\n",
    "\n",
    "plt.plot(times/2, rate[:, 0], 'r--', label = 'Wide rate')\n",
    "plt.ylabel('Bed Shear Stress, Nm/2')\n",
    "plt.xlabel('Timestep, 2hour')\n",
    "plt.title('Comparison between bed shear stress and channel widening rate \\n null--widening and shear stress drops should occur together')\n",
    "plt.legend()\n",
    "plt.savefig(savefilesto+'centstats/SSvW'+modelrun+'.png', dpi = 100)"
   ]
  },
  {
   "cell_type": "markdown",
   "metadata": {},
   "source": [
    "# If we want to accurately compare the reach statistics to the channel section, we need to be comparing the reach data\n",
    "\n",
    "So for centroid mapping and statistics on the final stratigraphy, we need to be looking at this code with the xy_topo data but for true comparison and building these types of time series on the bed statistics, we need to be using the datamaster, not the xy_topo because that preserves only the final data\n",
    "\n",
    "But actually, maybe we can use strat because strat is uneroded.... Yes, we can use strat."
   ]
  },
  {
   "cell_type": "code",
   "execution_count": null,
   "metadata": {
    "ExecuteTime": {
     "end_time": "2021-09-23T15:06:56.562536Z",
     "start_time": "2021-09-23T15:05:51.384Z"
    }
   },
   "outputs": [],
   "source": [
    "coev_reach = stats.variation(datamaster[:, 7, :], axis = 0)\n",
    "sd_reach = np.std(datamaster[:, 7, :], axis = 0)"
   ]
  },
  {
   "cell_type": "code",
   "execution_count": null,
   "metadata": {
    "ExecuteTime": {
     "end_time": "2021-09-23T15:06:56.563950Z",
     "start_time": "2021-09-23T15:05:51.388Z"
    }
   },
   "outputs": [],
   "source": [
    "fig, ax = plt.subplots(figsize = (12, 6), tight_layout=True)\n",
    "\n",
    "ax.plot(rate[:, 0], c = 'r', ls = '--', marker='.', mfc = 'r', mec = 'k', mew = 0, label = 'rate')\n",
    "ax2 = ax.twinx()\n",
    "\n",
    "ax.fill_between(times/2, rate[:, 1], rate[:, 2], color = 'xkcd:stone', alpha = 0.3, label = 'Min/Max of reach')\n",
    "\n",
    "ax.set_ylabel('Channel Widening Rate, m/timestep')\n",
    "\n",
    "ax2.plot(times/interval_to_plot, sd_bedelev, 'k.', label = 'SD of x section')\n",
    "ax2.plot(times/interval_to_plot, sd_reach, '.', c = 'xkcd:grey', label = 'SD of entire model domain', alpha = 0.5)\n",
    "\n",
    "ax2.set_xlabel('timesteps (2 hours)')\n",
    "ax2.set_ylabel('CV')\n",
    "plt.title('CV bed elev of reach compared to XS')\n",
    "plt.legend(loc='lower right')\n",
    "\n",
    "ax.axvline(fldstart, c = 'b', ls = '--')\n",
    "ax.axvline(fldstart+fldlength/interval_to_plot, c = 'b', ls = '--')\n",
    "#ax2.set_ylim(0, 1.5)\n",
    "\n",
    "axins1 = inset_axes(ax, width=3.5, height=1.5, loc ='upper left')\n",
    "axins1.plot(times/interval_to_plot, np.nanmean(xy_topo, axis = 1), 'k--')\n",
    "axins1.plot(times/interval_to_plot, coev_reach, 'b--')"
   ]
  },
  {
   "cell_type": "code",
   "execution_count": null,
   "metadata": {
    "ExecuteTime": {
     "end_time": "2021-09-23T15:06:56.565123Z",
     "start_time": "2021-09-23T15:05:51.391Z"
    }
   },
   "outputs": [],
   "source": [
    "plt.plot(np.log(times/interval_to_plot), np.log(sd_reach))"
   ]
  },
  {
   "cell_type": "markdown",
   "metadata": {
    "id": "2l6t8Qzv4uVe"
   },
   "source": [
    "## Code to make gif animations of the strat infil, clunky"
   ]
  },
  {
   "cell_type": "markdown",
   "metadata": {
    "id": "DR4Jkmmv4uVf"
   },
   "source": [
    "packages = np.empty([1, 1, 1])\n",
    "fig, ax1 = plt.subplots(1, 1, tight_layout=True, squeeze=True)#, figsize=(19.80, 10.8))\n",
    "\n",
    "polyCollection = ax1.fill_between(posnew, stratinterpcub[0], stratinterpcub[1], color=cpick.to_rgba(0), alpha = 1)\n",
    "points = polyCollection.get_paths()[0].vertices #get vertices from the fill polygons\n",
    "poly = Polygon(points) #convert vertices to polygon\n",
    "#print(points)\n",
    "#mpoly = Polygon(points)\n",
    "\n",
    "#polygon_store = {'polygon 0':{'age': 0, 'verts':poly, 'patch': PolygonPatch(poly)}}\n",
    "polygon_store = {'polygon 0': poly}#, 'patch 0':patch}\n",
    "\n",
    "for age in range (0, end_t-1):\n",
    "    polyCollection = ax1.fill_between(posnew, stratinterpcub[age+1], stratinterpcub[age], color=cpick.to_rgba(age), alpha = 1)\n",
    "    points = polyCollection.get_paths()[0].vertices\n",
    "  \n",
    "    poly = Polygon(points) #make vertices a polygon\n",
    "    polystring = \"polygon \"+str(age)\n",
    "    patchstring = \"patch \"+str(age)\n",
    "    polygon_store[polystring] = poly #create key in dictionary 'polygon_store' which holds the vertices of the polygon at 'age'\n",
    "    \n",
    "\n",
    "fig, ax = plt.subplots(1, figsize = (5,5))\n",
    "\n",
    "for i in range (0,10):\n",
    "    #fig, ax = plt.subplots(1, figsize = (10, 10))\n",
    "    namestring = \"polygon \"+str(i)\n",
    "    patch = PolygonPatch(polygon_store[namestring])\n",
    "    ax.add_patch(patch)\n",
    "\n",
    "ax.set_xlim(0, 18)\n",
    "ax.set_ylim(stratinterpcub.min(), stratinterpcub.max())"
   ]
  },
  {
   "cell_type": "markdown",
   "metadata": {
    "id": "XFdAXP0K4uVf"
   },
   "source": [
    "fig, ax = plt.subplots(figsize = (12, 4), tight_layout = True, dpi = 400)\n",
    "#data = ax.contourf(xdomain, ydomain, elev, levels = 500, cmap = 'gist_earth')\n",
    "def animate(i):\n",
    "    ax.plot(posnew, deposurf[i], 'xkcd:midnight blue', ls = '--', lw = 0.8, alpha = 0.3)\n",
    "    ax.fill_between(posnew, stratinterpcub[i+1], stratinterpcub[i], color=cpick.to_rgba(i), edgecolor = 'xkcd:midnight blue', lw = 1, ls = '--', alpha = 1)\n",
    "    ax.plot(posnew, erohiatalsurf[i], 'xkcd:midnight blue', lw = 1.5, alpha = 1)\n",
    "    \n",
    "    cent_loc = np.where(cent_array[:, 0]==i)\n",
    "    ax.plot(cent_array[cent_loc, 1], cent_array[cent_loc, 2], marker = '.', markerfacecolor = 'k', markeredgecolor = 'k', mew = .1,   ms = 4, alpha = .5)\n",
    "    ax.set_facecolor('xkcd:grey')\n",
    "\n",
    "    ax.set_ylim(stratinterpcub.min(), stratinterpcub.max())\n",
    "    #ax.set_xlim(1000, 2000)\n",
    "    ax.set_title('Time = '+ str(i*10)+ ' min') \n",
    "    ax.set_xlabel('Streamwise Distance, m')\n",
    "    ax.set_ylabel('Bed Elevation, m')\n",
    "\n",
    "\n",
    "interval = 0.02#in seconds     \n",
    "ani = animation.FuncAnimation(fig, animate, num_timesteps-1, interval=interval*1e+3, blit=False)\n",
    "#FFwriter = animation.FFMpegWriter()\n",
    "\n",
    "Writer = animation.writers['ffmpeg']\n",
    "writer = Writer(fps=5, metadata=dict(artist='Me'), bitrate=1800)\n",
    "\n",
    "ani.save(savefilesto+'Videos/'+modelrun+'.mp4', writer = writer)\n",
    "#plt.show()"
   ]
  },
  {
   "cell_type": "markdown",
   "metadata": {
    "id": "qRo7sonu4uVf"
   },
   "source": [
    "## Make the bed set thickness time series plots.\n",
    "xloc = np.random.choice(int(position.max()), 4, replace = False)\n",
    "print(xloc)\n",
    "fig, ax = plt.subplots(1, len(xloc), figsize = (16, 4), tight_layout = True)\n",
    "\n",
    "for xloc, i in zip(xloc, np.arange(0, len(xloc))): \n",
    "    ax[i].plot(age_dist, topointerp[:, xloc], 'k')\n",
    "\n",
    "    sets = np.sort(topointerp[:, xloc])\n",
    "\n",
    "    ax[i].axhline(sets[0], c = 'r', ls = '--', lw = 0.5)\n",
    "    #ax[i].axhline(sets[-1], c = 'r', ls = '--', lw = 0.5)\n",
    "    #ax[i].axhline(sets[2], c = 'r', ls = '--', lw = 0.5)\n",
    "    #ax[i].axhline(sets[3], c = 'r', ls = '--', lw = 0.5)\n",
    "    ax[i].set_title(str(iloc)+' elevation time series @'+str(xloc))\n",
    "    \n",
    "plt.savefig('/content/gdrive/My Drive/Python/Stratigraphy/Plots/elevtimeseries/'+modelrun+'.png', dpi = 100)"
   ]
  },
  {
   "cell_type": "markdown",
   "metadata": {
    "id": "V2E9CZqY4uVf"
   },
   "source": [
    "## APPROACH 2-v1 (legacy, placed as markdown because I think the counting algorithm is wrong)\n",
    "I do not think this normalising thing is working because we get a gigantically skewed histogram of normalised ages that make it difficult to pull out the main surfaces but I think with the improvements in the hiatal pick-out-ing we get a more even spread of age data"
   ]
  },
  {
   "cell_type": "markdown",
   "metadata": {
    "id": "0YqdxtAa4uVf"
   },
   "source": [
    "fig, ax = plt.subplots(1, 2, figsize = (12, 6), tight_layout = True)\n",
    "allages = ages_ero.ravel()\n",
    "age_hist, bins = np.histogram(allages, bins = end_t) #gets frequency of alhow l ages\n",
    "age_hist = np.reshape(age_hist, [num_timesteps, 1])\n",
    "age_dist = np.reshape(np.arange(0, end_t), [end_t, 1]) #a column vector of all of the number of timesteos\n",
    "\n",
    "#normalising time of erosion to area available for erosion with Liz 14/01\n",
    "\n",
    "erodible_area = 200*age_dist # finding the area available to erode\n",
    "area_norm = np.divide(age_hist, erodible_area) #normalising area resampled to area available to be resampled \n",
    "area_norm[0] = 0\n",
    "#age_norm = np.delete(age_norm, 0, axis = 0)\n",
    "#plt.hist(age_norm)\n",
    "normalising = np.concatenate((age_hist, erodible_area, area_norm), axis = 1) #column vector of frequencies of ages \n",
    "                                                                        #(i.e. area reworked)[0], area avail to rework [1]\n",
    "                                                                        # and the normalised area/reworking time [2]\n",
    "#print(normalising)\n",
    "\n",
    "#ax[0].plot(age_dist, area_norm) #plot the series showing the area resampled normalised to the area available for resampling\n",
    "#ax[0].plot(age_dist[1:], age_hist[1:])\n",
    "#ax[0].set_ylim(0, area_norm.max())\n",
    "norm_area_hist, bins = np.histogram(area_norm, bins = num_timesteps) #gets frequency of ages, normalised to the area available for reworking\n",
    "norm_area_hist = np.reshape(norm_area_hist, [num_timesteps, 1])\n",
    "\n",
    "#frequencies = np.append(age_dist, hist, axis = 1)\n",
    "frequencies = np.append(age_dist, norm_area_hist, axis = 1) # becuase we want the frequencies of the normalised age/areas from which we can find the most frequent\n",
    "\n",
    "print(np.percentile(frequencies, 10))\n",
    "\n",
    "\n",
    "print(frequencies.shape)\n",
    "\n",
    "ax[0].hist(area_norm, bins = num_timesteps)\n",
    "ax[1].hist(norm_area_hist, bins = 50) #frequency of frequencies\n",
    "ax[0].set_title('Vol Resampled, normalised to area')\n",
    "ax[1].set_title('Freq Distribution of amount of Vol Resampled')\n",
    "\n",
    "want_quants = np.array([0.25, 0.50, 0.75, 0.90])\n",
    "quants = np.quantile(frequencies[:, 1], want_quants)\n",
    "mode_arr = stats.mode(frequencies[:, 1])\n",
    "print('Mode: ', mode_arr)\n",
    "print(str(100*want_quants[0])+'th: ', quants[0], str(100*want_quants[1])+'th: ', quants[1], str(100*want_quants[2])+'th: ', quants[2], str(100*want_quants[3])+'th: ', quants[3])\n",
    "\n",
    "for i in mode_arr:\n",
    "    mode = ax[1].axvline(i, lw = 1.2, ls = '-.', c = 'k', label = 'Mode')\n",
    "#mean = ax[axloc].axvline(mean_temp, lw = 1.2, ls = '--', c = 'xkcd:slate', label = 'Mean (Arith)')\n",
    "#median = ax[axloc].axvline(median_temp, lw = 1.2, ls = '--', c = 'xkcd:grey', label = 'Median')\n",
    "quant50 = ax[1].axvline(quants[0], lw = 1.2, ls = '--', c = 'xkcd:grey', label = '50th ' + str(np.floor(quants[0])))\n",
    "quant75 = ax[1].axvline(quants[1], lw = 1.2, ls = '--', c = 'xkcd:kelly green', label = '75th ' +str(np.floor(quants[1])))\n",
    "quant85 = ax[1].axvline(quants[2], lw = 1.2, ls = '--', c = 'xkcd:red', label = '85th ' +str(np.floor(quants[2])))\n",
    "quant95 = ax[1].axvline(quants[3], lw = 1.2, ls = '--', c = 'xkcd:blue', label = '95th '+str(np.floor(quants[3])))\n",
    "    \n",
    "ax[1].legend(bbox_to_anchor=(0.5, 0.55), handles = [mode, quant50, quant75, quant85, quant95])\n",
    "#print('freq', hist)\n",
    "\n",
    "fig, ax = plt.subplots(len(quants)+2, figsize = (10, 18), tight_layout = True, sharex = True, sharey = True)\n",
    "for i in range(0, len(quants)+2):\n",
    "    for j in range (0, end_t-1): \n",
    "        ax[i].plot(posnew, stratinterpcub[j], c='k', lw = '0.1', alpha = 1)\n",
    "ax[0].set_title('All Surfaces')\n",
    "\n",
    "\n",
    "##### if we want to plot with \n",
    "\n",
    "## 50th percentile, i.e. median\n",
    "ero_surf_idx_50 = np.where(frequencies[:, 1]>quants[0])\n",
    "target_ages_50 = frequencies[:, 0][ero_surf_idx_50]\n",
    "\n",
    "for i in target_ages_50:\n",
    "    ax[1].plot(posnew, stratinterpcub[i], lw = 1, c = 'r', label = str(100*want_quants[0])+'th percentile surfaces')\n",
    "    ax[5].plot(posnew, stratinterpcub[i], lw = 2, c = 'k', alpha = 0.7, label = str(10*want_quants[0]))\n",
    "    \n",
    "ax[1].set_title(str(100*want_quants[0])+'th Quantile vol resampled')\n",
    "\n",
    "## 75th percentile i.e. 3rd quartile\n",
    "ero_surf_idx_75 = np.where(frequencies[:, 1]>quants[1]) #find frequencies (idx) where vol resampling > 3rd quartile\n",
    "target_ages_75 = frequencies[:, 0][ero_surf_idx_75] #make an array of the ages that > q3 vol resampling\n",
    "\n",
    "\n",
    "## make new array to store main surfaces\n",
    "main_surfs = np.empty([1, len(posnew)])\n",
    "\n",
    "#plot the target ages\n",
    "for i in target_ages_75:\n",
    "    ax[2].plot(posnew, stratinterpcub[i], lw = 1, c = 'r', label = str(100*want_quants[1])+'th percentile surfaces')\n",
    "    ax[5].plot(posnew, stratinterpcub[i], lw = 2, c = 'c', alpha = 0.7, label = str(10*want_quants[1]))\n",
    "    strat_temp = np.reshape(stratinterpcub[i], [1, len(stratinterpcub[i])])\n",
    "    main_surfs = np.concatenate((main_surfs, strat_temp))\n",
    "ax[2].set_title(str(100*want_quants[1])+'th Quantile of Vol Resampled')\n",
    "\n",
    "## 85th percentile\n",
    "\n",
    "ero_surf_idx_85 = np.where(frequencies[:, 1]>quants[2])\n",
    "target_ages_85 = frequencies[:, 0][ero_surf_idx_85]\n",
    "\n",
    "for i in target_ages_85:\n",
    "    ax[3].plot(posnew, stratinterpcub[i], lw = 1, c = 'r', label = str(100*want_quants[2])+'th percentile surfaces')\n",
    "    ax[5].plot(posnew, stratinterpcub[i], lw = 2, c = 'm', alpha = 0.7, label = str(10*want_quants[2]))\n",
    "    strat_temp = np.reshape(stratinterpcub[i], [1, len(stratinterpcub[i])])\n",
    "    main_surfs = np.concatenate((main_surfs, strat_temp))\n",
    "ax[3].set_title(str(100*want_quants[2])+'th Quantile of Vol Resampled')\n",
    "\n",
    "## 95th percentile\n",
    "\n",
    "ero_surf_idx_95 = np.where(frequencies[:, 1]>quants[3]) #find frequencies (idx) where vol resampling > 3rd quartile\n",
    "target_ages_95 = frequencies[:, 0][ero_surf_idx_95] #make an array of the ages that > q3 vol resampling\n",
    "\n",
    "#plot the target ages\n",
    "for i in target_ages_95:\n",
    "    ax[4].plot(posnew, stratinterpcub[i], lw = 1, c = 'r', label = str(100*want_quants[3])+'th percentile surfaces')\n",
    "    ax[5].plot(posnew, stratinterpcub[i], lw = 2, c = 'y', alpha = 0.7, label = str(10*want_quants[3]))\n",
    "ax[4].set_title(str(100*want_quants[3])+'th Quantile of Vol. Resampled')\n",
    "\n",
    "for i in range (0, end_t-1):\n",
    "    ax[5].plot(posnew, erohiatalsurf[i], lw = 2, c = 'xkcd:slate', label = 'ero surfs', alpha = 0.3)\n",
    "\n",
    "ax[5].set_title('Real surfaces of erosion (g), ptile surfs (r 75, b 95)')\n",
    "ax[5].set_xlabel('Cross stream distance, m')\n",
    "fig.suptitle('With Normalising')"
   ]
  },
  {
   "cell_type": "markdown",
   "metadata": {
    "id": "iklmZoRs4uVf"
   },
   "source": [
    "## APPROACH 2-v2 (New, UD 25/01/2021) Also markdown bc not ideal"
   ]
  },
  {
   "cell_type": "markdown",
   "metadata": {
    "id": "stV6hVPT4uVf"
   },
   "source": [
    "fig, ax = plt.subplots(1, 2, figsize = (6, 3), tight_layout = True)\n",
    "allages = ages_ero.ravel()\n",
    "age_dist = np.reshape(np.arange(0, end_t), [end_t, 1]) #a column vector of all of the number of timesteos\n",
    "\n",
    "age_count = np.empty_like(age_dist).astype(float)\n",
    "age_normtoarea = age_count.copy().astype(float)\n",
    "for age in range (1, end_t):\n",
    "   \n",
    "    area = age*posnew.max()\n",
    "    available_area = ages_ero[:age+1, :]\n",
    "    age_count[age]=np.count_nonzero(available_area == age)\n",
    "    age_normtoarea[age] = age_count[age]/area\n",
    "       \n",
    "age_normtoarea[0] = age_normtoarea[1] \n",
    "\n",
    "norm_area_hist, bins = np.histogram(age_normtoarea, bins = num_timesteps) #gets frequency of ages, normalised to the area available for reworking\n",
    "norm_area_hist = np.reshape(norm_area_hist, [num_timesteps, 1])\n",
    "#print(norm_area_hist)\n",
    "\n",
    "#frequencies = np.append(age_dist, hist, axis = 1)\n",
    "frequencies = np.append(age_dist, norm_area_hist, axis = 1) # becuase we want the frequencies of the normalised age/areas from which we can find the most frequent\n",
    "\n",
    "# plot histograms\n",
    "ax[0].hist(age_normtoarea, bins = num_timesteps, histtype = 'step')\n",
    "ax[1].hist(norm_area_hist, bins = 50) #frequency of frequencies\n",
    "ax[0].set_title('Vol Resampled, normalised to area')\n",
    "ax[1].set_title('Freq Distribution of amount of Vol Resampled')\n",
    "\n",
    "# declare which quantiles you want to work with\n",
    "want_quants = np.array([0.50, 0.75, 0.90, 0.95])\n",
    "quants = np.quantile(frequencies[:, 1], want_quants)\n",
    "mode_arr = stats.mode(frequencies[:, 1])\n",
    "\n",
    "# print these stats\n",
    "print('Mode: ', mode_arr)\n",
    "print(str(100*want_quants[0])+'th: ', quants[0], str(100*want_quants[1])+'th: ', quants[1], str(100*want_quants[2])+'th: ', quants[2], str(100*want_quants[3])+'th: ', quants[3])\n",
    "\n",
    "# if you want lines on the frequency histogram plot\n",
    "for i in mode_arr:\n",
    "    mode = ax[1].axvline(i, lw = 1.2, ls = '-.', c = 'k', label = 'Mode')\n",
    "#mean = ax[axloc].axvline(mean_temp, lw = 1.2, ls = '--', c = 'xkcd:slate', label = 'Mean (Arith)')\n",
    "#median = ax[axloc].axvline(median_temp, lw = 1.2, ls = '--', c = 'xkcd:grey', label = 'Median')\n",
    "quant50 = ax[1].axvline(quants[0], lw = 1.2, ls = '--', c = 'xkcd:grey', label = '50th ' + str(np.floor(quants[0])))\n",
    "quant75 = ax[1].axvline(quants[1], lw = 1.2, ls = '--', c = 'xkcd:kelly green', label = '75th ' +str(np.floor(quants[1])))\n",
    "quant85 = ax[1].axvline(quants[2], lw = 1.2, ls = '--', c = 'xkcd:red', label = '85th ' +str(np.floor(quants[2])))\n",
    "quant95 = ax[1].axvline(quants[3], lw = 1.2, ls = '--', c = 'xkcd:blue', label = '95th '+str(np.floor(quants[3])))\n",
    "    \n",
    "ax[1].legend(bbox_to_anchor=(0.5, 0.55), handles = [mode, quant50, quant75, quant85, quant95])\n",
    "#print('freq', hist)\n",
    "\n",
    "\n",
    "## make new array to store main surfaces\n",
    "main_surfs = np.empty([1, len(posnew)])\n",
    "\n",
    "fig, ax = plt.subplots(len(quants)+2, figsize = (10, 18), tight_layout = True, sharex = True, sharey = True)\n",
    "for i in range(0, len(quants)+2):\n",
    "    for j in range (0, end_t-1): \n",
    "        ax[i].plot(posnew, stratinterpcub[j], c='k', lw = '0.1', alpha = 1)\n",
    "ax[0].set_title('All Surfaces')\n",
    "\n",
    "##### if we want to plot with \n",
    "\n",
    "## 50th percentile, i.e. median\n",
    "ero_surf_idx_50 = np.where(frequencies[:, 1]>quants[0])\n",
    "target_ages_50 = frequencies[:, 0][ero_surf_idx_50]\n",
    "\n",
    "for i in target_ages_50:\n",
    "    ax[1].plot(posnew, stratinterpcub[i], lw = 3, c = 'r', ls = ':', label = str(100*want_quants[0])+'th percentile surfaces')\n",
    "    ax[5].plot(posnew, stratinterpcub[i], lw = 2, c = 'k', alpha = 0.7, label = str(10*want_quants[0]))\n",
    "    strat_temp = np.reshape(stratinterpcub[i], [1, len(stratinterpcub[i])])\n",
    "    main_surfs = np.concatenate((main_surfs, strat_temp))\n",
    "ax[1].set_title(str(100*want_quants[0])+'th Quantile vol resampled')\n",
    "\n",
    "## 75th percentile i.e. 3rd quartile\n",
    "ero_surf_idx_75 = np.where(frequencies[:, 1]>quants[1]) #find frequencies (idx) where vol resampling > 3rd quartile\n",
    "target_ages_75 = frequencies[:, 0][ero_surf_idx_75] #make an array of the ages that > q3 vol resampling\n",
    "\n",
    "#plot the target ages\n",
    "for i in target_ages_75:\n",
    "    ax[2].plot(posnew, stratinterpcub[i], lw = 3, c = 'r', ls = ':', label = str(100*want_quants[1])+'th percentile surfaces')\n",
    "    ax[5].plot(posnew, stratinterpcub[i], lw = 2, c = 'c', alpha = 0.7, label = str(10*want_quants[1]))\n",
    "    \n",
    "ax[2].set_title(str(100*want_quants[1])+'th Quantile of Vol Resampled')\n",
    "\n",
    "## 85th percentile\n",
    "\n",
    "ero_surf_idx_85 = np.where(frequencies[:, 1]>quants[2])\n",
    "target_ages_85 = frequencies[:, 0][ero_surf_idx_85]\n",
    "\n",
    "for i in target_ages_85:\n",
    "    ax[3].plot(posnew, stratinterpcub[i], lw = 1, c = 'r', label = str(100*want_quants[2])+'th percentile surfaces')\n",
    "    ax[5].plot(posnew, stratinterpcub[i], lw = 2, c = 'm', alpha = 0.7, label = str(10*want_quants[2]))\n",
    "    strat_temp = np.reshape(stratinterpcub[i], [1, len(stratinterpcub[i])])\n",
    "    main_surfs = np.concatenate((main_surfs, strat_temp))\n",
    "ax[3].set_title(str(100*want_quants[2])+'th Quantile of Vol Resampled')\n",
    "\n",
    "## 95th percentile\n",
    "\n",
    "ero_surf_idx_95 = np.where(frequencies[:, 1]>quants[3]) #find frequencies (idx) where vol resampling > 3rd quartile\n",
    "target_ages_95 = frequencies[:, 0][ero_surf_idx_95] #make an array of the ages that > q3 vol resampling\n",
    "\n",
    "#plot the target ages\n",
    "for i in target_ages_95:\n",
    "    ax[4].plot(posnew, stratinterpcub[i], lw = 1, c = 'r', label = str(100*want_quants[3])+'th percentile surfaces')\n",
    "    ax[5].plot(posnew, stratinterpcub[i], lw = 2, c = 'y', alpha = 0.7, label = str(10*want_quants[3]))\n",
    "ax[4].set_title(str(100*want_quants[3])+'th Quantile of Vol. Resampled')\n",
    "\n",
    "for i in range (0, end_t-1):\n",
    "    ax[1].plot(posnew, erohiatalsurf[i], lw = 2, c = 'xkcd:slate', label = 'ero surfs', alpha = 0.5)\n",
    "\n",
    "ax[5].set_title('Real surfaces of erosion (g), ptile surfs (r 75, b 95)')\n",
    "ax[5].set_xlabel('Cross stream distance, m')\n",
    "fig.suptitle('With Normalising')"
   ]
  },
  {
   "cell_type": "markdown",
   "metadata": {
    "id": "LXclP8Xr4uVg"
   },
   "source": [
    "## Approach 1: Version 1 also not good for surfaces where there is a lot of later reowkring. MK 03/02/21"
   ]
  },
  {
   "cell_type": "markdown",
   "metadata": {
    "id": "hxmsYcKE4uVg"
   },
   "source": [
    "fig, ax = plt.subplots(1, 2, figsize = (12, 6), tight_layout = True)\n",
    "allages = ages_ero.ravel()\n",
    "hist, bins = np.histogram(allages, bins = num_timesteps) #gets frequency of alhow l ages\n",
    "hist = np.reshape(hist, [num_timesteps, 1])\n",
    "age_dist = np.reshape(np.arange(0, num_timesteps), [num_timesteps, 1]) #frequency of all ages and ages\n",
    "frequencies = np.append(age_dist, hist, axis = 1)\n",
    "#print(frequencies.shape)\n",
    "ptiles = np.percentile(allages, [50, 75, 90])\n",
    "\n",
    "\n",
    "# I want to plot the most frequent timesteps. I'm finding how much time (frequency) does each time rework the stratigraphy \n",
    "#(i.e. how deep is each erosion surface\n",
    "# if a surface is really erosive, there will be a higher count of that time in the ages_ero array which means that\n",
    "# it will be have a high frequency (lets call this resampling volume). So we know the ages frequency, but we need to know which ages are the ones to \n",
    "# look for, i.e. above a threshold volume of resampling, therefore we should have a histogram that shows the distribution\n",
    "# of volume resampling in the stratigraphy. We want the really high volume resampling amounts, which should be anything in\n",
    "# the tail of this histogram. The ages, that fall in that distribution (Q3 and above or some percentile value) are the\n",
    "# main erosion ages we want to sample. i.e. plot stratigraphy at that freuency of volume resampling. I think this makes sense?????\n",
    "\n",
    "ax[0].plot(age_dist, hist)\n",
    "#ax[0].hist(allages, bins = num_timesteps)\n",
    "ax[1].hist(hist, bins = 50) #frequency of frequencies\n",
    "ax[0].set_title('Volume resampling, for AGES')\n",
    "ax[1].set_title('Freq Distribution of amount of Vol Resampled')\n",
    "\n",
    "want_quants = np.array([0.95, 0.50, 0.75, 0.90])\n",
    "quants = np.quantile(frequencies[:, 1], want_quants)\n",
    "mode_arr = stats.mode(frequencies[:, 1])\n",
    "print('Mode: ', mode_arr)\n",
    "print('50th: ', quants[0], ' 75th: ', quants[1], ' 90th ', quants[2])\n",
    "\n",
    "for i in mode_arr:\n",
    "    mode = ax[1].axvline(i, lw = 1.2, ls = '-.', c = 'k', label = 'Mode')\n",
    "#mean = ax[axloc].axvline(mean_temp, lw = 1.2, ls = '--', c = 'xkcd:slate', label = 'Mean (Arith)')\n",
    "#median = ax[axloc].axvline(median_temp, lw = 1.2, ls = '--', c = 'xkcd:grey', label = 'Median')\n",
    "quant50 = ax[1].axvline(quants[0], lw = 1.2, ls = '--', c = 'xkcd:grey', label = '50th ' + str(np.floor(quants[0])))\n",
    "quant75 = ax[1].axvline(quants[1], lw = 1.2, ls = '--', c = 'xkcd:kelly green', label = '75th ' +str(np.floor(quants[1])))\n",
    "quant85 = ax[1].axvline(quants[2], lw = 1.2, ls = '--', c = 'xkcd:red', label = '85th ' +str(np.floor(quants[2])))\n",
    "quant95 = ax[1].axvline(quants[3], lw = 1.2, ls = '--', c = 'xkcd:blue', label = '95th '+str(np.floor(quants[3])))\n",
    "    \n",
    "ax[1].legend(bbox_to_anchor=(0.5, 0.55), handles = [mode, quant50, quant75, quant85, quant95])\n",
    "#print('freq', hist)\n",
    "\n",
    "fig, ax = plt.subplots(len(quants)+2, figsize = (10, 18), tight_layout = True, sharex = True, sharey = True)\n",
    "for i in range(0, len(quants)+2):\n",
    "    for j in range (0, end_t-1): \n",
    "        ax[i].fill_between(posnew, stratinterpcub[j+1], stratinterpcub[j], color=cpick.to_rgba(j), alpha= 0.5, linewidth = 0.0)\n",
    "        ax[i].plot(posnew, erohiatalsurf[j], c='k', lw = '3', ls=':', alpha = 1)\n",
    "ax[0].set_title('All Surfaces')\n",
    "##### if we want to plot with \n",
    "\n",
    "## 50th percentile, i.e. median\n",
    "ero_surf_idx_50 = np.where(frequencies[:, 1]>quants[0])\n",
    "target_ages_50 = frequencies[:, 0][ero_surf_idx_50]\n",
    "\n",
    "for i in target_ages_50:\n",
    "    ax[1].plot(posnew, stratinterpcub[i], lw = 1, c = 'r', ls = '--', label = str(100*want_quants[0])+'th percentile surfaces')\n",
    "    ax[5].plot(posnew, stratinterpcub[i], lw = 2, c = 'k', alpha = 0.7, label = str(10*want_quants[0]))\n",
    "    \n",
    "ax[1].set_title(str(100*want_quants[0])+'th Quantile vol resampled')\n",
    "\n",
    "## 75th percentile i.e. 3rd quartile\n",
    "ero_surf_idx_75 = np.where(frequencies[:, 1]>quants[1]) #find frequencies (idx) where vol resampling > 3rd quartile\n",
    "target_ages_75 = frequencies[:, 0][ero_surf_idx_75] #make an array of the ages that > q3 vol resampling\n",
    "\n",
    "\n",
    "## make new array to store main surfaces\n",
    "main_surfs = np.empty([1, len(posnew)])\n",
    "\n",
    "#plot the target ages\n",
    "for i in target_ages_75:\n",
    "    ax[2].plot(posnew, stratinterpcub[i], lw = 1, c = 'r', ls = '--', label = str(100*want_quants[1])+'th percentile surfaces')\n",
    "    ax[5].plot(posnew, stratinterpcub[i], lw = 2, c = 'c', alpha = 0.7, label = str(10*want_quants[1]))\n",
    "    #strat_temp = np.reshape(stratinterpcub[i], [1, len(stratinterpcub[i])])\n",
    "    #main_surfs = np.concatenate((main_surfs, strat_temp))\n",
    "ax[2].set_title(str(100*want_quants[1])+'th Quantile of Vol Resampled')\n",
    "\n",
    "## 85th percentile\n",
    "\n",
    "ero_surf_idx_85 = np.where(frequencies[:, 1]>quants[2])\n",
    "target_ages_85 = frequencies[:, 0][ero_surf_idx_85]\n",
    "\n",
    "for i in target_ages_85:\n",
    "    ax[3].plot(posnew, stratinterpcub[i], lw = 1, c = 'r', ls = '--', label = str(100*want_quants[2])+'th percentile surfaces')\n",
    "    ax[5].plot(posnew, stratinterpcub[i], lw = 2, c = 'm', alpha = 0.7, label = str(10*want_quants[2]))\n",
    "    strat_temp = np.reshape(stratinterpcub[i], [1, len(stratinterpcub[i])])\n",
    "    main_surfs = np.concatenate((main_surfs, strat_temp))\n",
    "ax[3].set_title(str(100*want_quants[2])+'th Quantile of Vol Resampled')\n",
    "\n",
    "## 95th percentile\n",
    "\n",
    "ero_surf_idx_95 = np.where(frequencies[:, 1]>100)#quants[3]) #find frequencies (idx) where vol resampling > 3rd quartile\n",
    "target_ages_95 = frequencies[:, 0][ero_surf_idx_95] #make an array of the ages that > q3 vol resampling\n",
    "\n",
    "#plot the target ages\n",
    "for i in target_ages_95:\n",
    "    ax[4].plot(posnew, stratinterpcub[i], lw = 1, c = 'r', ls = '--', label = str(100*want_quants[3])+'th percentile surfaces')\n",
    "    ax[5].plot(posnew, stratinterpcub[i], lw = 2, c = 'y', alpha = 0.7, label = str(10*want_quants[3]))\n",
    "ax[4].set_title(str(100*want_quants[3])+'th Quantile of Vol. Resampled')\n",
    "\n",
    "for i in range (0, end_t-1):\n",
    "    ax[5].plot(posnew, erohiatalsurf[i], lw = 2, c = 'k', label = 'ero surfs', alpha =1)\n",
    "\n",
    "ax[5].set_title('Real surfaces of erosion (g), ptile surfs (r 75, b 95)')\n",
    "ax[5].set_xlabel('Cross stream distance, m')\n",
    "#ax[5].set_facecolor('k')\n",
    "#p90 = ax[3].plot(posnew, stratinterpcub[-1], lw = 2, c = 'b', alpha = 0.3, label = '90th')\n",
    "#p75 = ax[3].plot(posnew, stratinterpcub[-1], lw = 2, c = 'r', alpha = 0.3, label = '75th')\n",
    "#act = ax[3].plot(posnew, stratinterpcub[-1], lw = 2, c = 'g', alpha = 0.3, label = 'erosurf')\n",
    "\n",
    "#ax[3].legend((p90, p75, act), ('90th', '75th', 'actual surf'))\n",
    "\n",
    "main_surfs = np.delete(main_surfs, 0, axis = 0) #delete first row of main surfs because it was empty\n",
    "#plt.savefig('ages_nonnorm.png')\n",
    "#plt.close(fig)\n",
    "fig.suptitle('Without Normalising')"
   ]
  },
  {
   "cell_type": "code",
   "execution_count": null,
   "metadata": {
    "ExecuteTime": {
     "end_time": "2021-09-23T15:06:56.566468Z",
     "start_time": "2021-09-23T15:05:51.402Z"
    },
    "executionInfo": {
     "elapsed": 96653,
     "status": "ok",
     "timestamp": 1615986939556,
     "user": {
      "displayName": "Safiya Alpheus",
      "photoUrl": "",
      "userId": "18049693271511077124"
     },
     "user_tz": 240
    },
    "id": "X_uDievM6AeS"
   },
   "outputs": [],
   "source": [
    "plt.plot(cent_nonan[:, 1][cent_nonan[:, 0]==0], cent_nonan[:, 2][cent_nonan[:, 0]==0], '*', lw = 0)"
   ]
  },
  {
   "cell_type": "code",
   "execution_count": null,
   "metadata": {
    "ExecuteTime": {
     "end_time": "2021-09-23T15:06:56.567688Z",
     "start_time": "2021-09-23T15:05:51.406Z"
    }
   },
   "outputs": [],
   "source": [
    "fig, (ax1, ax2, ax3, ax4) = plt.subplots(1, 4, figsize = (10, 2), tight_layout=True, squeeze=True, sharey=True)\n",
    "\n",
    "ax1.hist(shear.ravel(), cumulative=True, density=True, histtype='step', **kwargs, linewidth=3);\n",
    "ax2.hist(trueflow.ravel(), cumulative=True, density=True, histtype='step', **kwargs, linewidth=3);\n",
    "ax3.hist(cellularQ.ravel(), cumulative=True, density=True, histtype='step', **kwargs, linewidth=3);\n",
    "ax4.hist(flowvel.ravel(), cumulative=True, density=True, histtype='step', **kwargs, linewidth=3);"
   ]
  },
  {
   "cell_type": "code",
   "execution_count": null,
   "metadata": {
    "tags": []
   },
   "outputs": [],
   "source": [
    "## polygon testing\n",
    "\n",
    "x = [0, 1, 1]\n",
    "y0 = [0, 0.5, 1]\n",
    "y1 = [1, 0.5, 0]\n",
    "rect = plt.fill_between(x, y0, y1)\n",
    "\n",
    "rverts = rect.get_paths()[0].vertices\n",
    "rectangle = Polygon(rverts)\n",
    "arect = rectangle.area\n",
    "print(rverts)   \n",
    "#rectangle = Polygon(rverts) #create a shapely polygon\n"
   ]
  },
  {
   "cell_type": "code",
   "execution_count": 71,
   "metadata": {},
   "outputs": [
    {
     "data": {
      "text/plain": [
       "[<matplotlib.lines.Line2D at 0x7fa03f1bdb80>]"
      ]
     },
     "execution_count": 71,
     "metadata": {},
     "output_type": "execute_result"
    },
    {
     "data": {
      "image/png": "[encoded data removed]",
      "text/plain": [
       "<Figure size 432x288 with 1 Axes>"
      ]
     },
     "metadata": {
      "needs_background": "light"
     },
     "output_type": "display_data"
    }
   ],
   "source": [
    "for i in range (0, len(pverts)):\n",
    "    plt.plot(pverts[i, 0], pverts[i, 1], marker='.')\n",
    "#plt.ylim(0, 1.2)\n",
    "#plt.xlim(250, 320)\n",
    "plt.plot(centre[0], centre[1], 'r*')"
   ]
  },
  {
   "cell_type": "markdown",
   "metadata": {
    "tags": []
   },
   "source": [
    "##### ##### "
   ]
  },
  {
   "cell_type": "code",
   "execution_count": 83,
   "metadata": {},
   "outputs": [],
   "source": [
    "def carea(vertices): ##THIS FORMULA IS SHIT \n",
    "    '''compute the area of a complex polygon from Paul Bourke'''\n",
    "    brackets = np.empty(len(vertices))\n",
    "    for i in range(0, len(brackets)-1):\n",
    "        brackets[i] = (vertices[i, 0]*vertices[i+1, 1])-(vertices[i+1, 0]*vertices[i, 1])\n",
    "    #print(brackets)\n",
    "    area = 0.5*np.sum(brackets) \n",
    "    return area\n",
    "def cgravity(vertices):\n",
    "    ''' find the centre of gravity of a polygon given the veritces listed in a counter clickwise direction. formula from Paul Bourke'''\n",
    "    pgon = Polygon(vertices)\n",
    "    pgonarea = pgon.area\n",
    "    xy = np.empty([len(vertices)-1, 2])\n",
    "    for i in range (0, len(vertices)-1):\n",
    "        xy[i, 0] = (vertices[i, 0]+vertices[i+1, 0])*(vertices[i, 0]*vertices[i+1, 1]-(vertices[i+1, 0]*vertices[i, 1]))\n",
    "        xy[i, 1] = (vertices[i, 1]+vertices[i+1, 1])*(vertices[i, 0]*vertices[i+1, 1]-(vertices[i+1, 0]*vertices[i, 1]))\n",
    "    XY = np.sum(xy, axis = 0)\n",
    "    prefactor = 1/(6*pgonarea)\n",
    "    cgrav = (prefactor*(XY.T))\n",
    "    cgrav = np.reshape(cgrav, (1, 2))\n",
    "    \n",
    "    return cgrav\n",
    "                 \n",
    "                 \n"
   ]
  },
  {
   "cell_type": "code",
   "execution_count": 84,
   "metadata": {},
   "outputs": [
    {
     "data": {
      "text/plain": [
       "(1, 2)"
      ]
     },
     "execution_count": 84,
     "metadata": {},
     "output_type": "execute_result"
    }
   ],
   "source": [
    "cgravity(pverts).shape"
   ]
  },
  {
   "cell_type": "code",
   "execution_count": 70,
   "metadata": {},
   "outputs": [
    {
     "name": "stdout",
     "output_type": "stream",
     "text": [
      "area comparison 0.21348548784794275 48.71348548784786\n"
     ]
    }
   ],
   "source": [
    "centre = cgravity(pverts)"
   ]
  },
  {
   "cell_type": "code",
   "execution_count": 72,
   "metadata": {},
   "outputs": [
    {
     "data": {
      "text/plain": [
       "(2,)"
      ]
     },
     "execution_count": 72,
     "metadata": {},
     "output_type": "execute_result"
    }
   ],
   "source": [
    "centre.shape"
   ]
  },
  {
   "cell_type": "code",
   "execution_count": null,
   "metadata": {},
   "outputs": [],
   "source": []
  }
 ],
 "metadata": {
  "colab": {
   "collapsed_sections": [
    "6K_uao1A4uVS",
    "7hIP60LN4uVT",
    "bNyoSDsk4uVb",
    "ytEo3iLZ4uVb",
    "2l6t8Qzv4uVe",
    "ajA0OySt4uVe",
    "DR4Jkmmv4uVf",
    "XFdAXP0K4uVf",
    "qRo7sonu4uVf",
    "V2E9CZqY4uVf",
    "iklmZoRs4uVf",
    "LXclP8Xr4uVg"
   ],
   "name": "StratBuilder-CleanMar21.ipynb",
   "provenance": []
  },
  "kernelspec": {
   "display_name": "Python 3 (ipykernel)",
   "language": "python",
   "name": "python3"
  },
  "language_info": {
   "codemirror_mode": {
    "name": "ipython",
    "version": 3
   },
   "file_extension": ".py",
   "mimetype": "text/x-python",
   "name": "python",
   "nbconvert_exporter": "python",
   "pygments_lexer": "ipython3",
   "version": "3.8.12"
  },
  "toc": {
   "base_numbering": 1,
   "nav_menu": {},
   "number_sections": true,
   "sideBar": true,
   "skip_h1_title": false,
   "title_cell": "Table of Contents",
   "title_sidebar": "Contents",
   "toc_cell": false,
   "toc_position": {},
   "toc_section_display": true,
   "toc_window_display": false
  },
  "varInspector": {
   "cols": {
    "lenName": 16,
    "lenType": 16,
    "lenVar": 40
   },
   "kernels_config": {
    "python": {
     "delete_cmd_postfix": "",
     "delete_cmd_prefix": "del ",
     "library": "var_list.py",
     "varRefreshCmd": "print(var_dic_list())"
    },
    "r": {
     "delete_cmd_postfix": ") ",
     "delete_cmd_prefix": "rm(",
     "library": "var_list.r",
     "varRefreshCmd": "cat(var_dic_list()) "
    }
   },
   "position": {
    "height": "816px",
    "left": "1548px",
    "right": "20px",
    "top": "114px",
    "width": "354px"
   },
   "types_to_exclude": [
    "module",
    "function",
    "builtin_function_or_method",
    "instance",
    "_Feature"
   ],
   "window_display": false
  }
 },
 "nbformat": 4,
 "nbformat_minor": 4
}
