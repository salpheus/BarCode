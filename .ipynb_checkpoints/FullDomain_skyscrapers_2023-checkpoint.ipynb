{
 "cells": [
  {
   "cell_type": "markdown",
   "metadata": {},
   "source": [
    "This code is for plotting using the full model domain rather than slong specific inline or crossline sections. "
   ]
  },
  {
   "cell_type": "code",
   "execution_count": 1,
   "metadata": {
    "ExecuteTime": {
     "end_time": "2021-12-05T17:21:56.946249Z",
     "start_time": "2021-12-05T17:21:55.889218Z"
    },
    "hide_input": true,
    "tags": []
   },
   "outputs": [
    {
     "name": "stderr",
     "output_type": "stream",
     "text": [
      "In /opt/anaconda3/lib/python3.7/site-packages/matplotlib/mpl-data/stylelib/_classic_test.mplstyle: \n",
      "The text.latex.preview rcparam was deprecated in Matplotlib 3.3 and will be removed two minor releases later.\n",
      "In /opt/anaconda3/lib/python3.7/site-packages/matplotlib/mpl-data/stylelib/_classic_test.mplstyle: \n",
      "The mathtext.fallback_to_cm rcparam was deprecated in Matplotlib 3.3 and will be removed two minor releases later.\n",
      "In /opt/anaconda3/lib/python3.7/site-packages/matplotlib/mpl-data/stylelib/_classic_test.mplstyle: Support for setting the 'mathtext.fallback_to_cm' rcParam is deprecated since 3.3 and will be removed two minor releases later; use 'mathtext.fallback : 'cm' instead.\n",
      "In /opt/anaconda3/lib/python3.7/site-packages/matplotlib/mpl-data/stylelib/_classic_test.mplstyle: \n",
      "The validate_bool_maybe_none function was deprecated in Matplotlib 3.3 and will be removed two minor releases later.\n",
      "In /opt/anaconda3/lib/python3.7/site-packages/matplotlib/mpl-data/stylelib/_classic_test.mplstyle: \n",
      "The savefig.jpeg_quality rcparam was deprecated in Matplotlib 3.3 and will be removed two minor releases later.\n",
      "In /opt/anaconda3/lib/python3.7/site-packages/matplotlib/mpl-data/stylelib/_classic_test.mplstyle: \n",
      "The keymap.all_axes rcparam was deprecated in Matplotlib 3.3 and will be removed two minor releases later.\n",
      "In /opt/anaconda3/lib/python3.7/site-packages/matplotlib/mpl-data/stylelib/_classic_test.mplstyle: \n",
      "The animation.avconv_path rcparam was deprecated in Matplotlib 3.3 and will be removed two minor releases later.\n",
      "In /opt/anaconda3/lib/python3.7/site-packages/matplotlib/mpl-data/stylelib/_classic_test.mplstyle: \n",
      "The animation.avconv_args rcparam was deprecated in Matplotlib 3.3 and will be removed two minor releases later.\n",
      "/opt/anaconda3/lib/python3.7/site-packages/statsmodels/tools/_testing.py:19: FutureWarning: pandas.util.testing is deprecated. Use the functions in the public API at pandas.testing instead.\n",
      "  import pandas.util.testing as tm\n"
     ]
    }
   ],
   "source": [
    "import pandas as pd\n",
    "import numpy as np\n",
    "import matplotlib as mpl\n",
    "import matplotlib.pyplot as plt\n",
    "import csv\n",
    "import os\n",
    "import scipy.stats as stats\n",
    "import seaborn as sns\n",
    "import math \n",
    "import matplotlib.animation as animation\n",
    "import matplotlib.colors as mcol\n",
    "import matplotlib.cm as cm\n",
    "import time\n",
    "import random\n",
    "import statistics as stat\n",
    "import collections\n",
    "import copy \n",
    "import warnings\n",
    "import scipy.integrate as integrate\n",
    "import PIL\n",
    "from xml.dom import minidom\n",
    "# from shapely.geometry import Polygon, MultiPolygon\n",
    "#from descartes import PolygonPatch\n",
    "#from PIL import Image\n",
    "from scipy.spatial import distance\n",
    "from scipy import signal\n",
    "from scipy import interpolate\n",
    "from scipy.stats import variation\n",
    "from mpl_toolkits.axes_grid1 import make_axes_locatable\n",
    "from IPython.display import Image\n",
    "from mpl_toolkits.axes_grid1.inset_locator import inset_axes\n",
    "from celluloid import Camera\n",
    "from matplotlib.ticker import (MultipleLocator, AutoMinorLocator, MaxNLocator)\n",
    "\n",
    "#plt.style.use('seaborn-white')\n",
    "\n",
    "from matplotlib.collections import LineCollection, PatchCollection\n",
    "from matplotlib.colors import ListedColormap, BoundaryNorm, LinearSegmentedColormap\n",
    "\n",
    "%matplotlib inline\n",
    "#%matplotlib qt\n",
    "#%matplotlib notebookv\n",
    "#from google.colab import drive\n",
    "#drive.mount(\"/content/gdrive\")"
   ]
  },
  {
   "cell_type": "markdown",
   "metadata": {},
   "source": [
    "Make new cmap from StratBuilder Code"
   ]
  },
  {
   "cell_type": "raw",
   "metadata": {
    "ExecuteTime": {
     "end_time": "2021-12-05T17:21:56.964270Z",
     "start_time": "2021-12-05T17:21:56.948441Z"
    },
    "hide_input": true,
    "tags": []
   },
   "source": [
    "def hex_to_rgb(value):\n",
    "    '''\n",
    "    Converts hex to rgb colours\n",
    "    value: string of 6 characters representing a hex colour.\n",
    "    Returns: list length 3 of RGB values'''\n",
    "    value = value.strip(\"#\") # removes hash symbol if present\n",
    "    lv = len(value)\n",
    "    return tuple(int(value[i:i + lv // 3], 16) for i in range(0, lv, lv // 3))\n",
    "\n",
    "\n",
    "def rgb_to_dec(value):\n",
    "    '''\n",
    "    Converts rgb to decimal colours (i.e. divides each value by 256)\n",
    "    value: list (length 3) of RGB values\n",
    "    Returns: list (length 3) of decimal values'''\n",
    "    return [v/256 for v in value]\n",
    "\n",
    "def get_continuous_cmap(hex_list, float_list=None):\n",
    "    ''' creates and returns a color map that can be used in heat map figures.\n",
    "        If float_list is not provided, colour map graduates linearly between each color in hex_list.\n",
    "        If float_list is provided, each color in hex_list is mapped to the respective location in float_list. \n",
    "        \n",
    "        Parameters\n",
    "        ----------\n",
    "        hex_list: list of hex code strings\n",
    "        float_list: list of floats between 0 and 1, same length as hex_list. Must start with 0 and end with 1.\n",
    "        \n",
    "        Returns\n",
    "        ----------\n",
    "        colour map'''\n",
    "    rgb_list = [rgb_to_dec(hex_to_rgb(i)) for i in hex_list]\n",
    "    if float_list:\n",
    "        pass\n",
    "    else:\n",
    "        float_list = list(np.linspace(0,1,len(rgb_list)))\n",
    "        \n",
    "    cdict = dict()\n",
    "    for num, col in enumerate(['red', 'green', 'blue']):\n",
    "        col_list = [[float_list[i], rgb_list[i][num], rgb_list[i][num]] for i in range(len(float_list))]\n",
    "        cdict[col] = col_list\n",
    "    cmp = mcol.LinearSegmentedColormap('my_cmp', segmentdata=cdict, N=256)\n",
    "    return cmp\n",
    "\n",
    "def make_cmap(colors, position=None, bit=False):\n",
    "\n",
    "    if len(position) != len(colors):\n",
    "        sys.exit('position length must be the same as colors')\n",
    "    elif position[0] != 0 or position[-1] != 1:\n",
    "        sys.exit('position must start with 0 and end with 1')\n",
    "    \n",
    "    cdict = {'red':[], 'green':[], 'blue':[]}\n",
    "    for pos, color in zip(position, colors):\n",
    "\n",
    "        cdict['red'].append((pos, color[0], color[0]))\n",
    "        cdict['green'].append((pos, color[1], color[1]))\n",
    "        cdict['blue'].append((pos, color[2], color[2]))\n",
    "\n",
    "        cmap = mpl.colors.LinearSegmentedColormap('my_colormap',cdict,256)\n",
    "\n",
    "    return cmap\n",
    "\n",
    "## load source xml file\n",
    "xmldoc = minidom.parse('/Volumes/SAF_Data/Python/colourmaps/mellow-rainbow.xml')\n",
    "itemlist = xmldoc.getElementsByTagName('Point')\n",
    "data_vals=[]\n",
    "color_vals=[]\n",
    "\n",
    "for s in itemlist:\n",
    "    \n",
    "    data_vals.append(float(s.attributes['x'].value))\n",
    "    color_vals.append((float(s.attributes['r'].value),\n",
    "    float(s.attributes['g'].value),\n",
    "    float(s.attributes['b'].value)))\n",
    "\n",
    "## construct the colormap\n",
    "\n",
    "mycmap = make_cmap(color_vals,data_vals) ##this is the main rainbow colourmap to be used in the code\n",
    "print('converted successfully!')\n",
    "\n",
    "def reverse_colourmap(cmap, name = 'my_cmap_r'):\n",
    "    reverse = []\n",
    "    k = []   \n",
    "\n",
    "    for key in cmap._segmentdata:    \n",
    "        k.append(key)\n",
    "        channel = cmap._segmentdata[key]\n",
    "        data = []\n",
    "\n",
    "        for t in channel:                    \n",
    "            data.append((1-t[0],t[2],t[1]))            \n",
    "        reverse.append(sorted(data))    \n",
    "\n",
    "    LinearL = dict(zip(k,reverse))\n",
    "    my_cmap_r = mpl.colors.LinearSegmentedColormap(name, LinearL) \n",
    "    return my_cmap_r\n",
    "\n",
    "timesteps_r = reverse_colourmap(mycmap)"
   ]
  },
  {
   "cell_type": "code",
   "execution_count": 37,
   "metadata": {
    "ExecuteTime": {
     "end_time": "2021-12-05T17:21:56.971727Z",
     "start_time": "2021-12-05T17:21:56.969057Z"
    },
    "hide_input": true,
    "tags": []
   },
   "outputs": [],
   "source": [
    "font = {'family' : 'Helvetica',\n",
    "        'weight' : 'normal',\n",
    "        'size'   : 10}\n",
    "\n",
    "mpl.rc('font', **font)\n",
    "\n",
    "pres_cols = ['#e08266', '#feb9a8', '#8da0ae']##for SANCAS and AGU\n",
    "pres_palette = sns.color_palette(pres_cols)"
   ]
  },
  {
   "cell_type": "raw",
   "metadata": {
    "ExecuteTime": {
     "end_time": "2021-12-05T17:21:56.979389Z",
     "start_time": "2021-12-05T17:21:56.973274Z"
    },
    "hide_input": true,
    "tags": []
   },
   "source": [
    "x, y = np.mgrid[-5:5:0.05, -5:5:0.05]\n",
    "z = (np.sqrt(x**2 + y**2) + np.sin(x**2 + y**2))\n",
    "# test = ['a75e09','bd6c48', 'af884a', 'cb7723','7bc8f6','069af3', '0e87cc', '2242c77', '0504aa', '00035b'] ## OG test colour palette, tried and truetri\n",
    "test = ['#8b3103', 'bd6c48','cb7723',  'af884a', '7bc8f6','069af3', '0e87cc', '2242c77', '0504aa', '00035b']\n",
    "        \n",
    "#         'd1b26f', '049dff', '02ccfe', '0343df', '030aa7', '040273']\n",
    "        # '7bc8f6','069af3', '0e87cc', '2242c77', '0504aa', '00035b'] ## OG test colour palette, tried and truetri\n",
    "# test = ['a75e09', 'bd6c48', 'af884a', 'cb7723', '069af3', '#0088ee', '2242c77', '0504aa', '00035b'] \n",
    "# test = ['00035b', '0504aa', '2242c77', '0e87cc', '069af3', '7bc8f6','cb7723','af884a', 'bd6c48', 'a75e09'] \n",
    "centrelines = ['ffffff', '000000']\n",
    "\n",
    "pres_cols = ['#e08266', '#feb9a8', '#8da0ae']##for SANCAS and AGU\n",
    "pres_palette = sns.color_palette(pres_cols)\n",
    "\n",
    "# Binary colormap\n",
    "cmap_depthmap = ListedColormap(['#8b3103', '#bd6c48', '#af884a', \n",
    "                                '#7bc8f6', '#069af3', '#0e87cc', '#2242c7', '#0504aa', '#00035b'])\n",
    "# norm_vvfac = BoundaryNorm(levels, ncolors = cmap_vvfac.N, clip = True)\n",
    "# mmprange = [0.01, 0.025, 0.17, 0.35, 1.5, 10] ## LP, R, D, D-UP, UP\n",
    "# norm_vvfac = BoundaryNorm(mmprange, cmap_vvfac.N)"
   ]
  },
  {
   "cell_type": "code",
   "execution_count": 4,
   "metadata": {
    "ExecuteTime": {
     "end_time": "2021-12-05T17:22:05.078121Z",
     "start_time": "2021-12-05T17:21:56.980772Z"
    },
    "tags": []
   },
   "outputs": [
    {
     "name": "stdin",
     "output_type": "stream",
     "text": [
      "Enter DV flag 0\n"
     ]
    },
    {
     "name": "stdout",
     "output_type": "stream",
     "text": [
      "/Volumes/SAF_Data/NAYS2DH_files/Data/ConvertedArrays/data-agubh2-10km_0hrflood/0hfld-datamaster-2hour-flux.npy\n"
     ]
    }
   ],
   "source": [
    "##### Q = str(100)# discharge in m3/s\n",
    "slope = 0.00137#gradient\n",
    "d50 = 0.31e-3 #d50 grain size in m\n",
    "\n",
    "thot_SS = 802800 #\n",
    "#time from which we restarted the runs to add a flood\n",
    "fldstart_s = 0 ##start time of flood in seconds\n",
    "variabd = int(input('Enter DV flag')) #flag for if in variable discharge regime\n",
    "adjustment_time = 65\n",
    "fldlength = 0\n",
    "idf = '0hfld' #identifier/classifier about the flood setting\n",
    "intstring = '2hour' #time interval of output\n",
    "nickname = 'agubh2-10km' #model nickname, agubh2, gentle_wide etc\n",
    "floodname ='_0hrflood'\n",
    "\n",
    "datnam = f'{idf}-datamaster-{intstring}-flux.npy' #name of the data file to upload\n",
    "dataloc = f'data-{nickname}{floodname}' #where csv files are\n",
    "arrayfolder = f'c-{idf}-{nickname}' #where raw centroid data array stored\n",
    "mainsurfto = f'ms-{idf}-{nickname}' #where bounding surfaces array will go\n",
    "iricoutputt =600 #output time from the model, s\n",
    "\n",
    "print(f'/Volumes/SAF_Data/NAYS2DH_files/Data/ConvertedArrays/{dataloc}/{datnam}')\n",
    "datamaster = np.load(f'/Volumes/SAF_Data/NAYS2DH_files/Data/ConvertedArrays/{dataloc}/{datnam}', allow_pickle = True)\n",
    "\n"
   ]
  },
  {
   "cell_type": "code",
   "execution_count": 5,
   "metadata": {
    "ExecuteTime": {
     "end_time": "2021-12-05T17:22:05.087197Z",
     "start_time": "2021-12-05T17:22:05.081072Z"
    },
    "tags": []
   },
   "outputs": [],
   "source": [
    "iloc = 800#location of the section along i axis\n",
    "jloc = 14#location of the secion along j axis\n",
    "\n",
    "\n",
    "cellW = 4\n",
    "cellL = 10\n",
    "xloc = iloc*cellL\n",
    "xsloc = iloc*cellL\n",
    "#print(xsloc)\n",
    "spacing = 1 #spacing of cross stream x locations, m\n",
    "\n",
    "ps = 2650 # bulk density of quartz kg/m3\n",
    "p = 1000 # density of water in kg/m3\n",
    "nu = 1.787*10e-6 #kinematic viscosity of water in m2/s\n",
    "nu=1.0533e-6\n",
    "g = 9.81 # acceleration due to gravity, m/s2\n",
    "\n",
    "savefilesto = '/Volumes/SAF_Data/NAYS2DH_files/Plots/'\n",
    "modelrun = f'{nickname}-hr-{idf}-{iloc}'"
   ]
  },
  {
   "cell_type": "code",
   "execution_count": 6,
   "metadata": {
    "ExecuteTime": {
     "end_time": "2021-12-05T17:22:05.094941Z",
     "start_time": "2021-12-05T17:22:05.089507Z"
    },
    "tags": []
   },
   "outputs": [
    {
     "name": "stdout",
     "output_type": "stream",
     "text": [
      "Shape of the datamaster dataset is:  (26026, 12, 382)\n"
     ]
    }
   ],
   "source": [
    "##define grid dimensions\n",
    "gridx = 1001\n",
    "gridy = 26\n",
    "\n",
    "datacond = 1\n",
    "if datacond == 1:\n",
    "    cells = gridy\n",
    "else:\n",
    "    cells = gridx\n",
    "length = 1001 #length of the domain in the x direction\n",
    "erostart = 5\n",
    "erostop = 5\n",
    "\n",
    "print('Shape of the datamaster dataset is: ', datamaster.shape)"
   ]
  },
  {
   "cell_type": "code",
   "execution_count": 7,
   "metadata": {
    "ExecuteTime": {
     "end_time": "2021-12-05T17:22:05.102069Z",
     "start_time": "2021-12-05T17:22:05.096933Z"
    },
    "tags": []
   },
   "outputs": [
    {
     "name": "stdout",
     "output_type": "stream",
     "text": [
      "/Volumes/SAF_Data/NAYS2DH_files/Plots/\n"
     ]
    }
   ],
   "source": [
    "print(savefilesto)"
   ]
  },
  {
   "cell_type": "code",
   "execution_count": 8,
   "metadata": {
    "ExecuteTime": {
     "end_time": "2021-12-05T17:22:05.112388Z",
     "start_time": "2021-12-05T17:22:05.107355Z"
    },
    "tags": []
   },
   "outputs": [
    {
     "name": "stdout",
     "output_type": "stream",
     "text": [
      "Number of timesteps being used:  382\n",
      "Shape of data used to plot: (26026, 12, 382)\n"
     ]
    }
   ],
   "source": [
    "num_timesteps = datamaster.shape[2] ## or 168 for 2 weeks# len(os.listdir(filepathcore))-1 ##when u want to stop plotting\n",
    "print('Number of timesteps being used: ', num_timesteps)\n",
    "datamaster = datamaster[:, :, :num_timesteps]\n",
    "position = np.arange(0, length, dtype = float)\n",
    "coevelev = np.empty([num_timesteps])\n",
    "interval_to_plot = 120/60 #we want to plot every ___  HOURS \n",
    "end_t = num_timesteps #len(np.arange(1, num_timesteps, skipstep)) #number of timesteps in data master array\n",
    "fldstart = ((thot_SS+fldstart_s)/3600)/interval_to_plot ##flood starttime, s\n",
    "\n",
    "print('Shape of data used to plot:', datamaster.shape)"
   ]
  },
  {
   "cell_type": "markdown",
   "metadata": {
    "tags": []
   },
   "source": [
    "___\n",
    "# Do Facies Things\n",
    "Extract an array with depth and velocity data from all timesteps, at all points. Calculate the facies on the bed. "
   ]
  },
  {
   "cell_type": "code",
   "execution_count": 13,
   "metadata": {
    "ExecuteTime": {
     "end_time": "2021-12-05T17:22:05.770289Z",
     "start_time": "2021-12-05T17:22:05.114191Z"
    },
    "tags": []
   },
   "outputs": [],
   "source": [
    "\n",
    "trueflow = np.reshape(datamaster[:, 4, :], (gridy, gridx, end_t))\n",
    "flowvel = np.reshape(datamaster[:, 10, :], (gridy, gridx, end_t))"
   ]
  },
  {
   "cell_type": "code",
   "execution_count": 14,
   "metadata": {
    "ExecuteTime": {
     "end_time": "2021-12-05T17:22:28.139106Z",
     "start_time": "2021-12-05T17:22:27.936414Z"
    }
   },
   "outputs": [
    {
     "name": "stdout",
     "output_type": "stream",
     "text": [
      "1.0019999999999997e-06\n",
      "0.7770191533135022\n"
     ]
    },
    {
     "name": "stderr",
     "output_type": "stream",
     "text": [
      "/opt/anaconda3/lib/python3.7/site-packages/ipykernel_launcher.py:7: RuntimeWarning: divide by zero encountered in log10\n",
      "  import sys\n"
     ]
    }
   ],
   "source": [
    "temp = 20.0 #temperature in degrees celcius\n",
    "kv = (1.14-0.031*(temp-15)+0.00068*((temp-15)**2))*10**-6\n",
    "print(kv)\n",
    "D_star = np.power((1.65*9.81)/(1e3*(kv**2)), 0.333)*3.1e-4\n",
    "print(D_star)\n",
    "d50um = 310\n",
    "chezy_rough = 18*(np.log10(4*trueflow/d50)) #i think this is log10, else they would've put ln no?\n",
    "mmprange = [0, 0.01, 0.025, 0.17, 0.35, 1.5, 10] ## LP, R, D, D-UP, UP #you have to use the zero at the beginning to account for the sub LSPB stuff\n",
    "mmp_full =(p*(flowvel**2))/(1650*(chezy_rough**2)*d50)## modified mobility parameter"
   ]
  },
  {
   "cell_type": "code",
   "execution_count": 15,
   "metadata": {},
   "outputs": [],
   "source": [
    "###### levels = MaxNLocator(nbins = 5).tick_values(0.01, 10)\n",
    "\n",
    "clist = ['#261707', 'xkcd:mud brown', 'xkcd:shit', 'xkcd:dark tan', 'xkcd:sand', 'xkcd:stone']\n",
    "cmap_vvfac = ListedColormap(['#261707', 'xkcd:mud brown', 'xkcd:shit', 'xkcd:dark tan', 'xkcd:sand', 'xkcd:stone'])\n",
    "# norm_vvfac = BoundaryNorm(levels, ncolors = cmap_vvfac.N, clip = True)\n",
    "mmprange = [0, 0.01, 0.025, 0.17, 0.35, 1.5, 10] ## LP, R, D, D-UP, UP\n",
    "norm_vvfac = BoundaryNorm(mmprange, cmap_vvfac.N)"
   ]
  },
  {
   "cell_type": "markdown",
   "metadata": {},
   "source": [
    "Aug 31 2023--making a modification to this code where if dz <= 0 it is not counted in any of the frequency analyses, because if there is erosion no bforms form. "
   ]
  },
  {
   "cell_type": "code",
   "execution_count": 16,
   "metadata": {},
   "outputs": [
    {
     "name": "stdout",
     "output_type": "stream",
     "text": [
      "(26, 1001, 382) (26, 1001, 382) (26, 1001, 382)\n",
      "(25, 1000, 381) (25, 1000, 381) (25, 1000, 381)\n",
      "(25, 1000, 381)\n"
     ]
    }
   ],
   "source": [
    "## calculate true cell dimensions for each timestep\n",
    "\n",
    "x_allt = np.reshape(datamaster[:, 2, :], (gridy, gridx, end_t))\n",
    "y_allt = np.reshape(datamaster[:, 3, :], (gridy, gridx, end_t))\n",
    "z_allt = np.reshape(datamaster[:, 7, :], (gridy, gridx, end_t))\n",
    "\n",
    "print(x_allt.shape, y_allt.shape, z_allt.shape)\n",
    "\n",
    "dz_bed = z_allt[:, :, 1:]-z_allt[:, :, :-1] ## find dz\n",
    "dz_bed = dz_bed[:-1, :-1, :]\n",
    "\n",
    "cell_lengths = x_allt[:, 1:, :]-x_allt[:, :-1, :]\n",
    "cell_lengths = cell_lengths[:-1, :, :-1] ## reduce them to the same dimension by excluding data on the boundaries (transform data to grid face using lower left value as face value)\n",
    "cell_widths = y_allt[1:, :, :]-y_allt[:-1, :, :]\n",
    "cell_widths = cell_widths[:, :-1, :-1]\n",
    "\n",
    "print(cell_lengths.shape, cell_widths.shape, dz_bed.shape)\n",
    "\n",
    "## replace dz_bed <o with nans for calculating facies\n",
    "\n",
    "dz_bed_facies = copy.deepcopy(dz_bed) ##where dz_bed is negative there will be no facies deposited so shouldnt be counted in the facies statistics\n",
    "dz_bed_facies[np.isnan(dz_bed_facies)] = np.nan\n",
    "\n",
    "dz_bed_facies = copy.deepcopy(dz_bed) \n",
    "dz_bed_facies[np.where(dz_bed_facies <= 0)] = np.nan ##replace negative or 0 values with nan values\n",
    "\n",
    "cell_area = cell_lengths*cell_widths ##not including nan\n",
    "cell_volume = cell_area*dz_bed_facies ##not includng nan\n",
    "delta_area = cell_area[:, 1:, :]-cell_area[:, :-1, :] ## in cross stream direcction all cells have th same area direction\n",
    "\n",
    "mmp_to_faces = mmp_full[:-1, :-1, :-1]\n",
    "print(mmp_to_faces.shape)"
   ]
  },
  {
   "cell_type": "code",
   "execution_count": 17,
   "metadata": {},
   "outputs": [
    {
     "data": {
      "image/png": "[encoded data removed]",
      "text/plain": [
       "<Figure size 432x288 with 1 Axes>"
      ]
     },
     "metadata": {
      "needs_background": "light"
     },
     "output_type": "display_data"
    }
   ],
   "source": [
    "## see bed elevation change on the bed, compare to facies dz array made to exclude nans\n",
    "plt.hist(dz_bed.ravel(), bins = np.arange(-4, 4, step = 0.1));\n",
    "plt.hist(dz_bed_facies.ravel(), bins = np.arange(-4, 4, step = 0.1), histtype = 'step');\n",
    "plt.title('histogram of elevation change on the bed, \\n orangeline is facies array with all negative values removed');"
   ]
  },
  {
   "cell_type": "code",
   "execution_count": 18,
   "metadata": {},
   "outputs": [
    {
     "data": {
      "image/png": "[encoded data removed]",
      "text/plain": [
       "<Figure size 432x288 with 1 Axes>"
      ]
     },
     "metadata": {
      "needs_background": "light"
     },
     "output_type": "display_data"
    }
   ],
   "source": [
    "# plt.hist(delta_areax.ravel())\n",
    "plt.hist(delta_area.ravel())\n",
    "plt.title('comparing the difference between cell areas dwstm direction');"
   ]
  },
  {
   "cell_type": "code",
   "execution_count": 19,
   "metadata": {
    "tags": []
   },
   "outputs": [],
   "source": [
    "### import facies and frind frequencies in the stratgiraphy\n",
    "## idx--0 has nothing, 1--xy_topo\n",
    "arrdir = ('/Volumes/SAF_Data/NAYS2DH_files/Data/nparrays/streamwise-masters/agubh2-10km-xs-250m/')\n",
    "arrlist = os.listdir(arrdir)\n",
    "\n",
    "sec_mmpdz = pd.DataFrame() ##holds facies scaled to thickness change between two timestps (calculates the facies area per cell)\n",
    "\n",
    "secstart = 100\n",
    "secstop = 901\n",
    "secspace = 25\n",
    "sections = np.arange(secstart, secstop, secspace)\n",
    "\n",
    "\n",
    "## average values for shear stress, depth, velocity and sediment flux at each cross-section location (the 250m spaced ones). \n",
    "shearavg = np.empty([1, len(sections)])\n",
    "depthavg = np.empty([1, len(sections)])\n",
    "velavg = np.empty([1, len(sections)])\n",
    "fluxavg = np.empty([1, len(sections)])\n",
    "\n",
    "strat_freq = np.empty([len(mmprange)-1, len(sections)]) \n",
    "strat_freq_edges = np.empty([len(mmprange), len(sections)])\n",
    "strat_percents = np.empty([len(mmprange)-1, len(sections)])\n",
    "# print(strat_freq.shape)\n",
    "for x, file in enumerate(arrlist):\n",
    "    ##### ((xy_strat, xy_topo, shear, trueflow, flowvel, bedflux, mmp))\n",
    "    \n",
    "    array = np.load(arrdir+file, allow_pickle = True)\n",
    "    # facarray = array[:, :, -1]\n",
    "    # strat_freq[:, x], strat_freq_edges[:, x] = np.histogram(facarray[~np.isnan(facarray)].ravel(), bins = [0, 0.01, 0.025, 0.17, 0.35, 1.5, 10])\n",
    "    # strat_percents[:, x] = strat_freq[:, x]/len(facarray[~np.isnan(facarray)].ravel())\n",
    "\n",
    "    shearavg[:, x] = np.nanmean(array[:, :, 2])\n",
    "    depthavg[:, x] = np.nanmean(array[:, :, 3])\n",
    "    velavg[:, x] = np.nanmean(array[:, :, 4])\n",
    "    fluxavg[:, x] = np.nanmean(array[:, :, 5])\n",
    "    \n",
    "    array[:, :, 1][np.isnan(array[:, :, -1])] = np.nan  ## where facies = nan previously ascribed in processing script. \n",
    "    dz = array[1:, :, 1]-array[:-1, :, 1] ##find the dz between two timesteps, this is stratigraphym not topography so there should be no negative numbs\n",
    "\n",
    "    df = pd.DataFrame(zip(array[1:, :, -1].ravel(), dz.ravel()), columns = [f'{file}-mmp', f'{file}-dz'])  ## zip together the facies and the thickness change per cell to calculate area. \n",
    "    # sec_mmpdz[f'{file}-mmp'] = array[1:, :, -1].ravel()\n",
    "    # sec_mmpdz[f'{file}-dz'] = dz.ravel()\n",
    "    \n",
    "    sec_mmpdz = pd.concat((sec_mmpdz, df), axis = 1)\n",
    "    \n",
    "    ## sum all locations where facies exists (since dx = 1, area of the facies is just the sum of the dz (length of the rectangle in the xs grid space))\n",
    "    nomve = np.nansum(dz[np.where(array[1:, :, -1]<0.01)])\n",
    "\n",
    "    lspb = np.nansum(dz[np.where(np.logical_and(array[1:, :, -1]>=0.01, array[1:, :, -1]<0.025))])\n",
    "\n",
    "    rip = np.nansum(dz[np.where(np.logical_and(array[1:, :, -1]>=0.025, array[1:, :, -1]<0.17))])\n",
    "\n",
    "    dun = np.nansum(dz[np.where(np.logical_and(array[1:, :, -1]>=0.17, array[1:, :, -1]<0.35))])\n",
    "\n",
    "    dunuspb = np.nansum(dz[np.where(np.logical_and(array[1:, :, -1]>=0.35, array[1:, :, -1]<1.5))])\n",
    "\n",
    "    uspb = np.nansum(dz[np.where(array[1:, :, -1]>=1.5)])\n",
    "\n",
    "    props = [nomve, lspb, rip, dun, dunuspb, uspb]/(np.nansum(dz))\n",
    "    strat_percents[:, x] = np.array([props])"
   ]
  },
  {
   "cell_type": "code",
   "execution_count": 20,
   "metadata": {},
   "outputs": [],
   "source": [
    "bed_w_time = np.empty([len(mmprange)-1, 2, len(np.arange(adjustment_time, end_t-1))]) ## area and vol facies percents on bed at time (global bed area/volume)\n",
    "\n",
    "for idx, t in enumerate(np.arange(adjustment_time, end_t-1)): \n",
    "    \n",
    "    ## calculate area and volume proportions\n",
    "    nomve_a = np.nansum(cell_area[:, :, t][np.where(np.logical_and(mmp_to_faces[:, :, t]>=0, mmp_to_faces[:, :, t]<0.01))])\n",
    "    lspb_a = np.nansum(cell_area[:, :, t][np.where(np.logical_and(mmp_to_faces[:, :, t]>=0.01, mmp_to_faces[:, :, t]<0.025))])\n",
    "    rip_a = np.nansum(cell_area[:, :, t][np.where(np.logical_and(mmp_to_faces[:, :, t]>=0.025, mmp_to_faces[:, :, t]<0.17))])\n",
    "    dun_a = np.nansum(cell_area[:, :, t][np.where(np.logical_and(mmp_to_faces[:, :, t]>=0.17, mmp_to_faces[:, :, t]<0.35))])\n",
    "    dunuspb_a = np.nansum(cell_area[:, :, t][np.where(np.logical_and(mmp_to_faces[:, :, t]>=0.35, mmp_to_faces[:, :, t]<1.5))])\n",
    "    uspb_a = np.nansum(cell_area[:, :, t][np.where(mmp_to_faces[:, :, t]>=1.5)])\n",
    "    \n",
    "    nomve_v = np.nansum(cell_volume[:, :, t][np.where(np.logical_and(mmp_to_faces[:, :, t]>=0, mmp_to_faces[:, :, t]<0.01))])\n",
    "    lspb_v = np.nansum(cell_volume[:, :, t][np.where(np.logical_and(mmp_to_faces[:, :, t]>=0.01, mmp_to_faces[:, :, t]<0.025))])\n",
    "    rip_v = np.nansum(cell_volume[:, :, t][np.where(np.logical_and(mmp_to_faces[:, :, t]>=0.025, mmp_to_faces[:, :, t]<0.17))])\n",
    "    dun_v = np.nansum(cell_volume[:, :, t][np.where(np.logical_and(mmp_to_faces[:, :, t]>=0.17, mmp_to_faces[:, :, t]<0.35))])\n",
    "    dunuspb_v = np.nansum(cell_volume[:, :, t][np.where(np.logical_and(mmp_to_faces[:, :, t]>=0.35, mmp_to_faces[:, :, t]<1.5))])\n",
    "    uspb_v = np.nansum(cell_volume[:, :, t][np.where(mmp_to_faces[:, :, t]>=1.5)])\n",
    "        \n",
    "    \n",
    "    props_a = [nomve_a, lspb_a, rip_a, dun_a, dunuspb_a, uspb_a]/(np.nansum(cell_area[:, :, t]))\n",
    "    bed_w_time[:, 0, idx] = np.array([props_a])\n",
    "    \n",
    "    props_v = [nomve_v, lspb_v, rip_v, dun_v, dunuspb_v, uspb_v]/(np.nansum(cell_volume[:, :, t]))\n",
    "    bed_w_time[:, 1, idx] = np.array([props_v])\n"
   ]
  },
  {
   "cell_type": "code",
   "execution_count": 21,
   "metadata": {},
   "outputs": [
    {
     "data": {
      "image/png": "[encoded data removed]",
      "text/plain": [
       "<Figure size 1080x432 with 2 Axes>"
      ]
     },
     "metadata": {
      "needs_background": "light"
     },
     "output_type": "display_data"
    }
   ],
   "source": [
    "fig, ax = plt.subplots(2, figsize = (15, 6), tight_layout = True, sharex = True, sharey = True)\n",
    "w = 1\n",
    "timesteps = np.arange(adjustment_time, end_t-1)\n",
    "area_bottoms = np.cumsum(bed_w_time[:, 0, :], axis = 0) # find the base of each of the bars for the bar chart\n",
    "vol_bottoms = np.cumsum(bed_w_time[:, 1, :], axis = 0)\n",
    "# ax[0].set_xlim(sections.min(), sections.max())\n",
    "ax[0].set_xlim(adjustment_time, end_t)\n",
    "ax[0].set_ylim(0, 1)\n",
    "# for i in range (0, gridx, 10):\n",
    "# for i in range(len(sections)):\n",
    "ax[0].set_title('area proportion of bed')\n",
    "ax[1].set_title('volume proportion of bed')\n",
    "ax[0].bar(timesteps, bed_w_time[0, 0, :], w, color=clist[0])\n",
    "ax[1].bar(timesteps, bed_w_time[0, 1, :], w, color=clist[0])\n",
    "\n",
    "for i in range(1, len(mmprange)-1):\n",
    "    ax[0].bar(timesteps, bed_w_time[i, 0, :], w, bottom = area_bottoms[i-1, :], color = clist[i])\n",
    "    ax[1].bar(timesteps, bed_w_time[i, 1, :], w, bottom = vol_bottoms[i-1, :], color = clist[i])        "
   ]
  },
  {
   "cell_type": "code",
   "execution_count": 22,
   "metadata": {},
   "outputs": [],
   "source": [
    "## calculate area of the bed covered by specific caies at each section at each timestep \n",
    "# (this is normalised to each timestep so you could do this if you wanted to plot a couple timesteps)\n",
    "bed_percents = np.empty([len(mmprange)-1, len(sections), len(np.arange(adjustment_time, end_t-1))])\n",
    "\n",
    "for t in range(adjustment_time, end_t-1): \n",
    "    for idx, x in enumerate(sections):\n",
    "\n",
    "        nomve = np.nansum(cell_area[:, x, t][np.where(np.logical_and(mmp_to_faces[:, x, t]>=0, mmp_to_faces[:, x, t]<0.01))])\n",
    "\n",
    "        lspb = np.nansum(cell_area[:, x, t][np.where(np.logical_and(mmp_to_faces[:, x, t]>=0.01, mmp_to_faces[:, x, t]<0.025))])\n",
    "\n",
    "        rip = np.nansum(cell_area[:, x, t][np.where(np.logical_and(mmp_to_faces[:, x, t]>=0.025, mmp_to_faces[:, x, t]<0.17))])\n",
    "\n",
    "        dun = np.nansum(cell_area[:, x, t][np.where(np.logical_and(mmp_to_faces[:, x, t]>=0.17, mmp_to_faces[:, x, t]<0.35))])\n",
    "\n",
    "        dunuspb = np.nansum(cell_area[:, x, t][np.where(np.logical_and(mmp_to_faces[:, x, t]>=0.35, mmp_to_faces[:, x, t]<1.5))])\n",
    "\n",
    "        uspb = np.nansum(cell_area[:, x, t][np.where(mmp_to_faces[:, x, t]>=1.5)])\n",
    "\n",
    "        props = [nomve, lspb, rip, dun, dunuspb, uspb]/(np.nansum(cell_area[:, x, t]))\n",
    "\n",
    "        bed_percents[:, idx, t-adjustment_time] = np.array([props])"
   ]
  },
  {
   "cell_type": "code",
   "execution_count": 23,
   "metadata": {},
   "outputs": [
    {
     "name": "stdout",
     "output_type": "stream",
     "text": [
      "(33, 316)\n"
     ]
    }
   ],
   "source": [
    "## calculate area of the bed covered by specific caies at each section at each timestep that will later be normalised by total area\n",
    "int_bed_percents = np.empty([len(mmprange)-1, len(sections), len(np.arange(adjustment_time, end_t-1))]) ## area\n",
    "int_bed_vols = np.empty([len(mmprange)-1, len(sections), len(np.arange(adjustment_time, end_t-1))]) ## vol\n",
    "for t in range(adjustment_time, end_t-1): \n",
    "    for idx, x in enumerate(sections):\n",
    "\n",
    "        nomve = np.nansum(cell_area[:, x, t][np.where(np.logical_and(mmp_to_faces[:, x, t]>=0, mmp_to_faces[:, x, t]<0.01))])\n",
    "\n",
    "        lspb = np.nansum(cell_area[:, x, t][np.where(np.logical_and(mmp_to_faces[:, x, t]>=0.01, mmp_to_faces[:, x, t]<0.025))])\n",
    "\n",
    "        rip = np.nansum(cell_area[:, x, t][np.where(np.logical_and(mmp_to_faces[:, x, t]>=0.025, mmp_to_faces[:, x, t]<0.17))])\n",
    "\n",
    "        dun = np.nansum(cell_area[:, x, t][np.where(np.logical_and(mmp_to_faces[:, x, t]>=0.17, mmp_to_faces[:, x, t]<0.35))])\n",
    "\n",
    "        dunuspb = np.nansum(cell_area[:, x, t][np.where(np.logical_and(mmp_to_faces[:, x, t]>=0.35, mmp_to_faces[:, x, t]<1.5))])\n",
    "\n",
    "        uspb = np.nansum(cell_area[:, x, t][np.where(mmp_to_faces[:, x, t]>=1.5)])\n",
    "\n",
    "        props = [nomve, lspb, rip, dun, dunuspb, uspb]\n",
    "\n",
    "        int_bed_percents[:, idx, t-adjustment_time] = np.array([props])\n",
    "        \n",
    "        #________\n",
    "        nomve = np.nansum(cell_volume[:, x, t][np.where(np.logical_and(mmp_to_faces[:, x, t]>=0, mmp_to_faces[:, x, t]<0.01))])\n",
    "\n",
    "        lspb = np.nansum(cell_volume[:, x, t][np.where(np.logical_and(mmp_to_faces[:, x, t]>=0.01, mmp_to_faces[:, x, t]<0.025))])\n",
    "\n",
    "        rip = np.nansum(cell_volume[:, x, t][np.where(np.logical_and(mmp_to_faces[:, x, t]>=0.025, mmp_to_faces[:, x, t]<0.17))])\n",
    "\n",
    "        dun = np.nansum(cell_volume[:, x, t][np.where(np.logical_and(mmp_to_faces[:, x, t]>=0.17, mmp_to_faces[:, x, t]<0.35))])\n",
    "\n",
    "        dunuspb = np.nansum(cell_volume[:, x, t][np.where(np.logical_and(mmp_to_faces[:, x, t]>=0.35, mmp_to_faces[:, x, t]<1.5))])\n",
    "\n",
    "        uspb = np.nansum(cell_volume[:, x, t][np.where(mmp_to_faces[:, x, t]>=1.5)])\n",
    "\n",
    "        props = [nomve, lspb, rip, dun, dunuspb, uspb]\n",
    "\n",
    "        int_bed_vols[:, idx, t-adjustment_time] = np.array([props])\n",
    "        \n",
    "section_areas = np.sum(cell_area[:, sections, adjustment_time:end_t], axis = 0)\n",
    "section_vols = np.nansum(cell_volume[:, sections, adjustment_time:end_t], axis = 0)\n",
    "print(section_areas.shape)\n"
   ]
  },
  {
   "cell_type": "code",
   "execution_count": 24,
   "metadata": {},
   "outputs": [
    {
     "name": "stdout",
     "output_type": "stream",
     "text": [
      "(6, 33)\n"
     ]
    }
   ],
   "source": [
    "total_area_prop = np.sum(int_bed_percents, axis = 2)/np.sum(section_areas, axis = 1)\n",
    "total_vol_prop = np.nansum(int_bed_vols, axis = 2)/np.nansum(section_vols, axis = 1)\n",
    "print(total_area_prop.shape)"
   ]
  },
  {
   "cell_type": "code",
   "execution_count": 25,
   "metadata": {},
   "outputs": [
    {
     "data": {
      "text/plain": [
       "Text(0.5, 1.0, 'total bed volume facies propoertion in each cross section')"
      ]
     },
     "execution_count": 25,
     "metadata": {},
     "output_type": "execute_result"
    },
    {
     "data": {
      "image/png": "[encoded data removed]",
      "text/plain": [
       "<Figure size 1080x432 with 2 Axes>"
      ]
     },
     "metadata": {
      "needs_background": "light"
     },
     "output_type": "display_data"
    }
   ],
   "source": [
    "## Plot the total proportion of the section in each facies, time integrated\n",
    "fig, ax = plt.subplots(2, figsize = (15, 6), tight_layout = True, sharex = True, sharey = True)\n",
    "w = 25\n",
    "\n",
    "int_area_bottoms = np.cumsum(total_area_prop, axis = 0)\n",
    "int_vol_bottoms = np.cumsum(total_vol_prop, axis = 0)\n",
    "ax[0].set_xlim(sections.min(), sections.max())\n",
    "ax[0].set_ylim(0, 1)\n",
    "\n",
    "\n",
    "ax[0].bar(sections, total_area_prop[0, :], w, color=clist[0])\n",
    "\n",
    "for i in range(1, len(mmprange)-1):\n",
    "    ax[0].bar(sections, total_area_prop[i, :], w, bottom = int_area_bottoms[i-1, :], color = clist[i])\n",
    "\n",
    "ax[0].xaxis.set_minor_locator(MultipleLocator(100))\n",
    "secstart = 100\n",
    "secstop = 901\n",
    "secspace = 25\n",
    "\n",
    "ax[1].bar(sections, total_vol_prop[0, :], w, color=clist[0])\n",
    "\n",
    "for i in range(1, len(mmprange)-1):\n",
    "    ax[1].bar(sections, total_vol_prop[i, :], w, bottom = int_vol_bottoms[i-1, :], color = clist[i])\n",
    "\n",
    "# for i in range(len(sections)):\n",
    "\n",
    "ax[0].set_title('total bed area facies propoertion in each cross section')\n",
    "ax[1].set_title('total bed volume facies propoertion in each cross section')"
   ]
  },
  {
   "cell_type": "code",
   "execution_count": 26,
   "metadata": {},
   "outputs": [],
   "source": [
    "strat_perc_ub = np.sum(strat_percents[:2, :], axis = 0)\n",
    "bed_perc_ub = np.sum(bed_percents[:2, :, -1], axis = 0)"
   ]
  },
  {
   "cell_type": "code",
   "execution_count": 27,
   "metadata": {},
   "outputs": [
    {
     "data": {
      "text/plain": [
       "Text(0.5, 0.98, 'Amount of the depositional bed volume in different facies')"
      ]
     },
     "execution_count": 27,
     "metadata": {},
     "output_type": "execute_result"
    },
    {
     "data": {
      "image/png": "[encoded data removed]",
      "text/plain": [
       "<Figure size 1500x300 with 5 Axes>"
      ]
     },
     "metadata": {
      "needs_background": "light"
     },
     "output_type": "display_data"
    }
   ],
   "source": [
    "fig, ax = plt.subplots(1, 5, figsize = (15, 3), tight_layout = True, dpi = 100, sharex = True, sharey = True)\n",
    "\n",
    "## plot histogram of bed thickness change for each timestep, sorted by facies--idk what the point of this was...\n",
    "ax[0].hist(dz_bed_facies[:, :, adjustment_time:][np.where(np.logical_and(mmp_to_faces[:, :, adjustment_time+1:]>=0, mmp_to_faces[:, :, adjustment_time+1:]<0.01))].ravel(),bins = np.arange(-1.5, 1.5, 0.1));#, density = True);\n",
    "ax[1].hist(dz_bed_facies[:, :, adjustment_time:][np.where(np.logical_and(mmp_to_faces[:, :, adjustment_time+1:]>=0.01, mmp_to_faces[:, :, adjustment_time+1:]<0.025))].ravel(), bins = np.arange(-1.5, 1.5, 0.1));#, density = True);\n",
    "ax[2].hist(dz_bed_facies[:, :, adjustment_time:][np.where(np.logical_and(mmp_to_faces[:, :, adjustment_time+1:]>=0.025, mmp_to_faces[:, :, adjustment_time+1:]<0.17))].ravel(), bins = np.arange(-1.5, 1.5, 0.1));#, density = True);\n",
    "ax[3].hist(dz_bed_facies[:, :, adjustment_time:][np.where(np.logical_and(mmp_to_faces[:, :, adjustment_time+1:]>=0.17, mmp_to_faces[:, :, adjustment_time+1:]<0.35))].ravel(), bins = np.arange(-1.5, 1.5, 0.1));#, density = True);\n",
    "ax[4].hist(dz_bed_facies[:, :, adjustment_time:][np.where(np.logical_and(mmp_to_faces[:, :, adjustment_time+1:]>=0.35, mmp_to_faces[:, :, adjustment_time+1:]<1.5))].ravel(), bins = np.arange(-1.5, 1.5, 0.1));#, density = True);\n",
    "\n",
    "ax[0].set_title(f'No movement, {np.round(np.nanmean(dz_bed_facies[:, :, adjustment_time:][np.where(np.logical_and(mmp_to_faces[:, :, adjustment_time+1:]>=0, mmp_to_faces[:, :, adjustment_time+1:]<0.01))]), 4)}')\n",
    "ax[1].set_title(f'LSPB, {np.round(np.nanmean(dz_bed_facies[:, :, adjustment_time:][np.where(np.logical_and(mmp_to_faces[:, :, adjustment_time+1:]>=0.01, mmp_to_faces[:, :, adjustment_time+1:]<0.017))]), 4)}')\n",
    "ax[2].set_title(f'Ripples, {np.round(np.nanmean(dz_bed_facies[:, :, adjustment_time:][np.where(np.logical_and(mmp_to_faces[:, :, adjustment_time+1:]>=0.017, mmp_to_faces[:, :, adjustment_time+1:]<0.025))]), 4)}')\n",
    "ax[3].set_title(f'Dunes, {np.round(np.nanmean(dz_bed_facies[:, :, adjustment_time:][np.where(np.logical_and(mmp_to_faces[:, :, adjustment_time+1:]>=0.25, mmp_to_faces[:, :, adjustment_time+1:]<0.35))]), 4)}')\n",
    "ax[4].set_title(f'Dunes-USPB, {np.round(np.nanmean(dz_bed_facies[:, :, adjustment_time:][np.where(np.logical_and(mmp_to_faces[:, :, adjustment_time+1:]>=0.35, mmp_to_faces[:, :, adjustment_time+1:]<1.5))]), 4)}')\n",
    "\n",
    "ax[0].set_xlabel('dz')\n",
    "ax[0].set_ylabel('Count')\n",
    "\n",
    "fig.suptitle('Amount of the depositional bed volume in different facies')"
   ]
  },
  {
   "cell_type": "code",
   "execution_count": 28,
   "metadata": {
    "ExecuteTime": {
     "end_time": "2021-12-05T17:22:38.613708Z",
     "start_time": "2021-12-05T17:22:29.507970Z"
    }
   },
   "outputs": [
    {
     "data": {
      "text/plain": [
       "[<matplotlib.lines.Line2D at 0x7feeaed59ed0>]"
      ]
     },
     "execution_count": 28,
     "metadata": {},
     "output_type": "execute_result"
    },
    {
     "data": {
      "image/png": "[encoded data removed]",
      "text/plain": [
       "<Figure size 1080x432 with 2 Axes>"
      ]
     },
     "metadata": {
      "needs_background": "light"
     },
     "output_type": "display_data"
    }
   ],
   "source": [
    "bedforms = ['no movement', 'lspb', 'ripples', 'dunes', 'dunes uspb', 'uspb']\n",
    "fig, ax = plt.subplots(2, figsize = (15, 6), tight_layout = True, sharex = True, sharey = True)\n",
    "w = 25\n",
    "sec_t = -1 ## time you want to see the section abundances for, use -1 because the stratigraphy was only built for that, you cant use anything less than unless you rebuild strat at that time\n",
    "bed_bottoms = np.cumsum(bed_percents[:, :, sec_t], axis = 0)\n",
    "strat_bottoms = np.cumsum(strat_percents, axis = 0)\n",
    "ax[0].set_xlim(sections.min(), sections.max())\n",
    "ax[0].set_ylim(0, 1)\n",
    "# for i in range (0, gridx, 10):\n",
    "# for i in range(len(sections)):\n",
    "ax[0].bar(sections, bed_percents[0, :, sec_t], w, color=clist[0])\n",
    "\n",
    "for i in range(1, len(bedforms)):\n",
    "    ax[0].bar(sections, bed_percents[i, :, sec_t], w, bottom = bed_bottoms[i-1, :], color = clist[i])\n",
    "# for x in range (0, 1001, 10):\n",
    "#     for i in range (1, len(xs_freq)):\n",
    "        \n",
    "# for x in range (len(sections)):\n",
    "#     for i in range (1, len(bed_percents)):\n",
    "#         #fac = plt.bar(x, xs_freq[i, x], w, bottom = np.sum(xs_freq[:i, x]), color = clist[i])\n",
    "#         ax[0].bar(sections[x], bed_percents[i, x, -1], 10, bottom = np.sum(bed_percents[:i, x, -1]), color = clist[i-1])\n",
    "# ax=plt.gca()\n",
    "ax[0].xaxis.set_minor_locator(MultipleLocator(100))\n",
    "# ax[0].axhline(0.15, c = 'r', ls = '--')\n",
    "# ax[0].axhline(0.25, c = 'r', ls = '-')\n",
    "\n",
    "secstart = 100\n",
    "secstop = 901\n",
    "secspace = 25\n",
    "\n",
    "ax[1].bar(sections, strat_percents[0, :], w, color=clist[0])\n",
    "\n",
    "for i in range(1, len(bedforms)):\n",
    "    ax[1].bar(sections, strat_percents[i, :], w, bottom = strat_bottoms[i-1, :], color = clist[i])\n",
    "\n",
    "# for i in range(len(sections)):\n",
    "#     ax[1].bar(sections[i], strat_percents[0, i], 10, color=clist[0])\n",
    "\n",
    "# for xpos in range(len(sections)):\n",
    "#     for j in range (1, len(strat_freq)):\n",
    "#         #fac = plt.bar(x, xs_freq[i, x], w, bottom = np.sum(xs_freq[:i, x]), color = clist[i])\n",
    "#         ax[1].bar(sections[xpos], strat_percents[j, xpos], 10, bottom = np.sum(strat_percents[:j, xpos]), color = clist[j-1])\n",
    "        \n",
    "ax[1].xaxis.set_minor_locator(MultipleLocator(100))\n",
    "# ax[1].axhline(0.15, c = 'r', ls = '--')\n",
    "# ax[1].axhline(0.25, c = 'r', ls = '-')\n",
    "\n",
    "ax[0].set_title('Area prop per section on bed, per xs, at final timestep')\n",
    "ax[1].set_title('Area prop in complete strat section, per xs')\n",
    "\n",
    "ax[1].plot(sections, strat_perc_ub, 'r--', lw = 0, marker = '_')\n",
    "ax[0].plot(sections, bed_perc_ub, 'r--', lw = 0, marker = '_')\n",
    "# plt.savefig('/Users/safiya/Desktop/BarManuscript_2022-local/figs/skyscraper-facies.png', transparent = True)\n",
    "# plt.savefig('/Users/safiya/Desktop/AGU2022/pythonfigs_4poster/faciesskyscraper.png', transparent = True, dpi = 300)\n",
    "# plt.savefig(f'{savefilesto}facies/facieshist{modelrun}.png', dpi = 300)"
   ]
  },
  {
   "cell_type": "markdown",
   "metadata": {},
   "source": [
    "#### Comparing bed conditions to averages from the stratgiraphy"
   ]
  },
  {
   "cell_type": "markdown",
   "metadata": {},
   "source": [
    "#### Compare at the bar scale"
   ]
  },
  {
   "cell_type": "code",
   "execution_count": 29,
   "metadata": {
    "tags": []
   },
   "outputs": [
    {
     "name": "stderr",
     "output_type": "stream",
     "text": [
      "/opt/anaconda3/lib/python3.7/site-packages/ipykernel_launcher.py:44: UserWarning: Warning: converting a masked element to nan.\n",
      "/opt/anaconda3/lib/python3.7/site-packages/ipykernel_launcher.py:44: RuntimeWarning: invalid value encountered in true_divide\n"
     ]
    }
   ],
   "source": [
    "## calculate the proportion in each bar\n",
    "# bins are 0-0.025 LPB\n",
    "#           0.025-0.17 RIP\n",
    "#           0.17-0.35 DUN\n",
    "#           0.35-1.5 DUN UP\n",
    "#           1.5-10 UP\n",
    "allbars = pd.DataFrame(columns = ['array name', 'iloc', 'PreservChar', 'no move', 'lspb', 'ripples', 'dunes', 'dunes uspb', 'uspb',\n",
    "                                 'no move prop', 'lspb prop', 'ripples prop', 'dunes prop', 'dunes uspb prop', 'uspb prop'])\n",
    "\n",
    "arrayfolder = 'agubh2_agu22-250m'\n",
    "# init = '/Volumes/SAF_Data/NAYS2DH_files/Data/nparrays/barpkg-arrays/Summer-bpkg-redo/JULY142022'\n",
    "init = f'/Volumes/SAF_Data/NAYS2DH_files/Data/nparrays/barpkg-arrays/{arrayfolder}'\n",
    "\n",
    "for root, dirs, files in os.walk(init):\n",
    "    for file in files:\n",
    "        arr = np.load(os.path.join(root, file), allow_pickle = True)\n",
    "        arrnm = file[:-4]\n",
    "        iloc = file[:3]\n",
    "        pres = file[4:6]\n",
    "        mmp = arr[:, :, -1] ## the arrays already have the mmp values in them\n",
    "        # mmpfreqs, edges = np.histogram(mmp.ravel(), bins = [0, 0.01, 0.025, 0.17, 0.35, 1.5, 10])\n",
    "        \n",
    "        # total = len(mmp.ravel())\n",
    "        arr[:, :, 1][np.isnan(arr[:, :, -1])] = np.nan ## mask xy topo values?\n",
    "        dz = arr[1:, :, 0]-arr[:-1, :, 0] ## 0 here is xy_topo\n",
    "        \n",
    "        dzm = np.ma.masked_where(np.isnan(arr[1:, :, -1]), dz)\n",
    "\n",
    "        nomve = np.nansum(dzm[np.where(arr[1:, :, -1]<0.01)])\n",
    "\n",
    "        lspb = np.nansum(dzm[np.where(np.logical_and(arr[1:, :, -1]>=0.01, arr[1:, :, -1]<0.025))])\n",
    "\n",
    "        rip = np.nansum(dzm[np.where(np.logical_and(arr[1:, :, -1]>=0.025, arr[1:, :, -1]<0.17))])\n",
    "\n",
    "        dun = np.nansum(dzm[np.where(np.logical_and(arr[1:, :, -1]>=0.17, arr[1:, :, -1]<0.35))])\n",
    "\n",
    "        dunuspb = np.nansum(dzm[np.where(np.logical_and(arr[1:, :, -1]>=0.35, arr[1:, :, -1]<1.5))])\n",
    "\n",
    "        uspb = np.nansum(dzm[np.where(arr[1:, :, -1]>=1.5)])\n",
    "\n",
    "        if np.nansum(dz) == 0:\n",
    "            print(file, np.nansum(dzm))\n",
    "        else:\n",
    "            props = [nomve, lspb, rip, dun, dunuspb, uspb]/(np.nansum(dzm))\n",
    "#             print(np.nansum(props))\n",
    "        \n",
    "        areas = [nomve, lspb, rip, dun, dunuspb, uspb]\n",
    "\n",
    "#         mmpprop = mmpfreqs/total\n",
    "        \n",
    "        test = pd.DataFrame([arrnm], columns = ['array name'])\n",
    "        testil = pd.DataFrame([iloc], columns = ['iloc'])\n",
    "        presgrade = pd.DataFrame([pres], columns = ['PreservChar'])\n",
    "        \n",
    "        \n",
    "        dat = pd.DataFrame([areas], columns = ['no move', 'lspb', 'ripples', 'dunes', 'dunes uspb', 'uspb'])\n",
    "        datprop = pd.DataFrame([props], columns = ['no move prop', 'lspb prop', 'ripples prop', 'dunes prop', 'dunes uspb prop', 'uspb prop'])\n",
    "        \n",
    "        # dat = pd.DataFrame(mmpfreqs.reshape(1, 6), columns = ['no move', 'lspb', 'ripples', 'dunes', 'dunes uspb', 'uspb'])\n",
    "        # datprop = pd.DataFrame(mmpprop.reshape(1, 6), columns = ['no move prop', 'lspb prop', 'ripples prop', 'dunes prop', 'dunes uspb prop', 'uspb prop'])\n",
    "        toadd = pd.concat((test, testil, presgrade, dat, datprop), axis = 1)\n",
    "        \n",
    "        allbars = pd.concat((allbars, toadd), axis = 0)\n",
    "        \n",
    "# allbars.to_csv(f'/Volumes/SAF_Data/NAYS2DH_files/Data/barCSVs/concat-files/facies-props-agubh2-agu22-250m.csv')"
   ]
  },
  {
   "cell_type": "code",
   "execution_count": 30,
   "metadata": {},
   "outputs": [],
   "source": [
    "allbars['ub prop'] = allbars['no move prop'] + allbars['lspb prop'] \n",
    "allbars['lb prop'] = allbars['dunes prop'] + allbars['dunes uspb prop'] + allbars['uspb prop']+ allbars['ripples prop']"
   ]
  },
  {
   "cell_type": "code",
   "execution_count": 31,
   "metadata": {},
   "outputs": [
    {
     "data": {
      "image/png": "[encoded data removed]",
      "text/plain": [
       "<Figure size 432x288 with 1 Axes>"
      ]
     },
     "metadata": {
      "needs_background": "light"
     },
     "output_type": "display_data"
    }
   ],
   "source": [
    "plt.hist(allbars['ub prop']);\n",
    "plt.title('Histogram of the proportion of UB fac in all bars');"
   ]
  },
  {
   "cell_type": "code",
   "execution_count": 45,
   "metadata": {},
   "outputs": [
    {
     "data": {
      "image/png": "[encoded data removed]",
      "text/plain": [
       "<Figure size 2000x800 with 3 Axes>"
      ]
     },
     "metadata": {
      "needs_background": "light"
     },
     "output_type": "display_data"
    }
   ],
   "source": [
    "fig, ax = plt.subplots(1, 3, sharex = True, sharey = True, tight_layout = True, figsize = (10, 4), dpi = 200)\n",
    "\n",
    "ax[0].hist(allbars['ub prop'][allbars['PreservChar']=='FP'], facecolor = pres_cols[0], ec = 'k', bins = np.arange(0, 1, 0.1))\n",
    "ax[1].hist(allbars['ub prop'][allbars['PreservChar']=='PP'], facecolor = pres_cols[1], ec = 'k', bins = np.arange(0, 1, 0.1))\n",
    "ax[2].hist(allbars['ub prop'][allbars['PreservChar']=='TR'], facecolor = pres_cols[2], ec = 'k', bins = np.arange(0, 1, 0.1))\n",
    "ax[0].set_ylabel('Count')\n",
    "ax[0].set_xlabel('upper bar proportion')\n",
    "ax[1].set_xlabel('upper bar proportion')\n",
    "ax[2].set_xlabel('upper bar proportion')\n",
    "\n",
    "fig.suptitle('Proportion of upper bar facies (nm, lspb)');"
   ]
  },
  {
   "cell_type": "markdown",
   "metadata": {},
   "source": [
    "fig, ax = plt.subplots(1, 3, sharex = True, sharey = True, tight_layout = True, figsize = (10, 4), dpi = 200)\n",
    "\n",
    "ax[0].hist(allbars['lb prop'][allbars['PreservChar']=='FP'], facecolor = pres_cols[0], ec = 'k', bins = np.arange(0, 1, 0.1))\n",
    "ax[1].hist(allbars['lb prop'][allbars['PreservChar']=='PP'], facecolor = pres_cols[1], ec = 'k', bins = np.arange(0, 1, 0.1))\n",
    "ax[2].hist(allbars['lb prop'][allbars['PreservChar']=='TR'], facecolor = pres_cols[2], ec = 'k', bins = np.arange(0, 1, 0.1))\n",
    "ax[0].set_ylabel('Count')\n",
    "ax[0].set_xlabel('lower bar proportion')\n",
    "ax[1].set_xlabel('lower bar proportion')\n",
    "ax[2].set_xlabel('lower bar proportion')\n",
    "\n",
    "fig.suptitle('Proportion of lower bar facies (rip, dunes, dunes-uspb, antidunes)');"
   ]
  },
  {
   "cell_type": "code",
   "execution_count": null,
   "metadata": {},
   "outputs": [],
   "source": []
  },
  {
   "cell_type": "code",
   "execution_count": null,
   "metadata": {},
   "outputs": [],
   "source": []
  },
  {
   "cell_type": "code",
   "execution_count": 48,
   "metadata": {},
   "outputs": [
    {
     "data": {
      "text/html": [
       "<div>\n",
       "<style scoped>\n",
       "    .dataframe tbody tr th:only-of-type {\n",
       "        vertical-align: middle;\n",
       "    }\n",
       "\n",
       "    .dataframe tbody tr th {\n",
       "        vertical-align: top;\n",
       "    }\n",
       "\n",
       "    .dataframe thead th {\n",
       "        text-align: right;\n",
       "    }\n",
       "</style>\n",
       "<table border=\"1\" class=\"dataframe\">\n",
       "  <thead>\n",
       "    <tr style=\"text-align: right;\">\n",
       "      <th></th>\n",
       "      <th>array name</th>\n",
       "      <th>iloc</th>\n",
       "      <th>PreservChar</th>\n",
       "      <th>no move</th>\n",
       "      <th>lspb</th>\n",
       "      <th>ripples</th>\n",
       "      <th>dunes</th>\n",
       "      <th>dunes uspb</th>\n",
       "      <th>uspb</th>\n",
       "      <th>no move prop</th>\n",
       "      <th>lspb prop</th>\n",
       "      <th>ripples prop</th>\n",
       "      <th>dunes prop</th>\n",
       "      <th>dunes uspb prop</th>\n",
       "      <th>uspb prop</th>\n",
       "      <th>ub prop</th>\n",
       "      <th>lb prop</th>\n",
       "    </tr>\n",
       "  </thead>\n",
       "  <tbody>\n",
       "    <tr>\n",
       "      <th>0</th>\n",
       "      <td>100-FP-3-1</td>\n",
       "      <td>100</td>\n",
       "      <td>FP</td>\n",
       "      <td>9.613341</td>\n",
       "      <td>2.581337</td>\n",
       "      <td>11.357766</td>\n",
       "      <td>0.021342</td>\n",
       "      <td>0.0</td>\n",
       "      <td>--</td>\n",
       "      <td>0.407798</td>\n",
       "      <td>0.109500</td>\n",
       "      <td>0.481796</td>\n",
       "      <td>0.000905</td>\n",
       "      <td>0.000000</td>\n",
       "      <td>NaN</td>\n",
       "      <td>0.517298</td>\n",
       "      <td>NaN</td>\n",
       "    </tr>\n",
       "    <tr>\n",
       "      <th>0</th>\n",
       "      <td>100-FP-5-0</td>\n",
       "      <td>100</td>\n",
       "      <td>FP</td>\n",
       "      <td>1.085288</td>\n",
       "      <td>2.179373</td>\n",
       "      <td>17.36927</td>\n",
       "      <td>8.819991</td>\n",
       "      <td>15.466305</td>\n",
       "      <td>--</td>\n",
       "      <td>0.024160</td>\n",
       "      <td>0.048517</td>\n",
       "      <td>0.386669</td>\n",
       "      <td>0.196348</td>\n",
       "      <td>0.344306</td>\n",
       "      <td>NaN</td>\n",
       "      <td>0.072677</td>\n",
       "      <td>NaN</td>\n",
       "    </tr>\n",
       "    <tr>\n",
       "      <th>0</th>\n",
       "      <td>100-FP-5-22</td>\n",
       "      <td>100</td>\n",
       "      <td>FP</td>\n",
       "      <td>0.0</td>\n",
       "      <td>0.0</td>\n",
       "      <td>2.276564</td>\n",
       "      <td>6.272429</td>\n",
       "      <td>0.324285</td>\n",
       "      <td>--</td>\n",
       "      <td>0.000000</td>\n",
       "      <td>0.000000</td>\n",
       "      <td>0.256564</td>\n",
       "      <td>0.706890</td>\n",
       "      <td>0.036546</td>\n",
       "      <td>NaN</td>\n",
       "      <td>0.000000</td>\n",
       "      <td>NaN</td>\n",
       "    </tr>\n",
       "    <tr>\n",
       "      <th>0</th>\n",
       "      <td>100-FP-5-9</td>\n",
       "      <td>100</td>\n",
       "      <td>FP</td>\n",
       "      <td>1.018038</td>\n",
       "      <td>1.437072</td>\n",
       "      <td>15.08775</td>\n",
       "      <td>3.292737</td>\n",
       "      <td>10.265116</td>\n",
       "      <td>--</td>\n",
       "      <td>0.032734</td>\n",
       "      <td>0.046207</td>\n",
       "      <td>0.485126</td>\n",
       "      <td>0.105873</td>\n",
       "      <td>0.330060</td>\n",
       "      <td>NaN</td>\n",
       "      <td>0.078941</td>\n",
       "      <td>NaN</td>\n",
       "    </tr>\n",
       "    <tr>\n",
       "      <th>0</th>\n",
       "      <td>100-PP-4-10</td>\n",
       "      <td>100</td>\n",
       "      <td>PP</td>\n",
       "      <td>3.753532</td>\n",
       "      <td>8.554571</td>\n",
       "      <td>27.624803</td>\n",
       "      <td>1.051774</td>\n",
       "      <td>--</td>\n",
       "      <td>--</td>\n",
       "      <td>0.091584</td>\n",
       "      <td>0.208726</td>\n",
       "      <td>0.674028</td>\n",
       "      <td>0.025663</td>\n",
       "      <td>NaN</td>\n",
       "      <td>NaN</td>\n",
       "      <td>0.300310</td>\n",
       "      <td>NaN</td>\n",
       "    </tr>\n",
       "    <tr>\n",
       "      <th>...</th>\n",
       "      <td>...</td>\n",
       "      <td>...</td>\n",
       "      <td>...</td>\n",
       "      <td>...</td>\n",
       "      <td>...</td>\n",
       "      <td>...</td>\n",
       "      <td>...</td>\n",
       "      <td>...</td>\n",
       "      <td>...</td>\n",
       "      <td>...</td>\n",
       "      <td>...</td>\n",
       "      <td>...</td>\n",
       "      <td>...</td>\n",
       "      <td>...</td>\n",
       "      <td>...</td>\n",
       "      <td>...</td>\n",
       "      <td>...</td>\n",
       "    </tr>\n",
       "    <tr>\n",
       "      <th>0</th>\n",
       "      <td>900-TR-3-8</td>\n",
       "      <td>900</td>\n",
       "      <td>TR</td>\n",
       "      <td>0.369621</td>\n",
       "      <td>0.467226</td>\n",
       "      <td>15.356188</td>\n",
       "      <td>8.07138</td>\n",
       "      <td>11.505992</td>\n",
       "      <td>--</td>\n",
       "      <td>0.010333</td>\n",
       "      <td>0.013062</td>\n",
       "      <td>0.429299</td>\n",
       "      <td>0.225644</td>\n",
       "      <td>0.321662</td>\n",
       "      <td>NaN</td>\n",
       "      <td>0.023395</td>\n",
       "      <td>NaN</td>\n",
       "    </tr>\n",
       "    <tr>\n",
       "      <th>0</th>\n",
       "      <td>900-TR-4-1</td>\n",
       "      <td>900</td>\n",
       "      <td>TR</td>\n",
       "      <td>1.785976</td>\n",
       "      <td>0.150344</td>\n",
       "      <td>1.460494</td>\n",
       "      <td>2.15639</td>\n",
       "      <td>2.946451</td>\n",
       "      <td>--</td>\n",
       "      <td>0.210123</td>\n",
       "      <td>0.017688</td>\n",
       "      <td>0.171830</td>\n",
       "      <td>0.253703</td>\n",
       "      <td>0.346655</td>\n",
       "      <td>NaN</td>\n",
       "      <td>0.227812</td>\n",
       "      <td>NaN</td>\n",
       "    </tr>\n",
       "    <tr>\n",
       "      <th>0</th>\n",
       "      <td>900-TR-4-10</td>\n",
       "      <td>900</td>\n",
       "      <td>TR</td>\n",
       "      <td>0.043892</td>\n",
       "      <td>0.485746</td>\n",
       "      <td>1.497105</td>\n",
       "      <td>2.783629</td>\n",
       "      <td>0.019314</td>\n",
       "      <td>--</td>\n",
       "      <td>0.009088</td>\n",
       "      <td>0.100575</td>\n",
       "      <td>0.309980</td>\n",
       "      <td>0.576358</td>\n",
       "      <td>0.003999</td>\n",
       "      <td>NaN</td>\n",
       "      <td>0.109663</td>\n",
       "      <td>NaN</td>\n",
       "    </tr>\n",
       "    <tr>\n",
       "      <th>0</th>\n",
       "      <td>900-TR-4-14</td>\n",
       "      <td>900</td>\n",
       "      <td>TR</td>\n",
       "      <td>0.523273</td>\n",
       "      <td>0.893497</td>\n",
       "      <td>1.036702</td>\n",
       "      <td>1.112405</td>\n",
       "      <td>0.0</td>\n",
       "      <td>--</td>\n",
       "      <td>0.146745</td>\n",
       "      <td>0.250569</td>\n",
       "      <td>0.290728</td>\n",
       "      <td>0.311958</td>\n",
       "      <td>0.000000</td>\n",
       "      <td>NaN</td>\n",
       "      <td>0.397313</td>\n",
       "      <td>NaN</td>\n",
       "    </tr>\n",
       "    <tr>\n",
       "      <th>0</th>\n",
       "      <td>900-TR-5-11</td>\n",
       "      <td>900</td>\n",
       "      <td>TR</td>\n",
       "      <td>0.719821</td>\n",
       "      <td>0.0</td>\n",
       "      <td>1.359013</td>\n",
       "      <td>0.391315</td>\n",
       "      <td>0.211765</td>\n",
       "      <td>--</td>\n",
       "      <td>0.268398</td>\n",
       "      <td>0.000000</td>\n",
       "      <td>0.506733</td>\n",
       "      <td>0.145909</td>\n",
       "      <td>0.078960</td>\n",
       "      <td>NaN</td>\n",
       "      <td>0.268398</td>\n",
       "      <td>NaN</td>\n",
       "    </tr>\n",
       "  </tbody>\n",
       "</table>\n",
       "<p>600 rows × 17 columns</p>\n",
       "</div>"
      ],
      "text/plain": [
       "     array name iloc PreservChar   no move      lspb    ripples     dunes  \\\n",
       "0    100-FP-3-1  100          FP  9.613341  2.581337  11.357766  0.021342   \n",
       "0    100-FP-5-0  100          FP  1.085288  2.179373   17.36927  8.819991   \n",
       "0   100-FP-5-22  100          FP       0.0       0.0   2.276564  6.272429   \n",
       "0    100-FP-5-9  100          FP  1.018038  1.437072   15.08775  3.292737   \n",
       "0   100-PP-4-10  100          PP  3.753532  8.554571  27.624803  1.051774   \n",
       "..          ...  ...         ...       ...       ...        ...       ...   \n",
       "0    900-TR-3-8  900          TR  0.369621  0.467226  15.356188   8.07138   \n",
       "0    900-TR-4-1  900          TR  1.785976  0.150344   1.460494   2.15639   \n",
       "0   900-TR-4-10  900          TR  0.043892  0.485746   1.497105  2.783629   \n",
       "0   900-TR-4-14  900          TR  0.523273  0.893497   1.036702  1.112405   \n",
       "0   900-TR-5-11  900          TR  0.719821       0.0   1.359013  0.391315   \n",
       "\n",
       "   dunes uspb uspb  no move prop  lspb prop  ripples prop  dunes prop  \\\n",
       "0         0.0   --      0.407798   0.109500      0.481796    0.000905   \n",
       "0   15.466305   --      0.024160   0.048517      0.386669    0.196348   \n",
       "0    0.324285   --      0.000000   0.000000      0.256564    0.706890   \n",
       "0   10.265116   --      0.032734   0.046207      0.485126    0.105873   \n",
       "0          --   --      0.091584   0.208726      0.674028    0.025663   \n",
       "..        ...  ...           ...        ...           ...         ...   \n",
       "0   11.505992   --      0.010333   0.013062      0.429299    0.225644   \n",
       "0    2.946451   --      0.210123   0.017688      0.171830    0.253703   \n",
       "0    0.019314   --      0.009088   0.100575      0.309980    0.576358   \n",
       "0         0.0   --      0.146745   0.250569      0.290728    0.311958   \n",
       "0    0.211765   --      0.268398   0.000000      0.506733    0.145909   \n",
       "\n",
       "    dunes uspb prop  uspb prop   ub prop  lb prop  \n",
       "0          0.000000        NaN  0.517298      NaN  \n",
       "0          0.344306        NaN  0.072677      NaN  \n",
       "0          0.036546        NaN  0.000000      NaN  \n",
       "0          0.330060        NaN  0.078941      NaN  \n",
       "0               NaN        NaN  0.300310      NaN  \n",
       "..              ...        ...       ...      ...  \n",
       "0          0.321662        NaN  0.023395      NaN  \n",
       "0          0.346655        NaN  0.227812      NaN  \n",
       "0          0.003999        NaN  0.109663      NaN  \n",
       "0          0.000000        NaN  0.397313      NaN  \n",
       "0          0.078960        NaN  0.268398      NaN  \n",
       "\n",
       "[600 rows x 17 columns]"
      ]
     },
     "execution_count": 48,
     "metadata": {},
     "output_type": "execute_result"
    }
   ],
   "source": [
    "allbars"
   ]
  },
  {
   "cell_type": "code",
   "execution_count": 47,
   "metadata": {},
   "outputs": [
    {
     "ename": "AttributeError",
     "evalue": "module 'seaborn' has no attribute 'histplot'",
     "output_type": "error",
     "traceback": [
      "\u001b[0;31m---------------------------------------------------------------------------\u001b[0m",
      "\u001b[0;31mAttributeError\u001b[0m                            Traceback (most recent call last)",
      "\u001b[0;32m<ipython-input-47-172028b80ad9>\u001b[0m in \u001b[0;36m<module>\u001b[0;34m\u001b[0m\n\u001b[1;32m      1\u001b[0m \u001b[0mfig\u001b[0m\u001b[0;34m,\u001b[0m \u001b[0max\u001b[0m \u001b[0;34m=\u001b[0m \u001b[0mplt\u001b[0m\u001b[0;34m.\u001b[0m\u001b[0msubplots\u001b[0m\u001b[0;34m(\u001b[0m\u001b[0;36m1\u001b[0m\u001b[0;34m,\u001b[0m \u001b[0;36m5\u001b[0m\u001b[0;34m,\u001b[0m \u001b[0msharex\u001b[0m \u001b[0;34m=\u001b[0m \u001b[0;32mTrue\u001b[0m\u001b[0;34m,\u001b[0m \u001b[0msharey\u001b[0m \u001b[0;34m=\u001b[0m \u001b[0;32mTrue\u001b[0m\u001b[0;34m,\u001b[0m \u001b[0mtight_layout\u001b[0m \u001b[0;34m=\u001b[0m \u001b[0;32mTrue\u001b[0m\u001b[0;34m,\u001b[0m \u001b[0mfigsize\u001b[0m \u001b[0;34m=\u001b[0m \u001b[0;34m(\u001b[0m\u001b[0;36m20\u001b[0m\u001b[0;34m,\u001b[0m \u001b[0;36m5\u001b[0m\u001b[0;34m)\u001b[0m\u001b[0;34m,\u001b[0m \u001b[0mdpi\u001b[0m  \u001b[0;34m=\u001b[0m\u001b[0;36m200\u001b[0m\u001b[0;34m)\u001b[0m\u001b[0;34m\u001b[0m\u001b[0;34m\u001b[0m\u001b[0m\n\u001b[1;32m      2\u001b[0m \u001b[0;34m\u001b[0m\u001b[0m\n\u001b[0;32m----> 3\u001b[0;31m \u001b[0msns\u001b[0m\u001b[0;34m.\u001b[0m\u001b[0mhistplot\u001b[0m\u001b[0;34m(\u001b[0m\u001b[0mdata\u001b[0m \u001b[0;34m=\u001b[0m \u001b[0mallbars\u001b[0m\u001b[0;34m,\u001b[0m \u001b[0mx\u001b[0m \u001b[0;34m=\u001b[0m \u001b[0;34m'no move prop'\u001b[0m\u001b[0;34m,\u001b[0m \u001b[0max\u001b[0m \u001b[0;34m=\u001b[0m \u001b[0max\u001b[0m\u001b[0;34m[\u001b[0m\u001b[0;36m0\u001b[0m\u001b[0;34m]\u001b[0m\u001b[0;34m,\u001b[0m \u001b[0mhue\u001b[0m \u001b[0;34m=\u001b[0m \u001b[0;34m'PreservChar'\u001b[0m\u001b[0;34m,\u001b[0m \u001b[0mstat\u001b[0m \u001b[0;34m=\u001b[0m \u001b[0;34m'percent'\u001b[0m\u001b[0;34m,\u001b[0m \u001b[0mpalette\u001b[0m \u001b[0;34m=\u001b[0m \u001b[0mpres_palette\u001b[0m\u001b[0;34m,\u001b[0m \u001b[0mbinwidth\u001b[0m \u001b[0;34m=\u001b[0m \u001b[0;36m.05\u001b[0m\u001b[0;34m,\u001b[0m \u001b[0mmultiple\u001b[0m \u001b[0;34m=\u001b[0m \u001b[0;34m'dodge'\u001b[0m\u001b[0;34m)\u001b[0m\u001b[0;34m\u001b[0m\u001b[0;34m\u001b[0m\u001b[0m\n\u001b[0m\u001b[1;32m      4\u001b[0m \u001b[0msns\u001b[0m\u001b[0;34m.\u001b[0m\u001b[0mhistplot\u001b[0m\u001b[0;34m(\u001b[0m\u001b[0mdata\u001b[0m \u001b[0;34m=\u001b[0m \u001b[0mallbars\u001b[0m\u001b[0;34m,\u001b[0m \u001b[0mx\u001b[0m \u001b[0;34m=\u001b[0m \u001b[0;34m'lspb prop'\u001b[0m\u001b[0;34m,\u001b[0m \u001b[0max\u001b[0m \u001b[0;34m=\u001b[0m \u001b[0max\u001b[0m\u001b[0;34m[\u001b[0m\u001b[0;36m1\u001b[0m\u001b[0;34m]\u001b[0m\u001b[0;34m,\u001b[0m \u001b[0mhue\u001b[0m \u001b[0;34m=\u001b[0m \u001b[0;34m'PreservChar'\u001b[0m\u001b[0;34m,\u001b[0m \u001b[0mstat\u001b[0m \u001b[0;34m=\u001b[0m \u001b[0;34m'percent'\u001b[0m\u001b[0;34m,\u001b[0m \u001b[0mpalette\u001b[0m \u001b[0;34m=\u001b[0m \u001b[0mpres_palette\u001b[0m\u001b[0;34m,\u001b[0m \u001b[0mbinwidth\u001b[0m \u001b[0;34m=\u001b[0m \u001b[0;36m.05\u001b[0m\u001b[0;34m,\u001b[0m \u001b[0mmultiple\u001b[0m \u001b[0;34m=\u001b[0m \u001b[0;34m'dodge'\u001b[0m\u001b[0;34m)\u001b[0m\u001b[0;34m\u001b[0m\u001b[0;34m\u001b[0m\u001b[0m\n\u001b[1;32m      5\u001b[0m \u001b[0msns\u001b[0m\u001b[0;34m.\u001b[0m\u001b[0mhistplot\u001b[0m\u001b[0;34m(\u001b[0m\u001b[0mdata\u001b[0m \u001b[0;34m=\u001b[0m \u001b[0mallbars\u001b[0m\u001b[0;34m,\u001b[0m \u001b[0mx\u001b[0m \u001b[0;34m=\u001b[0m \u001b[0;34m'dunes prop'\u001b[0m\u001b[0;34m,\u001b[0m \u001b[0max\u001b[0m \u001b[0;34m=\u001b[0m \u001b[0max\u001b[0m\u001b[0;34m[\u001b[0m\u001b[0;36m2\u001b[0m\u001b[0;34m]\u001b[0m\u001b[0;34m,\u001b[0m \u001b[0mhue\u001b[0m \u001b[0;34m=\u001b[0m \u001b[0;34m'PreservChar'\u001b[0m\u001b[0;34m,\u001b[0m \u001b[0mstat\u001b[0m \u001b[0;34m=\u001b[0m \u001b[0;34m'percent'\u001b[0m\u001b[0;34m,\u001b[0m \u001b[0mpalette\u001b[0m \u001b[0;34m=\u001b[0m \u001b[0mpres_palette\u001b[0m\u001b[0;34m,\u001b[0m \u001b[0mbinwidth\u001b[0m \u001b[0;34m=\u001b[0m \u001b[0;36m.05\u001b[0m\u001b[0;34m,\u001b[0m \u001b[0mmultiple\u001b[0m \u001b[0;34m=\u001b[0m \u001b[0;34m'dodge'\u001b[0m\u001b[0;34m)\u001b[0m\u001b[0;34m\u001b[0m\u001b[0;34m\u001b[0m\u001b[0m\n",
      "\u001b[0;31mAttributeError\u001b[0m: module 'seaborn' has no attribute 'histplot'"
     ]
    },
    {
     "data": {
      "image/png": "[encoded data removed]",
      "text/plain": [
       "<Figure size 4000x1000 with 5 Axes>"
      ]
     },
     "metadata": {
      "needs_background": "light"
     },
     "output_type": "display_data"
    }
   ],
   "source": [
    "fig, ax = plt.subplots(1, 5, sharex = True, sharey = True, tight_layout = True, figsize = (20, 5), dpi  =200)\n",
    "             \n",
    "sns.histplot(data = allbars, x = 'no move prop', ax = ax[0], hue = 'PreservChar', stat = 'percent', palette = pres_palette, binwidth = .05, multiple = 'dodge')\n",
    "sns.histplot(data = allbars, x = 'lspb prop', ax = ax[1], hue = 'PreservChar', stat = 'percent', palette = pres_palette, binwidth = .05, multiple = 'dodge')\n",
    "sns.histplot(data = allbars, x = 'dunes prop', ax = ax[2], hue = 'PreservChar', stat = 'percent', palette = pres_palette, binwidth = .05, multiple = 'dodge')\n",
    "sns.histplot(data = allbars, x = 'dunes uspb prop', ax = ax[3], hue = 'PreservChar', stat = 'percent', palette = pres_palette, binwidth = .05, multiple = 'dodge')\n",
    "sns.histplot(data = allbars, x = 'uspb prop', ax = ax[4], hue = 'PreservChar', stat = 'percent', palette = pres_palette, binwidth = .05, multiple = 'dodge')"
   ]
  },
  {
   "cell_type": "markdown",
   "metadata": {},
   "source": [
    "allbars.to_csv()"
   ]
  },
  {
   "cell_type": "markdown",
   "metadata": {},
   "source": [
    "0 = i, 1 = j, 2 = x, 3 = y, 4 = depth, 5 = elevation, 6 = shear stress, 7 = elevation change, 8 = Froude, 9 = shields, 10 = velocity, 11=bedload flux"
   ]
  },
  {
   "cell_type": "markdown",
   "metadata": {
    "jp-MarkdownHeadingCollapsed": true,
    "tags": []
   },
   "source": [
    "___\n",
    "# Summary Statistics?"
   ]
  },
  {
   "cell_type": "code",
   "execution_count": 17,
   "metadata": {},
   "outputs": [],
   "source": [
    "## how much of the bed above critical shear at any time?\n",
    "above_crit = np.array([])\n",
    "above_mean = np.array([])\n",
    "above_median = np.array([])\n",
    "above_p75 = np.array([])\n",
    "above_p90 = np.array([])\n",
    "bedcells = datamaster.shape[0]\n",
    "\n",
    "#lamb_critshear = crit_shields*(rhos-rhow)*g*d50 ## using lamb eqn to find crit shields and redimensionalise it\n",
    "##using shields number\n",
    "smean = np.mean(datamaster[:, 9, :])\n",
    "smedian =np.median(datamaster[:, 9, :])\n",
    "sp75 = np.quantile(datamaster[:, 9, :], 0.75)\n",
    "sp90 = np.quantile(datamaster[:, 9, :], 0.9)\n",
    "for t in range (end_t):\n",
    "    abcrit = len(np.where(datamaster[:, 9, t]>=crit_shields)[0])/bedcells\n",
    "    abmean = len(np.where(datamaster[:, 9, t]>=smean)[0])/bedcells\n",
    "    abmed = len(np.where(datamaster[:, 9, t]>=smedian)[0])/bedcells\n",
    "    abp75 = len(np.where(datamaster[:, 9, t]>=sp75)[0])/bedcells\n",
    "    abp90 = len(np.where(datamaster[:, 9, t]>=sp90)[0])/bedcells\n",
    "    \n",
    "    above_crit = np.append(above_crit, abcrit)\n",
    "    above_mean = np.append(above_mean, abmean)\n",
    "    above_median = np.append(above_median, abmed)\n",
    "    above_p75 = np.append(above_p75, abp75)\n",
    "    above_p90 = np.append(above_p90, abp90)"
   ]
  },
  {
   "cell_type": "code",
   "execution_count": 18,
   "metadata": {
    "tags": []
   },
   "outputs": [],
   "source": [
    "avg_depth = np.average(datamaster[:, 4, :], axis = 0)\n",
    "med_depth = np.median(datamaster[:, 4, :], axis = 0)"
   ]
  },
  {
   "cell_type": "code",
   "execution_count": 24,
   "metadata": {},
   "outputs": [
    {
     "data": {
      "text/plain": [
       "<matplotlib.legend.Legend at 0x7f893cd93450>"
      ]
     },
     "execution_count": 24,
     "metadata": {},
     "output_type": "execute_result"
    },
    {
     "data": {
      "image/png": "[encoded data removed]",
      "text/plain": [
       "<Figure size 1000x400 with 2 Axes>"
      ]
     },
     "metadata": {
      "needs_background": "light"
     },
     "output_type": "display_data"
    }
   ],
   "source": [
    "adjustment_time = 65\n",
    "plt.figure(figsize = (10, 4), tight_layout = True, dpi = 100)\n",
    "plt.plot(above_crit, label = 'above lamb crit')\n",
    "plt.axvline(65, c = 'r')\n",
    "plt.legend(loc = 'lower right')\n",
    "plt.ylabel('Prop above crit shields Stress')\n",
    "plt.title(f'Proportion of cells at each timestep above critical sheilds stress = {np.round(crit_shields, 3)}')\n",
    "\n",
    "ax = plt.gca()\n",
    "ax1 = ax.twinx()\n",
    "ax1.plot(avg_depth, 'b', label = 'Avg flow depth')\n",
    "ax1.plot(med_depth, 'b--', label = 'median flow depth')\n",
    "\n",
    "ax1.set_ylabel('Flow Depth, m')\n",
    "ax1.legend()"
   ]
  },
  {
   "cell_type": "code",
   "execution_count": 25,
   "metadata": {},
   "outputs": [
    {
     "data": {
      "image/png": "[encoded data removed]",
      "text/plain": [
       "<Figure size 1000x300 with 1 Axes>"
      ]
     },
     "metadata": {
      "needs_background": "light"
     },
     "output_type": "display_data"
    }
   ],
   "source": [
    "plt.figure(figsize = (10, 3), dpi = 100, tight_layout = True)\n",
    "plt.title('% of the bed above critical shields')\n",
    "plt.ylabel('%proportion of bed, all time')\n",
    "plt.boxplot([above_crit, above_mean, above_median, above_p75, above_p90], whis=(5, 95), showfliers = False, widths = 0.1);"
   ]
  },
  {
   "cell_type": "code",
   "execution_count": 26,
   "metadata": {},
   "outputs": [
    {
     "data": {
      "text/plain": [
       "<matplotlib.legend.Legend at 0x7f893d23f5d0>"
      ]
     },
     "execution_count": 26,
     "metadata": {},
     "output_type": "execute_result"
    },
    {
     "data": {
      "image/png": "[encoded data removed]",
      "text/plain": [
       "<Figure size 1000x300 with 1 Axes>"
      ]
     },
     "metadata": {
      "needs_background": "light"
     },
     "output_type": "display_data"
    }
   ],
   "source": [
    "plt.figure(figsize = (10, 3), dpi = 100)\n",
    "plt.hist(datamaster[:, 6, :].ravel(), bins = np.arange(0, 10, 0.1), density = True, ec = 'k', fc = 'xkcd:light grey');\n",
    "plt.title('Distribution of Shear Stres on the bed')\n",
    "\n",
    "plt.axvline(lamb_critshear, c = 'k', ls = '-.', label = 'Lamb tcrit')\n",
    "plt.legend()"
   ]
  },
  {
   "cell_type": "raw",
   "metadata": {},
   "source": [
    "plt.figure(figsize = (10, 10), dpi = 100)\n",
    "plt.scatter(trueflow[:, :, -1], mmp[:, :, -1])\n",
    "plt.ylim(0, 1.5)"
   ]
  },
  {
   "cell_type": "raw",
   "metadata": {
    "tags": []
   },
   "source": [
    "depth_only = np.reshape(datamaster[:, 4, :], (gridx, gridy, end_t), order = 'F')\n",
    "vel_only = np.reshape(datamaster[:, 10, :], (gridx, gridy, end_t), order = 'F')\n",
    "xsdepth = np.average(depth_only, axis = 1)\n",
    "xsvel = np.average(vel_only, axis = 1)\n",
    "width_only = np.reshape(datamaster[:, 3, :], (gridx, gridy, end_t), order = 'F')\n",
    "xswidth = width_only[:, -1, :]-width_only[:, 0, :]\n",
    "# plt.hist(xswidth.ravel())"
   ]
  },
  {
   "cell_type": "code",
   "execution_count": null,
   "metadata": {
    "ExecuteTime": {
     "end_time": "2021-12-06T17:15:21.277222Z",
     "start_time": "2021-12-06T17:15:21.255560Z"
    },
    "tags": []
   },
   "outputs": [],
   "source": [
    "n = 0.012 ##mannings\n",
    "rhow = 1000\n",
    "rhos = 2650 ##kgm3\n",
    "sg = (rhos-rhow)/rhow\n",
    "S = 0.013\n",
    "g = 9.81\n",
    "d50 = 0.31e-3 ##d50 in m\n",
    "crit_shields = 0.15*S**0.25\n",
    "print('Critical shield stress', crit_shields)"
   ]
  },
  {
   "cell_type": "raw",
   "metadata": {
    "tags": []
   },
   "source": [
    "## Calculating cellular qb\n",
    "plt.figure (figsize = (6, 6), dpi = 100)\n",
    "## using ashida and michiue formula this is what we used to calculate in the model\n",
    "### this is bedload sediment flux in the depth-averaged velocity direction (the V direction which is the composite velocity, roughly downstream so XS bedload sediment flux)\n",
    "am_qb = 17*ch_head[:, 9, :]**1.5 * (1-(crit_shields/ch_head[:, 9, :])) * (1-(crit_shields/ch_head[:, 9, :])**0.5) * ((sg*g*(d50**3))**.5) # in m2/s\n",
    "\n",
    "qb_xs = np.sum(am_qb, axis = 0)\n",
    "\n",
    "plt.plot(qb_xs, label = 'Saf calc');\n",
    "plt.plot(np.sum(ch_head[:, 11, :], axis = 0), label = 'Model calc')\n",
    "plt.title('XS sum sediemnt supply at channel head')\n",
    "plt.xlabel('Timesteps')\n",
    "plt.ylabel('QS XS sum at iloc = 1')\n",
    "plt.legend()"
   ]
  },
  {
   "cell_type": "markdown",
   "metadata": {
    "tags": []
   },
   "source": [
    "## Set up the meshgrid to plot the surface"
   ]
  },
  {
   "cell_type": "markdown",
   "metadata": {
    "tags": []
   },
   "source": [
    "## Calculate sediment flux across the channel \n",
    "(bedload flux using MPM and tcrit parameterisation from Lamb et al., 2008)"
   ]
  },
  {
   "cell_type": "markdown",
   "metadata": {
    "tags": []
   },
   "source": [
    "Just a check to set the colorbar "
   ]
  },
  {
   "cell_type": "markdown",
   "metadata": {},
   "source": [
    "func = interpolate.interp2d(xdomain, ydomain, elev, kind = 'cubic')\n",
    "newelev = "
   ]
  },
  {
   "cell_type": "markdown",
   "metadata": {},
   "source": [
    "### Plot the channel full domain. You can prob just keep closed"
   ]
  },
  {
   "cell_type": "raw",
   "metadata": {
    "ExecuteTime": {
     "end_time": "2021-12-06T17:12:20.914537Z",
     "start_time": "2021-12-06T17:12:19.085259Z"
    },
    "tags": []
   },
   "source": [
    "## create time series of data at model inlet\n",
    "#crop data\n",
    "remove_ilocs = np.where(datamaster[:, 0, :] != 1)\n",
    "ch_head = np.delete(datamaster, remove_ilocs[0], axis=0)\n",
    "print('Cropped, final dataset shape: ', ch_head.shape)\n",
    "\n",
    "#sort in cross stream direction from rightbank to left bank\n",
    "#test = np.empty_like(datamaster)    \n",
    "for i in range (0, num_timesteps):\n",
    "    ch_head[:, :, i] = ch_head[:, :, i][np.argsort(ch_head[:, :, i][:, 3])]\n",
    "    #print(i, data[:, 3, i])\n",
    "## depth in column4, velocity in column 10 (py idx)"
   ]
  },
  {
   "cell_type": "raw",
   "metadata": {
    "ExecuteTime": {
     "end_time": "2021-12-05T17:22:08.073683Z",
     "start_time": "2021-12-05T17:22:07.532523Z"
    },
    "tags": []
   },
   "source": [
    "#create 2D grid\n",
    "#extract elevation\n",
    "\n",
    "char = 4 ## what do you want to colour by? flow depth (4), elevation change (7) etc, velocity = 10\n",
    "attribs = datamaster[:, char, :].ravel() # scaling to find your normalisation for the attribute/char you choose to colour with\n",
    "avattribs = np.average(attribs)\n",
    "locd = np.average(avattribs)\n",
    "scd = np.std(avattribs)\n",
    "attx = np.linspace(attribs.min(), attribs.max())\n",
    "apdf = stats.norm.pdf(attx, locd, scd)\n",
    "plt.hist(attribs, density=True, bins = 50);\n",
    "\n",
    "toplim = np.quantile(attribs, 0.85)\n",
    "lowlim = np.quantile(attribs, 0.25)\n",
    "\n",
    "binary_lims = np.quantile(attribs, [0, 0.1, 0.2, 0.25, 0.3, 0.4, 0.5, 0.75, 0.85, 0.95])\n",
    "plt.vlines(binary_lims, ymin = 0, ymax = 1, colors = 'k')\n",
    "# toplim = np.quantile(attribs, 0.65)\n",
    "# lowlim = np.quantile(attribs, 0.25)\n",
    "#lowlim = 0.1\n",
    "plt.axvline(toplim, c = 'r', label = '65th ptile')\n",
    "plt.axvline(lowlim, c = 'b', label = '45th ptile')\n",
    "plt.xlabel('attribute, m')\n",
    "plt.ylabel('Count')\n",
    "plt.legend()\n",
    "plt.title('Histogram of flow velocity in entire model domain for entire run');\n",
    "print(f'attribute top: {np.round(toplim, 2)}. Midpoint: {np.round(lowlim, 2)}')\n",
    "post_idx = -1\n",
    "\n",
    "xdomain = np.reshape(datamaster[:, 2, -1], (gridy, gridx))\n",
    "ydomain = np.reshape(datamaster[ :, 3, -1] , (gridy, gridx))\n",
    "elev_final = np.reshape(datamaster[:, char, -1], (gridy, gridx)) ##using flow depth to plot\n",
    "#elev_pref = np.reshape(datamaster[:, char, pref_idx], (gridy, gridx)) ##using flow depth to plot\n",
    "# elev_postf = np.reshape(datamaster[:, char, post_idx], (gridy, gridx)) ##using flow depth to plot\n",
    "\n",
    "llim = datamaster[:, 3, :].min()\n",
    "ulim = datamaster[:, 3, :].max()\n",
    "\n",
    "#find the max and min of the variable you're plotting to scale the colourmap\n",
    "var_llim = datamaster[:, char, :].min() \n",
    "var_ulim = datamaster[:, char, :].max()\n",
    "print(var_llim, var_ulim)\n"
   ]
  },
  {
   "cell_type": "raw",
   "metadata": {},
   "source": [
    "bin_norm = BoundaryNorm(binary_lims, cmap_depthmap.N)"
   ]
  },
  {
   "cell_type": "raw",
   "metadata": {
    "ExecuteTime": {
     "end_time": "2021-12-05T17:22:08.079647Z",
     "start_time": "2021-12-05T17:22:08.075539Z"
    },
    "tags": []
   },
   "source": [
    "class MidpointNormalize(mcol.Normalize):\n",
    "    def __init__(self, vmin=None, vmax=None, vcenter=None, clip=False):\n",
    "        self.vcenter = vcenter\n",
    "        mcol.Normalize.__init__(self, vmin, vmax, clip)\n",
    "\n",
    "    def __call__(self, value, clip=None):\n",
    "        # I'm ignoring masked values and all kinds of edge cases to make a\n",
    "        # simple example...\n",
    "        x, y = [self.vmin, self.vcenter, self.vmax], [0, 0.5, 1]\n",
    "        return np.ma.masked_array(np.interp(value, x, y))\n",
    "\n",
    "#normalise = plt.Normalize(-1, 2)\n",
    "#midnorm = MidpointNormalize(vmin=-np.quantile(datamaster[:, 4, :], 0.1), vcenter=0.5, vmax=np.quantile(datamaster[:, 4, :], 0.99))\n",
    "#midnorm = MidpointNormalize(vmin=0, vcenter=np.quantile(datamaster[:, char, :], .25), vmax=np.quantile(datamaster[:, char, :], .999)) \n",
    "# midnorm = MidpointNormalize(vmin=-0.01, vcenter=lowlim, vmax=toplim) \n",
    "midnorm = mcol.TwoSlopeNorm(vmin=-0.01, vcenter=lowlim, vmax=toplim) \n"
   ]
  },
  {
   "cell_type": "raw",
   "metadata": {
    "ExecuteTime": {
     "end_time": "2021-12-05T17:22:09.413960Z",
     "start_time": "2021-12-05T17:22:08.081322Z"
    }
   },
   "source": [
    "#create 2D grid\n",
    "#extract elevation\n",
    "\n",
    "xdomain = np.reshape(datamaster[:, 2, -1], (gridy, gridx))\n",
    "ydomain = np.reshape(datamaster[ :, 3, -1] , (gridy, gridx))\n",
    "elev_final = np.reshape(datamaster[:, char, -1], (gridy, gridx)) ##using flow depth to plot\n",
    "\n",
    "llim = datamaster[:, char, :].min()\n",
    "ulim = datamaster[:, char, :].max()\n",
    "\n",
    "#find the max and min of the variable you're plotting to scale the colourmap\n",
    "var_llim = datamaster[:, char, :].min() \n",
    "var_ulim = datamaster[:, char, :].max()\n",
    "print(var_llim, var_ulim)\n",
    "\n",
    "#midnorm = MidpointNormalize(vmin=attribs.min(), vcenter=1, vmax=toplim) \n",
    "\n",
    "fig, ax = plt.subplots(1, figsize = (14, 3), tight_layout = True, dpi = 200)\n",
    "fig.subplots_adjust(hspace=.1)\n",
    "\n",
    "ax.set_ylabel('Distance rel \\n to centreline, m')\n",
    "ax.set_xlabel('Streamwise distance, m')\n",
    "\n",
    "ax.set_title(f'Final Topography, @ {end_t*interval_to_plot} hours')\n",
    "\n",
    "# dat_final = ax.pcolormesh(xdomain, ydomain, elev_final, cmap = get_continuous_cmap(test), norm = midnorm, shading = 'gouraud', alpha = 1)\n",
    "dat_final = ax.pcolormesh(xdomain, ydomain, elev_final, cmap = cmap_depthmap, norm = bin_norm, alpha = 1)\n",
    "\n",
    "   # ax[a].pcolormesh(np.reshape(datamaster[:, 2, t], (gridy, gridx)), \n",
    "   #                          np.reshape(datamaster[ :, 3, t] , (gridy, gridx)), \n",
    "   #                          np.reshape(mmp_reshape[:, :, t].T, (gridy, gridx)),\n",
    "   #                          cmap = cmap_vvfac, norm = norm_vvfac, alpha = 1)\n",
    "fig.colorbar(dat_final, ax = ax, label = 'Flow depth, m')\n",
    "\n",
    "ax.set_aspect('equal')\n",
    "#plt.savefig(f'{savefilesto}planformchange/PF{modelrun}.png', dpi=100)\n",
    "\n",
    "#plt.close(fig)"
   ]
  },
  {
   "cell_type": "markdown",
   "metadata": {},
   "source": [
    "Time series snapshot of the channel, also kinda useless, maybe useful with facies?"
   ]
  },
  {
   "cell_type": "raw",
   "metadata": {
    "ExecuteTime": {
     "end_time": "2021-12-05T17:22:11.791396Z",
     "start_time": "2021-12-05T17:22:09.953443Z"
    }
   },
   "source": [
    "#%matplotlib notebook\n",
    "## create a series of snapshots of the channel reach \n",
    "\n",
    "numplots = 3 #we want 5 sublots\n",
    "fig, ax = plt.subplots(3, figsize = (20, 5), sharex=True, sharey=True, tight_layout=True, squeeze=True, dpi = 200)\n",
    "fig.subplots_adjust(hspace=.1)\n",
    "\n",
    "ax[0].set_ylim(ydomain.min(), ydomain.max())\n",
    "\n",
    "ax[0].set_xlim(200, 9800)\n",
    "ax=ax.ravel()\n",
    "\n",
    "for a, ts in enumerate(np.linspace(10, end_t-1, numplots, dtype=int)):\n",
    "    dat = ax[a].pcolormesh(np.reshape(datamaster[:, 2, ts], (gridy, gridx)),\n",
    "                     np.reshape(datamaster[:, 3, ts], (gridy, gridx)),\n",
    "                     np.reshape(datamaster[:, char, ts], (gridy, gridx)),\n",
    "                     cmap = get_continuous_cmap(test), norm = midnorm, shading = 'gouraud', alpha = 1)\n",
    "    ax[a].set_aspect('equal')\n",
    "    #ax[a].set_title(f'Timestep: {int(ts*interval_to_plot)}')\n",
    "    #ax[a].axvline(xsloc, c='r',ls = '--')\n",
    "    ax[a].xaxis.set_minor_locator(MultipleLocator(100))\n",
    "#plt.colorbar(dat, ax = ax[1])\n",
    "ax[-1].set_xlabel('Streamwise distance, m');\n",
    "ax[1].set_ylabel('Distance relative to centreline, m');\n",
    "# plt.savefig(f'{savefilesto}timeseries/fd-{modelrun}.png', dpi = 300)"
   ]
  },
  {
   "cell_type": "markdown",
   "metadata": {
    "jp-MarkdownHeadingCollapsed": true,
    "tags": []
   },
   "source": [
    "____\n",
    "# Look at widening trends across the domain"
   ]
  },
  {
   "cell_type": "raw",
   "metadata": {
    "ExecuteTime": {
     "end_time": "2021-12-05T17:22:11.820748Z",
     "start_time": "2021-12-05T17:22:11.792862Z"
    }
   },
   "source": [
    "profiles = np.zeros([gridx, 7, end_t])\n",
    "\n",
    "#xposition, right bank, leftbank, width, widening rate\n",
    "profiles[:, 0, :] = datamaster[:gridx, 2, :] #get the x locations\n",
    "profiles[:, 1, :] = datamaster[:gridx, 3, :] #get the right bank locations\n",
    "profiles[:, 2, :] = datamaster[-gridx:, 3, :] #get the left bank locations\n",
    "\n",
    "for i in range(profiles.shape[2]):\n",
    "    profiles[:, 3, i] = profiles[:, 2, i]-profiles[:, 2, 0] #right bank displacement\n",
    "    profiles[:, 4, i] = profiles[:, 1, i]-profiles[:, 1, 0] #left bank displacement\n",
    "    \n",
    "profiles[:, 5, 1:] = (abs(profiles[:, 3, 1:])-abs(profiles[:, 3, :-1]))/interval_to_plot\n",
    "profiles[:, 6, 1:] = (abs(profiles[:, 4, 1:])-abs(profiles[:, 4, :-1]))/interval_to_plot\n"
   ]
  },
  {
   "cell_type": "raw",
   "metadata": {},
   "source": [
    "np.save('/Volumes/SAF_Data/NAYS2DH_files/Data/nparrays/channel-profile-ud.npy', profiles)"
   ]
  },
  {
   "cell_type": "raw",
   "metadata": {
    "ExecuteTime": {
     "end_time": "2021-12-05T17:22:11.955044Z",
     "start_time": "2021-12-05T17:22:11.824249Z"
    }
   },
   "source": [
    "widthdist = profiles[:, 2, :]-profiles[:, 1, :]\n",
    "#plt.plot(np.average(widthdist, axis=0));\n",
    "plt.plot(variation(widthdist, axis=0))\n",
    "plt.title('CV of widths?')\n",
    "#plt.hist(profiles[:, 5, :].ravel());\n",
    "#plt.hist(profiles[:, 6, :].ravel(), histtype = 'step');"
   ]
  },
  {
   "cell_type": "raw",
   "metadata": {
    "ExecuteTime": {
     "end_time": "2021-12-05T17:22:18.473772Z",
     "start_time": "2021-12-05T17:22:11.956480Z"
    }
   },
   "source": [
    "#widenorm = mcol.Normalize(vmin=np.quantile(profiles[:, 5:, :],0.005), vmax=np.quantile(profiles[:, 5:, :], 0.99)) \n",
    "widenorm = MidpointNormalize(vmin=np.quantile(profiles[:, 5:, :],0.005), vcenter = 0, vmax=np.quantile(profiles[:, 5:, :], 0.99)) \n",
    "fig, ax = plt.subplots(figsize = (15, 3), tight_layout=True)\n",
    "ax.set_aspect('equal')\n",
    "ax.set_xlim(profiles[:, 0, :].min(), profiles[:, 0, :].max())\n",
    "for i in range (0, end_t):\n",
    "    wrrb = plt.scatter(profiles[:, 0, i], profiles[:, 1, i]-(0.5*i), c = profiles[:, 5, i], cmap = 'jet', norm=widenorm, s = .05);\n",
    "    wrlb = plt.scatter(profiles[:, 0, i], profiles[:, 2, i]+(0.5*i), c = profiles[:, 6, i], cmap = 'jet', norm=widenorm, s = .05);\n",
    "if variabd == 1:\n",
    "    plt.plot(profiles[:, 0, pref_idx], profiles[:, 1, i]-(0.5*pref_idx), 'k', lw = 1)\n",
    "    plt.plot(profiles[:, 0, pref_idx], profiles[:, 2, i]+(0.5*pref_idx), 'k', lw = 1)\n",
    "fig.colorbar(wrrb, ax = ax, label = 'WR m/hr', pad = 0.01, shrink=0.4);\n",
    "ax.xaxis.set_minor_locator(MultipleLocator(100))\n",
    "\n",
    "#plt.savefig(f'{savefilesto}widths/WRFD{modelrun}.png', dpi = 300)"
   ]
  },
  {
   "cell_type": "raw",
   "metadata": {
    "ExecuteTime": {
     "end_time": "2021-12-05T17:22:24.931671Z",
     "start_time": "2021-12-05T17:22:18.475389Z"
    }
   },
   "source": [
    "fig, ax = plt.subplots(figsize = (20, 6), tight_layout=True)\n",
    "ax.set_aspect('1')\n",
    "ax.set_xlim(profiles[:, 0, :].min(), profiles[:, 0, :].max())\n",
    "for i in range (0, end_t):\n",
    "    wrrb = plt.scatter(profiles[:, 0, 0], profiles[:, 1, 0]-(i), c = profiles[:, 5, i], cmap = 'seismic', norm=widenorm, s = .1, marker = \".\");\n",
    "    wrlb = plt.scatter(profiles[:, 0, 0], profiles[:, 2, 0]+(i), c = profiles[:, 6, i], cmap = 'seismic', norm=widenorm, s = .1, marker = '.');\n",
    "if variabd == 1:\n",
    "    plt.plot(profiles[:, 0, pref_idx], profiles[:, 1, i]-(0.5*pref_idx), 'k', lw = 1)\n",
    "    plt.plot(profiles[:, 0, pref_idx], profiles[:, 2, i]+(0.5*pref_idx), 'k', lw = 1)\n",
    "fig.colorbar(wrrb, ax = ax, label = 'WR m/hr', pad = 0.01, shrink=0.4);\n",
    "ax.xaxis.set_minor_locator(MultipleLocator(100))\n",
    "\n",
    "#plt.savefig(f'{savefilesto}widths/WRFD{modelrun}.png', dpi = 300)"
   ]
  },
  {
   "cell_type": "raw",
   "metadata": {
    "ExecuteTime": {
     "end_time": "2021-12-06T00:48:57.806707Z",
     "start_time": "2021-12-06T00:48:57.647560Z"
    }
   },
   "source": [
    "avgwid = np.mean(profiles[:, 5:, :], axis = 2)\n",
    "plt.figure(figsize = (20, 3))\n",
    "plt.plot(profiles[:, 0, 0], avgwid[:, 0], label = 'right bank WR')\n",
    "plt.plot(profiles[:, 0, 0], avgwid[:, 1], label = 'left bank WR')\n",
    "plt.xlim(0,10000)\n",
    "plt.legend()"
   ]
  },
  {
   "cell_type": "raw",
   "metadata": {
    "ExecuteTime": {
     "end_time": "2021-12-05T17:22:24.936708Z",
     "start_time": "2021-12-05T17:22:24.933315Z"
    }
   },
   "source": [
    "# Make a user-defined colormap.\n",
    "tim = np.arange(0, end_t)\n",
    "cm1 = mycmap\n",
    "cnorm = mcol.Normalize(vmin=min(tim),vmax=max(tim))\n",
    "\n",
    "# Turn these into an object that can be used to map time values to colors and can be passed to plt.colorbar().\n",
    "cpick = cm.ScalarMappable(norm=cnorm,cmap=timesteps_r) \n",
    "cpick.set_array([])"
   ]
  },
  {
   "cell_type": "raw",
   "metadata": {
    "ExecuteTime": {
     "end_time": "2021-12-05T17:22:25.073852Z",
     "start_time": "2021-12-05T17:22:24.938519Z"
    }
   },
   "source": [
    "## create mask where widening rate is a specific value\n",
    "plt.hist(profiles[:, 4, :].ravel())\n",
    "toshow = np.quantile(profiles[:, 4, :].ravel(), 0.9)\n",
    "plt.axvline(toshow)\n",
    "\n",
    "bigwidening_rb = np.ma.masked_where(profiles[:, 4, :] < toshow, profiles[:, 1, :], copy = True)\n",
    "bigwidening_lb = np.ma.masked_where(profiles[:, 4, :] < toshow, profiles[:, 2, :], copy = True)\n",
    "bigwidening_x = np.ma.masked_where(profiles[:, 4, :] < toshow, profiles[:, 0, :], copy = True)"
   ]
  },
  {
   "cell_type": "raw",
   "metadata": {
    "ExecuteTime": {
     "end_time": "2021-12-05T17:22:27.275942Z",
     "start_time": "2021-12-05T17:22:25.075473Z"
    }
   },
   "source": [
    "fig = plt.figure(figsize = (15, 5), tight_layout = True)\n",
    "ax = plt.gca()\n",
    "ax.set_aspect('equal')\n",
    "ax.set_facecolor('xkcd:lilac')\n",
    "for i in range (0, end_t):\n",
    "    rb = plt.plot(profiles[:, 0, i], profiles[:, 1, i], c = cpick.to_rgba(i), lw = 1)\n",
    "    lb = plt.plot(profiles[:, 0, i], profiles[:, 2, i], c = cpick.to_rgba(i), lw = 1)\n",
    "    \n",
    "    plt.plot(bigwidening_x[:, i], bigwidening_lb[:, i], c = 'xkcd:lilac', lw = 1)\n",
    "    plt.plot(bigwidening_x[:, i], bigwidening_rb[:, i], c = 'xkcd:lilac', lw = 1)"
   ]
  },
  {
   "cell_type": "markdown",
   "metadata": {},
   "source": [
    "## Mapping reworking"
   ]
  },
  {
   "cell_type": "raw",
   "metadata": {
    "ExecuteTime": {
     "end_time": "2021-12-05T17:22:27.612325Z",
     "start_time": "2021-12-05T17:22:27.282127Z"
    }
   },
   "source": [
    " \n",
    "## Define threshod for being 'under water'\n",
    "\n",
    "# for now i will use depth, but I think we should use a shear stress threshold\n",
    "\n",
    "# find where depth > r_thresh \n",
    "\n",
    "r_thresh = 0.25 #threshold for motion/defining channel v not channel. For depth, anything deeper than 5cm is 'channel'\n",
    "\n",
    "#channel = 1, not channel = 0\n",
    "binarybed = np.where(datamaster[:, 4, :] > 0.1, 1, 0) #basically making a matrix of binary flags\n",
    "\n",
    "\n",
    "totalreworking = np.sum(binarybed, axis=1)\n",
    "plt.figure()\n",
    "plt.hist(totalreworking);\n",
    "\n",
    "qtiles = np.quantile(totalreworking, [0.01, 0.1, 0.25, 0.5, 0.75, 0.95, 0.99])\n",
    "bincmap = mcol.ListedColormap(['red', '#000000','#444444', '#666666', '#ffffff', 'blue', 'orange'])\n",
    "binnorm = mcol.BoundaryNorm(qtiles, bincmap.N, clip=True)\n",
    "\n",
    "plt.figure(1)\n",
    "fig, ax = plt.subplots(1, figsize = (15, 2), tight_layout=True)\n",
    "ax.set_aspect('equal')\n",
    "rew = ax.pcolormesh(xdomain,ydomain, np.reshape(totalreworking, (gridy, gridx)).T, cmap=bincmap, norm=binnorm, shading='flat')\n",
    "fig.colorbar(rew, ax=ax)"
   ]
  },
  {
   "cell_type": "raw",
   "metadata": {
    "ExecuteTime": {
     "end_time": "2021-12-05T17:22:27.934847Z",
     "start_time": "2021-12-05T17:22:27.613950Z"
    }
   },
   "source": [
    "## \n",
    "compressrework = copy.deepcopy(binarybed)\n",
    "for col in range (1, binarybed.shape[1]):\n",
    "    compressrework[:, col] = binarybed[:, col-1]+ binarybed[:, col]\n",
    "    compressrework[:, col][np.where(compressrework[:, col]==2)]=1\n",
    "\n",
    "plt.plot(np.count_nonzero(compressrework[:, :col], axis=0)/(gridx*gridy))\n",
    "\n",
    "plt.title('I think this is the % of the channel reworked w some thresh')"
   ]
  },
  {
   "cell_type": "markdown",
   "metadata": {
    "jp-MarkdownHeadingCollapsed": true,
    "tags": []
   },
   "source": [
    "## Code block to run reach scale time series evol of the bed"
   ]
  },
  {
   "cell_type": "markdown",
   "metadata": {
    "ExecuteTime": {
     "end_time": "2021-09-01T19:38:34.119296Z",
     "start_time": "2021-09-01T19:38:04.027937Z"
    },
    "jp-MarkdownHeadingCollapsed": true,
    "tags": []
   },
   "source": [
    "#%matplotlib notebook\n",
    "## create a series of snapshots of the channel reach \n",
    "adjtime = int(input('Enter adjustment timestep: ')) #time taken for the reworking curve to flatten out\n",
    "#numtimes = int(end_t//adjtime)\n",
    "numtimes = len(np.arange(10, end_t-1, adjtime))\n",
    "print(numtimes)\n",
    "numplots = 10 #we want 5 sublots of the reach\n",
    "fig, ax = plt.subplots(numtimes, numplots, figsize = (25, 15), sharex=False, sharey=True, tight_layout=True, squeeze=True)\n",
    "fig.subplots_adjust(hspace=.05, wspace = .1)\n",
    "\n",
    "ax[0, 0].set_ylim(ydomain.min(), ydomain.max())\n",
    "\n",
    "ts = np.arange(10, end_t-1, adjtime).astype(int)\n",
    "for t, ts in zip(np.arange(0, numtimes), ts): \n",
    "    start = 0\n",
    "    stop = 1000\n",
    "    for p, r in zip(range(0, numplots), np.arange(0, 10000, 1000)):\n",
    "        ax[t, p].pcolormesh(np.reshape(datamaster[:, 2, ts], (gridy, gridx)), \n",
    "                            np.reshape(datamaster[:, 3, ts], (gridy, gridx)),\n",
    "                            np.reshape(datamaster[:, char, ts], (gridy, gridx)),\n",
    "                            cmap = get_continuous_cmap(test), norm = midnorm, shading = 'gouraud', alpha = 1)\n",
    "        ax[t, p].set_aspect('equal')\n",
    "        ax[t, p].set_title(f'T = {ts*interval_to_plot} hrs')\n",
    "        ax[t, p].xaxis.set_minor_locator(MultipleLocator(100))\n",
    "        ax[t, p].set_xlim(start+r, stop+r)\n",
    "plt.savefig(f'{savefilesto}timeseries/multi-{modelrun}.png', dpi = 500)"
   ]
  },
  {
   "cell_type": "code",
   "execution_count": null,
   "metadata": {},
   "outputs": [],
   "source": [
    "strat_percents.shape"
   ]
  },
  {
   "cell_type": "raw",
   "metadata": {
    "jupyter": {
     "outputs_hidden": true
    },
    "tags": []
   },
   "source": [
    "fig, ax = plt.subplots(1, 5, sharex = True, sharey = True, tight_layout = True, figsize = (12, 3.5), dpi = 400, squeeze = True)\n",
    "             \n",
    "flierprops = dict(marker='.', markerfacecolor='xkcd:gray', markersize=2,  markeredgecolor='xkcd:gray')\n",
    "boxprops = dict(facecolor = ['c', 'm', 'y', 'k', 'r'], edgecolor = 'k', linewidth = 1.5)\n",
    "capprops = dict(color = 'k', linewidth = 1.5)\n",
    "whiskerprops = dict(color = 'k')\n",
    "boxwidth = .35\n",
    "linewidth = 1.5\n",
    "\n",
    "sns.boxplot(data = allbars, x = 'PreservChar', y = 'no move prop', ax = ax[0],hue = 'PreservChar', palette = pres_palette, linewidth = linewidth, width = boxwidth, notch = True, showfliers = True, \n",
    "               boxprops = boxprops, whis=[5, 95], whiskerprops = whiskerprops, capprops = capprops, flierprops = flierprops, dodge = False)\n",
    "sns.boxplot(data = allbars, x = 'PreservChar', y = 'lspb prop', ax = ax[1], hue = 'PreservChar', palette = pres_palette, linewidth = linewidth, width = boxwidth, notch = True, showfliers = True, \n",
    "               boxprops = boxprops, whis=[5, 95], whiskerprops = whiskerprops, capprops = capprops, flierprops = flierprops, dodge = False)\n",
    "sns.boxplot(data = allbars, x = 'PreservChar', y = 'dunes prop', ax = ax[2], hue = 'PreservChar', palette = pres_palette, linewidth = linewidth, width = boxwidth, notch = True, showfliers = True, \n",
    "               boxprops = boxprops, whis=[5, 95], whiskerprops = whiskerprops, capprops = capprops, flierprops = flierprops, dodge = False)\n",
    "sns.boxplot(data = allbars, x = 'PreservChar', y = 'dunes uspb prop', ax = ax[3], hue = 'PreservChar', palette = pres_palette, linewidth = linewidth, width = boxwidth, notch = True, showfliers = True, \n",
    "               boxprops = boxprops, whis=[5, 95], whiskerprops = whiskerprops, capprops = capprops, flierprops = flierprops, dodge = False)\n",
    "sns.boxplot(data = allbars, x = 'PreservChar', y = 'uspb prop', ax = ax[4], hue = 'PreservChar', palette = pres_palette, linewidth = linewidth, width = boxwidth, notch = True, showfliers = True, \n",
    "               boxprops = boxprops, whis=[5, 95], whiskerprops = whiskerprops, capprops = capprops, flierprops = flierprops, dodge = False)\n",
    "\n",
    "for i, a in enumerate(ax):\n",
    "    a.boxplot([bed_percents[i, :, :].ravel(), strat_percents[i, :].ravel()], positions = [4, 5])"
   ]
  },
  {
   "cell_type": "code",
   "execution_count": 71,
   "metadata": {},
   "outputs": [
    {
     "data": {
      "image/png": "[encoded data removed]",
      "text/plain": [
       "<Figure size 6400x1400 with 6 Axes>"
      ]
     },
     "metadata": {
      "needs_background": "light"
     },
     "output_type": "display_data"
    }
   ],
   "source": [
    "fig, ax = plt.subplots(1, 6, sharex = True, sharey = True, tight_layout = True, figsize = (16, 3.5), dpi = 400, squeeze = True)\n",
    "\n",
    "flierprops = dict(marker='.', markerfacecolor='xkcd:gray', markersize=2,  markeredgecolor='xkcd:gray')\n",
    "boxprops = dict(color = 'k', linewidth = 1.5)\n",
    "capprops = dict(color = 'k', linewidth = 1.5)\n",
    "whiskerprops = dict(color = 'k')\n",
    "boxwidth = .5\n",
    "medianprops = dict(color = 'k')\n",
    "linewidth = 1.5\n",
    "\n",
    "\n",
    "bplot1 = ax[0].boxplot([\n",
    "    allbars['no move prop'][allbars['PreservChar']=='FP'], \n",
    "    allbars['no move prop'][allbars['PreservChar']=='PP'], \n",
    "    allbars['no move prop'][allbars['PreservChar']=='TR'], \n",
    "    bed_percents[0, :, :].ravel(), \n",
    "    strat_percents[0, :].ravel()], \n",
    "    widths = boxwidth, notch = False, showfliers = True, \n",
    "    boxprops = boxprops, whis=[5, 95], whiskerprops = whiskerprops, capprops = capprops, flierprops = flierprops, patch_artist = True, medianprops = medianprops)\n",
    "\n",
    "bplot2 = ax[1].boxplot([\n",
    "    allbars['lspb prop'][allbars['PreservChar']=='FP'], \n",
    "    allbars['lspb prop'][allbars['PreservChar']=='PP'], \n",
    "    allbars['lspb prop'][allbars['PreservChar']=='TR'], \n",
    "    bed_percents[1, :, :].ravel(), \n",
    "    strat_percents[1, :].ravel()], \n",
    "    widths = boxwidth, notch = False, showfliers = True, \n",
    "    boxprops = boxprops, whis=[5, 95], whiskerprops = whiskerprops, capprops = capprops, flierprops = flierprops, patch_artist = True, medianprops = medianprops)\n",
    "\n",
    "bplot3 = ax[2].boxplot([\n",
    "    allbars['ripples prop'][allbars['PreservChar']=='FP'], \n",
    "    allbars['ripples prop'][allbars['PreservChar']=='PP'], \n",
    "    allbars['ripples prop'][allbars['PreservChar']=='TR'], \n",
    "    bed_percents[2, :, :].ravel(), \n",
    "    strat_percents[2, :].ravel()], \n",
    "    widths = boxwidth, notch = False, showfliers = True, \n",
    "    boxprops = boxprops, whis=[5, 95], whiskerprops = whiskerprops, capprops = capprops, flierprops = flierprops, patch_artist = True, medianprops = medianprops)\n",
    "\n",
    "bplot4 = ax[3].boxplot([\n",
    "    allbars['dunes prop'][allbars['PreservChar']=='FP'], \n",
    "    allbars['dunes prop'][allbars['PreservChar']=='PP'], \n",
    "    allbars['dunes prop'][allbars['PreservChar']=='TR'], \n",
    "    bed_percents[3, :, :].ravel(), \n",
    "    strat_percents[3, :].ravel()], \n",
    "    widths = boxwidth, notch = False, showfliers = True, \n",
    "    boxprops = boxprops, whis=[5, 95], whiskerprops = whiskerprops, capprops = capprops, flierprops = flierprops, patch_artist = True, medianprops = medianprops)\n",
    "\n",
    "bplot5 = ax[4].boxplot([\n",
    "    allbars['dunes uspb prop'][allbars['PreservChar']=='FP'], \n",
    "    allbars['dunes uspb prop'][allbars['PreservChar']=='PP'], \n",
    "    allbars['dunes uspb prop'][allbars['PreservChar']=='TR'], \n",
    "    bed_percents[4, :, :].ravel(), \n",
    "    strat_percents[4, :].ravel()], \n",
    "    widths = boxwidth, notch = False, showfliers = True, \n",
    "    boxprops = boxprops, whis=[5, 95], whiskerprops = whiskerprops, capprops = capprops, flierprops = flierprops, patch_artist = True, medianprops = medianprops)\n",
    "\n",
    "bplot6 = ax[5].boxplot([\n",
    "    allbars['uspb prop'][allbars['PreservChar']=='FP'], \n",
    "    allbars['uspb prop'][allbars['PreservChar']=='PP'], \n",
    "    allbars['uspb prop'][allbars['PreservChar']=='TR'], \n",
    "    bed_percents[5, :, :].ravel(), \n",
    "    strat_percents[5, :].ravel()], \n",
    "    widths = boxwidth, notch = False, showfliers = True, \n",
    "    boxprops = boxprops, whis=[5, 95], whiskerprops = whiskerprops, capprops = capprops, flierprops = flierprops, patch_artist = True, medianprops = medianprops)\n",
    "\n",
    "colors = ['#e08266', '#feb9a8', '#8da0ae', 'w', 'xkcd:light gray']\n",
    "for bplot in (bplot1, bplot2, bplot3, bplot4, bplot5, bplot6):\n",
    "    for patch, color in zip(bplot['boxes'], colors):\n",
    "        patch.set_facecolor(color)\n",
    "        \n",
    "    # for mean in \n",
    "# plt.savefig('/Users/safiya/Desktop/AGU2022/pythonfigs_4poster/barandbed_box.png', dpi = 300, transparent = True)"
   ]
  },
  {
   "cell_type": "code",
   "execution_count": null,
   "metadata": {},
   "outputs": [],
   "source": [
    "bplot1"
   ]
  },
  {
   "cell_type": "code",
   "execution_count": null,
   "metadata": {
    "tags": []
   },
   "outputs": [],
   "source": [
    "ublb_bins = [0, 0.2, 10]\n",
    "xs_freq_ublb = np.empty([len(mmprange)-1, mmp_reshape.shape[1]]) \n",
    "xs_freq_ublb_edges = np.empty([len(mmprange), mmp_reshape.shape[1]])\n",
    "xs_percents_ublb = np.empty_like(xs_freq_ublb)\n",
    "print(xs_freq_ublb.shape, xs_freq_ublb_edges.shape)\n",
    "for x in range (0, mmp_reshape.shape[1]):\n",
    "    xs_freq_ublb[:, x], xs_freq_ublb_edges[:, x] = np.histogram(mmp_reshape[:, x, :].ravel(), bins = ublb_bins) \n",
    "    xs_percents_ublb[:, x] = xs_freq_ublb[:, x]/(gridy*mmp_reshape.shape[2])\n",
    "    \n",
    "fig = plt.figure(figsize = (15, 3), tight_layout = True)\n",
    "w = 1\n",
    "plt.xlim(0, gridx)\n",
    "plt.ylim(0, 1)\n",
    "for i in range (0, gridx):\n",
    "    plt.bar(i, xs_percents[0, i], w, color=clist[0])\n",
    "for x in range (0, 1001):\n",
    "    for i in range (1, len(xs_freq)):\n",
    "        #fac = plt.bar(x, xs_freq[i, x], w, bottom = np.sum(xs_freq[:i, x]), color = clist[i])\n",
    "        plt.bar(x, xs_percents[i, x], w, bottom = np.sum(xs_percents[:i, x]), color = clist[i-1])\n",
    "ax=plt.gca()\n",
    "ax.xaxis.set_minor_locator(MultipleLocator(100))\n",
    "ax.axhline(0.15, c = 'r', ls = '--')\n",
    "ax.axhline(0.25, c = 'r', ls = '-')"
   ]
  },
  {
   "cell_type": "code",
   "execution_count": null,
   "metadata": {
    "ExecuteTime": {
     "end_time": "2021-12-05T17:22:42.079001Z",
     "start_time": "2021-12-05T17:22:41.581924Z"
    }
   },
   "outputs": [],
   "source": [
    "reach_raw = np.load(f'/Volumes/SAF_Data/NAYS2DH_files/Data/chan-widths/CW-{datnam}')\n",
    "reach_raw = reach_raw[:, :, :num_timesteps]\n",
    "## create array to store the statiistics on the channel width for the full reach \n",
    "## This is a end_t x 3 array with min, max and mean reach width\n",
    "max_chw = reach_raw[:, 2].max(axis=0)\n",
    "min_chw = reach_raw[:, 2].min(axis=0)\n",
    "reach_raw = np.concatenate((reach_raw, np.empty([len(reach_raw), 1, end_t])), axis = 1)\n",
    "print(reach_raw.shape)\n",
    "for i in range (0, end_t-1):\n",
    "    reach_raw[:, 3, i] = (reach_raw[:, 2, i+1]-reach_raw[:, 2, i])/interval_to_plot #find and append reach data with widening rate, PER HOUR\n",
    "    "
   ]
  },
  {
   "cell_type": "code",
   "execution_count": null,
   "metadata": {},
   "outputs": [],
   "source": [
    "np.reshape(datamaster[ :, 3, 64] , (gridy, gridx)).shape\n"
   ]
  },
  {
   "cell_type": "code",
   "execution_count": null,
   "metadata": {
    "ExecuteTime": {
     "end_time": "2021-12-05T17:22:43.734125Z",
     "start_time": "2021-12-05T17:22:42.081339Z"
    }
   },
   "outputs": [],
   "source": [
    "## plot facies on the bed at different timesteps\n",
    "\n",
    "warnings.filterwarnings(\"ignore\")\n",
    "\n",
    "xdomain = np.reshape(datamaster[:, 2, -1], (gridy, gridx))\n",
    "ydomain = np.reshape(datamaster[ :, 3, -1] , (gridy, gridx))\n",
    "elev_final = np.reshape(mmp_reshape[:, :, -1], (gridy, gridx)) ##using flow depth to plot\n",
    "\n",
    "fig, ax = plt.subplots(5, figsize = (13, 7), tight_layout = True, dpi = 200, sharey = True)\n",
    "fig.subplots_adjust(hspace=.1)\n",
    "\n",
    "times_dem = [63, 129, 184, 249, 309]\n",
    "\n",
    "for a, t in enumerate(times_dem):\n",
    "    ax[a].pcolormesh(np.reshape(datamaster[:, 2, t], (gridy, gridx)), \n",
    "                            np.reshape(datamaster[ :, 3, t] , (gridy, gridx)), \n",
    "                            np.reshape(mmp_reshape[:, :, t].T, (gridy, gridx)),\n",
    "                            cmap = cmap_vvfac, norm = norm_vvfac, alpha = 1)\n",
    "    ax[a].xaxis.set_minor_locator(MultipleLocator(100))\n",
    "    ax[a].set_aspect('equal')\n",
    "    ax[a].set_xlim(500, 9990)\n",
    "    ax[a].set_ylabel(t)\n",
    "# #plt.savefig(f'{savefilesto}planformchange/PF{modelrun}.png', dpi=100)\n",
    "\n",
    "# #plt.close(fig)"
   ]
  },
  {
   "cell_type": "code",
   "execution_count": null,
   "metadata": {
    "ExecuteTime": {
     "end_time": "2021-12-06T21:34:07.720004Z",
     "start_time": "2021-12-06T21:34:00.850544Z"
    }
   },
   "outputs": [],
   "source": [
    "sandiest_section = int(input('Enter sandiest area, div by 10: '))\n",
    "muddiest_section = int(input('Enter muddiest area, div by 10: '))\n",
    "early_time = int(input('Enter early time check: '))\n",
    "late_time = int(input('Enter late time check: '))"
   ]
  },
  {
   "cell_type": "code",
   "execution_count": null,
   "metadata": {
    "ExecuteTime": {
     "end_time": "2021-12-06T21:36:33.654101Z",
     "start_time": "2021-12-06T21:36:33.113097Z"
    }
   },
   "outputs": [],
   "source": [
    "labels = ['No Movement', 'LSPB', 'Ripples', 'Dunes', 'USPB-Dunes', 'USPB']\n",
    "sand_sizes = xs_percents[:, sandiest_section]*100\n",
    "mud_sizes = xs_percents[:, muddiest_section]*100\n",
    "e_time = ts_percents[:, early_time]*100\n",
    "l_time = ts_percents[:, late_time]*100\n",
    "\n",
    "    \n",
    "fig, ax = plt.subplots(1,4, figsize = (12, 6), tight_layout = True)\n",
    "sandiestpie = ax[0].pie(sand_sizes, labels = labels, colors = clist);\n",
    "muddiestpie = ax[1].pie(mud_sizes, labels = labels, colors = clist)\n",
    "earliestpie = ax[2].pie(e_time, labels = labels, colors = clist)\n",
    "latestpie = ax[3].pie(l_time, labels = labels, colors = clist)\n",
    "\n",
    "plt.savefig(f'{savefilesto}pies.png', dpi = 200)"
   ]
  },
  {
   "cell_type": "code",
   "execution_count": null,
   "metadata": {
    "tags": []
   },
   "outputs": [],
   "source": [
    "#times = [65, 95, 130, 160, 195, 230, 260, 290, 325, 350, 380]\n",
    "times = np.arange(65, end_t, 7)\n",
    "t = (len(times))\n",
    "fig, ax = plt.subplots(t, 1, figsize =(15, t+4), dpi = 300, sharex = True, sharey = True, tight_layout = True)\n",
    "\n",
    "ax = ax.ravel()\n",
    "for idx, t in enumerate(times):\n",
    "    ax[idx].pcolormesh(np.reshape(datamaster[:, 2, t], (gridy, gridx)), \n",
    "                     np.reshape(datamaster[:, 3, t], (gridy, gridx)),\n",
    "                     np.reshape(datamaster[:, char, t], (gridy, gridx)),\n",
    "                     cmap = get_continuous_cmap(test), norm = midnorm, shading = 'gouraud', alpha = 1)\n",
    "    ax[idx].set_aspect('equal')\n",
    "    #ax[a].set_title(f'Timestep: {int(ts*interval_to_plot)}')\n",
    "    #ax[a].axvline(xsloc, c='r',ls = '--')\n",
    "    ax[idx].xaxis.set_minor_locator(MultipleLocator(100))\n",
    "    \n",
    "    ax[idx].xaxis.set_major_locator(MultipleLocator(1000))\n",
    "\n",
    "    ax[idx].grid(axis = 'x', which = 'both', alpha = 0.3)\n",
    "    ax[idx].set_ylabel(t)\n",
    "    \n",
    "# plt.savefig(f'{savefilesto}timeseries/full-{modelrun}.png', dpi=300)\n"
   ]
  },
  {
   "cell_type": "code",
   "execution_count": null,
   "metadata": {},
   "outputs": [],
   "source": []
  }
 ],
 "metadata": {
  "kernelspec": {
   "display_name": "Python 3",
   "language": "python",
   "name": "python3"
  },
  "language_info": {
   "codemirror_mode": {
    "name": "ipython",
    "version": 3
   },
   "file_extension": ".py",
   "mimetype": "text/x-python",
   "name": "python",
   "nbconvert_exporter": "python",
   "pygments_lexer": "ipython3",
   "version": "3.7.4"
  }
 },
 "nbformat": 4,
 "nbformat_minor": 4
}
