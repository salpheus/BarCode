{
 "cells": [
  {
   "cell_type": "markdown",
   "metadata": {},
   "source": [
    "## Discharges for NAYS runs\n",
    "\n",
    "We want to create a discharge hydrograph for a time, t, for random, periodic (time wise), discharges that have an overall SD < 0.5 (per Schuurman dissertation Ch. 3) to add subtle white noise to the NAYS runs to see if that causes the bed to deform more regularly. "
   ]
  },
  {
   "cell_type": "code",
   "execution_count": 1,
   "metadata": {
    "ExecuteTime": {
     "end_time": "2021-04-01T00:34:12.409205Z",
     "start_time": "2021-04-01T00:34:11.209549Z"
    }
   },
   "outputs": [
    {
     "name": "stderr",
     "output_type": "stream",
     "text": [
      "In /opt/anaconda3/lib/python3.7/site-packages/matplotlib/mpl-data/stylelib/_classic_test.mplstyle: \n",
      "The text.latex.preview rcparam was deprecated in Matplotlib 3.3 and will be removed two minor releases later.\n",
      "In /opt/anaconda3/lib/python3.7/site-packages/matplotlib/mpl-data/stylelib/_classic_test.mplstyle: \n",
      "The mathtext.fallback_to_cm rcparam was deprecated in Matplotlib 3.3 and will be removed two minor releases later.\n",
      "In /opt/anaconda3/lib/python3.7/site-packages/matplotlib/mpl-data/stylelib/_classic_test.mplstyle: Support for setting the 'mathtext.fallback_to_cm' rcParam is deprecated since 3.3 and will be removed two minor releases later; use 'mathtext.fallback : 'cm' instead.\n",
      "In /opt/anaconda3/lib/python3.7/site-packages/matplotlib/mpl-data/stylelib/_classic_test.mplstyle: \n",
      "The validate_bool_maybe_none function was deprecated in Matplotlib 3.3 and will be removed two minor releases later.\n",
      "In /opt/anaconda3/lib/python3.7/site-packages/matplotlib/mpl-data/stylelib/_classic_test.mplstyle: \n",
      "The savefig.jpeg_quality rcparam was deprecated in Matplotlib 3.3 and will be removed two minor releases later.\n",
      "In /opt/anaconda3/lib/python3.7/site-packages/matplotlib/mpl-data/stylelib/_classic_test.mplstyle: \n",
      "The keymap.all_axes rcparam was deprecated in Matplotlib 3.3 and will be removed two minor releases later.\n",
      "In /opt/anaconda3/lib/python3.7/site-packages/matplotlib/mpl-data/stylelib/_classic_test.mplstyle: \n",
      "The animation.avconv_path rcparam was deprecated in Matplotlib 3.3 and will be removed two minor releases later.\n",
      "In /opt/anaconda3/lib/python3.7/site-packages/matplotlib/mpl-data/stylelib/_classic_test.mplstyle: \n",
      "The animation.avconv_args rcparam was deprecated in Matplotlib 3.3 and will be removed two minor releases later.\n"
     ]
    }
   ],
   "source": [
    "import numpy as np\n",
    "import matplotlib\n",
    "import matplotlib.pyplot as plt\n",
    "import random\n",
    "import scipy.stats as stats"
   ]
  },
  {
   "cell_type": "code",
   "execution_count": 9,
   "metadata": {
    "ExecuteTime": {
     "end_time": "2021-04-01T00:37:44.931201Z",
     "start_time": "2021-04-01T00:37:44.918949Z"
    }
   },
   "outputs": [
    {
     "name": "stdout",
     "output_type": "stream",
     "text": [
      "115.74074074074075\n"
     ]
    }
   ],
   "source": [
    "\n",
    "\n",
    "perturb_time = 0.5 # how often you want the discharge to change\n",
    "Qavg = 400 #average discharge you want over the entire run\n",
    "SD = 0.5 #what you want the standard deviation to be \n",
    "s_to_day = 3600*24 #number of seconds in a day\n",
    "t_max = 1e7 #end time of model run in s\n",
    "end_time = t_max/s_to_day #end time of model run\n",
    "print(end_time)\n",
    "\n",
    "modelrun = 'FloodUpperThreshold'+str(Qavg)\n",
    "saveto = '/Users/safiya/Documents/NAYS2DH/Discharges/'"
   ]
  },
  {
   "cell_type": "code",
   "execution_count": 10,
   "metadata": {
    "ExecuteTime": {
     "end_time": "2021-04-01T00:37:45.392094Z",
     "start_time": "2021-04-01T00:37:45.105377Z"
    }
   },
   "outputs": [
    {
     "name": "stdout",
     "output_type": "stream",
     "text": [
      "(232, 1)\n",
      "(232, 1)\n",
      "min 400.1417692727899 max 401.98367984512885\n"
     ]
    },
    {
     "data": {
      "image/png": "[encoded data removed]",
      "text/plain": [
       "<Figure size 432x288 with 1 Axes>"
      ]
     },
     "metadata": {
      "needs_background": "light"
     },
     "output_type": "display_data"
    }
   ],
   "source": [
    "time = np.arange(0, end_time, perturb_time)\n",
    "time = np.reshape(time, [len(time), 1])\n",
    "print(time.shape)\n",
    "discharges = stats.maxwell.rvs(Qavg, SD, len(time))\n",
    "#discharges = np.random.normal(Qavg, SD, len(time))\n",
    "discharges = np.reshape(discharges, [len(discharges), 1])\n",
    "plt.hist(discharges, bins = 40)\n",
    "#plt.plot(norm.pdf(discharges), 'r')\n",
    "print(discharges.shape)\n",
    "print('min', discharges.min(), 'max', discharges.max())\n",
    "times = time*s_to_day"
   ]
  },
  {
   "cell_type": "code",
   "execution_count": 11,
   "metadata": {
    "ExecuteTime": {
     "end_time": "2021-04-01T00:37:45.401422Z",
     "start_time": "2021-04-01T00:37:45.394430Z"
    }
   },
   "outputs": [
    {
     "data": {
      "text/plain": [
       "(232, 2)"
      ]
     },
     "execution_count": 11,
     "metadata": {},
     "output_type": "execute_result"
    }
   ],
   "source": [
    "Q_data = np.concatenate((times, discharges), axis = 1)\n",
    "np.savetxt(saveto+modelrun+\".csv\", Q_data, delimiter=\",\")\n",
    "Q_data.shape"
   ]
  },
  {
   "cell_type": "code",
   "execution_count": 12,
   "metadata": {
    "ExecuteTime": {
     "end_time": "2021-04-01T00:37:45.622190Z",
     "start_time": "2021-04-01T00:37:45.505912Z"
    }
   },
   "outputs": [
    {
     "data": {
      "text/plain": [
       "(350.1417692727899, 451.98367984512885)"
      ]
     },
     "execution_count": 12,
     "metadata": {},
     "output_type": "execute_result"
    },
    {
     "data": {
      "image/png": "[encoded data removed]",
      "text/plain": [
       "<Figure size 432x288 with 1 Axes>"
      ]
     },
     "metadata": {
      "needs_background": "light"
     },
     "output_type": "display_data"
    }
   ],
   "source": [
    "plt.plot(time, discharges)\n",
    "plt.xlim([0, 3])\n",
    "plt.ylim([discharges.min()-50, discharges.max()+50])"
   ]
  },
  {
   "cell_type": "code",
   "execution_count": null,
   "metadata": {},
   "outputs": [],
   "source": []
  },
  {
   "cell_type": "code",
   "execution_count": null,
   "metadata": {},
   "outputs": [],
   "source": []
  }
 ],
 "metadata": {
  "kernelspec": {
   "display_name": "Python 3",
   "language": "python",
   "name": "python3"
  },
  "language_info": {
   "codemirror_mode": {
    "name": "ipython",
    "version": 3
   },
   "file_extension": ".py",
   "mimetype": "text/x-python",
   "name": "python",
   "nbconvert_exporter": "python",
   "pygments_lexer": "ipython3",
   "version": "3.7.4"
  }
 },
 "nbformat": 4,
 "nbformat_minor": 2
}
