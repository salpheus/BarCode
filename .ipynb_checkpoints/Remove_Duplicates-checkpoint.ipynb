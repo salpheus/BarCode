{
 "cells": [
  {
   "cell_type": "code",
   "execution_count": 8,
   "id": "cb5c3347-8090-453a-bc4d-6bcf8749c571",
   "metadata": {},
   "outputs": [],
   "source": [
    "import numpy as np\n",
    "import matplotlib as mpl\n",
    "import copy\n",
    "import matplotlib.pyplot as plt\n",
    "import os"
   ]
  },
  {
   "cell_type": "code",
   "execution_count": 4,
   "id": "a717c8fb-bd83-4b78-9d60-f85578950a72",
   "metadata": {},
   "outputs": [
    {
     "name": "stdin",
     "output_type": "stream",
     "text": [
      "iloc:  200\n",
      "Enter pres flag:  FP\n",
      "Enter coherence val:  5\n",
      "Enter identifier:  7\n"
     ]
    }
   ],
   "source": [
    "iloc = int(input('iloc: '))\n",
    "pres = input('Enter pres flag: ')\n",
    "coh = input('Enter coherence val: ')\n",
    "idf = input('Enter identifier: ')\n",
    "\n",
    "mypath = f'/Volumes/SAF_Data/NAYS2DH_files/Data/nparrays/barpkg-arrays/Summer-bpkg-redo/JUNE132022/{iloc}/'\n",
    "bar = np.load(f'{mypath}{iloc}-{pres}-{coh}-{idf}.npy', allow_pickle = True)\n",
    "## data order: 0 = topo, 1 = eh surf, 2 = shear, 3 = flowdepth, 4 = velocity"
   ]
  },
  {
   "cell_type": "code",
   "execution_count": 6,
   "id": "c485237c-bb26-4783-a0e6-c3bb90e58ca0",
   "metadata": {},
   "outputs": [
    {
     "name": "stderr",
     "output_type": "stream",
     "text": [
      "/var/folders/yg/89nlrh5x2xzgdlgr2bczm4_m0000gn/T/ipykernel_49572/1042326235.py:4: RuntimeWarning: invalid value encountered in log10\n",
      "  med_mmp =(1000*(bar[:, :, 4]**2))/(1650*((18*(np.log10(4*bar[:, :, 3]/d50)))**2)*d50)##### modified mobility parameter\n"
     ]
    }
   ],
   "source": [
    "d50 = 0.00031\n",
    "# chezy_rough = 18*(np.log10(4*allbars['MedFlowDepth']/d50)) #i think this is log10, else they would've put ln no?\n",
    "\n",
    "med_mmp =(1000*(bar[:, :, 4]**2))/(1650*((18*(np.log10(4*bar[:, :, 3]/d50)))**2)*d50)##### modified mobility parameter"
   ]
  },
  {
   "cell_type": "code",
   "execution_count": 115,
   "id": "e4f579b1-b3d7-4121-855a-a3fa452cce65",
   "metadata": {},
   "outputs": [
    {
     "data": {
      "image/png": "[encoded data removed]",
      "text/plain": [
       "<Figure size 432x288 with 1 Axes>"
      ]
     },
     "metadata": {
      "needs_background": "light"
     },
     "output_type": "display_data"
    }
   ],
   "source": [
    "mmp_replace = copy.deepcopy(med_mmp)\n",
    "mmp_replacenan = copy.deepcopy(med_mmp)\n",
    "for i in range (0, len(mmp_replace)-1):\n",
    "    for j in range (0, mmp_replace.shape[1]):\n",
    "        if np.logical_and(bar[i, j, 0] == bar[i+1, j, 0], mmp_replace[i, j] < mmp_replace[i+1, j]):\n",
    "            mmp_replace[i, j] = mmp_replace[i+1, j]\n",
    "            mmp_replacenan[i, j] = np.nan\n",
    "plt.hist(mmp_replace.ravel())\n",
    "plt.hist(mmp_replacenan.ravel(), histtype ='step');"
   ]
  },
  {
   "cell_type": "code",
   "execution_count": 119,
   "id": "219fc5ff-bc5a-4007-ac65-8a2cb1285586",
   "metadata": {},
   "outputs": [
    {
     "name": "stdout",
     "output_type": "stream",
     "text": [
      "318\n"
     ]
    }
   ],
   "source": [
    "counting = 0\n",
    "for i in range (0, bar.shape[0]-1):\n",
    "    for j in range (0, bar.shape[1]):\n",
    "        if bar[i, j, 0] == bar[i+1, j, 0]: #if the elevations are equal, num of nans total should be less than this total?\n",
    "            counting += 1\n",
    "print(counting)"
   ]
  },
  {
   "cell_type": "code",
   "execution_count": 108,
   "id": "3ab181f6-6f93-4542-aa57-b29d8189b86f",
   "metadata": {
    "tags": []
   },
   "outputs": [
    {
     "data": {
      "text/plain": [
       "(array([529.,  54.,  37.,  41.,  18.,   7.,   5.,   3.,   3.,   2.]),\n",
       " array([5.25478992e-06, 1.96390976e-02, 3.92729405e-02, 5.89067833e-02,\n",
       "        7.85406262e-02, 9.81744690e-02, 1.17808312e-01, 1.37442155e-01,\n",
       "        1.57075998e-01, 1.76709840e-01, 1.96343683e-01]),\n",
       " [<matplotlib.patches.Polygon at 0x7ff4804e06a0>])"
      ]
     },
     "execution_count": 108,
     "metadata": {},
     "output_type": "execute_result"
    },
    {
     "data": {
      "image/png": "[encoded data removed]",
      "text/plain": [
       "<Figure size 432x288 with 1 Axes>"
      ]
     },
     "metadata": {
      "needs_background": "light"
     },
     "output_type": "display_data"
    },
    {
     "data": {
      "image/png": "[encoded data removed]",
      "text/plain": [
       "<Figure size 432x288 with 1 Axes>"
      ]
     },
     "metadata": {
      "needs_background": "light"
     },
     "output_type": "display_data"
    }
   ],
   "source": [
    "mmp_reduce = copy.deepcopy(med_mmp)\n",
    "plt.figure(1)\n",
    "\n",
    "\n",
    "top_down = copy.deepcopy(med_mmp)\n",
    "top_downred = copy.deepcopy(med_mmp)\n",
    "\n",
    "for i in range (bar.shape[0]-1, 1, -1):\n",
    "     for j in range (0, bar.shape[1]):\n",
    "        if bar[i, j, 0] == bar[i-1, j, 0]:\n",
    "            top_down[i-1, j] = med_mmp[i, j]\n",
    "            top_downred[i-1, j] = np.nan\n",
    "mmp_reduce[np.where(bar[1:, :, 0]==bar[:-1, :, 0])] = np.nan\n",
    "testy = med_mmp[np.where(bar[1:, :, 0] == bar[:-1, :, 0])] \n",
    "plt.hist(med_mmp.ravel()); ## orig mmp\n",
    "plt.hist(testy.ravel(), histtype = 'step') ## values of equal bits\n",
    "plt.hist(top_down.ravel(), histtype = 'step', linewidth = 1, ls = '--') ## top value replacement, equal to initial mmp range\n",
    "\n",
    "plt.figure(2)\n",
    "plt.hist(mmp_reduce[~np.isnan(mmp_reduce)].ravel())\n",
    "# plt.hist(testy.ravel(), histtype = 'step') \n",
    "plt.hist(top_downred.ravel(), histtype = 'step') "
   ]
  },
  {
   "cell_type": "code",
   "execution_count": 107,
   "id": "bb718c62-e161-4140-a23a-eb9382986ce1",
   "metadata": {},
   "outputs": [
    {
     "data": {
      "text/plain": [
       "0.34211698975592325"
      ]
     },
     "execution_count": 107,
     "metadata": {},
     "output_type": "execute_result"
    }
   ],
   "source": [
    "np.nanmax(testy)"
   ]
  },
  {
   "cell_type": "code",
   "execution_count": 92,
   "id": "272bde5d-dc62-4522-8003-e1532f55a641",
   "metadata": {},
   "outputs": [
    {
     "name": "stdout",
     "output_type": "stream",
     "text": [
      "1080 1080\n",
      "81 999\n",
      "(20, 54, 5)\n"
     ]
    }
   ],
   "source": [
    "numnans = np.count_nonzero(np.isnan(med_mmp))\n",
    "numnotnan = np.count_nonzero(~np.isnan(med_mmp))\n",
    "print(np.count_nonzero(med_mmp), np.count_nonzero(mmp_reduce))\n",
    "print(numnans, numnotnan)\n",
    "print(bar.shape)"
   ]
  },
  {
   "cell_type": "code",
   "execution_count": 25,
   "id": "181e29d5-5d89-48f5-8d6c-4a73888234dd",
   "metadata": {},
   "outputs": [
    {
     "name": "stdout",
     "output_type": "stream",
     "text": [
      "0.19634368324040327 0.34211698975592325\n"
     ]
    }
   ],
   "source": [
    "print(np.nanmax(mmp_reduce), np.nanmax(med_mmp))"
   ]
  },
  {
   "cell_type": "code",
   "execution_count": 26,
   "id": "b4e65e23-9f8c-4b63-934e-7beefe519d03",
   "metadata": {},
   "outputs": [
    {
     "data": {
      "text/plain": [
       "225"
      ]
     },
     "execution_count": 26,
     "metadata": {},
     "output_type": "execute_result"
    }
   ],
   "source": [
    "np.count_nonzero(~np.isnan(bar[:, :, 1]))"
   ]
  },
  {
   "cell_type": "code",
   "execution_count": 27,
   "id": "57882b6c-66b1-48bb-9c11-4fcf50fb04f6",
   "metadata": {},
   "outputs": [
    {
     "data": {
      "text/plain": [
       "0.2861737460176053"
      ]
     },
     "execution_count": 27,
     "metadata": {},
     "output_type": "execute_result"
    }
   ],
   "source": [
    "np.nanmax(med_mmp[~np.isnan(bar[:, :, 1])])"
   ]
  },
  {
   "cell_type": "code",
   "execution_count": 28,
   "id": "12e9bbfd-04e5-4750-a5e2-7f7ddd18d1a7",
   "metadata": {},
   "outputs": [
    {
     "data": {
      "text/plain": [
       "0.19634368324040327"
      ]
     },
     "execution_count": 28,
     "metadata": {},
     "output_type": "execute_result"
    }
   ],
   "source": [
    "np.nanmax(mmp_reduce[~np.isnan(bar[:, :, 1])])"
   ]
  },
  {
   "cell_type": "code",
   "execution_count": 33,
   "id": "f16bca40-3fcb-4490-89ff-ee5e8b2f3e03",
   "metadata": {},
   "outputs": [
    {
     "name": "stderr",
     "output_type": "stream",
     "text": [
      "/var/folders/yg/89nlrh5x2xzgdlgr2bczm4_m0000gn/T/ipykernel_49572/3708210234.py:1: RuntimeWarning: invalid value encountered in log10\n",
      "  chezy_rough = 18*(np.log10(4*bar[:, :, 3]/d50)) #i think this is log10, else they would've put ln no?\n"
     ]
    }
   ],
   "source": [
    "chezy_rough = 18*(np.log10(4*bar[:, :, 3]/d50)) #i think this is log10, else they would've put ln no?\n",
    "\n",
    "mmp =(1000*(bar[:, :, 4]**2))/(1650*(chezy_rough**2)*d50)##### modified mobility parameter"
   ]
  },
  {
   "cell_type": "code",
   "execution_count": null,
   "id": "6c36a94a-d893-4d6d-a557-65d515f9bd00",
   "metadata": {},
   "outputs": [],
   "source": [
    "\n",
    "med_mmp =(1000*(bar[:, :, 4]**2))/(1650*((18*(np.log10(4*bar[:, :, 3]/d50)))**2)*d50)##### modified mobility parameter"
   ]
  },
  {
   "cell_type": "code",
   "execution_count": 34,
   "id": "0c2ab387-f9e1-4b05-bf9f-1cda966f40b3",
   "metadata": {},
   "outputs": [
    {
     "data": {
      "text/plain": [
       "0.34211698975592325"
      ]
     },
     "execution_count": 34,
     "metadata": {},
     "output_type": "execute_result"
    }
   ],
   "source": [
    "np.nanmax(mmp)"
   ]
  },
  {
   "cell_type": "code",
   "execution_count": 74,
   "id": "a1d796bf-0359-4c05-9b5f-68787973c47f",
   "metadata": {},
   "outputs": [],
   "source": [
    "test = np.array([[1, 2, 3, 2, 3], [1, 2, 4, 2, 2], [2, 3, 5, 4, 3]], dtype = float)"
   ]
  },
  {
   "cell_type": "code",
   "execution_count": 75,
   "id": "d7d70d88-ef7a-4a4c-bb7e-ba7befd8947e",
   "metadata": {},
   "outputs": [
    {
     "data": {
      "image/png": "[encoded data removed]",
      "text/plain": [
       "<Figure size 432x288 with 1 Axes>"
      ]
     },
     "metadata": {
      "needs_background": "light"
     },
     "output_type": "display_data"
    }
   ],
   "source": [
    "for i in range (0, len(test)):\n",
    "    plt.plot([0, 1, 2, 3, 4], test[i, :])"
   ]
  },
  {
   "cell_type": "code",
   "execution_count": 80,
   "id": "37957a2e-a1fd-4439-bbee-ab43ed8d03fb",
   "metadata": {},
   "outputs": [
    {
     "ename": "IndexError",
     "evalue": "boolean index did not match indexed array along dimension 0; dimension is 3 but corresponding boolean dimension is 2",
     "output_type": "error",
     "traceback": [
      "\u001b[0;31m---------------------------------------------------------------------------\u001b[0m",
      "\u001b[0;31mIndexError\u001b[0m                                Traceback (most recent call last)",
      "Input \u001b[0;32mIn [82]\u001b[0m, in \u001b[0;36m<cell line: 3>\u001b[0;34m()\u001b[0m\n\u001b[1;32m      3\u001b[0m \u001b[38;5;28;01mfor\u001b[39;00m i \u001b[38;5;129;01min\u001b[39;00m \u001b[38;5;28mrange\u001b[39m (\u001b[38;5;241m0\u001b[39m, test\u001b[38;5;241m.\u001b[39mshape[\u001b[38;5;241m0\u001b[39m]\u001b[38;5;241m-\u001b[39m\u001b[38;5;241m1\u001b[39m):\n\u001b[1;32m      4\u001b[0m     \u001b[38;5;28;01mfor\u001b[39;00m j \u001b[38;5;129;01min\u001b[39;00m \u001b[38;5;28mrange\u001b[39m (\u001b[38;5;241m0\u001b[39m, test\u001b[38;5;241m.\u001b[39mshape[\u001b[38;5;241m1\u001b[39m]):\n\u001b[0;32m----> 5\u001b[0m         test_math_red[test[\u001b[38;5;241m1\u001b[39m:, :]\u001b[38;5;241m==\u001b[39mtest[:\u001b[38;5;241m-\u001b[39m\u001b[38;5;241m1\u001b[39m, :]] \u001b[38;5;241m=\u001b[39m np\u001b[38;5;241m.\u001b[39mnan\n",
      "\u001b[0;31mIndexError\u001b[0m: boolean index did not match indexed array along dimension 0; dimension is 3 but corresponding boolean dimension is 2"
     ]
    }
   ],
   "source": [
    "test_math = test * 2\n",
    "test_math_red = copy.deepcopy(test_math)\n",
    "for i in range (0, test.shape[0]-1):\n",
    "    for j in range (0, test.shape[1]):\n",
    "        test_math_red[np.where(test[1:, :]==test[:-1, :])] = np.nan\n",
    "        #if test[i, j] == test[i+1, j]:\n",
    "        #    test_math_red[i, j] = np.nan"
   ]
  },
  {
   "cell_type": "code",
   "execution_count": null,
   "id": "a41ec1cb-77ad-437f-b80f-ead5331f45e7",
   "metadata": {},
   "outputs": [],
   "source": []
  },
  {
   "cell_type": "code",
   "execution_count": 81,
   "id": "d5fae7c4-84d3-411e-ab3c-7d090d48aa41",
   "metadata": {},
   "outputs": [
    {
     "name": "stdout",
     "output_type": "stream",
     "text": [
      "12\n",
      "3\n"
     ]
    }
   ],
   "source": [
    "print(np.count_nonzero(~np.isnan(test_math_red)))\n",
    "print(np.count_nonzero(np.isnan(test_math_red)))"
   ]
  },
  {
   "cell_type": "code",
   "execution_count": 70,
   "id": "4c037e95-50bc-4816-9697-16a8ae6d1e50",
   "metadata": {},
   "outputs": [
    {
     "data": {
      "text/plain": [
       "(array([0, 0, 0]), array([0, 1, 3]))"
      ]
     },
     "execution_count": 70,
     "metadata": {},
     "output_type": "execute_result"
    }
   ],
   "source": [
    "np.where (test_math[1:, :]==test_math[:-1, :])"
   ]
  },
  {
   "cell_type": "code",
   "execution_count": null,
   "id": "2415b1a3-410b-4da8-9ea3-0059e4417464",
   "metadata": {},
   "outputs": [],
   "source": []
  }
 ],
 "metadata": {
  "kernelspec": {
   "display_name": "Python 3 (ipykernel)",
   "language": "python",
   "name": "python3"
  },
  "language_info": {
   "codemirror_mode": {
    "name": "ipython",
    "version": 3
   },
   "file_extension": ".py",
   "mimetype": "text/x-python",
   "name": "python",
   "nbconvert_exporter": "python",
   "pygments_lexer": "ipython3",
   "version": "3.8.12"
  }
 },
 "nbformat": 4,
 "nbformat_minor": 5
}
