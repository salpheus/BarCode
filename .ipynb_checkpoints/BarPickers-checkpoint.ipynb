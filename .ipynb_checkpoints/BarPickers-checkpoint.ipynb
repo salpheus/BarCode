{
 "cells": [
  {
   "cell_type": "markdown",
   "metadata": {
    "hide_input": false,
    "id": "UpkwI8oJ4uVE",
    "tags": []
   },
   "source": [
    "## Import Packages and set up plots etc"
   ]
  },
  {
   "cell_type": "code",
   "execution_count": 1,
   "metadata": {
    "ExecuteTime": {
     "end_time": "2022-03-23T14:33:07.863928Z",
     "start_time": "2022-03-23T14:33:04.843156Z"
    },
    "colab": {
     "base_uri": "https://localhost:8080/"
    },
    "executionInfo": {
     "elapsed": 30854,
     "status": "ok",
     "timestamp": 1616012075897,
     "user": {
      "displayName": "Safiya Alpheus",
      "photoUrl": "",
      "userId": "18049693271511077124"
     },
     "user_tz": 240
    },
    "hide_input": false,
    "id": "UfJ8KbOl4uVE",
    "outputId": "b09c468a-be2a-423e-a950-95008f74745d",
    "scrolled": true,
    "tags": []
   },
   "outputs": [],
   "source": [
    "import pandas as pd\n",
    "import numpy as np\n",
    "import matplotlib as mpl\n",
    "import matplotlib.pyplot as plt\n",
    "import csv\n",
    "import os\n",
    "import scipy.stats as stats\n",
    "import seaborn as sns\n",
    "import math \n",
    "import matplotlib.animation as animation\n",
    "import matplotlib.colors as mcol\n",
    "import matplotlib.cm as cm\n",
    "import time\n",
    "import random\n",
    "import statistics as stat\n",
    "import collections\n",
    "import copy \n",
    "\n",
    "import matplotlib.gridspec as gridspec\n",
    "\n",
    "\n",
    "import PIL\n",
    "from xml.dom import minidom\n",
    "from shapely.geometry import Polygon, MultiPolygon\n",
    "#from descartes import PolygonPatch\n",
    "#from PIL import Image\n",
    "from scipy.spatial import distance\n",
    "from scipy import signal\n",
    "from scipy import interpolate\n",
    "from scipy.stats import variation\n",
    "from mpl_toolkits.axes_grid1 import make_axes_locatable\n",
    "from IPython.display import Image\n",
    "from mpl_toolkits.axes_grid1.inset_locator import inset_axes\n",
    "from celluloid import Camera\n",
    "from matplotlib.ticker import (MultipleLocator, AutoMinorLocator)\n",
    "\n",
    "#plt.style.use('seaborn-white')\n",
    "\n",
    "from matplotlib.collections import LineCollection, PatchCollection\n",
    "from matplotlib.colors import ListedColormap, BoundaryNorm, LinearSegmentedColormap\n",
    "\n",
    "%matplotlib inline\n",
    "#%matplotlib qt\n",
    "#%matplotlib notebook\n",
    "#from google.colab import drive\n",
    "#drive.mount(\"/content/gdrive\")"
   ]
  },
  {
   "cell_type": "code",
   "execution_count": 2,
   "metadata": {
    "ExecuteTime": {
     "end_time": "2022-03-23T14:33:07.872542Z",
     "start_time": "2022-03-23T14:33:07.868285Z"
    },
    "executionInfo": {
     "elapsed": 402,
     "status": "ok",
     "timestamp": 1616012087286,
     "user": {
      "displayName": "Safiya Alpheus",
      "photoUrl": "",
      "userId": "18049693271511077124"
     },
     "user_tz": 240
    },
    "hide_input": true,
    "id": "i5syel9j4uVG",
    "tags": []
   },
   "outputs": [],
   "source": [
    "font = {'family' : 'Helvetica',\n",
    "        'weight' : 'normal',\n",
    "        'size'   : 8}\n",
    "\n",
    "mpl.rc('font', **font)\n",
    "kwargs = dict(edgecolor = 'k', fc = 'xkcd:greyish', alpha=0.5, bins=20)"
   ]
  },
  {
   "cell_type": "markdown",
   "metadata": {
    "ExecuteTime": {
     "end_time": "2021-09-24T14:39:16.217439Z",
     "start_time": "2021-09-24T14:39:15.778430Z"
    },
    "colab": {
     "base_uri": "https://localhost:8080/"
    },
    "executionInfo": {
     "elapsed": 2644,
     "status": "ok",
     "timestamp": 1616012090978,
     "user": {
      "displayName": "Safiya Alpheus",
      "photoUrl": "",
      "userId": "18049693271511077124"
     },
     "user_tz": 240
    },
    "hide_input": true,
    "id": "_al9IuVW4uVG",
    "outputId": "bafdf1f6-e3d3-4ba0-c113-698a054892a6",
    "tags": []
   },
   "source": [
    " ## source of this function: http://schubert.atmos.colostate.edu/~cslocum/custom_cmap.html#code\n",
    "def make_cmap(colors, position=None, bit=False):\n",
    "\n",
    "    if len(position) != len(colors):\n",
    "        sys.exit('position length must be the same as colors')\n",
    "    elif position[0] != 0 or position[-1] != 1:\n",
    "        sys.exit('position must start with 0 and end with 1')\n",
    "    \n",
    "    cdict = {'red':[], 'green':[], 'blue':[]}\n",
    "    for pos, color in zip(position, colors):\n",
    "\n",
    "        cdict['red'].append((pos, color[0], color[0]))\n",
    "        cdict['green'].append((pos, color[1], color[1]))\n",
    "        cdict['blue'].append((pos, color[2], color[2]))\n",
    "\n",
    "        cmap = mpl.colors.LinearSegmentedColormap('my_colormap',cdict,256)\n",
    "\n",
    "    return cmap\n",
    "\n",
    "## load source xml file\n",
    "xmldoc = minidom.parse('/Volumes/SAF_Data/Python/colourmaps/mellow-rainbow.xml')\n",
    "itemlist = xmldoc.getElementsByTagName('Point')\n",
    "data_vals=[]\n",
    "color_vals=[]\n",
    "\n",
    "for s in itemlist:\n",
    "    \n",
    "    data_vals.append(float(s.attributes['x'].value))\n",
    "    color_vals.append((float(s.attributes['r'].value),\n",
    "    float(s.attributes['g'].value),\n",
    "    float(s.attributes['b'].value)))\n",
    "\n",
    "## construct the colormap\n",
    "\n",
    "mycmap = make_cmap(color_vals,data_vals) ##this is the main rainbow colourmap to be used in the code\n",
    "#print('converted successfully!')\n",
    "\n",
    "#mycmap_r = ListedColormap(mycmap.colors[::-1])\n",
    "\n",
    "# mycmap is matplotlib compatible object. to query color value out of it:\n",
    "\n",
    "#print('example rgba value for data value 0 is: ' + str(mycmap(0.0)))\n",
    "\n",
    "## load source xml file\n",
    "xmldoc = minidom.parse('/Volumes/SAF_Data/Python/colourmaps/brown-2.xml')\n",
    "itemlist = xmldoc.getElementsByTagName('Point')\n",
    "data_vals=[]\n",
    "color_vals=[]\n",
    "\n",
    "for s in itemlist:\n",
    "    \n",
    "    data_vals.append(float(s.attributes['x'].value))\n",
    "    color_vals.append((float(s.attributes['r'].value),\n",
    "    float(s.attributes['g'].value),\n",
    "    float(s.attributes['b'].value)))\n",
    "\n",
    "## construct the colormap\n",
    "\n",
    "ss_facies = make_cmap(color_vals,data_vals) ##this is the main rainbow colourmap to be used in the code\n",
    "#print('converted successfully!')\n",
    "\n",
    "## load source xml file\n",
    "xmldoc = minidom.parse('/Volumes/SAF_Data/Python/colourmaps//green-brown-div.xml')\n",
    "itemlist = xmldoc.getElementsByTagName('Point')\n",
    "data_vals=[]\n",
    "color_vals=[]\n",
    "\n",
    "for s in itemlist:\n",
    "    \n",
    "    data_vals.append(float(s.attributes['x'].value))\n",
    "    color_vals.append((float(s.attributes['r'].value),\n",
    "    float(s.attributes['g'].value),\n",
    "    float(s.attributes['b'].value)))\n",
    "\n",
    "## construct the colormap\n",
    "\n",
    "grads = make_cmap(color_vals,data_vals) ##this is the main rainbow colourmap to be used in the code\n",
    "#print('converted successfully!')\n",
    "\n",
    "xmldoc = minidom.parse('/Volumes/SAF_Data/Python/colourmaps/blue-3.xml')\n",
    "itemlist = xmldoc.getElementsByTagName('Point')\n",
    "data_vals=[]\n",
    "color_vals=[]\n",
    "\n",
    "for s in itemlist:\n",
    "    \n",
    "    data_vals.append(float(s.attributes['x'].value))\n",
    "    color_vals.append((float(s.attributes['r'].value),\n",
    "    float(s.attributes['g'].value),\n",
    "    float(s.attributes['b'].value)))\n",
    "\n",
    "## construct the colormap\n",
    "\n",
    "depths = make_cmap(color_vals,data_vals) ##this is the main rainbow colourmap to be used in the code\n",
    "#print('converted successfully!')\n",
    "\n",
    "##for velocities\n",
    "\n",
    "xmldoc = minidom.parse('/Volumes/SAF_Data/Python/colourmaps/orange-6.xml')\n",
    "itemlist = xmldoc.getElementsByTagName('Point')\n",
    "data_vals=[]\n",
    "color_vals=[]\n",
    "\n",
    "for s in itemlist:\n",
    "    \n",
    "    data_vals.append(float(s.attributes['x'].value))\n",
    "    color_vals.append((float(s.attributes['r'].value),\n",
    "    float(s.attributes['g'].value),\n",
    "    float(s.attributes['b'].value)))\n",
    "\n",
    "## construct the colormap\n",
    "\n",
    "vels = make_cmap(color_vals,data_vals) ##this is the main rainbow colourmap to be used in the code\n",
    "#print('converted successfully!')\n",
    "\n",
    "\n",
    "# xmldoc = minidom.parse('/Volumes/SAF_Data/Python/colourmaps/1-3wbgy.xml')\n",
    "# itemlist = xmldoc.getElementsByTagName('Point')\n",
    "# data_vals=[]\n",
    "# color_vals=[]\n",
    "\n",
    "# for s in itemlist:\n",
    "    \n",
    "#     data_vals.append(float(s.attributes['x'].value))\n",
    "#     color_vals.append((float(s.attributes['r'].value),\n",
    "#     float(s.attributes['g'].value),\n",
    "#     float(s.attributes['b'].value)))\n",
    "\n",
    "# ## construct the colormap\n",
    "\n",
    "# planformcmap = make_cmap(color_vals,data_vals) ##this is the main rainbow colourmap to be used in the code\n",
    "# print('converted successfully!')\n",
    "\n"
   ]
  },
  {
   "cell_type": "markdown",
   "metadata": {
    "ExecuteTime": {
     "end_time": "2021-09-24T14:39:16.225041Z",
     "start_time": "2021-09-24T14:39:16.220728Z"
    },
    "executionInfo": {
     "elapsed": 399,
     "status": "ok",
     "timestamp": 1616012096398,
     "user": {
      "displayName": "Safiya Alpheus",
      "photoUrl": "",
      "userId": "18049693271511077124"
     },
     "user_tz": 240
    },
    "hide_input": true,
    "id": "q8rGrmVD4uVH",
    "tags": []
   },
   "source": [
    "def reverse_colourmap(cmap, name = 'my_cmap_r'):\n",
    "    reverse = []\n",
    "    k = []   \n",
    "\n",
    "    for key in cmap._segmentdata:    \n",
    "        k.append(key)\n",
    "        channel = cmap._segmentdata[key]\n",
    "        data = []\n",
    "\n",
    "        for t in channel:                    \n",
    "            data.append((1-t[0],t[2],t[1]))            \n",
    "        reverse.append(sorted(data))    \n",
    "\n",
    "    LinearL = dict(zip(k,reverse))\n",
    "    my_cmap_r = mpl.colors.LinearSegmentedColormap(name, LinearL) \n",
    "    return my_cmap_r"
   ]
  },
  {
   "cell_type": "markdown",
   "metadata": {
    "ExecuteTime": {
     "end_time": "2021-09-24T14:39:16.233412Z",
     "start_time": "2021-09-24T14:39:16.226953Z"
    },
    "hide_input": true,
    "tags": []
   },
   "source": [
    "def hex_to_rgb(value):\n",
    "    '''\n",
    "    Converts hex to rgb colours\n",
    "    value: string of 6 characters representing a hex colour.\n",
    "    Returns: list length 3 of RGB values'''\n",
    "    value = value.strip(\"#\") # removes hash symbol if present\n",
    "    lv = len(value)\n",
    "    return tuple(int(value[i:i + lv // 3], 16) for i in range(0, lv, lv // 3))\n",
    "\n",
    "\n",
    "def rgb_to_dec(value):\n",
    "    '''\n",
    "    Converts rgb to decimal colours (i.e. divides each value by 256)\n",
    "    value: list (length 3) of RGB values\n",
    "    Returns: list (length 3) of decimal values'''\n",
    "    return [v/256 for v in value]\n",
    "\n",
    "def get_continuous_cmap(hex_list, float_list=None):\n",
    "    ''' creates and returns a color map that can be used in heat map figures.\n",
    "        If float_list is not provided, colour map graduates linearly between each color in hex_list.\n",
    "        If float_list is provided, each color in hex_list is mapped to the respective location in float_list. \n",
    "        \n",
    "        Parameters\n",
    "        ----------\n",
    "        hex_list: list of hex code strings\n",
    "        float_list: list of floats between 0 and 1, same length as hex_list. Must start with 0 and end with 1.\n",
    "        \n",
    "        Returns\n",
    "        ----------\n",
    "        colour map'''\n",
    "    rgb_list = [rgb_to_dec(hex_to_rgb(i)) for i in hex_list]\n",
    "    if float_list:\n",
    "        pass\n",
    "    else:\n",
    "        float_list = list(np.linspace(0,1,len(rgb_list)))\n",
    "        \n",
    "    cdict = dict()\n",
    "    for num, col in enumerate(['red', 'green', 'blue']):\n",
    "        col_list = [[float_list[i], rgb_list[i][num], rgb_list[i][num]] for i in range(len(float_list))]\n",
    "        cdict[col] = col_list\n",
    "    cmp = mcol.LinearSegmentedColormap('my_cmp', segmentdata=cdict, N=256)\n",
    "    return cmp"
   ]
  },
  {
   "cell_type": "code",
   "execution_count": 3,
   "metadata": {
    "ExecuteTime": {
     "end_time": "2022-03-23T14:33:15.699098Z",
     "start_time": "2022-03-23T14:33:15.696499Z"
    },
    "hide_input": true,
    "tags": []
   },
   "outputs": [],
   "source": [
    "#planformcmap = reverse_colourmap(planformcmap)"
   ]
  },
  {
   "cell_type": "markdown",
   "metadata": {
    "ExecuteTime": {
     "end_time": "2021-09-24T14:39:16.244871Z",
     "start_time": "2021-09-24T14:39:16.241199Z"
    },
    "executionInfo": {
     "elapsed": 428,
     "status": "ok",
     "timestamp": 1616012097503,
     "user": {
      "displayName": "Safiya Alpheus",
      "photoUrl": "",
      "userId": "18049693271511077124"
     },
     "user_tz": 240
    },
    "hide_input": true,
    "id": "5ZvyK8_d4uVH",
    "tags": []
   },
   "source": [
    "ss_facies_r = reverse_colourmap(ss_facies)\n",
    "timesteps_r = reverse_colourmap(mycmap)"
   ]
  },
  {
   "cell_type": "code",
   "execution_count": 4,
   "metadata": {
    "ExecuteTime": {
     "end_time": "2022-03-23T14:33:30.270283Z",
     "start_time": "2022-03-23T14:33:16.220205Z"
    },
    "executionInfo": {
     "elapsed": 320,
     "status": "ok",
     "timestamp": 1616012100018,
     "user": {
      "displayName": "Safiya Alpheus",
      "photoUrl": "",
      "userId": "18049693271511077124"
     },
     "user_tz": 240
    },
    "id": "La49XvqT4uVI",
    "tags": []
   },
   "outputs": [
    {
     "name": "stdin",
     "output_type": "stream",
     "text": [
      "Enter DV flag:  0\n",
      "Enter bed adjustment time here, be wary of timestep conversion:  65\n",
      "Enter iloc:  340\n"
     ]
    },
    {
     "name": "stdout",
     "output_type": "stream",
     "text": [
      "/Volumes/SAF_Data/Data/ConvertedArrays/data-agubh2-10km_0hrflood/0hfld-datamaster-2hour.npy\n"
     ]
    }
   ],
   "source": [
    "Q = str(100)# discharge in m3/s\n",
    "slope = 0.00137#gradient\n",
    "d50 = 0.31e-3 #d50 grain size in m\n",
    "\n",
    "thot_SS = 802800 #\n",
    "#time from which we restarted the runs to add a flood\n",
    "fldstart_s = 0 ##start time of flood in seconds\n",
    "variabd = int(input('Enter DV flag: ')) #flag for if in variable discharge regime\n",
    "adjustment_time = int(input('Enter bed adjustment time here, be wary of timestep conversion: ')) #number of timesteps, in hours taken for bed to equilibrate\n",
    "iloc = int(input('Enter iloc: '))\n",
    "fldlength = 0\n",
    "idf = '0hfld' #identifier/classifier about the flood setting\n",
    "intstring = '2hour' #time interval of output\n",
    "nickname = 'agubh2-10km' #model nickname, agubh2, gentle_wide etc\n",
    "floodname ='_0hrflood'\n",
    "\n",
    "datnam = f'{idf}-datamaster-{intstring}.npy' #name of the data file to upload\n",
    "dataloc = f'data-{nickname}{floodname}' #where csv files are\n",
    "arrayfolder = f'c-{idf}-{nickname}' #where raw centroid data array stored\n",
    "mainsurfto = f'ms-{idf}-{nickname}' #where bounding surfaces array will go\n",
    "iricoutputt =600 #output time from the model, s\n",
    "\n",
    "print(f'/Volumes/SAF_Data/Data/ConvertedArrays/{dataloc}/{datnam}')\n",
    "datamaster = np.load(f'/Volumes/SAF_Data/NAYS2DH_files/Data/ConvertedArrays/{dataloc}/{datnam}', allow_pickle = True)\n",
    "\n"
   ]
  },
  {
   "cell_type": "markdown",
   "metadata": {},
   "source": [
    "More model set up"
   ]
  },
  {
   "cell_type": "code",
   "execution_count": 5,
   "metadata": {
    "ExecuteTime": {
     "end_time": "2022-03-23T14:33:30.277232Z",
     "start_time": "2022-03-23T14:33:30.272613Z"
    },
    "executionInfo": {
     "elapsed": 320,
     "status": "ok",
     "timestamp": 1616012100018,
     "user": {
      "displayName": "Safiya Alpheus",
      "photoUrl": "",
      "userId": "18049693271511077124"
     },
     "user_tz": 240
    },
    "hide_input": false,
    "id": "La49XvqT4uVI",
    "tags": []
   },
   "outputs": [],
   "source": [
    "jloc = 14#location of the secion along j axis\n",
    "\n",
    "\n",
    "cellW = 4\n",
    "cellL = 10\n",
    "xloc = iloc*cellL\n",
    "xsloc = iloc*cellL\n",
    "#print(xsloc)\n",
    "spacing = 1 #spacing of cross stream x locations, m\n",
    "\n",
    "ps = 2650 # bulk density of quartz kg/m3\n",
    "p = 1000 # density of water in kg/m3\n",
    "nu = 1.787*10e-6 #kinematic viscosity of water in m2/s\n",
    "nu=1.0533e-6\n",
    "g = 9.81 # acceleration due to gravity, m/s2\n",
    "\n",
    "savefilesto = '/Volumes/SAF_Data/NAYS2DH_files/Plots/'\n",
    "modelrun = f'{nickname}-{idf}-{iloc}'"
   ]
  },
  {
   "cell_type": "markdown",
   "metadata": {
    "id": "2S7JkgH74uVI"
   },
   "source": [
    "## Import data"
   ]
  },
  {
   "cell_type": "code",
   "execution_count": 6,
   "metadata": {
    "ExecuteTime": {
     "end_time": "2022-03-23T14:33:30.282753Z",
     "start_time": "2022-03-23T14:33:30.279080Z"
    },
    "hide_input": true,
    "scrolled": true,
    "tags": []
   },
   "outputs": [
    {
     "name": "stdout",
     "output_type": "stream",
     "text": [
      "Shape of the datamaster dataset is:  (26026, 11, 382)\n"
     ]
    }
   ],
   "source": [
    "##define grid dimensions\n",
    "gridx = 1001\n",
    "gridy = 26\n",
    "\n",
    "datacond = 1\n",
    "if datacond == 1:\n",
    "    cells = gridy\n",
    "else:\n",
    "    cells = gridx\n",
    "length = 1001 #length of the domain in the x direction\n",
    "erostart = 5\n",
    "erostop = 5\n",
    "\n",
    "print('Shape of the datamaster dataset is: ', datamaster.shape)"
   ]
  },
  {
   "cell_type": "code",
   "execution_count": 7,
   "metadata": {
    "ExecuteTime": {
     "end_time": "2022-03-23T14:33:30.292394Z",
     "start_time": "2022-03-23T14:33:30.285946Z"
    },
    "hide_input": false,
    "scrolled": true,
    "tags": []
   },
   "outputs": [
    {
     "name": "stdout",
     "output_type": "stream",
     "text": [
      "Number of timesteps being used:  382\n",
      "Shape of data used to plot: (26026, 11, 382)\n"
     ]
    }
   ],
   "source": [
    "num_timesteps = datamaster.shape[2] ## or 168 for 2 weeks# len(os.listdir(filepathcore))-1 ##when u want to stop plotting\n",
    "print('Number of timesteps being used: ', num_timesteps)\n",
    "datamaster = datamaster[:, :, :num_timesteps]\n",
    "position = np.arange(0, length, dtype = float)\n",
    "coevelev = np.empty([num_timesteps])\n",
    "interval_to_plot = 60/60 #we want to plot every ___  HOURS \n",
    "end_t = num_timesteps #len(np.arange(1, num_timesteps, skipstep)) #number of timesteps in data master array\n",
    "fldstart = ((thot_SS+fldstart_s)/3600)/interval_to_plot ##flood starttime, s\n",
    "\n",
    "print('Shape of data used to plot:', datamaster.shape)"
   ]
  },
  {
   "cell_type": "markdown",
   "metadata": {
    "tags": []
   },
   "source": [
    "## Set up and plot main stratigraphy"
   ]
  },
  {
   "cell_type": "markdown",
   "metadata": {
    "ExecuteTime": {
     "end_time": "2021-09-24T14:40:01.454424Z",
     "start_time": "2021-09-24T14:40:01.098088Z"
    },
    "hide_input": false,
    "tags": []
   },
   "source": [
    "char = 10 ## what do you want to colour by? flow depth (4), elevation change (7) etc\n",
    "attribs = datamaster[:, char, :].ravel() # scaling to find your normalisation for the attribute/char you choose to colour with\n",
    "avattribs = np.average(attribs)\n",
    "locd = np.average(avattribs)\n",
    "scd = np.std(avattribs)\n",
    "attx = np.linspace(attribs.min(), attribs.max())\n",
    "apdf = stats.norm.pdf(attx, locd, scd)\n",
    "plt.hist(attribs, density=True);\n",
    "\n",
    "toplim = np.quantile(attribs, 0.65)\n",
    "lowlim = np.quantile(attribs, 0.45)\n",
    "discrete_vel = np.quantile(attribs, (0.1, 0.25, 0.26, 0.99))\n",
    "print(discrete_vel)\n",
    "plt.axvline(toplim, c = 'r', label = '95th ptile')\n",
    "plt.axvline(lowlim, c = 'b', label = '30th ptile')\n",
    "plt.xlabel('attribute, m')\n",
    "plt.ylabel('Count')\n",
    "plt.legend()\n",
    "plt.title('Histogram of depth in entire model domain for entire run');\n",
    "print(f'attribute top: {np.round(toplim, 2)}. Midpoint: {np.round(lowlim, 2)}')\n",
    "\n",
    "bankfull = np.quantile(datamaster[:, 4, :], 0.90)\n",
    "print('Bankfull discharge (90th p): ', bankfull)\n",
    "plt.close()"
   ]
  },
  {
   "cell_type": "markdown",
   "metadata": {},
   "source": [
    "For the colourbar and filling in the model domain plots, we are plotting scaled to the 95th percentile depth"
   ]
  },
  {
   "cell_type": "markdown",
   "metadata": {},
   "source": [
    "Crop and sort the data by jloc (removing ilocs that are not the desired section) so its in section order and not streamwise"
   ]
  },
  {
   "cell_type": "code",
   "execution_count": 8,
   "metadata": {
    "ExecuteTime": {
     "end_time": "2022-03-23T14:33:30.647624Z",
     "start_time": "2022-03-23T14:33:30.295367Z"
    },
    "hide_input": true,
    "tags": []
   },
   "outputs": [
    {
     "name": "stdout",
     "output_type": "stream",
     "text": [
      "Cropped, final dataset shape:  (26, 11, 382)\n"
     ]
    }
   ],
   "source": [
    "#crop data\n",
    "remove_ilocs = np.where(datamaster[:, 0, :] != iloc)\n",
    "data = np.delete(datamaster, remove_ilocs[0], axis=0)\n",
    "print('Cropped, final dataset shape: ', data.shape)\n",
    "\n",
    "#sort in cross stream direction from rightbank to left bank\n",
    "#test = np.empty_like(datamaster)    \n",
    "for i in range (0, num_timesteps):\n",
    "    data[:, :, i] = data[:, :, i][np.argsort(data[:, :, i][:, 3])]\n",
    "    #print(i, data[:, 3, i])\n"
   ]
  },
  {
   "cell_type": "markdown",
   "metadata": {
    "hide_input": false
   },
   "source": [
    "\n",
    "\n",
    "\n",
    "\n",
    "Now fill in arrays for elevation, position, shear etc..."
   ]
  },
  {
   "cell_type": "code",
   "execution_count": 9,
   "metadata": {
    "ExecuteTime": {
     "end_time": "2022-03-23T14:33:30.655478Z",
     "start_time": "2022-03-23T14:33:30.649659Z"
    },
    "hide_input": true,
    "tags": []
   },
   "outputs": [
    {
     "name": "stdout",
     "output_type": "stream",
     "text": [
      "Shape of prelim arrays:  (382, 26)\n"
     ]
    }
   ],
   "source": [
    "##Make the arrays to store data\n",
    "stratigraphy = np.empty([end_t, cells]) ##will hold data for topography accounting for changes due to erosion\n",
    "#print(elevation.shape) #elevation = np.empty([n, end_t])\n",
    "\n",
    "print('Shape of prelim arrays: ', stratigraphy.shape)\n",
    "\n",
    "#this matrix is to record unmodified stratigraphy in the same shape as the eroded strat\n",
    "stratigraphy_idx = stratigraphy.copy()\n",
    "#stratigraphy_idx[:] =  np.nan\n",
    "#print(stratigraphy)\n",
    "\n",
    "shearstresseroded = stratigraphy.copy() #will hold data for shear stress accounting for changes due to erosion\n",
    "#shearstresseroded[:] = np.nan\n",
    "#print('!!!', shearstresseroded.shape)\n",
    "\n",
    "stratflowdepth =  stratigraphy.copy() #will hold data for flow depth accounting for changes due to erosion\n",
    "#stratflowdepth[:] = np.nan\n",
    "\n",
    "scaleflowdepth =  stratigraphy.copy() #will hold data for local flow depth scaled to max accounting for changes due to erosion\n",
    "#scaleflowdepth[:] = np.nan\n",
    "\n",
    "froudedata =  stratigraphy.copy() #will hold data for local flow depth scaled to max accounting for changes due to erosion\n",
    "#froudedata[:] = np.nan\n",
    "\n",
    "velocity =  stratigraphy.copy()\n",
    "runtime = len(stratigraphy)\n",
    "#print(runtime)\n",
    "xposition =  stratigraphy.copy()"
   ]
  },
  {
   "cell_type": "code",
   "execution_count": 10,
   "metadata": {
    "ExecuteTime": {
     "end_time": "2022-03-23T14:33:30.664649Z",
     "start_time": "2022-03-23T14:33:30.656934Z"
    },
    "hide_input": true,
    "tags": []
   },
   "outputs": [
    {
     "name": "stdout",
     "output_type": "stream",
     "text": [
      "Left bank max position:  202.667800601\n",
      "Right bank max position:  -150.612710282\n",
      "Shape of stratigraphy matrix:,  (382, 356)\n"
     ]
    }
   ],
   "source": [
    "in_section = np.where(datamaster[:, 0, -1]==iloc)\n",
    "in_section = in_section[0]\n",
    "bankpos = datamaster[:, 3, :][in_section]\n",
    "#print(bankpos)\n",
    "rightbank = bankpos.min() ##negativee\n",
    "leftbank = bankpos.max() #positive\n",
    "print('Left bank max position: ', leftbank)\n",
    "print('Right bank max position: ', rightbank)\n",
    "\n",
    "xy_strat = np.empty([end_t, int(3+np.round((leftbank-rightbank)/spacing, 0))]) # will put stratigraphies here, in proper x pos\n",
    "print('Shape of stratigraphy matrix:, ', xy_strat.shape)\n",
    "xy_strat[:] = np.nan\n",
    "ages = np.empty_like(xy_strat)"
   ]
  },
  {
   "cell_type": "markdown",
   "metadata": {
    "hide_input": false,
    "tags": []
   },
   "source": [
    " Import, and fill the arrays that will be used for the rest of the code\n",
    "1. Import data for shear stress, flow depth, velocity and froude\n",
    "2. Interpolate data to represent actual channel dimensions and not grid dimensions\n",
    "3. Fill and remove any remaining nans from the arrays"
   ]
  },
  {
   "cell_type": "code",
   "execution_count": 11,
   "metadata": {
    "ExecuteTime": {
     "end_time": "2022-03-23T14:33:30.674939Z",
     "start_time": "2022-03-23T14:33:30.666832Z"
    },
    "hide_input": true,
    "scrolled": true,
    "tags": []
   },
   "outputs": [],
   "source": [
    "## Import the data\n",
    "for time in range (0, data.shape[2]): #TIME\n",
    "    #print(stratigraphy[time, :].shape)\n",
    "    stratigraphy[time, :] = data[:, 7, time] #elevation change, elevation in 5\n",
    "    shearstresseroded[time, :] = data[:, 6, time] \n",
    "    stratflowdepth[time, :] = data[:, 4, time]\n",
    "    froudedata[time, :] = data[:, 9, time]\n",
    "    velocity[time, :] = data[:, 10, time]\n",
    "    \n",
    "    ypos = data[:, 3, time]-rightbank #coreect supid centreline indexing\n",
    "    #print(ypos)\n",
    "    xposition[time, :] = ypos\n",
    "\n",
    "stratigraphy_idx = stratigraphy.copy()\n",
    "\n",
    "##you need to change the y positions from centreline position to actual positional data\n",
    "#print(xposition.max(axis = 1))"
   ]
  },
  {
   "cell_type": "code",
   "execution_count": 12,
   "metadata": {
    "ExecuteTime": {
     "end_time": "2022-03-23T14:33:30.716203Z",
     "start_time": "2022-03-23T14:33:30.676782Z"
    },
    "colab": {
     "base_uri": "https://localhost:8080/"
    },
    "executionInfo": {
     "elapsed": 43567,
     "status": "ok",
     "timestamp": 1616014269921,
     "user": {
      "displayName": "Safiya Alpheus",
      "photoUrl": "",
      "userId": "18049693271511077124"
     },
     "user_tz": 240
    },
    "hide_input": true,
    "id": "g_6iKJ3s4uVL",
    "outputId": "fb5f5ccb-67b1-4dcf-ef5f-e4ad7f520265",
    "tags": []
   },
   "outputs": [
    {
     "name": "stdout",
     "output_type": "stream",
     "text": [
      "True shape, m:  (382, 356) (382, 356) (382, 356) (382, 356) (382, 356)\n"
     ]
    }
   ],
   "source": [
    "## these arrays will house interpolated data\n",
    "shear = xy_strat.copy()\n",
    "froude = xy_strat.copy()\n",
    "scaleflow = xy_strat.copy() #flow depth scaled to max per time\n",
    "trueflow = xy_strat.copy() #unscaled flow depth\n",
    "flowvel = xy_strat.copy() #flow velocity\n",
    "\n",
    "print('True shape, m: ', shear.shape, froude.shape, scaleflow.shape, trueflow.shape, flowvel.shape)"
   ]
  },
  {
   "cell_type": "code",
   "execution_count": 13,
   "metadata": {
    "ExecuteTime": {
     "end_time": "2022-03-23T14:33:30.761929Z",
     "start_time": "2022-03-23T14:33:30.721118Z"
    },
    "executionInfo": {
     "elapsed": 42262,
     "status": "ok",
     "timestamp": 1616014269922,
     "user": {
      "displayName": "Safiya Alpheus",
      "photoUrl": "",
      "userId": "18049693271511077124"
     },
     "user_tz": 240
    },
    "hide_input": true,
    "id": "KFYjB5X94uVM",
    "scrolled": true,
    "tags": []
   },
   "outputs": [],
   "source": [
    "#put all data values in their correct x/index position\n",
    "for t in range (0, end_t):\n",
    "    #print(t)\n",
    "    for idx, x in zip(np.arange(0, stratigraphy.shape[1]), xposition[t, :]):\n",
    "        #print(x)\n",
    "        #print(idx, x)\n",
    "        x = int(np.floor(x)) #rounding down positions, making integers so can use as index\n",
    "        #print(x, idx)\n",
    "        xy_strat[t, x] = stratigraphy[t, idx]\n",
    "        shear[t, x] = shearstresseroded[t, idx]\n",
    "        froude[t, x] = froudedata[t, idx]\n",
    "        trueflow[t, x] = stratflowdepth[t, idx]\n",
    "        scaleflow[t, x] = scaleflowdepth[t, idx]\n",
    "        flowvel[t, x] = velocity[t, idx]\n",
    "    #plt.plot(xy_strat[t, :], '.')"
   ]
  },
  {
   "cell_type": "code",
   "execution_count": 14,
   "metadata": {
    "ExecuteTime": {
     "end_time": "2022-03-23T14:33:31.178972Z",
     "start_time": "2022-03-23T14:33:30.763714Z"
    },
    "hide_input": true,
    "tags": []
   },
   "outputs": [],
   "source": [
    "xy_topo = np.empty_like(xy_strat)\n",
    "xy_topo[:] = np.nan\n",
    "for t in range (0, end_t):\n",
    "    #print(t)\n",
    "    length = int(np.floor(xposition[t, -1]-xposition[t, 0])) #length of the section at time, t\n",
    "    pos = np.linspace(0, length, length) #create a metre scale array with each x pos = location\n",
    "    #dataint = np.linspace(int(np.round(xposition[t, 0], 0)), int(np.round(xposition[t, -1], 0)), length, dtype=int) #range of locations to interpolate over?\n",
    "    dataint = np.arange(xposition[t, 0], np.round(xposition[t, -1], 0), dtype=int)\n",
    "    #print(t, pos.max(), length)\n",
    "    #print(len(dataint))\n",
    "    #print(pos)\n",
    "    \n",
    "    stratnotnan = xy_strat[t, :][~np.isnan(xy_strat[t, :])] #pull out real values of strat\n",
    "    shearnotnan = shear[t, :][~np.isnan(shear[t, :])] #pull out real values of shear\n",
    "    froudenotnan = froude[t, :][~np.isnan(froude[t, :])] #pull out real values of froude\n",
    "    truefnotnan = trueflow[t, :][~np.isnan(trueflow[t, :])] #pull out real values of true flow depth\n",
    "    #scalefnotnan = scaleflow[t, :][~np.isnan(scaleflow[t, :])] #pull out real values of scaled flow depth\n",
    "    velnotnan = flowvel[t, :][~np.isnan(flowvel[t, :])] #pull out real values of strat\n",
    "    #print(shear[t, :][~np.isnan(shear[t, :])])\n",
    "    #print(shearnotnan[:].shape, froudenotnan[:].shape, truefnotnan[:].shape, velnotnan[:].shape)\n",
    "    #print(xposition[t, :])\n",
    "    #print(dataint)\n",
    "    fx = interpolate.interp1d(xposition[t, :], stratnotnan[:], kind = 'cubic', fill_value = 'extrapolate') #stratigraphy interpolation\n",
    "    #print(fx)\n",
    "    fsh = interpolate.interp1d(xposition[t, :], shearnotnan[:], kind = 'cubic', fill_value = 'extrapolate') #shear stress interpolation\n",
    "    ffr = interpolate.interp1d(xposition[t, :], froudenotnan[:], kind = 'cubic', fill_value = 'extrapolate') #froude number interpolation\n",
    "    ftf = interpolate.interp1d(xposition[t, :], truefnotnan[:], kind = 'cubic', fill_value = 'extrapolate') #true flow depth interpolation\n",
    "    #fsf = interpolate.interp1d(xposition[t, :], scalefnotnan[:], kind = 'cubic') #scaled flow depth interpolation\n",
    "    ffv = interpolate.interp1d(xposition[t, :], velnotnan[:], kind = 'cubic', fill_value = 'extrapolate') #flow veloity interpolation\n",
    "    \n",
    "    #print(fx(dataint))\n",
    "    \n",
    "    xy_topo[t, dataint] = fx(dataint) #reassign strat\n",
    "    #print(xy_topo[t, :])\n",
    "    shear[t, dataint] = fsh(dataint) #reassign shear\n",
    "    froude[t, dataint] = ffr(dataint) #reassign froude\n",
    "    trueflow[t, dataint] = ftf(dataint) #reassign true fd\n",
    "    #scaleflow[t, 0:length] = fsf(pos) #reassign scaled fd\n",
    "    flowvel[t, dataint] = ffv(dataint) #reassign flow vel\n",
    "    \n",
    "    #plt.plot(xy_topo[t, :])\n",
    "#plt.ylim(-3, 3)"
   ]
  },
  {
   "cell_type": "markdown",
   "metadata": {
    "id": "tF74__Am4uVM",
    "tags": []
   },
   "source": [
    "Now I have an array with one column of cross-stream distance data and n columns of elevation data...now we plot. \n",
    "Because we are eroding to the position it was before then the shear stress must also be what it was before, therefore we can do thge same thing with stratgiraphy."
   ]
  },
  {
   "cell_type": "markdown",
   "metadata": {
    "id": "FPIUlbb64uVP"
   },
   "source": [
    "###### Set up the grids for plotting"
   ]
  },
  {
   "cell_type": "code",
   "execution_count": 15,
   "metadata": {
    "ExecuteTime": {
     "end_time": "2022-03-23T14:33:31.183435Z",
     "start_time": "2022-03-23T14:33:31.180511Z"
    },
    "executionInfo": {
     "elapsed": 33689,
     "status": "ok",
     "timestamp": 1616014272039,
     "user": {
      "displayName": "Safiya Alpheus",
      "photoUrl": "",
      "userId": "18049693271511077124"
     },
     "user_tz": 240
    },
    "hide_input": false,
    "id": "6Nge8uwA4uVP",
    "tags": []
   },
   "outputs": [],
   "source": [
    "start_time = 0 #would be start of model run\n",
    "end_time = end_t #would be end of model run\n",
    "\n",
    "tim = range(start_time,end_time) #range of time\n",
    "\n",
    "position = np.arange(0, xy_topo.shape[1], dtype = float)"
   ]
  },
  {
   "cell_type": "markdown",
   "metadata": {},
   "source": [
    "Set up plotting cmaps"
   ]
  },
  {
   "cell_type": "code",
   "execution_count": 16,
   "metadata": {
    "ExecuteTime": {
     "end_time": "2022-03-23T14:33:31.188211Z",
     "start_time": "2022-03-23T14:33:31.185070Z"
    },
    "executionInfo": {
     "elapsed": 28443,
     "status": "ok",
     "timestamp": 1616014272225,
     "user": {
      "displayName": "Safiya Alpheus",
      "photoUrl": "",
      "userId": "18049693271511077124"
     },
     "user_tz": 240
    },
    "hide_input": false,
    "id": "7arfqtVH4uVQ",
    "tags": []
   },
   "outputs": [],
   "source": [
    "# Make a user-defined colormap.\n",
    "#cm1 = mycmap\n",
    "cnorm = mcol.Normalize(vmin=min(tim),vmax=max(tim))\n",
    "\n",
    "# Turn these into an object that can be used to map time values to colors and can be passed to plt.colorbar().\n",
    "cpick = cm.ScalarMappable(norm=cnorm,cmap='hsv') \n",
    "cpick.set_array([])"
   ]
  },
  {
   "cell_type": "code",
   "execution_count": 17,
   "metadata": {
    "ExecuteTime": {
     "end_time": "2022-03-23T14:33:31.193058Z",
     "start_time": "2022-03-23T14:33:31.189453Z"
    },
    "colab": {
     "base_uri": "https://localhost:8080/"
    },
    "executionInfo": {
     "elapsed": 40898,
     "status": "ok",
     "timestamp": 1616014270077,
     "user": {
      "displayName": "Safiya Alpheus",
      "photoUrl": "",
      "userId": "18049693271511077124"
     },
     "user_tz": 240
    },
    "hide_input": true,
    "id": "953kXuke4uVN",
    "outputId": "4a0f1c18-0f1c-45f3-b981-dd14a9f2eab8",
    "tags": []
   },
   "outputs": [],
   "source": [
    "#each of these conditional arrays have a border of nans to helo pick out the 'packages'\n",
    "stratcondition = np.zeros_like(xy_topo)\n",
    "stratcondition[:] = np.nan\n",
    "\n",
    "\n",
    "erosurf = np.empty([end_t, xy_topo.shape[1]])\n",
    "erosurf[:] = np.nan\n"
   ]
  },
  {
   "cell_type": "code",
   "execution_count": 18,
   "metadata": {
    "ExecuteTime": {
     "end_time": "2022-03-23T14:33:32.458166Z",
     "start_time": "2022-03-23T14:33:31.194462Z"
    },
    "executionInfo": {
     "elapsed": 41044,
     "status": "ok",
     "timestamp": 1616014270735,
     "user": {
      "displayName": "Safiya Alpheus",
      "photoUrl": "",
      "userId": "18049693271511077124"
     },
     "user_tz": 240
    },
    "hide_input": false,
    "id": "TilC6Tq14uVN",
    "tags": []
   },
   "outputs": [],
   "source": [
    "strat = copy.deepcopy(xy_topo)\n",
    "\n",
    "halfwidth=25\n",
    "\n",
    "for time in range (0, end_t):\n",
    "    #plt.plot(stratigraphy[time]) #this is just a check to make sure youre importing the data correctly\n",
    "    \n",
    "    #now we have stratigraphy at each timestep with time on the j axis and position on the i\n",
    "    #we want to check each location at each timestep for areas that have erodible elevation (i.e. higher than current timestep)\n",
    "    \n",
    "    for space in range (0, xy_topo.shape[1]):\n",
    "        #print(space)\n",
    "        preexisting_strata = xy_topo[:time, :] #this is our search array, where we will erode\n",
    "        #preexisting_strata_idx = stratigraphy_idx[:time, :]\n",
    "        \n",
    "        #print(preexisting_strata.shape)\n",
    "        #print('xy', xy_strat[time, :].shape)\n",
    "        willerode = np.where(preexisting_strata[:, space] > xy_topo[time, space])\n",
    "        #print('willerode', willerode)\n",
    "        \n",
    "        #print(time, column, willerode)\n",
    "        \n",
    "        xy_topo[willerode, space] = xy_topo[time, space]\n",
    "        #xy_topo[willerode, space] = np.nan\n",
    "        ages[willerode, space] = time\n",
    "        \n",
    "for i in range (end_t-2, -1, -1):\n",
    "    \n",
    "    fillinx = np.where(np.isnan(xy_topo[i, :]))\n",
    "    xy_topo[i, fillinx] = xy_topo[i+1, fillinx]\n",
    "    #strat[i, fillinx] = strat[i+1, fillinx]\n",
    "    ## fill in all filled in areas in the strat condition matrix with the flag for erosion\n",
    "    stratcondition[i, fillinx] = 1\n",
    "    #print(stratcondition[i, fillinx])\n",
    "    \n",
    "    fillinsh = np.where(np.isnan(shear[i, :]))\n",
    "    shear[i, fillinsh] = shear[i+1, fillinsh]\n",
    "    \n",
    "    fillinfr = np.where(np.isnan(froude[i, :]))\n",
    "    froude[i, fillinfr] = froude[i+1, fillinfr]\n",
    "    \n",
    "    fillintf = np.where(np.isnan(trueflow[i, :]))\n",
    "    trueflow[i, fillintf] = trueflow[i+1, fillintf]\n",
    "    \n",
    "    fillinsf = np.where(np.isnan(scaleflow[i, :]))\n",
    "    scaleflow[i, fillinsf] = scaleflow[i+1, fillinsf]\n",
    "    \n",
    "    fillinfv = np.where(np.isnan(flowvel[i, :]))\n",
    "    flowvel[i, fillinfv] = flowvel[i+1, fillinfv]\n",
    "    \n",
    "    fillinstrat = np.where(np.isnan(strat[i, :]))\n",
    "    #strat[i, fillinstrat] = strat[i+1, fillinstrat]\n",
    "    \n",
    "    #print('no fill', xy_topo[i, fillin])\n",
    "    \n",
    "    #print('fill', xy_topo[i, fillin])"
   ]
  },
  {
   "cell_type": "markdown",
   "metadata": {
    "ExecuteTime": {
     "end_time": "2021-06-22T15:52:55.492349Z",
     "start_time": "2021-06-22T15:52:55.485882Z"
    }
   },
   "source": [
    "*Verify that the stratigraphy looks the way it should*"
   ]
  },
  {
   "cell_type": "code",
   "execution_count": 19,
   "metadata": {
    "ExecuteTime": {
     "end_time": "2022-03-23T14:34:50.498165Z",
     "start_time": "2022-03-23T14:34:50.174657Z"
    },
    "colab": {
     "base_uri": "https://localhost:8080/",
     "height": 265
    },
    "executionInfo": {
     "elapsed": 40066,
     "status": "ok",
     "timestamp": 1616014271841,
     "user": {
      "displayName": "Safiya Alpheus",
      "photoUrl": "",
      "userId": "18049693271511077124"
     },
     "user_tz": 240
    },
    "hide_input": false,
    "id": "9TYJqm-A4uVO",
    "outputId": "91f3d444-eb91-42ce-fdc4-c56f95ad0b61",
    "tags": []
   },
   "outputs": [
    {
     "data": {
      "application/javascript": [
       "/* Put everything inside the global mpl namespace */\n",
       "/* global mpl */\n",
       "window.mpl = {};\n",
       "\n",
       "mpl.get_websocket_type = function () {\n",
       "    if (typeof WebSocket !== 'undefined') {\n",
       "        return WebSocket;\n",
       "    } else if (typeof MozWebSocket !== 'undefined') {\n",
       "        return MozWebSocket;\n",
       "    } else {\n",
       "        alert(\n",
       "            'Your browser does not have WebSocket support. ' +\n",
       "                'Please try Chrome, Safari or Firefox ≥ 6. ' +\n",
       "                'Firefox 4 and 5 are also supported but you ' +\n",
       "                'have to enable WebSockets in about:config.'\n",
       "        );\n",
       "    }\n",
       "};\n",
       "\n",
       "mpl.figure = function (figure_id, websocket, ondownload, parent_element) {\n",
       "    this.id = figure_id;\n",
       "\n",
       "    this.ws = websocket;\n",
       "\n",
       "    this.supports_binary = this.ws.binaryType !== undefined;\n",
       "\n",
       "    if (!this.supports_binary) {\n",
       "        var warnings = document.getElementById('mpl-warnings');\n",
       "        if (warnings) {\n",
       "            warnings.style.display = 'block';\n",
       "            warnings.textContent =\n",
       "                'This browser does not support binary websocket messages. ' +\n",
       "                'Performance may be slow.';\n",
       "        }\n",
       "    }\n",
       "\n",
       "    this.imageObj = new Image();\n",
       "\n",
       "    this.context = undefined;\n",
       "    this.message = undefined;\n",
       "    this.canvas = undefined;\n",
       "    this.rubberband_canvas = undefined;\n",
       "    this.rubberband_context = undefined;\n",
       "    this.format_dropdown = undefined;\n",
       "\n",
       "    this.image_mode = 'full';\n",
       "\n",
       "    this.root = document.createElement('div');\n",
       "    this.root.setAttribute('style', 'display: inline-block');\n",
       "    this._root_extra_style(this.root);\n",
       "\n",
       "    parent_element.appendChild(this.root);\n",
       "\n",
       "    this._init_header(this);\n",
       "    this._init_canvas(this);\n",
       "    this._init_toolbar(this);\n",
       "\n",
       "    var fig = this;\n",
       "\n",
       "    this.waiting = false;\n",
       "\n",
       "    this.ws.onopen = function () {\n",
       "        fig.send_message('supports_binary', { value: fig.supports_binary });\n",
       "        fig.send_message('send_image_mode', {});\n",
       "        if (fig.ratio !== 1) {\n",
       "            fig.send_message('set_dpi_ratio', { dpi_ratio: fig.ratio });\n",
       "        }\n",
       "        fig.send_message('refresh', {});\n",
       "    };\n",
       "\n",
       "    this.imageObj.onload = function () {\n",
       "        if (fig.image_mode === 'full') {\n",
       "            // Full images could contain transparency (where diff images\n",
       "            // almost always do), so we need to clear the canvas so that\n",
       "            // there is no ghosting.\n",
       "            fig.context.clearRect(0, 0, fig.canvas.width, fig.canvas.height);\n",
       "        }\n",
       "        fig.context.drawImage(fig.imageObj, 0, 0);\n",
       "    };\n",
       "\n",
       "    this.imageObj.onunload = function () {\n",
       "        fig.ws.close();\n",
       "    };\n",
       "\n",
       "    this.ws.onmessage = this._make_on_message_function(this);\n",
       "\n",
       "    this.ondownload = ondownload;\n",
       "};\n",
       "\n",
       "mpl.figure.prototype._init_header = function () {\n",
       "    var titlebar = document.createElement('div');\n",
       "    titlebar.classList =\n",
       "        'ui-dialog-titlebar ui-widget-header ui-corner-all ui-helper-clearfix';\n",
       "    var titletext = document.createElement('div');\n",
       "    titletext.classList = 'ui-dialog-title';\n",
       "    titletext.setAttribute(\n",
       "        'style',\n",
       "        'width: 100%; text-align: center; padding: 3px;'\n",
       "    );\n",
       "    titlebar.appendChild(titletext);\n",
       "    this.root.appendChild(titlebar);\n",
       "    this.header = titletext;\n",
       "};\n",
       "\n",
       "mpl.figure.prototype._canvas_extra_style = function (_canvas_div) {};\n",
       "\n",
       "mpl.figure.prototype._root_extra_style = function (_canvas_div) {};\n",
       "\n",
       "mpl.figure.prototype._init_canvas = function () {\n",
       "    var fig = this;\n",
       "\n",
       "    var canvas_div = (this.canvas_div = document.createElement('div'));\n",
       "    canvas_div.setAttribute(\n",
       "        'style',\n",
       "        'border: 1px solid #ddd;' +\n",
       "            'box-sizing: content-box;' +\n",
       "            'clear: both;' +\n",
       "            'min-height: 1px;' +\n",
       "            'min-width: 1px;' +\n",
       "            'outline: 0;' +\n",
       "            'overflow: hidden;' +\n",
       "            'position: relative;' +\n",
       "            'resize: both;'\n",
       "    );\n",
       "\n",
       "    function on_keyboard_event_closure(name) {\n",
       "        return function (event) {\n",
       "            return fig.key_event(event, name);\n",
       "        };\n",
       "    }\n",
       "\n",
       "    canvas_div.addEventListener(\n",
       "        'keydown',\n",
       "        on_keyboard_event_closure('key_press')\n",
       "    );\n",
       "    canvas_div.addEventListener(\n",
       "        'keyup',\n",
       "        on_keyboard_event_closure('key_release')\n",
       "    );\n",
       "\n",
       "    this._canvas_extra_style(canvas_div);\n",
       "    this.root.appendChild(canvas_div);\n",
       "\n",
       "    var canvas = (this.canvas = document.createElement('canvas'));\n",
       "    canvas.classList.add('mpl-canvas');\n",
       "    canvas.setAttribute('style', 'box-sizing: content-box;');\n",
       "\n",
       "    this.context = canvas.getContext('2d');\n",
       "\n",
       "    var backingStore =\n",
       "        this.context.backingStorePixelRatio ||\n",
       "        this.context.webkitBackingStorePixelRatio ||\n",
       "        this.context.mozBackingStorePixelRatio ||\n",
       "        this.context.msBackingStorePixelRatio ||\n",
       "        this.context.oBackingStorePixelRatio ||\n",
       "        this.context.backingStorePixelRatio ||\n",
       "        1;\n",
       "\n",
       "    this.ratio = (window.devicePixelRatio || 1) / backingStore;\n",
       "\n",
       "    var rubberband_canvas = (this.rubberband_canvas = document.createElement(\n",
       "        'canvas'\n",
       "    ));\n",
       "    rubberband_canvas.setAttribute(\n",
       "        'style',\n",
       "        'box-sizing: content-box; position: absolute; left: 0; top: 0; z-index: 1;'\n",
       "    );\n",
       "\n",
       "    // Apply a ponyfill if ResizeObserver is not implemented by browser.\n",
       "    if (this.ResizeObserver === undefined) {\n",
       "        if (window.ResizeObserver !== undefined) {\n",
       "            this.ResizeObserver = window.ResizeObserver;\n",
       "        } else {\n",
       "            var obs = _JSXTOOLS_RESIZE_OBSERVER({});\n",
       "            this.ResizeObserver = obs.ResizeObserver;\n",
       "        }\n",
       "    }\n",
       "\n",
       "    this.resizeObserverInstance = new this.ResizeObserver(function (entries) {\n",
       "        var nentries = entries.length;\n",
       "        for (var i = 0; i < nentries; i++) {\n",
       "            var entry = entries[i];\n",
       "            var width, height;\n",
       "            if (entry.contentBoxSize) {\n",
       "                if (entry.contentBoxSize instanceof Array) {\n",
       "                    // Chrome 84 implements new version of spec.\n",
       "                    width = entry.contentBoxSize[0].inlineSize;\n",
       "                    height = entry.contentBoxSize[0].blockSize;\n",
       "                } else {\n",
       "                    // Firefox implements old version of spec.\n",
       "                    width = entry.contentBoxSize.inlineSize;\n",
       "                    height = entry.contentBoxSize.blockSize;\n",
       "                }\n",
       "            } else {\n",
       "                // Chrome <84 implements even older version of spec.\n",
       "                width = entry.contentRect.width;\n",
       "                height = entry.contentRect.height;\n",
       "            }\n",
       "\n",
       "            // Keep the size of the canvas and rubber band canvas in sync with\n",
       "            // the canvas container.\n",
       "            if (entry.devicePixelContentBoxSize) {\n",
       "                // Chrome 84 implements new version of spec.\n",
       "                canvas.setAttribute(\n",
       "                    'width',\n",
       "                    entry.devicePixelContentBoxSize[0].inlineSize\n",
       "                );\n",
       "                canvas.setAttribute(\n",
       "                    'height',\n",
       "                    entry.devicePixelContentBoxSize[0].blockSize\n",
       "                );\n",
       "            } else {\n",
       "                canvas.setAttribute('width', width * fig.ratio);\n",
       "                canvas.setAttribute('height', height * fig.ratio);\n",
       "            }\n",
       "            canvas.setAttribute(\n",
       "                'style',\n",
       "                'width: ' + width + 'px; height: ' + height + 'px;'\n",
       "            );\n",
       "\n",
       "            rubberband_canvas.setAttribute('width', width);\n",
       "            rubberband_canvas.setAttribute('height', height);\n",
       "\n",
       "            // And update the size in Python. We ignore the initial 0/0 size\n",
       "            // that occurs as the element is placed into the DOM, which should\n",
       "            // otherwise not happen due to the minimum size styling.\n",
       "            if (fig.ws.readyState == 1 && width != 0 && height != 0) {\n",
       "                fig.request_resize(width, height);\n",
       "            }\n",
       "        }\n",
       "    });\n",
       "    this.resizeObserverInstance.observe(canvas_div);\n",
       "\n",
       "    function on_mouse_event_closure(name) {\n",
       "        return function (event) {\n",
       "            return fig.mouse_event(event, name);\n",
       "        };\n",
       "    }\n",
       "\n",
       "    rubberband_canvas.addEventListener(\n",
       "        'mousedown',\n",
       "        on_mouse_event_closure('button_press')\n",
       "    );\n",
       "    rubberband_canvas.addEventListener(\n",
       "        'mouseup',\n",
       "        on_mouse_event_closure('button_release')\n",
       "    );\n",
       "    rubberband_canvas.addEventListener(\n",
       "        'dblclick',\n",
       "        on_mouse_event_closure('dblclick')\n",
       "    );\n",
       "    // Throttle sequential mouse events to 1 every 20ms.\n",
       "    rubberband_canvas.addEventListener(\n",
       "        'mousemove',\n",
       "        on_mouse_event_closure('motion_notify')\n",
       "    );\n",
       "\n",
       "    rubberband_canvas.addEventListener(\n",
       "        'mouseenter',\n",
       "        on_mouse_event_closure('figure_enter')\n",
       "    );\n",
       "    rubberband_canvas.addEventListener(\n",
       "        'mouseleave',\n",
       "        on_mouse_event_closure('figure_leave')\n",
       "    );\n",
       "\n",
       "    canvas_div.addEventListener('wheel', function (event) {\n",
       "        if (event.deltaY < 0) {\n",
       "            event.step = 1;\n",
       "        } else {\n",
       "            event.step = -1;\n",
       "        }\n",
       "        on_mouse_event_closure('scroll')(event);\n",
       "    });\n",
       "\n",
       "    canvas_div.appendChild(canvas);\n",
       "    canvas_div.appendChild(rubberband_canvas);\n",
       "\n",
       "    this.rubberband_context = rubberband_canvas.getContext('2d');\n",
       "    this.rubberband_context.strokeStyle = '#000000';\n",
       "\n",
       "    this._resize_canvas = function (width, height, forward) {\n",
       "        if (forward) {\n",
       "            canvas_div.style.width = width + 'px';\n",
       "            canvas_div.style.height = height + 'px';\n",
       "        }\n",
       "    };\n",
       "\n",
       "    // Disable right mouse context menu.\n",
       "    this.rubberband_canvas.addEventListener('contextmenu', function (_e) {\n",
       "        event.preventDefault();\n",
       "        return false;\n",
       "    });\n",
       "\n",
       "    function set_focus() {\n",
       "        canvas.focus();\n",
       "        canvas_div.focus();\n",
       "    }\n",
       "\n",
       "    window.setTimeout(set_focus, 100);\n",
       "};\n",
       "\n",
       "mpl.figure.prototype._init_toolbar = function () {\n",
       "    var fig = this;\n",
       "\n",
       "    var toolbar = document.createElement('div');\n",
       "    toolbar.classList = 'mpl-toolbar';\n",
       "    this.root.appendChild(toolbar);\n",
       "\n",
       "    function on_click_closure(name) {\n",
       "        return function (_event) {\n",
       "            return fig.toolbar_button_onclick(name);\n",
       "        };\n",
       "    }\n",
       "\n",
       "    function on_mouseover_closure(tooltip) {\n",
       "        return function (event) {\n",
       "            if (!event.currentTarget.disabled) {\n",
       "                return fig.toolbar_button_onmouseover(tooltip);\n",
       "            }\n",
       "        };\n",
       "    }\n",
       "\n",
       "    fig.buttons = {};\n",
       "    var buttonGroup = document.createElement('div');\n",
       "    buttonGroup.classList = 'mpl-button-group';\n",
       "    for (var toolbar_ind in mpl.toolbar_items) {\n",
       "        var name = mpl.toolbar_items[toolbar_ind][0];\n",
       "        var tooltip = mpl.toolbar_items[toolbar_ind][1];\n",
       "        var image = mpl.toolbar_items[toolbar_ind][2];\n",
       "        var method_name = mpl.toolbar_items[toolbar_ind][3];\n",
       "\n",
       "        if (!name) {\n",
       "            /* Instead of a spacer, we start a new button group. */\n",
       "            if (buttonGroup.hasChildNodes()) {\n",
       "                toolbar.appendChild(buttonGroup);\n",
       "            }\n",
       "            buttonGroup = document.createElement('div');\n",
       "            buttonGroup.classList = 'mpl-button-group';\n",
       "            continue;\n",
       "        }\n",
       "\n",
       "        var button = (fig.buttons[name] = document.createElement('button'));\n",
       "        button.classList = 'mpl-widget';\n",
       "        button.setAttribute('role', 'button');\n",
       "        button.setAttribute('aria-disabled', 'false');\n",
       "        button.addEventListener('click', on_click_closure(method_name));\n",
       "        button.addEventListener('mouseover', on_mouseover_closure(tooltip));\n",
       "\n",
       "        var icon_img = document.createElement('img');\n",
       "        icon_img.src = '_images/' + image + '.png';\n",
       "        icon_img.srcset = '_images/' + image + '_large.png 2x';\n",
       "        icon_img.alt = tooltip;\n",
       "        button.appendChild(icon_img);\n",
       "\n",
       "        buttonGroup.appendChild(button);\n",
       "    }\n",
       "\n",
       "    if (buttonGroup.hasChildNodes()) {\n",
       "        toolbar.appendChild(buttonGroup);\n",
       "    }\n",
       "\n",
       "    var fmt_picker = document.createElement('select');\n",
       "    fmt_picker.classList = 'mpl-widget';\n",
       "    toolbar.appendChild(fmt_picker);\n",
       "    this.format_dropdown = fmt_picker;\n",
       "\n",
       "    for (var ind in mpl.extensions) {\n",
       "        var fmt = mpl.extensions[ind];\n",
       "        var option = document.createElement('option');\n",
       "        option.selected = fmt === mpl.default_extension;\n",
       "        option.innerHTML = fmt;\n",
       "        fmt_picker.appendChild(option);\n",
       "    }\n",
       "\n",
       "    var status_bar = document.createElement('span');\n",
       "    status_bar.classList = 'mpl-message';\n",
       "    toolbar.appendChild(status_bar);\n",
       "    this.message = status_bar;\n",
       "};\n",
       "\n",
       "mpl.figure.prototype.request_resize = function (x_pixels, y_pixels) {\n",
       "    // Request matplotlib to resize the figure. Matplotlib will then trigger a resize in the client,\n",
       "    // which will in turn request a refresh of the image.\n",
       "    this.send_message('resize', { width: x_pixels, height: y_pixels });\n",
       "};\n",
       "\n",
       "mpl.figure.prototype.send_message = function (type, properties) {\n",
       "    properties['type'] = type;\n",
       "    properties['figure_id'] = this.id;\n",
       "    this.ws.send(JSON.stringify(properties));\n",
       "};\n",
       "\n",
       "mpl.figure.prototype.send_draw_message = function () {\n",
       "    if (!this.waiting) {\n",
       "        this.waiting = true;\n",
       "        this.ws.send(JSON.stringify({ type: 'draw', figure_id: this.id }));\n",
       "    }\n",
       "};\n",
       "\n",
       "mpl.figure.prototype.handle_save = function (fig, _msg) {\n",
       "    var format_dropdown = fig.format_dropdown;\n",
       "    var format = format_dropdown.options[format_dropdown.selectedIndex].value;\n",
       "    fig.ondownload(fig, format);\n",
       "};\n",
       "\n",
       "mpl.figure.prototype.handle_resize = function (fig, msg) {\n",
       "    var size = msg['size'];\n",
       "    if (size[0] !== fig.canvas.width || size[1] !== fig.canvas.height) {\n",
       "        fig._resize_canvas(size[0], size[1], msg['forward']);\n",
       "        fig.send_message('refresh', {});\n",
       "    }\n",
       "};\n",
       "\n",
       "mpl.figure.prototype.handle_rubberband = function (fig, msg) {\n",
       "    var x0 = msg['x0'] / fig.ratio;\n",
       "    var y0 = (fig.canvas.height - msg['y0']) / fig.ratio;\n",
       "    var x1 = msg['x1'] / fig.ratio;\n",
       "    var y1 = (fig.canvas.height - msg['y1']) / fig.ratio;\n",
       "    x0 = Math.floor(x0) + 0.5;\n",
       "    y0 = Math.floor(y0) + 0.5;\n",
       "    x1 = Math.floor(x1) + 0.5;\n",
       "    y1 = Math.floor(y1) + 0.5;\n",
       "    var min_x = Math.min(x0, x1);\n",
       "    var min_y = Math.min(y0, y1);\n",
       "    var width = Math.abs(x1 - x0);\n",
       "    var height = Math.abs(y1 - y0);\n",
       "\n",
       "    fig.rubberband_context.clearRect(\n",
       "        0,\n",
       "        0,\n",
       "        fig.canvas.width / fig.ratio,\n",
       "        fig.canvas.height / fig.ratio\n",
       "    );\n",
       "\n",
       "    fig.rubberband_context.strokeRect(min_x, min_y, width, height);\n",
       "};\n",
       "\n",
       "mpl.figure.prototype.handle_figure_label = function (fig, msg) {\n",
       "    // Updates the figure title.\n",
       "    fig.header.textContent = msg['label'];\n",
       "};\n",
       "\n",
       "mpl.figure.prototype.handle_cursor = function (fig, msg) {\n",
       "    var cursor = msg['cursor'];\n",
       "    switch (cursor) {\n",
       "        case 0:\n",
       "            cursor = 'pointer';\n",
       "            break;\n",
       "        case 1:\n",
       "            cursor = 'default';\n",
       "            break;\n",
       "        case 2:\n",
       "            cursor = 'crosshair';\n",
       "            break;\n",
       "        case 3:\n",
       "            cursor = 'move';\n",
       "            break;\n",
       "    }\n",
       "    fig.rubberband_canvas.style.cursor = cursor;\n",
       "};\n",
       "\n",
       "mpl.figure.prototype.handle_message = function (fig, msg) {\n",
       "    fig.message.textContent = msg['message'];\n",
       "};\n",
       "\n",
       "mpl.figure.prototype.handle_draw = function (fig, _msg) {\n",
       "    // Request the server to send over a new figure.\n",
       "    fig.send_draw_message();\n",
       "};\n",
       "\n",
       "mpl.figure.prototype.handle_image_mode = function (fig, msg) {\n",
       "    fig.image_mode = msg['mode'];\n",
       "};\n",
       "\n",
       "mpl.figure.prototype.handle_history_buttons = function (fig, msg) {\n",
       "    for (var key in msg) {\n",
       "        if (!(key in fig.buttons)) {\n",
       "            continue;\n",
       "        }\n",
       "        fig.buttons[key].disabled = !msg[key];\n",
       "        fig.buttons[key].setAttribute('aria-disabled', !msg[key]);\n",
       "    }\n",
       "};\n",
       "\n",
       "mpl.figure.prototype.handle_navigate_mode = function (fig, msg) {\n",
       "    if (msg['mode'] === 'PAN') {\n",
       "        fig.buttons['Pan'].classList.add('active');\n",
       "        fig.buttons['Zoom'].classList.remove('active');\n",
       "    } else if (msg['mode'] === 'ZOOM') {\n",
       "        fig.buttons['Pan'].classList.remove('active');\n",
       "        fig.buttons['Zoom'].classList.add('active');\n",
       "    } else {\n",
       "        fig.buttons['Pan'].classList.remove('active');\n",
       "        fig.buttons['Zoom'].classList.remove('active');\n",
       "    }\n",
       "};\n",
       "\n",
       "mpl.figure.prototype.updated_canvas_event = function () {\n",
       "    // Called whenever the canvas gets updated.\n",
       "    this.send_message('ack', {});\n",
       "};\n",
       "\n",
       "// A function to construct a web socket function for onmessage handling.\n",
       "// Called in the figure constructor.\n",
       "mpl.figure.prototype._make_on_message_function = function (fig) {\n",
       "    return function socket_on_message(evt) {\n",
       "        if (evt.data instanceof Blob) {\n",
       "            var img = evt.data;\n",
       "            if (img.type !== 'image/png') {\n",
       "                /* FIXME: We get \"Resource interpreted as Image but\n",
       "                 * transferred with MIME type text/plain:\" errors on\n",
       "                 * Chrome.  But how to set the MIME type?  It doesn't seem\n",
       "                 * to be part of the websocket stream */\n",
       "                img.type = 'image/png';\n",
       "            }\n",
       "\n",
       "            /* Free the memory for the previous frames */\n",
       "            if (fig.imageObj.src) {\n",
       "                (window.URL || window.webkitURL).revokeObjectURL(\n",
       "                    fig.imageObj.src\n",
       "                );\n",
       "            }\n",
       "\n",
       "            fig.imageObj.src = (window.URL || window.webkitURL).createObjectURL(\n",
       "                img\n",
       "            );\n",
       "            fig.updated_canvas_event();\n",
       "            fig.waiting = false;\n",
       "            return;\n",
       "        } else if (\n",
       "            typeof evt.data === 'string' &&\n",
       "            evt.data.slice(0, 21) === 'data:image/png;base64'\n",
       "        ) {\n",
       "            fig.imageObj.src = evt.data;\n",
       "            fig.updated_canvas_event();\n",
       "            fig.waiting = false;\n",
       "            return;\n",
       "        }\n",
       "\n",
       "        var msg = JSON.parse(evt.data);\n",
       "        var msg_type = msg['type'];\n",
       "\n",
       "        // Call the  \"handle_{type}\" callback, which takes\n",
       "        // the figure and JSON message as its only arguments.\n",
       "        try {\n",
       "            var callback = fig['handle_' + msg_type];\n",
       "        } catch (e) {\n",
       "            console.log(\n",
       "                \"No handler for the '\" + msg_type + \"' message type: \",\n",
       "                msg\n",
       "            );\n",
       "            return;\n",
       "        }\n",
       "\n",
       "        if (callback) {\n",
       "            try {\n",
       "                // console.log(\"Handling '\" + msg_type + \"' message: \", msg);\n",
       "                callback(fig, msg);\n",
       "            } catch (e) {\n",
       "                console.log(\n",
       "                    \"Exception inside the 'handler_\" + msg_type + \"' callback:\",\n",
       "                    e,\n",
       "                    e.stack,\n",
       "                    msg\n",
       "                );\n",
       "            }\n",
       "        }\n",
       "    };\n",
       "};\n",
       "\n",
       "// from http://stackoverflow.com/questions/1114465/getting-mouse-location-in-canvas\n",
       "mpl.findpos = function (e) {\n",
       "    //this section is from http://www.quirksmode.org/js/events_properties.html\n",
       "    var targ;\n",
       "    if (!e) {\n",
       "        e = window.event;\n",
       "    }\n",
       "    if (e.target) {\n",
       "        targ = e.target;\n",
       "    } else if (e.srcElement) {\n",
       "        targ = e.srcElement;\n",
       "    }\n",
       "    if (targ.nodeType === 3) {\n",
       "        // defeat Safari bug\n",
       "        targ = targ.parentNode;\n",
       "    }\n",
       "\n",
       "    // pageX,Y are the mouse positions relative to the document\n",
       "    var boundingRect = targ.getBoundingClientRect();\n",
       "    var x = e.pageX - (boundingRect.left + document.body.scrollLeft);\n",
       "    var y = e.pageY - (boundingRect.top + document.body.scrollTop);\n",
       "\n",
       "    return { x: x, y: y };\n",
       "};\n",
       "\n",
       "/*\n",
       " * return a copy of an object with only non-object keys\n",
       " * we need this to avoid circular references\n",
       " * http://stackoverflow.com/a/24161582/3208463\n",
       " */\n",
       "function simpleKeys(original) {\n",
       "    return Object.keys(original).reduce(function (obj, key) {\n",
       "        if (typeof original[key] !== 'object') {\n",
       "            obj[key] = original[key];\n",
       "        }\n",
       "        return obj;\n",
       "    }, {});\n",
       "}\n",
       "\n",
       "mpl.figure.prototype.mouse_event = function (event, name) {\n",
       "    var canvas_pos = mpl.findpos(event);\n",
       "\n",
       "    if (name === 'button_press') {\n",
       "        this.canvas.focus();\n",
       "        this.canvas_div.focus();\n",
       "    }\n",
       "\n",
       "    var x = canvas_pos.x * this.ratio;\n",
       "    var y = canvas_pos.y * this.ratio;\n",
       "\n",
       "    this.send_message(name, {\n",
       "        x: x,\n",
       "        y: y,\n",
       "        button: event.button,\n",
       "        step: event.step,\n",
       "        guiEvent: simpleKeys(event),\n",
       "    });\n",
       "\n",
       "    /* This prevents the web browser from automatically changing to\n",
       "     * the text insertion cursor when the button is pressed.  We want\n",
       "     * to control all of the cursor setting manually through the\n",
       "     * 'cursor' event from matplotlib */\n",
       "    event.preventDefault();\n",
       "    return false;\n",
       "};\n",
       "\n",
       "mpl.figure.prototype._key_event_extra = function (_event, _name) {\n",
       "    // Handle any extra behaviour associated with a key event\n",
       "};\n",
       "\n",
       "mpl.figure.prototype.key_event = function (event, name) {\n",
       "    // Prevent repeat events\n",
       "    if (name === 'key_press') {\n",
       "        if (event.key === this._key) {\n",
       "            return;\n",
       "        } else {\n",
       "            this._key = event.key;\n",
       "        }\n",
       "    }\n",
       "    if (name === 'key_release') {\n",
       "        this._key = null;\n",
       "    }\n",
       "\n",
       "    var value = '';\n",
       "    if (event.ctrlKey && event.key !== 'Control') {\n",
       "        value += 'ctrl+';\n",
       "    }\n",
       "    else if (event.altKey && event.key !== 'Alt') {\n",
       "        value += 'alt+';\n",
       "    }\n",
       "    else if (event.shiftKey && event.key !== 'Shift') {\n",
       "        value += 'shift+';\n",
       "    }\n",
       "\n",
       "    value += 'k' + event.key;\n",
       "\n",
       "    this._key_event_extra(event, name);\n",
       "\n",
       "    this.send_message(name, { key: value, guiEvent: simpleKeys(event) });\n",
       "    return false;\n",
       "};\n",
       "\n",
       "mpl.figure.prototype.toolbar_button_onclick = function (name) {\n",
       "    if (name === 'download') {\n",
       "        this.handle_save(this, null);\n",
       "    } else {\n",
       "        this.send_message('toolbar_button', { name: name });\n",
       "    }\n",
       "};\n",
       "\n",
       "mpl.figure.prototype.toolbar_button_onmouseover = function (tooltip) {\n",
       "    this.message.textContent = tooltip;\n",
       "};\n",
       "\n",
       "///////////////// REMAINING CONTENT GENERATED BY embed_js.py /////////////////\n",
       "// prettier-ignore\n",
       "var _JSXTOOLS_RESIZE_OBSERVER=function(A){var t,i=new WeakMap,n=new WeakMap,a=new WeakMap,r=new WeakMap,o=new Set;function s(e){if(!(this instanceof s))throw new TypeError(\"Constructor requires 'new' operator\");i.set(this,e)}function h(){throw new TypeError(\"Function is not a constructor\")}function c(e,t,i,n){e=0 in arguments?Number(arguments[0]):0,t=1 in arguments?Number(arguments[1]):0,i=2 in arguments?Number(arguments[2]):0,n=3 in arguments?Number(arguments[3]):0,this.right=(this.x=this.left=e)+(this.width=i),this.bottom=(this.y=this.top=t)+(this.height=n),Object.freeze(this)}function d(){t=requestAnimationFrame(d);var s=new WeakMap,p=new Set;o.forEach((function(t){r.get(t).forEach((function(i){var r=t instanceof window.SVGElement,o=a.get(t),d=r?0:parseFloat(o.paddingTop),f=r?0:parseFloat(o.paddingRight),l=r?0:parseFloat(o.paddingBottom),u=r?0:parseFloat(o.paddingLeft),g=r?0:parseFloat(o.borderTopWidth),m=r?0:parseFloat(o.borderRightWidth),w=r?0:parseFloat(o.borderBottomWidth),b=u+f,F=d+l,v=(r?0:parseFloat(o.borderLeftWidth))+m,W=g+w,y=r?0:t.offsetHeight-W-t.clientHeight,E=r?0:t.offsetWidth-v-t.clientWidth,R=b+v,z=F+W,M=r?t.width:parseFloat(o.width)-R-E,O=r?t.height:parseFloat(o.height)-z-y;if(n.has(t)){var k=n.get(t);if(k[0]===M&&k[1]===O)return}n.set(t,[M,O]);var S=Object.create(h.prototype);S.target=t,S.contentRect=new c(u,d,M,O),s.has(i)||(s.set(i,[]),p.add(i)),s.get(i).push(S)}))})),p.forEach((function(e){i.get(e).call(e,s.get(e),e)}))}return s.prototype.observe=function(i){if(i instanceof window.Element){r.has(i)||(r.set(i,new Set),o.add(i),a.set(i,window.getComputedStyle(i)));var n=r.get(i);n.has(this)||n.add(this),cancelAnimationFrame(t),t=requestAnimationFrame(d)}},s.prototype.unobserve=function(i){if(i instanceof window.Element&&r.has(i)){var n=r.get(i);n.has(this)&&(n.delete(this),n.size||(r.delete(i),o.delete(i))),n.size||r.delete(i),o.size||cancelAnimationFrame(t)}},A.DOMRectReadOnly=c,A.ResizeObserver=s,A.ResizeObserverEntry=h,A}; // eslint-disable-line\n",
       "mpl.toolbar_items = [[\"Home\", \"Reset original view\", \"fa fa-home icon-home\", \"home\"], [\"Back\", \"Back to previous view\", \"fa fa-arrow-left icon-arrow-left\", \"back\"], [\"Forward\", \"Forward to next view\", \"fa fa-arrow-right icon-arrow-right\", \"forward\"], [\"\", \"\", \"\", \"\"], [\"Pan\", \"Left button pans, Right button zooms\\nx/y fixes axis, CTRL fixes aspect\", \"fa fa-arrows icon-move\", \"pan\"], [\"Zoom\", \"Zoom to rectangle\\nx/y fixes axis, CTRL fixes aspect\", \"fa fa-square-o icon-check-empty\", \"zoom\"], [\"\", \"\", \"\", \"\"], [\"Download\", \"Download plot\", \"fa fa-floppy-o icon-save\", \"download\"]];\n",
       "\n",
       "mpl.extensions = [\"eps\", \"jpeg\", \"pgf\", \"pdf\", \"png\", \"ps\", \"raw\", \"svg\", \"tif\"];\n",
       "\n",
       "mpl.default_extension = \"png\";/* global mpl */\n",
       "\n",
       "var comm_websocket_adapter = function (comm) {\n",
       "    // Create a \"websocket\"-like object which calls the given IPython comm\n",
       "    // object with the appropriate methods. Currently this is a non binary\n",
       "    // socket, so there is still some room for performance tuning.\n",
       "    var ws = {};\n",
       "\n",
       "    ws.binaryType = comm.kernel.ws.binaryType;\n",
       "    ws.readyState = comm.kernel.ws.readyState;\n",
       "    function updateReadyState(_event) {\n",
       "        if (comm.kernel.ws) {\n",
       "            ws.readyState = comm.kernel.ws.readyState;\n",
       "        } else {\n",
       "            ws.readyState = 3; // Closed state.\n",
       "        }\n",
       "    }\n",
       "    comm.kernel.ws.addEventListener('open', updateReadyState);\n",
       "    comm.kernel.ws.addEventListener('close', updateReadyState);\n",
       "    comm.kernel.ws.addEventListener('error', updateReadyState);\n",
       "\n",
       "    ws.close = function () {\n",
       "        comm.close();\n",
       "    };\n",
       "    ws.send = function (m) {\n",
       "        //console.log('sending', m);\n",
       "        comm.send(m);\n",
       "    };\n",
       "    // Register the callback with on_msg.\n",
       "    comm.on_msg(function (msg) {\n",
       "        //console.log('receiving', msg['content']['data'], msg);\n",
       "        var data = msg['content']['data'];\n",
       "        if (data['blob'] !== undefined) {\n",
       "            data = {\n",
       "                data: new Blob(msg['buffers'], { type: data['blob'] }),\n",
       "            };\n",
       "        }\n",
       "        // Pass the mpl event to the overridden (by mpl) onmessage function.\n",
       "        ws.onmessage(data);\n",
       "    });\n",
       "    return ws;\n",
       "};\n",
       "\n",
       "mpl.mpl_figure_comm = function (comm, msg) {\n",
       "    // This is the function which gets called when the mpl process\n",
       "    // starts-up an IPython Comm through the \"matplotlib\" channel.\n",
       "\n",
       "    var id = msg.content.data.id;\n",
       "    // Get hold of the div created by the display call when the Comm\n",
       "    // socket was opened in Python.\n",
       "    var element = document.getElementById(id);\n",
       "    var ws_proxy = comm_websocket_adapter(comm);\n",
       "\n",
       "    function ondownload(figure, _format) {\n",
       "        window.open(figure.canvas.toDataURL());\n",
       "    }\n",
       "\n",
       "    var fig = new mpl.figure(id, ws_proxy, ondownload, element);\n",
       "\n",
       "    // Call onopen now - mpl needs it, as it is assuming we've passed it a real\n",
       "    // web socket which is closed, not our websocket->open comm proxy.\n",
       "    ws_proxy.onopen();\n",
       "\n",
       "    fig.parent_element = element;\n",
       "    fig.cell_info = mpl.find_output_cell(\"<div id='\" + id + \"'></div>\");\n",
       "    if (!fig.cell_info) {\n",
       "        console.error('Failed to find cell for figure', id, fig);\n",
       "        return;\n",
       "    }\n",
       "    fig.cell_info[0].output_area.element.on(\n",
       "        'cleared',\n",
       "        { fig: fig },\n",
       "        fig._remove_fig_handler\n",
       "    );\n",
       "};\n",
       "\n",
       "mpl.figure.prototype.handle_close = function (fig, msg) {\n",
       "    var width = fig.canvas.width / fig.ratio;\n",
       "    fig.cell_info[0].output_area.element.off(\n",
       "        'cleared',\n",
       "        fig._remove_fig_handler\n",
       "    );\n",
       "    fig.resizeObserverInstance.unobserve(fig.canvas_div);\n",
       "\n",
       "    // Update the output cell to use the data from the current canvas.\n",
       "    fig.push_to_output();\n",
       "    var dataURL = fig.canvas.toDataURL();\n",
       "    // Re-enable the keyboard manager in IPython - without this line, in FF,\n",
       "    // the notebook keyboard shortcuts fail.\n",
       "    IPython.keyboard_manager.enable();\n",
       "    fig.parent_element.innerHTML =\n",
       "        '<img src=\"' + dataURL + '\" width=\"' + width + '\">';\n",
       "    fig.close_ws(fig, msg);\n",
       "};\n",
       "\n",
       "mpl.figure.prototype.close_ws = function (fig, msg) {\n",
       "    fig.send_message('closing', msg);\n",
       "    // fig.ws.close()\n",
       "};\n",
       "\n",
       "mpl.figure.prototype.push_to_output = function (_remove_interactive) {\n",
       "    // Turn the data on the canvas into data in the output cell.\n",
       "    var width = this.canvas.width / this.ratio;\n",
       "    var dataURL = this.canvas.toDataURL();\n",
       "    this.cell_info[1]['text/html'] =\n",
       "        '<img src=\"' + dataURL + '\" width=\"' + width + '\">';\n",
       "};\n",
       "\n",
       "mpl.figure.prototype.updated_canvas_event = function () {\n",
       "    // Tell IPython that the notebook contents must change.\n",
       "    IPython.notebook.set_dirty(true);\n",
       "    this.send_message('ack', {});\n",
       "    var fig = this;\n",
       "    // Wait a second, then push the new image to the DOM so\n",
       "    // that it is saved nicely (might be nice to debounce this).\n",
       "    setTimeout(function () {\n",
       "        fig.push_to_output();\n",
       "    }, 1000);\n",
       "};\n",
       "\n",
       "mpl.figure.prototype._init_toolbar = function () {\n",
       "    var fig = this;\n",
       "\n",
       "    var toolbar = document.createElement('div');\n",
       "    toolbar.classList = 'btn-toolbar';\n",
       "    this.root.appendChild(toolbar);\n",
       "\n",
       "    function on_click_closure(name) {\n",
       "        return function (_event) {\n",
       "            return fig.toolbar_button_onclick(name);\n",
       "        };\n",
       "    }\n",
       "\n",
       "    function on_mouseover_closure(tooltip) {\n",
       "        return function (event) {\n",
       "            if (!event.currentTarget.disabled) {\n",
       "                return fig.toolbar_button_onmouseover(tooltip);\n",
       "            }\n",
       "        };\n",
       "    }\n",
       "\n",
       "    fig.buttons = {};\n",
       "    var buttonGroup = document.createElement('div');\n",
       "    buttonGroup.classList = 'btn-group';\n",
       "    var button;\n",
       "    for (var toolbar_ind in mpl.toolbar_items) {\n",
       "        var name = mpl.toolbar_items[toolbar_ind][0];\n",
       "        var tooltip = mpl.toolbar_items[toolbar_ind][1];\n",
       "        var image = mpl.toolbar_items[toolbar_ind][2];\n",
       "        var method_name = mpl.toolbar_items[toolbar_ind][3];\n",
       "\n",
       "        if (!name) {\n",
       "            /* Instead of a spacer, we start a new button group. */\n",
       "            if (buttonGroup.hasChildNodes()) {\n",
       "                toolbar.appendChild(buttonGroup);\n",
       "            }\n",
       "            buttonGroup = document.createElement('div');\n",
       "            buttonGroup.classList = 'btn-group';\n",
       "            continue;\n",
       "        }\n",
       "\n",
       "        button = fig.buttons[name] = document.createElement('button');\n",
       "        button.classList = 'btn btn-default';\n",
       "        button.href = '#';\n",
       "        button.title = name;\n",
       "        button.innerHTML = '<i class=\"fa ' + image + ' fa-lg\"></i>';\n",
       "        button.addEventListener('click', on_click_closure(method_name));\n",
       "        button.addEventListener('mouseover', on_mouseover_closure(tooltip));\n",
       "        buttonGroup.appendChild(button);\n",
       "    }\n",
       "\n",
       "    if (buttonGroup.hasChildNodes()) {\n",
       "        toolbar.appendChild(buttonGroup);\n",
       "    }\n",
       "\n",
       "    // Add the status bar.\n",
       "    var status_bar = document.createElement('span');\n",
       "    status_bar.classList = 'mpl-message pull-right';\n",
       "    toolbar.appendChild(status_bar);\n",
       "    this.message = status_bar;\n",
       "\n",
       "    // Add the close button to the window.\n",
       "    var buttongrp = document.createElement('div');\n",
       "    buttongrp.classList = 'btn-group inline pull-right';\n",
       "    button = document.createElement('button');\n",
       "    button.classList = 'btn btn-mini btn-primary';\n",
       "    button.href = '#';\n",
       "    button.title = 'Stop Interaction';\n",
       "    button.innerHTML = '<i class=\"fa fa-power-off icon-remove icon-large\"></i>';\n",
       "    button.addEventListener('click', function (_evt) {\n",
       "        fig.handle_close(fig, {});\n",
       "    });\n",
       "    button.addEventListener(\n",
       "        'mouseover',\n",
       "        on_mouseover_closure('Stop Interaction')\n",
       "    );\n",
       "    buttongrp.appendChild(button);\n",
       "    var titlebar = this.root.querySelector('.ui-dialog-titlebar');\n",
       "    titlebar.insertBefore(buttongrp, titlebar.firstChild);\n",
       "};\n",
       "\n",
       "mpl.figure.prototype._remove_fig_handler = function (event) {\n",
       "    var fig = event.data.fig;\n",
       "    if (event.target !== this) {\n",
       "        // Ignore bubbled events from children.\n",
       "        return;\n",
       "    }\n",
       "    fig.close_ws(fig, {});\n",
       "};\n",
       "\n",
       "mpl.figure.prototype._root_extra_style = function (el) {\n",
       "    el.style.boxSizing = 'content-box'; // override notebook setting of border-box.\n",
       "};\n",
       "\n",
       "mpl.figure.prototype._canvas_extra_style = function (el) {\n",
       "    // this is important to make the div 'focusable\n",
       "    el.setAttribute('tabindex', 0);\n",
       "    // reach out to IPython and tell the keyboard manager to turn it's self\n",
       "    // off when our div gets focus\n",
       "\n",
       "    // location in version 3\n",
       "    if (IPython.notebook.keyboard_manager) {\n",
       "        IPython.notebook.keyboard_manager.register_events(el);\n",
       "    } else {\n",
       "        // location in version 2\n",
       "        IPython.keyboard_manager.register_events(el);\n",
       "    }\n",
       "};\n",
       "\n",
       "mpl.figure.prototype._key_event_extra = function (event, _name) {\n",
       "    var manager = IPython.notebook.keyboard_manager;\n",
       "    if (!manager) {\n",
       "        manager = IPython.keyboard_manager;\n",
       "    }\n",
       "\n",
       "    // Check for shift+enter\n",
       "    if (event.shiftKey && event.which === 13) {\n",
       "        this.canvas_div.blur();\n",
       "        // select the cell after this one\n",
       "        var index = IPython.notebook.find_cell_index(this.cell_info[0]);\n",
       "        IPython.notebook.select(index + 1);\n",
       "    }\n",
       "};\n",
       "\n",
       "mpl.figure.prototype.handle_save = function (fig, _msg) {\n",
       "    fig.ondownload(fig, null);\n",
       "};\n",
       "\n",
       "mpl.find_output_cell = function (html_output) {\n",
       "    // Return the cell and output element which can be found *uniquely* in the notebook.\n",
       "    // Note - this is a bit hacky, but it is done because the \"notebook_saving.Notebook\"\n",
       "    // IPython event is triggered only after the cells have been serialised, which for\n",
       "    // our purposes (turning an active figure into a static one), is too late.\n",
       "    var cells = IPython.notebook.get_cells();\n",
       "    var ncells = cells.length;\n",
       "    for (var i = 0; i < ncells; i++) {\n",
       "        var cell = cells[i];\n",
       "        if (cell.cell_type === 'code') {\n",
       "            for (var j = 0; j < cell.output_area.outputs.length; j++) {\n",
       "                var data = cell.output_area.outputs[j];\n",
       "                if (data.data) {\n",
       "                    // IPython >= 3 moved mimebundle to data attribute of output\n",
       "                    data = data.data;\n",
       "                }\n",
       "                if (data['text/html'] === html_output) {\n",
       "                    return [cell, data, j];\n",
       "                }\n",
       "            }\n",
       "        }\n",
       "    }\n",
       "};\n",
       "\n",
       "// Register the function which deals with the matplotlib target/channel.\n",
       "// The kernel may be null if the page has been refreshed.\n",
       "if (IPython.notebook.kernel !== null) {\n",
       "    IPython.notebook.kernel.comm_manager.register_target(\n",
       "        'matplotlib',\n",
       "        mpl.mpl_figure_comm\n",
       "    );\n",
       "}\n"
      ],
      "text/plain": [
       "<IPython.core.display.Javascript object>"
      ]
     },
     "metadata": {},
     "output_type": "display_data"
    },
    {
     "data": {
      "text/html": [
       "<div id='e42961b8-9f5a-4a0d-aa52-98d021507d86'></div>"
      ],
      "text/plain": [
       "<IPython.core.display.HTML object>"
      ]
     },
     "metadata": {},
     "output_type": "display_data"
    },
    {
     "data": {
      "text/plain": [
       "<matplotlib.lines.Line2D at 0x7faa12a8c220>"
      ]
     },
     "execution_count": 19,
     "metadata": {},
     "output_type": "execute_result"
    }
   ],
   "source": [
    "%matplotlib notebook\n",
    "fig, ax = plt.subplots(figsize = (10, 3), tight_layout=True)\n",
    "for i in range(0, end_t):\n",
    "    ax.plot(xy_topo[i, :], 'k', alpha = 0.2, lw = 0.5)\n",
    "ax.set_aspect('10')\n",
    "ax.set_xlim(xposition[-1, :].min(), xposition[-1, :].max())\n",
    "ax.axvline(abs(data[:, 3, -1]).min()-rightbank, c='b', ls='-.', lw=1)"
   ]
  },
  {
   "cell_type": "code",
   "execution_count": 20,
   "metadata": {
    "ExecuteTime": {
     "end_time": "2022-03-23T14:34:59.838532Z",
     "start_time": "2022-03-23T14:34:59.805515Z"
    },
    "tags": []
   },
   "outputs": [
    {
     "data": {
      "application/javascript": [
       "/* Put everything inside the global mpl namespace */\n",
       "/* global mpl */\n",
       "window.mpl = {};\n",
       "\n",
       "mpl.get_websocket_type = function () {\n",
       "    if (typeof WebSocket !== 'undefined') {\n",
       "        return WebSocket;\n",
       "    } else if (typeof MozWebSocket !== 'undefined') {\n",
       "        return MozWebSocket;\n",
       "    } else {\n",
       "        alert(\n",
       "            'Your browser does not have WebSocket support. ' +\n",
       "                'Please try Chrome, Safari or Firefox ≥ 6. ' +\n",
       "                'Firefox 4 and 5 are also supported but you ' +\n",
       "                'have to enable WebSockets in about:config.'\n",
       "        );\n",
       "    }\n",
       "};\n",
       "\n",
       "mpl.figure = function (figure_id, websocket, ondownload, parent_element) {\n",
       "    this.id = figure_id;\n",
       "\n",
       "    this.ws = websocket;\n",
       "\n",
       "    this.supports_binary = this.ws.binaryType !== undefined;\n",
       "\n",
       "    if (!this.supports_binary) {\n",
       "        var warnings = document.getElementById('mpl-warnings');\n",
       "        if (warnings) {\n",
       "            warnings.style.display = 'block';\n",
       "            warnings.textContent =\n",
       "                'This browser does not support binary websocket messages. ' +\n",
       "                'Performance may be slow.';\n",
       "        }\n",
       "    }\n",
       "\n",
       "    this.imageObj = new Image();\n",
       "\n",
       "    this.context = undefined;\n",
       "    this.message = undefined;\n",
       "    this.canvas = undefined;\n",
       "    this.rubberband_canvas = undefined;\n",
       "    this.rubberband_context = undefined;\n",
       "    this.format_dropdown = undefined;\n",
       "\n",
       "    this.image_mode = 'full';\n",
       "\n",
       "    this.root = document.createElement('div');\n",
       "    this.root.setAttribute('style', 'display: inline-block');\n",
       "    this._root_extra_style(this.root);\n",
       "\n",
       "    parent_element.appendChild(this.root);\n",
       "\n",
       "    this._init_header(this);\n",
       "    this._init_canvas(this);\n",
       "    this._init_toolbar(this);\n",
       "\n",
       "    var fig = this;\n",
       "\n",
       "    this.waiting = false;\n",
       "\n",
       "    this.ws.onopen = function () {\n",
       "        fig.send_message('supports_binary', { value: fig.supports_binary });\n",
       "        fig.send_message('send_image_mode', {});\n",
       "        if (fig.ratio !== 1) {\n",
       "            fig.send_message('set_dpi_ratio', { dpi_ratio: fig.ratio });\n",
       "        }\n",
       "        fig.send_message('refresh', {});\n",
       "    };\n",
       "\n",
       "    this.imageObj.onload = function () {\n",
       "        if (fig.image_mode === 'full') {\n",
       "            // Full images could contain transparency (where diff images\n",
       "            // almost always do), so we need to clear the canvas so that\n",
       "            // there is no ghosting.\n",
       "            fig.context.clearRect(0, 0, fig.canvas.width, fig.canvas.height);\n",
       "        }\n",
       "        fig.context.drawImage(fig.imageObj, 0, 0);\n",
       "    };\n",
       "\n",
       "    this.imageObj.onunload = function () {\n",
       "        fig.ws.close();\n",
       "    };\n",
       "\n",
       "    this.ws.onmessage = this._make_on_message_function(this);\n",
       "\n",
       "    this.ondownload = ondownload;\n",
       "};\n",
       "\n",
       "mpl.figure.prototype._init_header = function () {\n",
       "    var titlebar = document.createElement('div');\n",
       "    titlebar.classList =\n",
       "        'ui-dialog-titlebar ui-widget-header ui-corner-all ui-helper-clearfix';\n",
       "    var titletext = document.createElement('div');\n",
       "    titletext.classList = 'ui-dialog-title';\n",
       "    titletext.setAttribute(\n",
       "        'style',\n",
       "        'width: 100%; text-align: center; padding: 3px;'\n",
       "    );\n",
       "    titlebar.appendChild(titletext);\n",
       "    this.root.appendChild(titlebar);\n",
       "    this.header = titletext;\n",
       "};\n",
       "\n",
       "mpl.figure.prototype._canvas_extra_style = function (_canvas_div) {};\n",
       "\n",
       "mpl.figure.prototype._root_extra_style = function (_canvas_div) {};\n",
       "\n",
       "mpl.figure.prototype._init_canvas = function () {\n",
       "    var fig = this;\n",
       "\n",
       "    var canvas_div = (this.canvas_div = document.createElement('div'));\n",
       "    canvas_div.setAttribute(\n",
       "        'style',\n",
       "        'border: 1px solid #ddd;' +\n",
       "            'box-sizing: content-box;' +\n",
       "            'clear: both;' +\n",
       "            'min-height: 1px;' +\n",
       "            'min-width: 1px;' +\n",
       "            'outline: 0;' +\n",
       "            'overflow: hidden;' +\n",
       "            'position: relative;' +\n",
       "            'resize: both;'\n",
       "    );\n",
       "\n",
       "    function on_keyboard_event_closure(name) {\n",
       "        return function (event) {\n",
       "            return fig.key_event(event, name);\n",
       "        };\n",
       "    }\n",
       "\n",
       "    canvas_div.addEventListener(\n",
       "        'keydown',\n",
       "        on_keyboard_event_closure('key_press')\n",
       "    );\n",
       "    canvas_div.addEventListener(\n",
       "        'keyup',\n",
       "        on_keyboard_event_closure('key_release')\n",
       "    );\n",
       "\n",
       "    this._canvas_extra_style(canvas_div);\n",
       "    this.root.appendChild(canvas_div);\n",
       "\n",
       "    var canvas = (this.canvas = document.createElement('canvas'));\n",
       "    canvas.classList.add('mpl-canvas');\n",
       "    canvas.setAttribute('style', 'box-sizing: content-box;');\n",
       "\n",
       "    this.context = canvas.getContext('2d');\n",
       "\n",
       "    var backingStore =\n",
       "        this.context.backingStorePixelRatio ||\n",
       "        this.context.webkitBackingStorePixelRatio ||\n",
       "        this.context.mozBackingStorePixelRatio ||\n",
       "        this.context.msBackingStorePixelRatio ||\n",
       "        this.context.oBackingStorePixelRatio ||\n",
       "        this.context.backingStorePixelRatio ||\n",
       "        1;\n",
       "\n",
       "    this.ratio = (window.devicePixelRatio || 1) / backingStore;\n",
       "\n",
       "    var rubberband_canvas = (this.rubberband_canvas = document.createElement(\n",
       "        'canvas'\n",
       "    ));\n",
       "    rubberband_canvas.setAttribute(\n",
       "        'style',\n",
       "        'box-sizing: content-box; position: absolute; left: 0; top: 0; z-index: 1;'\n",
       "    );\n",
       "\n",
       "    // Apply a ponyfill if ResizeObserver is not implemented by browser.\n",
       "    if (this.ResizeObserver === undefined) {\n",
       "        if (window.ResizeObserver !== undefined) {\n",
       "            this.ResizeObserver = window.ResizeObserver;\n",
       "        } else {\n",
       "            var obs = _JSXTOOLS_RESIZE_OBSERVER({});\n",
       "            this.ResizeObserver = obs.ResizeObserver;\n",
       "        }\n",
       "    }\n",
       "\n",
       "    this.resizeObserverInstance = new this.ResizeObserver(function (entries) {\n",
       "        var nentries = entries.length;\n",
       "        for (var i = 0; i < nentries; i++) {\n",
       "            var entry = entries[i];\n",
       "            var width, height;\n",
       "            if (entry.contentBoxSize) {\n",
       "                if (entry.contentBoxSize instanceof Array) {\n",
       "                    // Chrome 84 implements new version of spec.\n",
       "                    width = entry.contentBoxSize[0].inlineSize;\n",
       "                    height = entry.contentBoxSize[0].blockSize;\n",
       "                } else {\n",
       "                    // Firefox implements old version of spec.\n",
       "                    width = entry.contentBoxSize.inlineSize;\n",
       "                    height = entry.contentBoxSize.blockSize;\n",
       "                }\n",
       "            } else {\n",
       "                // Chrome <84 implements even older version of spec.\n",
       "                width = entry.contentRect.width;\n",
       "                height = entry.contentRect.height;\n",
       "            }\n",
       "\n",
       "            // Keep the size of the canvas and rubber band canvas in sync with\n",
       "            // the canvas container.\n",
       "            if (entry.devicePixelContentBoxSize) {\n",
       "                // Chrome 84 implements new version of spec.\n",
       "                canvas.setAttribute(\n",
       "                    'width',\n",
       "                    entry.devicePixelContentBoxSize[0].inlineSize\n",
       "                );\n",
       "                canvas.setAttribute(\n",
       "                    'height',\n",
       "                    entry.devicePixelContentBoxSize[0].blockSize\n",
       "                );\n",
       "            } else {\n",
       "                canvas.setAttribute('width', width * fig.ratio);\n",
       "                canvas.setAttribute('height', height * fig.ratio);\n",
       "            }\n",
       "            canvas.setAttribute(\n",
       "                'style',\n",
       "                'width: ' + width + 'px; height: ' + height + 'px;'\n",
       "            );\n",
       "\n",
       "            rubberband_canvas.setAttribute('width', width);\n",
       "            rubberband_canvas.setAttribute('height', height);\n",
       "\n",
       "            // And update the size in Python. We ignore the initial 0/0 size\n",
       "            // that occurs as the element is placed into the DOM, which should\n",
       "            // otherwise not happen due to the minimum size styling.\n",
       "            if (fig.ws.readyState == 1 && width != 0 && height != 0) {\n",
       "                fig.request_resize(width, height);\n",
       "            }\n",
       "        }\n",
       "    });\n",
       "    this.resizeObserverInstance.observe(canvas_div);\n",
       "\n",
       "    function on_mouse_event_closure(name) {\n",
       "        return function (event) {\n",
       "            return fig.mouse_event(event, name);\n",
       "        };\n",
       "    }\n",
       "\n",
       "    rubberband_canvas.addEventListener(\n",
       "        'mousedown',\n",
       "        on_mouse_event_closure('button_press')\n",
       "    );\n",
       "    rubberband_canvas.addEventListener(\n",
       "        'mouseup',\n",
       "        on_mouse_event_closure('button_release')\n",
       "    );\n",
       "    rubberband_canvas.addEventListener(\n",
       "        'dblclick',\n",
       "        on_mouse_event_closure('dblclick')\n",
       "    );\n",
       "    // Throttle sequential mouse events to 1 every 20ms.\n",
       "    rubberband_canvas.addEventListener(\n",
       "        'mousemove',\n",
       "        on_mouse_event_closure('motion_notify')\n",
       "    );\n",
       "\n",
       "    rubberband_canvas.addEventListener(\n",
       "        'mouseenter',\n",
       "        on_mouse_event_closure('figure_enter')\n",
       "    );\n",
       "    rubberband_canvas.addEventListener(\n",
       "        'mouseleave',\n",
       "        on_mouse_event_closure('figure_leave')\n",
       "    );\n",
       "\n",
       "    canvas_div.addEventListener('wheel', function (event) {\n",
       "        if (event.deltaY < 0) {\n",
       "            event.step = 1;\n",
       "        } else {\n",
       "            event.step = -1;\n",
       "        }\n",
       "        on_mouse_event_closure('scroll')(event);\n",
       "    });\n",
       "\n",
       "    canvas_div.appendChild(canvas);\n",
       "    canvas_div.appendChild(rubberband_canvas);\n",
       "\n",
       "    this.rubberband_context = rubberband_canvas.getContext('2d');\n",
       "    this.rubberband_context.strokeStyle = '#000000';\n",
       "\n",
       "    this._resize_canvas = function (width, height, forward) {\n",
       "        if (forward) {\n",
       "            canvas_div.style.width = width + 'px';\n",
       "            canvas_div.style.height = height + 'px';\n",
       "        }\n",
       "    };\n",
       "\n",
       "    // Disable right mouse context menu.\n",
       "    this.rubberband_canvas.addEventListener('contextmenu', function (_e) {\n",
       "        event.preventDefault();\n",
       "        return false;\n",
       "    });\n",
       "\n",
       "    function set_focus() {\n",
       "        canvas.focus();\n",
       "        canvas_div.focus();\n",
       "    }\n",
       "\n",
       "    window.setTimeout(set_focus, 100);\n",
       "};\n",
       "\n",
       "mpl.figure.prototype._init_toolbar = function () {\n",
       "    var fig = this;\n",
       "\n",
       "    var toolbar = document.createElement('div');\n",
       "    toolbar.classList = 'mpl-toolbar';\n",
       "    this.root.appendChild(toolbar);\n",
       "\n",
       "    function on_click_closure(name) {\n",
       "        return function (_event) {\n",
       "            return fig.toolbar_button_onclick(name);\n",
       "        };\n",
       "    }\n",
       "\n",
       "    function on_mouseover_closure(tooltip) {\n",
       "        return function (event) {\n",
       "            if (!event.currentTarget.disabled) {\n",
       "                return fig.toolbar_button_onmouseover(tooltip);\n",
       "            }\n",
       "        };\n",
       "    }\n",
       "\n",
       "    fig.buttons = {};\n",
       "    var buttonGroup = document.createElement('div');\n",
       "    buttonGroup.classList = 'mpl-button-group';\n",
       "    for (var toolbar_ind in mpl.toolbar_items) {\n",
       "        var name = mpl.toolbar_items[toolbar_ind][0];\n",
       "        var tooltip = mpl.toolbar_items[toolbar_ind][1];\n",
       "        var image = mpl.toolbar_items[toolbar_ind][2];\n",
       "        var method_name = mpl.toolbar_items[toolbar_ind][3];\n",
       "\n",
       "        if (!name) {\n",
       "            /* Instead of a spacer, we start a new button group. */\n",
       "            if (buttonGroup.hasChildNodes()) {\n",
       "                toolbar.appendChild(buttonGroup);\n",
       "            }\n",
       "            buttonGroup = document.createElement('div');\n",
       "            buttonGroup.classList = 'mpl-button-group';\n",
       "            continue;\n",
       "        }\n",
       "\n",
       "        var button = (fig.buttons[name] = document.createElement('button'));\n",
       "        button.classList = 'mpl-widget';\n",
       "        button.setAttribute('role', 'button');\n",
       "        button.setAttribute('aria-disabled', 'false');\n",
       "        button.addEventListener('click', on_click_closure(method_name));\n",
       "        button.addEventListener('mouseover', on_mouseover_closure(tooltip));\n",
       "\n",
       "        var icon_img = document.createElement('img');\n",
       "        icon_img.src = '_images/' + image + '.png';\n",
       "        icon_img.srcset = '_images/' + image + '_large.png 2x';\n",
       "        icon_img.alt = tooltip;\n",
       "        button.appendChild(icon_img);\n",
       "\n",
       "        buttonGroup.appendChild(button);\n",
       "    }\n",
       "\n",
       "    if (buttonGroup.hasChildNodes()) {\n",
       "        toolbar.appendChild(buttonGroup);\n",
       "    }\n",
       "\n",
       "    var fmt_picker = document.createElement('select');\n",
       "    fmt_picker.classList = 'mpl-widget';\n",
       "    toolbar.appendChild(fmt_picker);\n",
       "    this.format_dropdown = fmt_picker;\n",
       "\n",
       "    for (var ind in mpl.extensions) {\n",
       "        var fmt = mpl.extensions[ind];\n",
       "        var option = document.createElement('option');\n",
       "        option.selected = fmt === mpl.default_extension;\n",
       "        option.innerHTML = fmt;\n",
       "        fmt_picker.appendChild(option);\n",
       "    }\n",
       "\n",
       "    var status_bar = document.createElement('span');\n",
       "    status_bar.classList = 'mpl-message';\n",
       "    toolbar.appendChild(status_bar);\n",
       "    this.message = status_bar;\n",
       "};\n",
       "\n",
       "mpl.figure.prototype.request_resize = function (x_pixels, y_pixels) {\n",
       "    // Request matplotlib to resize the figure. Matplotlib will then trigger a resize in the client,\n",
       "    // which will in turn request a refresh of the image.\n",
       "    this.send_message('resize', { width: x_pixels, height: y_pixels });\n",
       "};\n",
       "\n",
       "mpl.figure.prototype.send_message = function (type, properties) {\n",
       "    properties['type'] = type;\n",
       "    properties['figure_id'] = this.id;\n",
       "    this.ws.send(JSON.stringify(properties));\n",
       "};\n",
       "\n",
       "mpl.figure.prototype.send_draw_message = function () {\n",
       "    if (!this.waiting) {\n",
       "        this.waiting = true;\n",
       "        this.ws.send(JSON.stringify({ type: 'draw', figure_id: this.id }));\n",
       "    }\n",
       "};\n",
       "\n",
       "mpl.figure.prototype.handle_save = function (fig, _msg) {\n",
       "    var format_dropdown = fig.format_dropdown;\n",
       "    var format = format_dropdown.options[format_dropdown.selectedIndex].value;\n",
       "    fig.ondownload(fig, format);\n",
       "};\n",
       "\n",
       "mpl.figure.prototype.handle_resize = function (fig, msg) {\n",
       "    var size = msg['size'];\n",
       "    if (size[0] !== fig.canvas.width || size[1] !== fig.canvas.height) {\n",
       "        fig._resize_canvas(size[0], size[1], msg['forward']);\n",
       "        fig.send_message('refresh', {});\n",
       "    }\n",
       "};\n",
       "\n",
       "mpl.figure.prototype.handle_rubberband = function (fig, msg) {\n",
       "    var x0 = msg['x0'] / fig.ratio;\n",
       "    var y0 = (fig.canvas.height - msg['y0']) / fig.ratio;\n",
       "    var x1 = msg['x1'] / fig.ratio;\n",
       "    var y1 = (fig.canvas.height - msg['y1']) / fig.ratio;\n",
       "    x0 = Math.floor(x0) + 0.5;\n",
       "    y0 = Math.floor(y0) + 0.5;\n",
       "    x1 = Math.floor(x1) + 0.5;\n",
       "    y1 = Math.floor(y1) + 0.5;\n",
       "    var min_x = Math.min(x0, x1);\n",
       "    var min_y = Math.min(y0, y1);\n",
       "    var width = Math.abs(x1 - x0);\n",
       "    var height = Math.abs(y1 - y0);\n",
       "\n",
       "    fig.rubberband_context.clearRect(\n",
       "        0,\n",
       "        0,\n",
       "        fig.canvas.width / fig.ratio,\n",
       "        fig.canvas.height / fig.ratio\n",
       "    );\n",
       "\n",
       "    fig.rubberband_context.strokeRect(min_x, min_y, width, height);\n",
       "};\n",
       "\n",
       "mpl.figure.prototype.handle_figure_label = function (fig, msg) {\n",
       "    // Updates the figure title.\n",
       "    fig.header.textContent = msg['label'];\n",
       "};\n",
       "\n",
       "mpl.figure.prototype.handle_cursor = function (fig, msg) {\n",
       "    var cursor = msg['cursor'];\n",
       "    switch (cursor) {\n",
       "        case 0:\n",
       "            cursor = 'pointer';\n",
       "            break;\n",
       "        case 1:\n",
       "            cursor = 'default';\n",
       "            break;\n",
       "        case 2:\n",
       "            cursor = 'crosshair';\n",
       "            break;\n",
       "        case 3:\n",
       "            cursor = 'move';\n",
       "            break;\n",
       "    }\n",
       "    fig.rubberband_canvas.style.cursor = cursor;\n",
       "};\n",
       "\n",
       "mpl.figure.prototype.handle_message = function (fig, msg) {\n",
       "    fig.message.textContent = msg['message'];\n",
       "};\n",
       "\n",
       "mpl.figure.prototype.handle_draw = function (fig, _msg) {\n",
       "    // Request the server to send over a new figure.\n",
       "    fig.send_draw_message();\n",
       "};\n",
       "\n",
       "mpl.figure.prototype.handle_image_mode = function (fig, msg) {\n",
       "    fig.image_mode = msg['mode'];\n",
       "};\n",
       "\n",
       "mpl.figure.prototype.handle_history_buttons = function (fig, msg) {\n",
       "    for (var key in msg) {\n",
       "        if (!(key in fig.buttons)) {\n",
       "            continue;\n",
       "        }\n",
       "        fig.buttons[key].disabled = !msg[key];\n",
       "        fig.buttons[key].setAttribute('aria-disabled', !msg[key]);\n",
       "    }\n",
       "};\n",
       "\n",
       "mpl.figure.prototype.handle_navigate_mode = function (fig, msg) {\n",
       "    if (msg['mode'] === 'PAN') {\n",
       "        fig.buttons['Pan'].classList.add('active');\n",
       "        fig.buttons['Zoom'].classList.remove('active');\n",
       "    } else if (msg['mode'] === 'ZOOM') {\n",
       "        fig.buttons['Pan'].classList.remove('active');\n",
       "        fig.buttons['Zoom'].classList.add('active');\n",
       "    } else {\n",
       "        fig.buttons['Pan'].classList.remove('active');\n",
       "        fig.buttons['Zoom'].classList.remove('active');\n",
       "    }\n",
       "};\n",
       "\n",
       "mpl.figure.prototype.updated_canvas_event = function () {\n",
       "    // Called whenever the canvas gets updated.\n",
       "    this.send_message('ack', {});\n",
       "};\n",
       "\n",
       "// A function to construct a web socket function for onmessage handling.\n",
       "// Called in the figure constructor.\n",
       "mpl.figure.prototype._make_on_message_function = function (fig) {\n",
       "    return function socket_on_message(evt) {\n",
       "        if (evt.data instanceof Blob) {\n",
       "            var img = evt.data;\n",
       "            if (img.type !== 'image/png') {\n",
       "                /* FIXME: We get \"Resource interpreted as Image but\n",
       "                 * transferred with MIME type text/plain:\" errors on\n",
       "                 * Chrome.  But how to set the MIME type?  It doesn't seem\n",
       "                 * to be part of the websocket stream */\n",
       "                img.type = 'image/png';\n",
       "            }\n",
       "\n",
       "            /* Free the memory for the previous frames */\n",
       "            if (fig.imageObj.src) {\n",
       "                (window.URL || window.webkitURL).revokeObjectURL(\n",
       "                    fig.imageObj.src\n",
       "                );\n",
       "            }\n",
       "\n",
       "            fig.imageObj.src = (window.URL || window.webkitURL).createObjectURL(\n",
       "                img\n",
       "            );\n",
       "            fig.updated_canvas_event();\n",
       "            fig.waiting = false;\n",
       "            return;\n",
       "        } else if (\n",
       "            typeof evt.data === 'string' &&\n",
       "            evt.data.slice(0, 21) === 'data:image/png;base64'\n",
       "        ) {\n",
       "            fig.imageObj.src = evt.data;\n",
       "            fig.updated_canvas_event();\n",
       "            fig.waiting = false;\n",
       "            return;\n",
       "        }\n",
       "\n",
       "        var msg = JSON.parse(evt.data);\n",
       "        var msg_type = msg['type'];\n",
       "\n",
       "        // Call the  \"handle_{type}\" callback, which takes\n",
       "        // the figure and JSON message as its only arguments.\n",
       "        try {\n",
       "            var callback = fig['handle_' + msg_type];\n",
       "        } catch (e) {\n",
       "            console.log(\n",
       "                \"No handler for the '\" + msg_type + \"' message type: \",\n",
       "                msg\n",
       "            );\n",
       "            return;\n",
       "        }\n",
       "\n",
       "        if (callback) {\n",
       "            try {\n",
       "                // console.log(\"Handling '\" + msg_type + \"' message: \", msg);\n",
       "                callback(fig, msg);\n",
       "            } catch (e) {\n",
       "                console.log(\n",
       "                    \"Exception inside the 'handler_\" + msg_type + \"' callback:\",\n",
       "                    e,\n",
       "                    e.stack,\n",
       "                    msg\n",
       "                );\n",
       "            }\n",
       "        }\n",
       "    };\n",
       "};\n",
       "\n",
       "// from http://stackoverflow.com/questions/1114465/getting-mouse-location-in-canvas\n",
       "mpl.findpos = function (e) {\n",
       "    //this section is from http://www.quirksmode.org/js/events_properties.html\n",
       "    var targ;\n",
       "    if (!e) {\n",
       "        e = window.event;\n",
       "    }\n",
       "    if (e.target) {\n",
       "        targ = e.target;\n",
       "    } else if (e.srcElement) {\n",
       "        targ = e.srcElement;\n",
       "    }\n",
       "    if (targ.nodeType === 3) {\n",
       "        // defeat Safari bug\n",
       "        targ = targ.parentNode;\n",
       "    }\n",
       "\n",
       "    // pageX,Y are the mouse positions relative to the document\n",
       "    var boundingRect = targ.getBoundingClientRect();\n",
       "    var x = e.pageX - (boundingRect.left + document.body.scrollLeft);\n",
       "    var y = e.pageY - (boundingRect.top + document.body.scrollTop);\n",
       "\n",
       "    return { x: x, y: y };\n",
       "};\n",
       "\n",
       "/*\n",
       " * return a copy of an object with only non-object keys\n",
       " * we need this to avoid circular references\n",
       " * http://stackoverflow.com/a/24161582/3208463\n",
       " */\n",
       "function simpleKeys(original) {\n",
       "    return Object.keys(original).reduce(function (obj, key) {\n",
       "        if (typeof original[key] !== 'object') {\n",
       "            obj[key] = original[key];\n",
       "        }\n",
       "        return obj;\n",
       "    }, {});\n",
       "}\n",
       "\n",
       "mpl.figure.prototype.mouse_event = function (event, name) {\n",
       "    var canvas_pos = mpl.findpos(event);\n",
       "\n",
       "    if (name === 'button_press') {\n",
       "        this.canvas.focus();\n",
       "        this.canvas_div.focus();\n",
       "    }\n",
       "\n",
       "    var x = canvas_pos.x * this.ratio;\n",
       "    var y = canvas_pos.y * this.ratio;\n",
       "\n",
       "    this.send_message(name, {\n",
       "        x: x,\n",
       "        y: y,\n",
       "        button: event.button,\n",
       "        step: event.step,\n",
       "        guiEvent: simpleKeys(event),\n",
       "    });\n",
       "\n",
       "    /* This prevents the web browser from automatically changing to\n",
       "     * the text insertion cursor when the button is pressed.  We want\n",
       "     * to control all of the cursor setting manually through the\n",
       "     * 'cursor' event from matplotlib */\n",
       "    event.preventDefault();\n",
       "    return false;\n",
       "};\n",
       "\n",
       "mpl.figure.prototype._key_event_extra = function (_event, _name) {\n",
       "    // Handle any extra behaviour associated with a key event\n",
       "};\n",
       "\n",
       "mpl.figure.prototype.key_event = function (event, name) {\n",
       "    // Prevent repeat events\n",
       "    if (name === 'key_press') {\n",
       "        if (event.key === this._key) {\n",
       "            return;\n",
       "        } else {\n",
       "            this._key = event.key;\n",
       "        }\n",
       "    }\n",
       "    if (name === 'key_release') {\n",
       "        this._key = null;\n",
       "    }\n",
       "\n",
       "    var value = '';\n",
       "    if (event.ctrlKey && event.key !== 'Control') {\n",
       "        value += 'ctrl+';\n",
       "    }\n",
       "    else if (event.altKey && event.key !== 'Alt') {\n",
       "        value += 'alt+';\n",
       "    }\n",
       "    else if (event.shiftKey && event.key !== 'Shift') {\n",
       "        value += 'shift+';\n",
       "    }\n",
       "\n",
       "    value += 'k' + event.key;\n",
       "\n",
       "    this._key_event_extra(event, name);\n",
       "\n",
       "    this.send_message(name, { key: value, guiEvent: simpleKeys(event) });\n",
       "    return false;\n",
       "};\n",
       "\n",
       "mpl.figure.prototype.toolbar_button_onclick = function (name) {\n",
       "    if (name === 'download') {\n",
       "        this.handle_save(this, null);\n",
       "    } else {\n",
       "        this.send_message('toolbar_button', { name: name });\n",
       "    }\n",
       "};\n",
       "\n",
       "mpl.figure.prototype.toolbar_button_onmouseover = function (tooltip) {\n",
       "    this.message.textContent = tooltip;\n",
       "};\n",
       "\n",
       "///////////////// REMAINING CONTENT GENERATED BY embed_js.py /////////////////\n",
       "// prettier-ignore\n",
       "var _JSXTOOLS_RESIZE_OBSERVER=function(A){var t,i=new WeakMap,n=new WeakMap,a=new WeakMap,r=new WeakMap,o=new Set;function s(e){if(!(this instanceof s))throw new TypeError(\"Constructor requires 'new' operator\");i.set(this,e)}function h(){throw new TypeError(\"Function is not a constructor\")}function c(e,t,i,n){e=0 in arguments?Number(arguments[0]):0,t=1 in arguments?Number(arguments[1]):0,i=2 in arguments?Number(arguments[2]):0,n=3 in arguments?Number(arguments[3]):0,this.right=(this.x=this.left=e)+(this.width=i),this.bottom=(this.y=this.top=t)+(this.height=n),Object.freeze(this)}function d(){t=requestAnimationFrame(d);var s=new WeakMap,p=new Set;o.forEach((function(t){r.get(t).forEach((function(i){var r=t instanceof window.SVGElement,o=a.get(t),d=r?0:parseFloat(o.paddingTop),f=r?0:parseFloat(o.paddingRight),l=r?0:parseFloat(o.paddingBottom),u=r?0:parseFloat(o.paddingLeft),g=r?0:parseFloat(o.borderTopWidth),m=r?0:parseFloat(o.borderRightWidth),w=r?0:parseFloat(o.borderBottomWidth),b=u+f,F=d+l,v=(r?0:parseFloat(o.borderLeftWidth))+m,W=g+w,y=r?0:t.offsetHeight-W-t.clientHeight,E=r?0:t.offsetWidth-v-t.clientWidth,R=b+v,z=F+W,M=r?t.width:parseFloat(o.width)-R-E,O=r?t.height:parseFloat(o.height)-z-y;if(n.has(t)){var k=n.get(t);if(k[0]===M&&k[1]===O)return}n.set(t,[M,O]);var S=Object.create(h.prototype);S.target=t,S.contentRect=new c(u,d,M,O),s.has(i)||(s.set(i,[]),p.add(i)),s.get(i).push(S)}))})),p.forEach((function(e){i.get(e).call(e,s.get(e),e)}))}return s.prototype.observe=function(i){if(i instanceof window.Element){r.has(i)||(r.set(i,new Set),o.add(i),a.set(i,window.getComputedStyle(i)));var n=r.get(i);n.has(this)||n.add(this),cancelAnimationFrame(t),t=requestAnimationFrame(d)}},s.prototype.unobserve=function(i){if(i instanceof window.Element&&r.has(i)){var n=r.get(i);n.has(this)&&(n.delete(this),n.size||(r.delete(i),o.delete(i))),n.size||r.delete(i),o.size||cancelAnimationFrame(t)}},A.DOMRectReadOnly=c,A.ResizeObserver=s,A.ResizeObserverEntry=h,A}; // eslint-disable-line\n",
       "mpl.toolbar_items = [[\"Home\", \"Reset original view\", \"fa fa-home icon-home\", \"home\"], [\"Back\", \"Back to previous view\", \"fa fa-arrow-left icon-arrow-left\", \"back\"], [\"Forward\", \"Forward to next view\", \"fa fa-arrow-right icon-arrow-right\", \"forward\"], [\"\", \"\", \"\", \"\"], [\"Pan\", \"Left button pans, Right button zooms\\nx/y fixes axis, CTRL fixes aspect\", \"fa fa-arrows icon-move\", \"pan\"], [\"Zoom\", \"Zoom to rectangle\\nx/y fixes axis, CTRL fixes aspect\", \"fa fa-square-o icon-check-empty\", \"zoom\"], [\"\", \"\", \"\", \"\"], [\"Download\", \"Download plot\", \"fa fa-floppy-o icon-save\", \"download\"]];\n",
       "\n",
       "mpl.extensions = [\"eps\", \"jpeg\", \"pgf\", \"pdf\", \"png\", \"ps\", \"raw\", \"svg\", \"tif\"];\n",
       "\n",
       "mpl.default_extension = \"png\";/* global mpl */\n",
       "\n",
       "var comm_websocket_adapter = function (comm) {\n",
       "    // Create a \"websocket\"-like object which calls the given IPython comm\n",
       "    // object with the appropriate methods. Currently this is a non binary\n",
       "    // socket, so there is still some room for performance tuning.\n",
       "    var ws = {};\n",
       "\n",
       "    ws.binaryType = comm.kernel.ws.binaryType;\n",
       "    ws.readyState = comm.kernel.ws.readyState;\n",
       "    function updateReadyState(_event) {\n",
       "        if (comm.kernel.ws) {\n",
       "            ws.readyState = comm.kernel.ws.readyState;\n",
       "        } else {\n",
       "            ws.readyState = 3; // Closed state.\n",
       "        }\n",
       "    }\n",
       "    comm.kernel.ws.addEventListener('open', updateReadyState);\n",
       "    comm.kernel.ws.addEventListener('close', updateReadyState);\n",
       "    comm.kernel.ws.addEventListener('error', updateReadyState);\n",
       "\n",
       "    ws.close = function () {\n",
       "        comm.close();\n",
       "    };\n",
       "    ws.send = function (m) {\n",
       "        //console.log('sending', m);\n",
       "        comm.send(m);\n",
       "    };\n",
       "    // Register the callback with on_msg.\n",
       "    comm.on_msg(function (msg) {\n",
       "        //console.log('receiving', msg['content']['data'], msg);\n",
       "        var data = msg['content']['data'];\n",
       "        if (data['blob'] !== undefined) {\n",
       "            data = {\n",
       "                data: new Blob(msg['buffers'], { type: data['blob'] }),\n",
       "            };\n",
       "        }\n",
       "        // Pass the mpl event to the overridden (by mpl) onmessage function.\n",
       "        ws.onmessage(data);\n",
       "    });\n",
       "    return ws;\n",
       "};\n",
       "\n",
       "mpl.mpl_figure_comm = function (comm, msg) {\n",
       "    // This is the function which gets called when the mpl process\n",
       "    // starts-up an IPython Comm through the \"matplotlib\" channel.\n",
       "\n",
       "    var id = msg.content.data.id;\n",
       "    // Get hold of the div created by the display call when the Comm\n",
       "    // socket was opened in Python.\n",
       "    var element = document.getElementById(id);\n",
       "    var ws_proxy = comm_websocket_adapter(comm);\n",
       "\n",
       "    function ondownload(figure, _format) {\n",
       "        window.open(figure.canvas.toDataURL());\n",
       "    }\n",
       "\n",
       "    var fig = new mpl.figure(id, ws_proxy, ondownload, element);\n",
       "\n",
       "    // Call onopen now - mpl needs it, as it is assuming we've passed it a real\n",
       "    // web socket which is closed, not our websocket->open comm proxy.\n",
       "    ws_proxy.onopen();\n",
       "\n",
       "    fig.parent_element = element;\n",
       "    fig.cell_info = mpl.find_output_cell(\"<div id='\" + id + \"'></div>\");\n",
       "    if (!fig.cell_info) {\n",
       "        console.error('Failed to find cell for figure', id, fig);\n",
       "        return;\n",
       "    }\n",
       "    fig.cell_info[0].output_area.element.on(\n",
       "        'cleared',\n",
       "        { fig: fig },\n",
       "        fig._remove_fig_handler\n",
       "    );\n",
       "};\n",
       "\n",
       "mpl.figure.prototype.handle_close = function (fig, msg) {\n",
       "    var width = fig.canvas.width / fig.ratio;\n",
       "    fig.cell_info[0].output_area.element.off(\n",
       "        'cleared',\n",
       "        fig._remove_fig_handler\n",
       "    );\n",
       "    fig.resizeObserverInstance.unobserve(fig.canvas_div);\n",
       "\n",
       "    // Update the output cell to use the data from the current canvas.\n",
       "    fig.push_to_output();\n",
       "    var dataURL = fig.canvas.toDataURL();\n",
       "    // Re-enable the keyboard manager in IPython - without this line, in FF,\n",
       "    // the notebook keyboard shortcuts fail.\n",
       "    IPython.keyboard_manager.enable();\n",
       "    fig.parent_element.innerHTML =\n",
       "        '<img src=\"' + dataURL + '\" width=\"' + width + '\">';\n",
       "    fig.close_ws(fig, msg);\n",
       "};\n",
       "\n",
       "mpl.figure.prototype.close_ws = function (fig, msg) {\n",
       "    fig.send_message('closing', msg);\n",
       "    // fig.ws.close()\n",
       "};\n",
       "\n",
       "mpl.figure.prototype.push_to_output = function (_remove_interactive) {\n",
       "    // Turn the data on the canvas into data in the output cell.\n",
       "    var width = this.canvas.width / this.ratio;\n",
       "    var dataURL = this.canvas.toDataURL();\n",
       "    this.cell_info[1]['text/html'] =\n",
       "        '<img src=\"' + dataURL + '\" width=\"' + width + '\">';\n",
       "};\n",
       "\n",
       "mpl.figure.prototype.updated_canvas_event = function () {\n",
       "    // Tell IPython that the notebook contents must change.\n",
       "    IPython.notebook.set_dirty(true);\n",
       "    this.send_message('ack', {});\n",
       "    var fig = this;\n",
       "    // Wait a second, then push the new image to the DOM so\n",
       "    // that it is saved nicely (might be nice to debounce this).\n",
       "    setTimeout(function () {\n",
       "        fig.push_to_output();\n",
       "    }, 1000);\n",
       "};\n",
       "\n",
       "mpl.figure.prototype._init_toolbar = function () {\n",
       "    var fig = this;\n",
       "\n",
       "    var toolbar = document.createElement('div');\n",
       "    toolbar.classList = 'btn-toolbar';\n",
       "    this.root.appendChild(toolbar);\n",
       "\n",
       "    function on_click_closure(name) {\n",
       "        return function (_event) {\n",
       "            return fig.toolbar_button_onclick(name);\n",
       "        };\n",
       "    }\n",
       "\n",
       "    function on_mouseover_closure(tooltip) {\n",
       "        return function (event) {\n",
       "            if (!event.currentTarget.disabled) {\n",
       "                return fig.toolbar_button_onmouseover(tooltip);\n",
       "            }\n",
       "        };\n",
       "    }\n",
       "\n",
       "    fig.buttons = {};\n",
       "    var buttonGroup = document.createElement('div');\n",
       "    buttonGroup.classList = 'btn-group';\n",
       "    var button;\n",
       "    for (var toolbar_ind in mpl.toolbar_items) {\n",
       "        var name = mpl.toolbar_items[toolbar_ind][0];\n",
       "        var tooltip = mpl.toolbar_items[toolbar_ind][1];\n",
       "        var image = mpl.toolbar_items[toolbar_ind][2];\n",
       "        var method_name = mpl.toolbar_items[toolbar_ind][3];\n",
       "\n",
       "        if (!name) {\n",
       "            /* Instead of a spacer, we start a new button group. */\n",
       "            if (buttonGroup.hasChildNodes()) {\n",
       "                toolbar.appendChild(buttonGroup);\n",
       "            }\n",
       "            buttonGroup = document.createElement('div');\n",
       "            buttonGroup.classList = 'btn-group';\n",
       "            continue;\n",
       "        }\n",
       "\n",
       "        button = fig.buttons[name] = document.createElement('button');\n",
       "        button.classList = 'btn btn-default';\n",
       "        button.href = '#';\n",
       "        button.title = name;\n",
       "        button.innerHTML = '<i class=\"fa ' + image + ' fa-lg\"></i>';\n",
       "        button.addEventListener('click', on_click_closure(method_name));\n",
       "        button.addEventListener('mouseover', on_mouseover_closure(tooltip));\n",
       "        buttonGroup.appendChild(button);\n",
       "    }\n",
       "\n",
       "    if (buttonGroup.hasChildNodes()) {\n",
       "        toolbar.appendChild(buttonGroup);\n",
       "    }\n",
       "\n",
       "    // Add the status bar.\n",
       "    var status_bar = document.createElement('span');\n",
       "    status_bar.classList = 'mpl-message pull-right';\n",
       "    toolbar.appendChild(status_bar);\n",
       "    this.message = status_bar;\n",
       "\n",
       "    // Add the close button to the window.\n",
       "    var buttongrp = document.createElement('div');\n",
       "    buttongrp.classList = 'btn-group inline pull-right';\n",
       "    button = document.createElement('button');\n",
       "    button.classList = 'btn btn-mini btn-primary';\n",
       "    button.href = '#';\n",
       "    button.title = 'Stop Interaction';\n",
       "    button.innerHTML = '<i class=\"fa fa-power-off icon-remove icon-large\"></i>';\n",
       "    button.addEventListener('click', function (_evt) {\n",
       "        fig.handle_close(fig, {});\n",
       "    });\n",
       "    button.addEventListener(\n",
       "        'mouseover',\n",
       "        on_mouseover_closure('Stop Interaction')\n",
       "    );\n",
       "    buttongrp.appendChild(button);\n",
       "    var titlebar = this.root.querySelector('.ui-dialog-titlebar');\n",
       "    titlebar.insertBefore(buttongrp, titlebar.firstChild);\n",
       "};\n",
       "\n",
       "mpl.figure.prototype._remove_fig_handler = function (event) {\n",
       "    var fig = event.data.fig;\n",
       "    if (event.target !== this) {\n",
       "        // Ignore bubbled events from children.\n",
       "        return;\n",
       "    }\n",
       "    fig.close_ws(fig, {});\n",
       "};\n",
       "\n",
       "mpl.figure.prototype._root_extra_style = function (el) {\n",
       "    el.style.boxSizing = 'content-box'; // override notebook setting of border-box.\n",
       "};\n",
       "\n",
       "mpl.figure.prototype._canvas_extra_style = function (el) {\n",
       "    // this is important to make the div 'focusable\n",
       "    el.setAttribute('tabindex', 0);\n",
       "    // reach out to IPython and tell the keyboard manager to turn it's self\n",
       "    // off when our div gets focus\n",
       "\n",
       "    // location in version 3\n",
       "    if (IPython.notebook.keyboard_manager) {\n",
       "        IPython.notebook.keyboard_manager.register_events(el);\n",
       "    } else {\n",
       "        // location in version 2\n",
       "        IPython.keyboard_manager.register_events(el);\n",
       "    }\n",
       "};\n",
       "\n",
       "mpl.figure.prototype._key_event_extra = function (event, _name) {\n",
       "    var manager = IPython.notebook.keyboard_manager;\n",
       "    if (!manager) {\n",
       "        manager = IPython.keyboard_manager;\n",
       "    }\n",
       "\n",
       "    // Check for shift+enter\n",
       "    if (event.shiftKey && event.which === 13) {\n",
       "        this.canvas_div.blur();\n",
       "        // select the cell after this one\n",
       "        var index = IPython.notebook.find_cell_index(this.cell_info[0]);\n",
       "        IPython.notebook.select(index + 1);\n",
       "    }\n",
       "};\n",
       "\n",
       "mpl.figure.prototype.handle_save = function (fig, _msg) {\n",
       "    fig.ondownload(fig, null);\n",
       "};\n",
       "\n",
       "mpl.find_output_cell = function (html_output) {\n",
       "    // Return the cell and output element which can be found *uniquely* in the notebook.\n",
       "    // Note - this is a bit hacky, but it is done because the \"notebook_saving.Notebook\"\n",
       "    // IPython event is triggered only after the cells have been serialised, which for\n",
       "    // our purposes (turning an active figure into a static one), is too late.\n",
       "    var cells = IPython.notebook.get_cells();\n",
       "    var ncells = cells.length;\n",
       "    for (var i = 0; i < ncells; i++) {\n",
       "        var cell = cells[i];\n",
       "        if (cell.cell_type === 'code') {\n",
       "            for (var j = 0; j < cell.output_area.outputs.length; j++) {\n",
       "                var data = cell.output_area.outputs[j];\n",
       "                if (data.data) {\n",
       "                    // IPython >= 3 moved mimebundle to data attribute of output\n",
       "                    data = data.data;\n",
       "                }\n",
       "                if (data['text/html'] === html_output) {\n",
       "                    return [cell, data, j];\n",
       "                }\n",
       "            }\n",
       "        }\n",
       "    }\n",
       "};\n",
       "\n",
       "// Register the function which deals with the matplotlib target/channel.\n",
       "// The kernel may be null if the page has been refreshed.\n",
       "if (IPython.notebook.kernel !== null) {\n",
       "    IPython.notebook.kernel.comm_manager.register_target(\n",
       "        'matplotlib',\n",
       "        mpl.mpl_figure_comm\n",
       "    );\n",
       "}\n"
      ],
      "text/plain": [
       "<IPython.core.display.Javascript object>"
      ]
     },
     "metadata": {},
     "output_type": "display_data"
    },
    {
     "data": {
      "text/html": [
       "<div id='08147823-0e90-49a5-845f-553528fa0315'></div>"
      ],
      "text/plain": [
       "<IPython.core.display.HTML object>"
      ]
     },
     "metadata": {},
     "output_type": "display_data"
    }
   ],
   "source": [
    "## Find area of cross section\n",
    "fig = plt.figure()\n",
    "xs_area = plt.fill_between(np.arange(0, xy_topo.shape[1]), xy_topo[0], xy_topo[-1])\n",
    "plt.close(fig)\n",
    "xs_verts = xs_area.get_paths()[0].vertices\n",
    "xs_polygon = Polygon(xs_verts) \n",
    "\n",
    "xs_bds = xs_polygon.bounds\n",
    "xs_area = xs_polygon.area\n",
    "xsleft = xs_bds[0]\n",
    "xsbottom = xs_bds[1]\n",
    "xsright = xs_bds[2]\n",
    "xstop = xs_bds[3]\n",
    "#bar_height = abs(bottom-top)\n",
    "xs_thick = abs(xy_topo[-1].min()-xy_topo[-1].max())\n",
    "xs_width = xsright-xsleft"
   ]
  },
  {
   "cell_type": "markdown",
   "metadata": {},
   "source": [
    "## Crop to your bar"
   ]
  },
  {
   "cell_type": "code",
   "execution_count": 31,
   "metadata": {
    "ExecuteTime": {
     "end_time": "2022-03-23T14:41:46.948398Z",
     "start_time": "2022-03-23T14:41:19.351785Z"
    },
    "tags": []
   },
   "outputs": [
    {
     "name": "stdout",
     "output_type": "stream",
     "text": [
      "Last timestep is 382\n"
     ]
    }
   ],
   "source": [
    "#import matplotlib\n",
    "mpl.use('TkAgg')\n",
    "\n",
    "plt.figure(tight_layout=True, figsize = (20, 8))\n",
    "ax = plt.gca()\n",
    "ax.set_aspect('20')\n",
    "\n",
    "ax.set_facecolor('xkcd:olive green')\n",
    "for i in range (0, end_t):\n",
    "    plt.plot(xy_topo[i], color = cpick.to_rgba(i), lw = 1)\n",
    "ticks = np.arange(0, end_t, 25)\n",
    "ax.xaxis.set_minor_locator(MultipleLocator(10))\n",
    "plt.colorbar(cpick,label=\"Time\", shrink=0.3, ticks=ticks, aspect = 20, pad = 0.1, orientation = 'horizontal')\n",
    "\n",
    "hmm = np.array(plt.ginput(4)) #extract 4 coordinates from the plot\n",
    "\n",
    "print(f'Last timestep is {end_t}')"
   ]
  },
  {
   "cell_type": "code",
   "execution_count": 32,
   "metadata": {
    "ExecuteTime": {
     "end_time": "2022-03-23T14:41:55.648667Z",
     "start_time": "2022-03-23T14:41:55.004218Z"
    }
   },
   "outputs": [
    {
     "data": {
      "image/png": "[encoded data removed]",
      "text/plain": [
       "<Figure size 432x288 with 1 Axes>"
      ]
     },
     "metadata": {
      "needs_background": "light"
     },
     "output_type": "display_data"
    }
   ],
   "source": [
    "%matplotlib inline\n",
    "fakecrop = xy_topo[:, int(hmm[0, 0]):int(hmm[1, 0])]\n",
    "for i in range (0, num_timesteps):\n",
    "    plt.plot(fakecrop[i, :])"
   ]
  },
  {
   "cell_type": "code",
   "execution_count": 33,
   "metadata": {
    "ExecuteTime": {
     "end_time": "2022-03-23T14:41:57.665139Z",
     "start_time": "2022-03-23T14:41:57.661160Z"
    }
   },
   "outputs": [
    {
     "data": {
      "text/plain": [
       "array([[ 2.60014572e+02, -4.73066488e-01],\n",
       "       [ 2.97907565e+02, -4.43501509e-02],\n",
       "       [ 2.64163440e+02, -6.80509877e-01],\n",
       "       [ 2.77439817e+02,  6.62863231e-02]])"
      ]
     },
     "execution_count": 33,
     "metadata": {},
     "output_type": "execute_result"
    }
   ],
   "source": [
    "hmm"
   ]
  },
  {
   "cell_type": "code",
   "execution_count": 36,
   "metadata": {
    "ExecuteTime": {
     "end_time": "2022-03-23T14:42:29.298571Z",
     "start_time": "2022-03-23T14:42:29.292856Z"
    }
   },
   "outputs": [
    {
     "name": "stdout",
     "output_type": "stream",
     "text": [
      "0 151\n"
     ]
    }
   ],
   "source": [
    "# st_time = np.where(np.logical_and(np.isclose(xy_topo, hmm[2, 1], atol=0.005), (np.isclose(strat, hmm[2, 1], atol=0.005))))[0][0] ##get the row index of the start time picked from the plot\n",
    "searchst = np.arange(int(hmm[2, 0])-5, int(hmm[2, 0])+5)\n",
    "searchen = np.arange(int(hmm[3, 0])-5, int(hmm[3, 0])+5)\n",
    "st_time = np.where(np.isclose(xy_topo[:, searchst], hmm[2, 1], atol=0.05))[0][0]\n",
    "en_time = np.where(np.isclose(xy_topo[:, searchen], hmm[3, 1], atol=0.01))[0][0]\n",
    "#en_time = np.where(np.logical_and(np.isclose(xy_topo, hmm[3, 1], atol=0.001), (np.isclose(strat, hmm[3, 1], atol=0.001))))[0][0] ##get the row index of the start time picked from the plot\n",
    "print(st_time, en_time) #start and end times of bar deposition\n",
    "\n",
    "barleft = int(hmm[0, 0])\n",
    "barright = int(hmm[1, 0])"
   ]
  },
  {
   "cell_type": "code",
   "execution_count": 37,
   "metadata": {
    "ExecuteTime": {
     "end_time": "2022-03-23T14:42:33.359545Z",
     "start_time": "2022-03-23T14:42:33.071769Z"
    }
   },
   "outputs": [
    {
     "data": {
      "image/png": "[encoded data removed]",
      "text/plain": [
       "<Figure size 432x288 with 1 Axes>"
      ]
     },
     "metadata": {
      "needs_background": "light"
     },
     "output_type": "display_data"
    }
   ],
   "source": [
    "fakecrop = fakecrop[st_time:en_time, :]\n",
    "for i in range (0, len(fakecrop)):\n",
    "    plt.plot(fakecrop[i, :])"
   ]
  },
  {
   "cell_type": "code",
   "execution_count": 32,
   "metadata": {
    "tags": []
   },
   "outputs": [
    {
     "name": "stdin",
     "output_type": "stream",
     "text": [
      "Enter bar ID:  340\n",
      "Enter bar facies type:  LA\n"
     ]
    },
    {
     "name": "stdout",
     "output_type": "stream",
     "text": [
      "(239, 82)\n"
     ]
    },
    {
     "data": {
      "image/png": "[encoded data removed]",
      "text/plain": [
       "<Figure size 720x144 with 1 Axes>"
      ]
     },
     "metadata": {
      "needs_background": "light"
     },
     "output_type": "display_data"
    }
   ],
   "source": [
    "# st_time = int(input('Enter start model timestep for video: '))\n",
    "# en_time = int(input('Enter end model timestep for video: '))\n",
    "\n",
    "# barleft = int(input('Enter left limit of plot here: '))\n",
    "# barright = int(input('Enter right limit of plot here: '))\n",
    "# buffer = 50 #some extra buffer space to account for widening during the run\n",
    "# rblim = data[:, 3, :].min()+barleft-(buffer/2)\n",
    "# lblim = rblim+(barright-barleft+(buffer/2))\n",
    "\n",
    "barID = input('Enter bar ID: ')\n",
    "pkg_type = input('Enter bar facies type: ')\n",
    "cropped_topo = xy_topo[st_time:en_time+1, barleft:barright+1]\n",
    "print(cropped_topo.shape)\n",
    "plt.figure(figsize = (10, 2))\n",
    "for i, t in zip(np.arange(0, len(cropped_topo)), np.arange(st_time, en_time+1)):\n",
    "    plt.plot(position[barleft:barright+1], cropped_topo[i], color = cpick.to_rgba(t), lw=3)\n",
    "ax = plt.gca()\n",
    "ax.set_facecolor('xkcd:sienna')\n",
    "ax.set_aspect('10')\n",
    "\n",
    "#lt.colorbar(cpick,label=\"Time\")"
   ]
  },
  {
   "cell_type": "markdown",
   "metadata": {},
   "source": [
    "Pull flow depth data"
   ]
  },
  {
   "cell_type": "code",
   "execution_count": 59,
   "metadata": {
    "tags": []
   },
   "outputs": [],
   "source": [
    "maxdep = np.nanmax(trueflow[st_time:en_time+1, :])\n",
    "depCV = stats.variation(trueflow[st_time:en_time+1, :][~np.isnan(trueflow[st_time:en_time+1, :])].ravel())"
   ]
  },
  {
   "cell_type": "code",
   "execution_count": null,
   "metadata": {},
   "outputs": [],
   "source": [
    "print()"
   ]
  },
  {
   "cell_type": "markdown",
   "metadata": {
    "tags": []
   },
   "source": [
    "\n",
    "## Crop EVERYTHING"
   ]
  },
  {
   "cell_type": "code",
   "execution_count": 73,
   "metadata": {
    "ExecuteTime": {
     "end_time": "2021-09-23T15:06:12.950860Z",
     "start_time": "2021-09-23T15:06:12.946807Z"
    },
    "tags": []
   },
   "outputs": [],
   "source": [
    "## crop the strat matrix too\n",
    "xy_topoc = copy.deepcopy(cropped_topo)\n",
    "positionc = position[barleft:barright+1]\n",
    "stratc = xy_strat[st_time:en_time+1, barleft:barright+1]\n",
    "#stratconditionc = stratcondition[st_time:en_time+1, barleft:barright+1]\n",
    "\n",
    "end_t = len(xy_topoc)\n",
    "num_timesteps = end_t\n",
    "\n",
    "shearc = shear[st_time:en_time+1, barleft:barright+1]\n",
    "scaleflowc = scaleflow[st_time:en_time+1, barleft:barright+1]\n",
    "trueflowc = trueflow[st_time:en_time+1, barleft:barright+1]\n",
    "flowvelc = flowvel[st_time:en_time+1, barleft:barright+1]\n",
    "#erosurfc = erosurf[st_time:en_time+1, barleft:barright+1]"
   ]
  },
  {
   "cell_type": "markdown",
   "metadata": {
    "id": "hOTSTe364uVO"
   },
   "source": [
    " Declare maximum flow depth for scaling"
   ]
  },
  {
   "cell_type": "code",
   "execution_count": 74,
   "metadata": {
    "ExecuteTime": {
     "end_time": "2021-09-23T15:06:13.544011Z",
     "start_time": "2021-09-23T15:06:13.536996Z"
    },
    "tags": []
   },
   "outputs": [],
   "source": [
    "temp = 20.0 #temperature in degrees celcius\n",
    "kv = (1.14-0.031*(temp-15)+0.00068*((temp-15)**2))*10**-6\n",
    "\n",
    "D_star = np.power((1.65*9.81)/(1e3*(kv**2)), 0.333)*3.1e-4\n",
    "\n",
    "d50um = 310\n",
    "chezy_rough = 18*(np.log10(4*trueflowc/d50)) #i think this is log10, else they would've put ln no?\n",
    "\n",
    "mmp =(p*(flowvelc**2))/(1650*(chezy_rough**2)*d50)## modified mobility parameter\n",
    "mmprange = [0.01, 0.025, 0.17, 0.35, 1.5, 10] ## LP, R, D, D-UP, UP"
   ]
  },
  {
   "cell_type": "markdown",
   "metadata": {},
   "source": [
    " Declaring what the threshold for a hiatal surface is"
   ]
  },
  {
   "cell_type": "code",
   "execution_count": 75,
   "metadata": {
    "tags": []
   },
   "outputs": [],
   "source": [
    "#ages_ero = np.empty_like(xy_topoc)\n",
    "posnew = np.arange(0, xy_topoc.shape[1])"
   ]
  },
  {
   "cell_type": "markdown",
   "metadata": {},
   "source": [
    "Define ages and do the hiatus stuff"
   ]
  },
  {
   "cell_type": "code",
   "execution_count": 76,
   "metadata": {
    "ExecuteTime": {
     "end_time": "2021-09-23T15:06:25.296404Z",
     "start_time": "2021-09-23T15:06:19.311812Z"
    },
    "tags": []
   },
   "outputs": [],
   "source": [
    "cmap_vvfac = ListedColormap(['xkcd:mud brown', 'xkcd:shit', 'xkcd:dark tan', 'xkcd:sand', 'xkcd:stone'])\n",
    "mmprange = [0.01, 0.025, 0.17, 0.35, 1.5, 10] ## LP, R, D, D-UP, UP\n",
    "norm_vvfac = BoundaryNorm(mmprange, cmap_vvfac.N)"
   ]
  },
  {
   "cell_type": "code",
   "execution_count": 77,
   "metadata": {
    "ExecuteTime": {
     "end_time": "2021-09-23T15:06:25.302392Z",
     "start_time": "2021-09-23T15:06:25.298438Z"
    },
    "tags": []
   },
   "outputs": [],
   "source": [
    "def movinggrad(stratarray, posarray):\n",
    "    ## find the moving gradient of the surfaces at 1m intervals\n",
    "    ##stratarray = array with final stratigraphy, posarray = array with xposition in m\n",
    "    #create gradmatrix\n",
    "    \n",
    "    gradmatrix = np.zeros_like(stratarray)\n",
    "    angles = np.zeros_like(gradmatrix)\n",
    "\n",
    "    for t in range (0, stratarray.shape[0]): #for each timestep in the matrix\n",
    "        for x in range (0, stratarray.shape[1]-1): #for each x position, have to stop before 1 to work with array dims\n",
    "            gradmatrix[t, x] = abs(stratarray[t, x+1]-stratarray[t, x])/(posarray[x+1]-posarray[x])\n",
    "            angles[t, x] = np.degrees(np.arctan(gradmatrix[t,x]))\n",
    "            #print(gradmatrix[t, x], angles[t,x])\n",
    "    return gradmatrix, angles"
   ]
  },
  {
   "cell_type": "markdown",
   "metadata": {},
   "source": [
    "##### Take a look at the facies"
   ]
  },
  {
   "cell_type": "code",
   "execution_count": 78,
   "metadata": {
    "ExecuteTime": {
     "end_time": "2021-09-23T15:06:30.612414Z",
     "start_time": "2021-09-23T15:06:30.022638Z"
    },
    "scrolled": true,
    "tags": []
   },
   "outputs": [
    {
     "name": "stdout",
     "output_type": "stream",
     "text": [
      "Last timestep is 127\n"
     ]
    },
    {
     "data": {
      "image/png": "[encoded data removed]",
      "text/plain": [
       "<Figure size 720x144 with 2 Axes>"
      ]
     },
     "metadata": {
      "needs_background": "light"
     },
     "output_type": "display_data"
    }
   ],
   "source": [
    "plt.figure(figsize = (10,2))\n",
    "for i in range (0, end_t):\n",
    "    plt.plot(xy_topoc[i], color = cpick.to_rgba(i))\n",
    "plt.colorbar(cpick,label=\"Time\")\n",
    "print(f'Last timestep is {end_t}')"
   ]
  },
  {
   "cell_type": "markdown",
   "metadata": {
    "id": "HybvyFmA4uVW"
   },
   "source": [
    "Find the left and right edges of depositional packages, append depositional matrix to get co-ordintes of rectangles for wheeler diagram.\n",
    "\n",
    "In order for the logic statement to work to find the polygons, I created a border of nans around all ofthe arrays "
   ]
  },
  {
   "cell_type": "code",
   "execution_count": 79,
   "metadata": {
    "ExecuteTime": {
     "end_time": "2021-09-23T15:06:31.043692Z",
     "start_time": "2021-09-23T15:06:31.030291Z"
    },
    "executionInfo": {
     "elapsed": 22355,
     "status": "ok",
     "timestamp": 1616014284929,
     "user": {
      "displayName": "Safiya Alpheus",
      "photoUrl": "",
      "userId": "18049693271511077124"
     },
     "user_tz": 240
    },
    "hide_input": false,
    "id": "9qpeKsUe4uVW",
    "tags": []
   },
   "outputs": [],
   "source": [
    "nan_border = np.empty([end_t, 1])\n",
    "nan_border.shape\n",
    "nan_border[:] = np.nan\n",
    "#topointerp_nb = np.concatenate((nan_border, strat, nan_border), axis = 1) #nb = nan border\n",
    "stratinterpcub_nb = np.concatenate((nan_border, xy_topoc, nan_border), axis = 1)\n",
    "\n",
    "posnew = np.arange(0, xy_topoc.shape[1], dtype = float)\n",
    "posnew_nb = np.insert(posnew, [0], [np.nan])\n",
    "posnew_nb = np.insert(posnew_nb, -1, np.nan)"
   ]
  },
  {
   "cell_type": "code",
   "execution_count": 80,
   "metadata": {
    "ExecuteTime": {
     "end_time": "2021-09-23T15:06:41.743395Z",
     "start_time": "2021-09-23T15:06:41.735531Z"
    },
    "executionInfo": {
     "elapsed": 22494,
     "status": "ok",
     "timestamp": 1616014291102,
     "user": {
      "displayName": "Safiya Alpheus",
      "photoUrl": "",
      "userId": "18049693271511077124"
     },
     "user_tz": 240
    },
    "id": "WB5AiJLw4uVX",
    "tags": []
   },
   "outputs": [],
   "source": [
    "SIC_startcrop = copy.deepcopy(xy_topoc)\n",
    "SIC_startcrop = np.concatenate((nan_border, SIC_startcrop, nan_border), axis = 1)\n",
    "\n",
    "SIC_startcrop = np.delete(SIC_startcrop, 0, axis = 0)\n",
    "SIC_startcrop.shape\n",
    "\n",
    "SIC_endcrop = copy.deepcopy(xy_topoc)\n",
    "SIC_endcrop = np.concatenate((nan_border, SIC_endcrop, nan_border), axis = 1)\n",
    "\n",
    "SIC_endcrop = np.delete(SIC_endcrop, -1, axis=0)\n",
    "SIC_endcrop.shape\n",
    "\n",
    "delta = SIC_startcrop-SIC_endcrop\n",
    "\n",
    "delta[np.where(delta[:]==0)] = np.nan\n"
   ]
  },
  {
   "cell_type": "code",
   "execution_count": 81,
   "metadata": {
    "ExecuteTime": {
     "end_time": "2021-09-23T15:06:42.969146Z",
     "start_time": "2021-09-23T15:06:41.746152Z"
    },
    "executionInfo": {
     "elapsed": 21924,
     "status": "ok",
     "timestamp": 1616014292041,
     "user": {
      "displayName": "Safiya Alpheus",
      "photoUrl": "",
      "userId": "18049693271511077124"
     },
     "user_tz": 240
    },
    "id": "LMZPq_uE4uVX",
    "tags": []
   },
   "outputs": [],
   "source": [
    "\n",
    "#print(len(posnew_nb))\n",
    "#l_edges = np.empty([1,]) #left edge distance measure of the wheeler fill\n",
    "l_idx = np.empty([1,]) #index value of left edge\n",
    "#r_edges = np.empty([1,]) #right edge of the wheeler fill\n",
    "r_idx = np.empty([1,]) #index value of right edge\n",
    "surf_age = np.empty([1,]) #age of each deposit for the wheeler diagram\n",
    "for i in range (0, len(delta)):\n",
    "    #if ~np.isnan(deposurf[i, 0]):\n",
    "    #   rectangles[i, 0] = ages[i, 0] #if the left edge of the stratigraphy is a depositional surface\n",
    "\n",
    "    for xpos in range (0, len(posnew_nb)-1):\n",
    "        l_edge = np.all((np.isnan(delta[i, xpos]) and ~np.isnan(delta[i, xpos+1])))\n",
    "        r_edge = np.all((~np.isnan(delta[i, xpos]) and np.isnan(delta[i, xpos+1])))\n",
    "        #print(xpos, 'L', l_edge)\n",
    "        #print(xpos, 'R', r_edge)\n",
    "        if l_edge == True:\n",
    "            #l_edges = np.append(l_edges, [posnew_nb[xpos+1]], axis = 0)\n",
    "            l_idx = np.append(l_idx, [xpos], axis = 0)\n",
    "            #print(posnew_nb[xpos+1], 'potato')\n",
    "            surf_age = np.append(surf_age, [i], axis = 0)\n",
    "        if r_edge == True:\n",
    "            #print(xpos, 'tomato')\n",
    "            #r_edges = np.append(r_edges, [posnew_nb[xpos-1]], axis = 0)\n",
    "            r_idx = np.append(r_idx, [xpos], axis = 0)\n",
    "            \n",
    "#surf_age = np.append(surf_age, [i+1], axis = 0)\n",
    "#print('L', l_edges)\n",
    "#print('R',r_edges)\n",
    "#print(dep_age)"
   ]
  },
  {
   "cell_type": "markdown",
   "metadata": {
    "id": "NIsIGe2A4uVX",
    "tags": []
   },
   "source": [
    "Store all those vertices in an array that houses the time of each polygon and the left and right edges of the poly"
   ]
  },
  {
   "cell_type": "code",
   "execution_count": 82,
   "metadata": {
    "ExecuteTime": {
     "end_time": "2021-09-23T15:06:42.977242Z",
     "start_time": "2021-09-23T15:06:42.971106Z"
    },
    "colab": {
     "base_uri": "https://localhost:8080/"
    },
    "executionInfo": {
     "elapsed": 20298,
     "status": "ok",
     "timestamp": 1616014292043,
     "user": {
      "displayName": "Safiya Alpheus",
      "photoUrl": "",
      "userId": "18049693271511077124"
     },
     "user_tz": 240
    },
    "id": "nREpL9ZZ4uVX",
    "outputId": "6c1202a1-646b-4246-d2c3-d3c2fb7d06c2",
    "tags": []
   },
   "outputs": [
    {
     "name": "stdout",
     "output_type": "stream",
     "text": [
      "(40, 1) (40, 1) (40, 1)\n",
      "(40, 2)\n"
     ]
    }
   ],
   "source": [
    "l_idx = np.reshape(l_idx, [len(l_idx), 1])\n",
    "#l_index = np.delete(l_index, 1)\n",
    "\n",
    "l_idx = l_idx.astype(int)\n",
    "r_idx = np.reshape(r_idx, [len(r_idx), 1])\n",
    "#r_index = np.delete(r_index, 1)\n",
    "r_idx = r_idx.astype(int)\n",
    "\n",
    "#print(l_idx[:, 0], r_idx[:, 0])\n",
    "surf_age = np.reshape(surf_age, [len(surf_age), 1])\n",
    "\n",
    "print(l_idx.shape, r_idx.shape, surf_age.shape)\n",
    "\n",
    "vertices_b = surf_age\n",
    "vertices_b = np.append(vertices_b, l_idx, axis = 1)\n",
    "vertices_b = np.append(vertices_b, r_idx, axis = 1)\n",
    "\n",
    "#print(vertices)#, vertices.shape)\n",
    "\n",
    "\n",
    "cent_array = np.empty([len(vertices_b), 8])\n",
    "cent_array[:] = np.nan\n",
    "cent_mass = np.empty([len(vertices_b), 2]) ##store the centre of mass of the polygons\n",
    "print(cent_mass.shape)"
   ]
  },
  {
   "cell_type": "code",
   "execution_count": 83,
   "metadata": {
    "ExecuteTime": {
     "end_time": "2021-09-23T15:06:43.224206Z",
     "start_time": "2021-09-23T15:06:42.979319Z"
    },
    "executionInfo": {
     "elapsed": 19930,
     "status": "ok",
     "timestamp": 1616014292896,
     "user": {
      "displayName": "Safiya Alpheus",
      "photoUrl": "",
      "userId": "18049693271511077124"
     },
     "user_tz": 240
    },
    "id": "2uLNHbs64uVY",
    "tags": []
   },
   "outputs": [],
   "source": [
    "## Plot the filled stratigraphy, create a polygon for each, find the centroid, store the centroid and its age\n",
    "testfig, ax1 = plt.subplots(1, 1, tight_layout=True, squeeze=True, figsize = (10,6))\n",
    "poly_data = {}\n",
    "for i in range (1, len(vertices_b)):\n",
    "    time = int(vertices_b[i, 0])\n",
    "    left = int(vertices_b[i, 1])\n",
    "    right = int(vertices_b[i, 2])\n",
    "\n",
    "    poly = ax1.fill_between(posnew[left:right], xy_topoc[time, left:right], xy_topoc[time+1, left:right], color=cpick.to_rgba(i))\n",
    "    pverts = poly.get_paths()[0].vertices\n",
    "    \n",
    "    polygon = Polygon(pverts) #create a shapely polygon\n",
    "    #print(polygon)\n",
    "    poly_data[i] = polygon\n",
    "    area = polygon.area\n",
    "    bounds = polygon.bounds\n",
    "    #print(type(bounds[0]))\n",
    "    cent_array[i, 4] = bounds[0]\n",
    "    cent_array[i, 5] = bounds[1]\n",
    "    cent_array[i, 6] = bounds[2]\n",
    "    cent_array[i, 7] = bounds[3]\n",
    "    cent_array[i, 3] = area\n",
    "    ctroid = polygon.centroid\n",
    "    cent_array[i, 0] = time\n",
    "    cent_array[i, 1] = ctroid.x\n",
    "    cent_array[i, 2] = ctroid.y\n",
    "\n",
    "    \n",
    "    #ax1.plot(cent_array[i, 1], cent_array[i, 2], 'k*')\n",
    "#ax1.set_facecolor('xkcd:midnight blue')\n",
    "    \n",
    "\n",
    "ax1.set_xlim(posnew.min(), posnew.max())\n",
    "#ax1.set_ylim(xy_topoc.min(), xy_topoc.max())\n",
    "#print('12', poly_data[12])\n",
    "plt.close(testfig)\n",
    "#for i in range (0, num_timesteps-1):\n",
    "#   plt.plot(posnew, stratinterpcub[i, :], 'k')\n"
   ]
  },
  {
   "cell_type": "markdown",
   "metadata": {
    "id": "Zue7dBlL4uVZ"
   },
   "source": [
    "Centroids are being plotted in very tiny polygons so this is a bit of code to delete the centroids of the polygons with the 10th percentile smallest area\n"
   ]
  },
  {
   "cell_type": "code",
   "execution_count": 84,
   "metadata": {
    "ExecuteTime": {
     "end_time": "2021-09-23T15:06:43.429401Z",
     "start_time": "2021-09-23T15:06:43.385653Z"
    },
    "colab": {
     "base_uri": "https://localhost:8080/"
    },
    "executionInfo": {
     "elapsed": 15716,
     "status": "ok",
     "timestamp": 1616014298569,
     "user": {
      "displayName": "Safiya Alpheus",
      "photoUrl": "",
      "userId": "18049693271511077124"
     },
     "user_tz": 240
    },
    "id": "FKQhg2Wd4uVZ",
    "outputId": "7f74ebef-87e1-4637-9a99-36e5e0870cc9",
    "tags": []
   },
   "outputs": [
    {
     "name": "stdout",
     "output_type": "stream",
     "text": [
      "1\n"
     ]
    }
   ],
   "source": [
    "fig, (ax1, ax2) = plt.subplots(1, 2, figsize = (10, 4))\n",
    "#too_small_area = (cent_array[np.where(abs(cent_array[:, 3])<0.000001)])\n",
    "#print(cent_array[:, 3])\n",
    "ax1.hist(cent_array[:, 3])\n",
    "#ptile10 = np.nanpercentile(cent_array[:, 3], 20)\n",
    "ptile10 = 1 ## setting an actual threshold bc some of these are still too small\n",
    "print(ptile10)\n",
    "ax1.axvline(ptile10, c = 'r')\n",
    "\n",
    "cent_wnan = copy.deepcopy(cent_array)\n",
    "deletewhere = np.where(cent_array[:, 3] < ptile10)\n",
    "cent_wnan[deletewhere] = np.nan\n",
    "\n",
    "cent_nonan = cent_wnan[~np.isnan(cent_wnan).any(axis = 1)] #delete all rows in cent_wnan matrix with nan values\n",
    "ax2.hist(cent_nonan[:, 0])\n",
    "ax1.set_title('Distribution of polygon areas woth 10thp', fontsize = 12)\n",
    "ax2.set_title('distribution of ages of polys with area > 10thp', fontsize = 12)\n",
    "textstr1 = str(len(cent_array))\n",
    "textstr2 = len(cent_nonan)\n",
    "ax1.set_xlabel('polygon area')\n",
    "ax2.set_xlabel('deposit age (10s of min)')\n",
    "ax1.text(2, 200, 'n='+str(len(cent_array)))\n",
    "ax2.text(25, 40, 'n='+str(len(cent_nonan)))\n",
    "plt.close(fig)"
   ]
  },
  {
   "cell_type": "code",
   "execution_count": 85,
   "metadata": {
    "ExecuteTime": {
     "end_time": "2021-09-23T15:06:46.506116Z",
     "start_time": "2021-09-23T15:06:46.501523Z"
    },
    "tags": []
   },
   "outputs": [],
   "source": [
    "## using cos rule to calculate bearing angles instead\n",
    "## impose a limit on the y axis to create a y axis vector\n",
    "def dist_between(x1, y1, x2, y2):\n",
    "    d = np.sqrt((x1-x2)**2+(y1-y2)**2)\n",
    "    return d\n",
    "\n",
    "def angle_between(ax, ay, bx, by, ox = 0, oy = 0):\n",
    "    \n",
    "    '''find the angle between two vectors in centroid space, i.e. the trajectory'''\n",
    "\n",
    "    ##find the lengths of all the sides of the triangle\n",
    "    oa = dist_between(ox, oy, ax, ay)\n",
    "    ob = dist_between(ox, oy, bx, by)\n",
    "    ab = dist_between(ax, ay, bx, by)\n",
    "        \n",
    "    #use cosing rule to get the bearing\n",
    "    cos_theta = (oa**2+ob**2-ab**2)/(2*oa*ob)\n",
    "    bear = np.rad2deg(np.arccos(cos_theta))\n",
    "    #if bx < ax:\n",
    "    #    bear = 360-bear\n",
    "    return bear"
   ]
  },
  {
   "cell_type": "code",
   "execution_count": 86,
   "metadata": {
    "ExecuteTime": {
     "end_time": "2021-09-23T15:06:46.512225Z",
     "start_time": "2021-09-23T15:06:46.507809Z"
    },
    "tags": []
   },
   "outputs": [],
   "source": [
    "def tan_bearing(ax, ay, bx, by):\n",
    "    ''' find the bearing using tan instead of the cos rule'''\n",
    "    dx = bx-ax\n",
    "    dz = by-ay\n",
    "    \n",
    "    \n",
    "    ## account for the differences in sngle based on the quadrant\n",
    "    # Q1\n",
    "    if np.logical_and(bx>ax, by>ay): \n",
    "        theta = np.rad2deg(np.arctan(dx/dz))\n",
    "    # Q4\n",
    "    elif np.logical_and(bx>ax, by<ay): \n",
    "        alpha = np.rad2deg(np.arctan(dz/dx))\n",
    "        theta = 90 + abs(np.rad2deg(np.arctan(alpha))) ## because alpha will be negative\n",
    "    # Q2\n",
    "    elif np.logical_and(bx<ax, by>ay): \n",
    "        alpha = np.rad2deg(np.arctan(dz/dx))\n",
    "        theta = 270 + abs(alpha) ## because alpha will be negative \n",
    "    # Q3\n",
    "    else: \n",
    "        alpha = np.rad2deg(np.arctan(dz/dx))\n",
    "        theta = 270- abs(alpha)\n",
    "\n",
    "    if theta > 360:\n",
    "        print(f'ERROR: ({ax, ay}, {bx, by})')\n",
    "    return theta"
   ]
  },
  {
   "cell_type": "code",
   "execution_count": 87,
   "metadata": {
    "ExecuteTime": {
     "end_time": "2021-09-23T15:06:46.522108Z",
     "start_time": "2021-09-23T15:06:46.513997Z"
    },
    "scrolled": true,
    "tags": []
   },
   "outputs": [],
   "source": [
    "bearings_usingtan = np.empty(len(cent_nonan)-1)\n",
    "for i in range (0, len(cent_nonan)-1):\n",
    "    bearings_usingtan[i] = tan_bearing(cent_nonan[i, 1], cent_nonan[i, 2],\n",
    "                                       cent_nonan[i+1, 1],cent_nonan[i+1, 2])\n",
    "#calculate the difference in trajectory between centroids\n",
    "ang_between = np.empty(len(cent_nonan)-1)\n",
    "for i in range(0, len(cent_nonan)-2):\n",
    "    #print('a',cent_nonan[i, 1:3])\n",
    "    #print('b', cent_nonan[i+1, 1:3])\n",
    "    ax, ay, bx, by = cent_nonan[i:i+2, 1:3].ravel()\n",
    "    #print(ax, ay, bx, by)\n",
    "    ang_between[i] = angle_between(ax, ay, bx, by)  "
   ]
  },
  {
   "cell_type": "code",
   "execution_count": 88,
   "metadata": {
    "tags": []
   },
   "outputs": [
    {
     "data": {
      "image/png": "[encoded data removed]",
      "text/plain": [
       "<Figure size 1080x216 with 2 Axes>"
      ]
     },
     "metadata": {
      "needs_background": "light"
     },
     "output_type": "display_data"
    }
   ],
   "source": [
    "fig = plt.figure(tight_layout=True, figsize = (15, 3))\n",
    "ax1 = fig.add_subplot(121)\n",
    "ax1.plot(np.arange(0, len(bearings_usingtan)), bearings_usingtan, 'ro')\n",
    "ax1.plot(np.arange(0, len(ang_between)), ang_between, '.')\n",
    "ax2 = fig.add_subplot(122)\n",
    "for i in range(0, end_t):\n",
    "    ax2.plot(xy_topoc[i])\n",
    "for j in range (0, len(cent_nonan)):\n",
    "    ax2.plot(cent_nonan[j, 1], cent_nonan[j, 2], 'o')\n",
    "ax2.plot(cent_nonan[:, 1], cent_nonan[:, 2], lw=0.5, ls = '--')\n",
    "ax2.set_aspect(10)"
   ]
  },
  {
   "cell_type": "markdown",
   "metadata": {},
   "source": [
    "Note to future self, all of these calculations are actually right, the stratigraphy is just bonkers\n",
    "--Nov 29 2021"
   ]
  },
  {
   "cell_type": "code",
   "execution_count": 89,
   "metadata": {
    "ExecuteTime": {
     "end_time": "2021-09-23T15:06:49.815126Z",
     "start_time": "2021-09-23T15:06:47.231729Z"
    },
    "tags": []
   },
   "outputs": [],
   "source": [
    "fig, ax = plt.subplots(7, 5, figsize = (8,8))\n",
    "ax = ax.ravel()\n",
    "if len(cent_nonan) < 35: \n",
    "    for i in range (0, len(cent_nonan)-2):\n",
    "        ax[i].plot(cent_nonan[i, 1], cent_nonan[i, 2], 'r*', cent_nonan[i+1, 1], cent_nonan[i+1, 2], 'g*',)\n",
    "        ax[i].set_aspect('1')\n",
    "        ax[i].set_title(f'{np.round(bearings_usingtan[i], 2)}, ({np.round(cent_nonan[i, 1], 2)},{np.round(cent_nonan[i, 2], 2)}), ({np.round(cent_nonan[i+1, 1], 2)}, {np.round(cent_nonan[i+1, 2], 2)})')\n",
    "else:\n",
    "    randset = np.random.randint(0, len(cent_nonan)-1, 35)\n",
    "    for i, r in enumerate (randset):\n",
    "        ax[i].plot(cent_nonan[r, 1], cent_nonan[r, 2], 'r*', cent_nonan[r+1, 1], cent_nonan[r+1, 2], 'g*',)\n",
    "        ax[i].set_aspect('1')\n",
    "        ax[i].set_title(f'{np.round(bearings_usingtan[r], 2)}, ({np.round(cent_nonan[r, 1], 2)},{np.round(cent_nonan[r, 2], 2)}), ({np.round(cent_nonan[r+1, 1], 2)}, {np.round(cent_nonan[r+1, 2], 2)})')\n",
    "        \n",
    "plt.close(fig) "
   ]
  },
  {
   "cell_type": "code",
   "execution_count": 90,
   "metadata": {
    "ExecuteTime": {
     "end_time": "2021-09-23T15:06:49.823969Z",
     "start_time": "2021-09-23T15:06:49.816844Z"
    },
    "tags": []
   },
   "outputs": [],
   "source": [
    "## calculate angles for the rose diagram ##all of these bearings are right (SA, 1/12/21)\n",
    "nbins = np.deg2rad(np.arange(0, 370, 10)) #10° bins\n",
    "rad_bearings = np.deg2rad(bearings_usingtan) #these are fine, exactly the same as the degree version, duh\n",
    "bearing_radii, bearing_edges = np.histogram(rad_bearings, bins = nbins, density=False)\n",
    "bearing_centres = bearing_edges[:-1]+0.5*(bearing_edges[1]-bearing_edges[0])\n",
    "\n",
    "wedge_width = ((2*np.pi)/len(nbins))*np.ones(len(bearing_centres)) #10°, this is also fine. \n",
    "\n",
    "\n",
    "rad_ang_between = np.deg2rad(ang_between)\n",
    "ab_radii, ab_edges = np.histogram(rad_ang_between, bins = nbins, range= (0, 2*np.pi))\n",
    "ab_centres = ab_edges[:-1]+0.5*(ab_edges[1]-ab_edges[0])\n",
    "\n",
    "mean_bearing = np.average(bearings_usingtan)\n",
    "variance = abs(bearings_usingtan-mean_bearing)\n",
    "\n",
    "rad_variance = np.deg2rad(variance)\n",
    "var_radii, var_edges = np.histogram(rad_variance, bins = nbins, range= (0, 2*np.pi))\n",
    "var_centres = var_edges[:-1]+0.5*(var_edges[1]-var_edges[0])\n"
   ]
  },
  {
   "cell_type": "code",
   "execution_count": 91,
   "metadata": {
    "ExecuteTime": {
     "end_time": "2021-09-23T15:06:53.102983Z",
     "start_time": "2021-09-23T15:06:49.825977Z"
    },
    "tags": []
   },
   "outputs": [],
   "source": [
    "## Plot the diagram\n",
    "fig = plt.figure(figsize=(10, 3))\n",
    "fig.subplots_adjust(wspace=.50)\n",
    "\n",
    "ax1 = fig.add_subplot(141, projection='polar')\n",
    "ax2 = fig.add_subplot(142, projection='polar')\n",
    "ax3 = fig.add_subplot(143)\n",
    "\n",
    "\n",
    "ax1.set_theta_zero_location('N')\n",
    "ax2.set_theta_zero_location('N')\n",
    "ax1.set_theta_direction(-1)\n",
    "ax2.set_theta_direction(-1)\n",
    "for i in range(0, end_t):\n",
    "    ax3.plot(posnew, xy_topoc[i], color=cpick.to_rgba(i))\n",
    "for j in range(0, len(cent_nonan)):\n",
    "    ax3.plot(cent_nonan[j, 1], cent_nonan[j, 2], 'k*')\n",
    "\n",
    "\n",
    "ax1.bar(bearing_centres, bearing_radii, width = wedge_width, bottom=0)\n",
    "ax2.bar(var_centres, var_radii, width = wedge_width, bottom=0)\n",
    "\n",
    "fig.suptitle(f'{iloc}-{barID}');\n",
    "plt.close(fig)\n",
    "#plt.savefig(f'{savefilesto}bardims/rose/{nickname}-{iloc}-{barID}.png', dpi = 100)"
   ]
  },
  {
   "cell_type": "code",
   "execution_count": 92,
   "metadata": {
    "tags": []
   },
   "outputs": [],
   "source": [
    "##calculate the CV of the bearings and angle between calculations\n",
    "bearCV = stats.variation(bearings_usingtan)\n",
    "angbtwnCV = stats.variation(ang_between)"
   ]
  },
  {
   "cell_type": "code",
   "execution_count": 93,
   "metadata": {
    "tags": []
   },
   "outputs": [],
   "source": [
    "\n",
    "poly_widths = cent_nonan[:, 6]-cent_nonan[:, 4]\n",
    "poly_widths = np.reshape(poly_widths, [len(poly_widths), 1])\n",
    "\n",
    "poly_heights = cent_nonan[:, 7]-cent_nonan[:, 5]\n",
    "poly_heights = np.reshape(poly_heights, [len(poly_heights), 1])\n",
    "#print(poly_widths.shape)\n",
    "mod_ht =stats.mode(poly_heights)[0]\n",
    "med_ht = np.median(poly_heights)\n",
    "mean_ht = np.mean(poly_heights)\n",
    "cent_nonan = np.concatenate((cent_nonan, poly_widths, poly_heights), axis = 1)"
   ]
  },
  {
   "cell_type": "code",
   "execution_count": 94,
   "metadata": {
    "ExecuteTime": {
     "end_time": "2021-09-23T15:06:53.115296Z",
     "start_time": "2021-09-23T15:06:53.111282Z"
    },
    "colab": {
     "base_uri": "https://localhost:8080/"
    },
    "executionInfo": {
     "elapsed": 17619,
     "status": "ok",
     "timestamp": 1616014303071,
     "user": {
      "displayName": "Safiya Alpheus",
      "photoUrl": "",
      "userId": "18049693271511077124"
     },
     "user_tz": 240
    },
    "id": "DOElZXe84uVa",
    "outputId": "3fd7a4e1-0c0f-4fac-c4f9-0b442a265149",
    "scrolled": true,
    "tags": []
   },
   "outputs": [
    {
     "name": "stdout",
     "output_type": "stream",
     "text": [
      "355.0 1.9136998426179186\n"
     ]
    }
   ],
   "source": [
    "range_x = position.max()-position.min()\n",
    "range_y = np.nanmax(xy_topoc)-np.nanmin(xy_topoc)\n",
    "print(range_x, range_y)"
   ]
  },
  {
   "cell_type": "code",
   "execution_count": 95,
   "metadata": {
    "ExecuteTime": {
     "end_time": "2021-09-23T15:06:53.124124Z",
     "start_time": "2021-09-23T15:06:53.117126Z"
    },
    "executionInfo": {
     "elapsed": 16948,
     "status": "ok",
     "timestamp": 1616014303072,
     "user": {
      "displayName": "Safiya Alpheus",
      "photoUrl": "",
      "userId": "18049693271511077124"
     },
     "user_tz": 240
    },
    "id": "qNWfohLb4uVa",
    "tags": []
   },
   "outputs": [],
   "source": [
    "dists = np.zeros([len(cent_nonan[:, 3]), 1])\n",
    "reltime = np.zeros([len(cent_nonan[:, 3]), 1]) #will store the elapsed time between two consecutive centroids\n",
    "delx = np.zeros([len(cent_nonan[:, 3]), 1])\n",
    "dely = np.zeros([len(cent_nonan[:, 3]), 1])\n",
    "\n",
    "for i in range (0, len(cent_nonan)-1):\n",
    "    dists[i, 0] = ((cent_nonan[i+1, 1]-cent_nonan[i, 1])**2+(cent_nonan[i+1, 2]-cent_nonan[i, 2])**2)**0.5\n",
    "    reltime[i,0] = cent_nonan[i+1, 0]-cent_nonan[i, 0]\n",
    "    delx[i, 0] = abs(cent_nonan[i+1, 1]-cent_nonan[i, 1])/range_x\n",
    "    dely[i, 0] = abs(cent_nonan[i+1, 2]-cent_nonan[i, 2])/range_y\n",
    "cent_nonan = np.concatenate((cent_nonan, dists, reltime, delx, dely), axis = 1)\n"
   ]
  },
  {
   "cell_type": "code",
   "execution_count": 96,
   "metadata": {
    "ExecuteTime": {
     "end_time": "2021-09-23T15:06:53.128971Z",
     "start_time": "2021-09-23T15:06:53.126187Z"
    },
    "executionInfo": {
     "elapsed": 16318,
     "status": "ok",
     "timestamp": 1616014303073,
     "user": {
      "displayName": "Safiya Alpheus",
      "photoUrl": "",
      "userId": "18049693271511077124"
     },
     "user_tz": 240
    },
    "id": "V1ttV5zl4uVa",
    "tags": []
   },
   "outputs": [],
   "source": [
    "delx = np.delete(delx, -1, axis=0)\n",
    "dely = np.delete(dely, -1, axis=0)"
   ]
  },
  {
   "cell_type": "code",
   "execution_count": 97,
   "metadata": {
    "ExecuteTime": {
     "end_time": "2021-09-23T15:06:53.156141Z",
     "start_time": "2021-09-23T15:06:53.136274Z"
    },
    "tags": []
   },
   "outputs": [
    {
     "ename": "NameError",
     "evalue": "name 'bankfull' is not defined",
     "output_type": "error",
     "traceback": [
      "\u001b[0;31m---------------------------------------------------------------------------\u001b[0m",
      "\u001b[0;31mNameError\u001b[0m                                 Traceback (most recent call last)",
      "\u001b[0;32m/var/folders/yg/89nlrh5x2xzgdlgr2bczm4_m0000gn/T/ipykernel_29843/1617932369.py\u001b[0m in \u001b[0;36m<module>\u001b[0;34m\u001b[0m\n\u001b[1;32m     16\u001b[0m \u001b[0mbar_width\u001b[0m \u001b[0;34m=\u001b[0m \u001b[0mright\u001b[0m\u001b[0;34m-\u001b[0m\u001b[0mleft\u001b[0m\u001b[0;34m\u001b[0m\u001b[0;34m\u001b[0m\u001b[0m\n\u001b[1;32m     17\u001b[0m \u001b[0;34m\u001b[0m\u001b[0m\n\u001b[0;32m---> 18\u001b[0;31m \u001b[0mfd_bar_height\u001b[0m \u001b[0;34m=\u001b[0m \u001b[0mbar_height\u001b[0m\u001b[0;34m/\u001b[0m\u001b[0mbankfull\u001b[0m\u001b[0;34m\u001b[0m\u001b[0;34m\u001b[0m\u001b[0m\n\u001b[0m\u001b[1;32m     19\u001b[0m \u001b[0mfd_bar_width\u001b[0m \u001b[0;34m=\u001b[0m \u001b[0mbar_width\u001b[0m\u001b[0;34m/\u001b[0m\u001b[0mbankfull\u001b[0m\u001b[0;34m\u001b[0m\u001b[0;34m\u001b[0m\u001b[0m\n\u001b[1;32m     20\u001b[0m \u001b[0mbar_w_to_h\u001b[0m \u001b[0;34m=\u001b[0m \u001b[0mbar_width\u001b[0m\u001b[0;34m/\u001b[0m\u001b[0mbar_height\u001b[0m\u001b[0;34m\u001b[0m\u001b[0;34m\u001b[0m\u001b[0m\n",
      "\u001b[0;31mNameError\u001b[0m: name 'bankfull' is not defined"
     ]
    }
   ],
   "source": [
    "fig=plt.figure()\n",
    "fullbar = plt.fill_between(posnew, xy_topoc[0], xy_topoc[-1])\n",
    "plt.close(fig)\n",
    "barverts = fullbar.get_paths()[0].vertices\n",
    "    \n",
    "bar_polygon = Polygon(barverts) \n",
    "\n",
    "bds = bar_polygon.bounds\n",
    "bar_area = bar_polygon.area\n",
    "left = bds[0]\n",
    "bottom = bds[1]\n",
    "right = bds[2]\n",
    "top = bds[3]\n",
    "#bar_height = abs(bottom-top)\n",
    "bar_height = abs(np.nanmin(xy_topoc[-1])-np.nanmax(xy_topoc[-1]))\n",
    "bar_width = right-left\n",
    "\n",
    "fd_bar_height = bar_height/bankfull\n",
    "fd_bar_width = bar_width/bankfull\n",
    "bar_w_to_h = bar_width/bar_height\n"
   ]
  },
  {
   "cell_type": "code",
   "execution_count": 54,
   "metadata": {
    "ExecuteTime": {
     "end_time": "2021-09-23T15:06:53.287847Z",
     "start_time": "2021-09-23T15:06:53.158465Z"
    },
    "tags": []
   },
   "outputs": [],
   "source": [
    "dist_btwn = np.empty(len(cent_nonan)-1)\n",
    "for i in range(0, len(cent_nonan)-2):\n",
    "    ax, ay, bx, by = cent_nonan[i:i+2, 1:3].ravel()\n",
    "    \n",
    "    dist_btwn[i] = dist_between(ax, ay, bx, by)\n",
    "dist_btwn = dist_btwn/bar_width\n",
    "xdist = np.empty(len(cent_nonan)-1)\n",
    "for i in range(0, len(cent_nonan)-2):\n",
    "    ax, bx = cent_nonan[i:i+2, 1].ravel()\n",
    "    \n",
    "    xdist[i] = abs(ax-bx)\n",
    "xdist = xdist/bar_width\n",
    "plt.hist(dist_btwn, **kwargs, range=(0, 1));\n",
    "plt.hist(xdist, bins=20, range=(0, 1), histtype = 'step');\n",
    "plt.close()"
   ]
  },
  {
   "cell_type": "markdown",
   "metadata": {},
   "source": [
    "## Do some statistics on the bar"
   ]
  },
  {
   "cell_type": "code",
   "execution_count": 85,
   "metadata": {
    "ExecuteTime": {
     "end_time": "2021-09-23T15:06:46.506116Z",
     "start_time": "2021-09-23T15:06:46.501523Z"
    },
    "tags": []
   },
   "outputs": [],
   "source": [
    "## using cos rule to calculate bearing angles instead\n",
    "## impose a limit on the y axis to create a y axis vector\n",
    "def dist_between(x1, y1, x2, y2):\n",
    "    d = np.sqrt((x1-x2)**2+(y1-y2)**2)\n",
    "    return d\n",
    "\n",
    "def angle_between(ax, ay, bx, by, ox = 0, oy = 0):\n",
    "    \n",
    "    '''find the angle between two vectors in centroid space, i.e. the trajectory'''\n",
    "\n",
    "    ##find the lengths of all the sides of the triangle\n",
    "    oa = dist_between(ox, oy, ax, ay)\n",
    "    ob = dist_between(ox, oy, bx, by)\n",
    "    ab = dist_between(ax, ay, bx, by)\n",
    "        \n",
    "    #use cosing rule to get the bearing\n",
    "    cos_theta = (oa**2+ob**2-ab**2)/(2*oa*ob)\n",
    "    bear = np.rad2deg(np.arccos(cos_theta))\n",
    "    #if bx < ax:\n",
    "    #    bear = 360-bear\n",
    "    return bear"
   ]
  },
  {
   "cell_type": "code",
   "execution_count": 86,
   "metadata": {
    "ExecuteTime": {
     "end_time": "2021-09-23T15:06:46.512225Z",
     "start_time": "2021-09-23T15:06:46.507809Z"
    },
    "tags": []
   },
   "outputs": [],
   "source": [
    "def tan_bearing(ax, ay, bx, by):\n",
    "    ''' find the bearing using tan instead of the cos rule'''\n",
    "    dx = bx-ax\n",
    "    dz = by-ay\n",
    "    \n",
    "    \n",
    "    ## account for the differences in sngle based on the quadrant\n",
    "    # Q1\n",
    "    if np.logical_and(bx>ax, by>ay): \n",
    "        theta = np.rad2deg(np.arctan(dx/dz))\n",
    "    # Q4\n",
    "    elif np.logical_and(bx>ax, by<ay): \n",
    "        alpha = np.rad2deg(np.arctan(dz/dx))\n",
    "        theta = 90 + abs(np.rad2deg(np.arctan(alpha))) ## because alpha will be negative\n",
    "    # Q2\n",
    "    elif np.logical_and(bx<ax, by>ay): \n",
    "        alpha = np.rad2deg(np.arctan(dz/dx))\n",
    "        theta = 270 + abs(alpha) ## because alpha will be negative \n",
    "    # Q3\n",
    "    else: \n",
    "        alpha = np.rad2deg(np.arctan(dz/dx))\n",
    "        theta = 270- abs(alpha)\n",
    "\n",
    "    if theta > 360:\n",
    "        print(f'ERROR: ({ax, ay}, {bx, by})')\n",
    "    return theta"
   ]
  },
  {
   "cell_type": "code",
   "execution_count": 87,
   "metadata": {
    "ExecuteTime": {
     "end_time": "2021-09-23T15:06:46.522108Z",
     "start_time": "2021-09-23T15:06:46.513997Z"
    },
    "scrolled": true,
    "tags": []
   },
   "outputs": [],
   "source": [
    "bearings_usingtan = np.empty(len(cent_nonan)-1)\n",
    "for i in range (0, len(cent_nonan)-1):\n",
    "    bearings_usingtan[i] = tan_bearing(cent_nonan[i, 1], cent_nonan[i, 2],\n",
    "                                       cent_nonan[i+1, 1],cent_nonan[i+1, 2])\n",
    "#calculate the difference in trajectory between centroids\n",
    "ang_between = np.empty(len(cent_nonan)-1)\n",
    "for i in range(0, len(cent_nonan)-2):\n",
    "    #print('a',cent_nonan[i, 1:3])\n",
    "    #print('b', cent_nonan[i+1, 1:3])\n",
    "    ax, ay, bx, by = cent_nonan[i:i+2, 1:3].ravel()\n",
    "    #print(ax, ay, bx, by)\n",
    "    ang_between[i] = angle_between(ax, ay, bx, by)  "
   ]
  },
  {
   "cell_type": "code",
   "execution_count": 88,
   "metadata": {
    "tags": []
   },
   "outputs": [
    {
     "data": {
      "image/png": "[encoded data removed]",
      "text/plain": [
       "<Figure size 1080x216 with 2 Axes>"
      ]
     },
     "metadata": {
      "needs_background": "light"
     },
     "output_type": "display_data"
    }
   ],
   "source": [
    "fig = plt.figure(tight_layout=True, figsize = (15, 3))\n",
    "ax1 = fig.add_subplot(121)\n",
    "ax1.plot(np.arange(0, len(bearings_usingtan)), bearings_usingtan, 'ro')\n",
    "ax1.plot(np.arange(0, len(ang_between)), ang_between, '.')\n",
    "ax2 = fig.add_subplot(122)\n",
    "for i in range(0, end_t):\n",
    "    ax2.plot(xy_topoc[i])\n",
    "for j in range (0, len(cent_nonan)):\n",
    "    ax2.plot(cent_nonan[j, 1], cent_nonan[j, 2], 'o')\n",
    "ax2.plot(cent_nonan[:, 1], cent_nonan[:, 2], lw=0.5, ls = '--')\n",
    "ax2.set_aspect(10)"
   ]
  },
  {
   "cell_type": "markdown",
   "metadata": {},
   "source": [
    "Note to future self, all of these calculations are actually right, the stratigraphy is just bonkers\n",
    "--Nov 29 2021"
   ]
  },
  {
   "cell_type": "code",
   "execution_count": 89,
   "metadata": {
    "ExecuteTime": {
     "end_time": "2021-09-23T15:06:49.815126Z",
     "start_time": "2021-09-23T15:06:47.231729Z"
    },
    "tags": []
   },
   "outputs": [],
   "source": [
    "fig, ax = plt.subplots(7, 5, figsize = (8,8))\n",
    "ax = ax.ravel()\n",
    "if len(cent_nonan) < 35: \n",
    "    for i in range (0, len(cent_nonan)-2):\n",
    "        ax[i].plot(cent_nonan[i, 1], cent_nonan[i, 2], 'r*', cent_nonan[i+1, 1], cent_nonan[i+1, 2], 'g*',)\n",
    "        ax[i].set_aspect('1')\n",
    "        ax[i].set_title(f'{np.round(bearings_usingtan[i], 2)}, ({np.round(cent_nonan[i, 1], 2)},{np.round(cent_nonan[i, 2], 2)}), ({np.round(cent_nonan[i+1, 1], 2)}, {np.round(cent_nonan[i+1, 2], 2)})')\n",
    "else:\n",
    "    randset = np.random.randint(0, len(cent_nonan)-1, 35)\n",
    "    for i, r in enumerate (randset):\n",
    "        ax[i].plot(cent_nonan[r, 1], cent_nonan[r, 2], 'r*', cent_nonan[r+1, 1], cent_nonan[r+1, 2], 'g*',)\n",
    "        ax[i].set_aspect('1')\n",
    "        ax[i].set_title(f'{np.round(bearings_usingtan[r], 2)}, ({np.round(cent_nonan[r, 1], 2)},{np.round(cent_nonan[r, 2], 2)}), ({np.round(cent_nonan[r+1, 1], 2)}, {np.round(cent_nonan[r+1, 2], 2)})')\n",
    "        \n",
    "plt.close(fig) "
   ]
  },
  {
   "cell_type": "code",
   "execution_count": 90,
   "metadata": {
    "ExecuteTime": {
     "end_time": "2021-09-23T15:06:49.823969Z",
     "start_time": "2021-09-23T15:06:49.816844Z"
    },
    "tags": []
   },
   "outputs": [],
   "source": [
    "## calculate angles for the rose diagram ##all of these bearings are right (SA, 1/12/21)\n",
    "nbins = np.deg2rad(np.arange(0, 370, 10)) #10° bins\n",
    "rad_bearings = np.deg2rad(bearings_usingtan) #these are fine, exactly the same as the degree version, duh\n",
    "bearing_radii, bearing_edges = np.histogram(rad_bearings, bins = nbins, density=False)\n",
    "bearing_centres = bearing_edges[:-1]+0.5*(bearing_edges[1]-bearing_edges[0])\n",
    "\n",
    "wedge_width = ((2*np.pi)/len(nbins))*np.ones(len(bearing_centres)) #10°, this is also fine. \n",
    "\n",
    "\n",
    "rad_ang_between = np.deg2rad(ang_between)\n",
    "ab_radii, ab_edges = np.histogram(rad_ang_between, bins = nbins, range= (0, 2*np.pi))\n",
    "ab_centres = ab_edges[:-1]+0.5*(ab_edges[1]-ab_edges[0])\n",
    "\n",
    "mean_bearing = np.average(bearings_usingtan)\n",
    "variance = abs(bearings_usingtan-mean_bearing)\n",
    "\n",
    "rad_variance = np.deg2rad(variance)\n",
    "var_radii, var_edges = np.histogram(rad_variance, bins = nbins, range= (0, 2*np.pi))\n",
    "var_centres = var_edges[:-1]+0.5*(var_edges[1]-var_edges[0])\n"
   ]
  },
  {
   "cell_type": "code",
   "execution_count": 91,
   "metadata": {
    "ExecuteTime": {
     "end_time": "2021-09-23T15:06:53.102983Z",
     "start_time": "2021-09-23T15:06:49.825977Z"
    },
    "tags": []
   },
   "outputs": [],
   "source": [
    "## Plot the diagram\n",
    "fig = plt.figure(figsize=(10, 3))\n",
    "fig.subplots_adjust(wspace=.50)\n",
    "\n",
    "ax1 = fig.add_subplot(141, projection='polar')\n",
    "ax2 = fig.add_subplot(142, projection='polar')\n",
    "ax3 = fig.add_subplot(143)\n",
    "\n",
    "\n",
    "ax1.set_theta_zero_location('N')\n",
    "ax2.set_theta_zero_location('N')\n",
    "ax1.set_theta_direction(-1)\n",
    "ax2.set_theta_direction(-1)\n",
    "for i in range(0, end_t):\n",
    "    ax3.plot(posnew, xy_topoc[i], color=cpick.to_rgba(i))\n",
    "for j in range(0, len(cent_nonan)):\n",
    "    ax3.plot(cent_nonan[j, 1], cent_nonan[j, 2], 'k*')\n",
    "\n",
    "\n",
    "ax1.bar(bearing_centres, bearing_radii, width = wedge_width, bottom=0)\n",
    "ax2.bar(var_centres, var_radii, width = wedge_width, bottom=0)\n",
    "\n",
    "fig.suptitle(f'{iloc}-{barID}');\n",
    "plt.close(fig)\n",
    "#plt.savefig(f'{savefilesto}bardims/rose/{nickname}-{iloc}-{barID}.png', dpi = 100)"
   ]
  },
  {
   "cell_type": "code",
   "execution_count": 92,
   "metadata": {
    "tags": []
   },
   "outputs": [],
   "source": [
    "##calculate the CV of the bearings and angle between calculations\n",
    "bearCV = stats.variation(bearings_usingtan)\n",
    "angbtwnCV = stats.variation(ang_between)"
   ]
  },
  {
   "cell_type": "code",
   "execution_count": 93,
   "metadata": {
    "tags": []
   },
   "outputs": [],
   "source": [
    "\n",
    "poly_widths = cent_nonan[:, 6]-cent_nonan[:, 4]\n",
    "poly_widths = np.reshape(poly_widths, [len(poly_widths), 1])\n",
    "\n",
    "poly_heights = cent_nonan[:, 7]-cent_nonan[:, 5]\n",
    "poly_heights = np.reshape(poly_heights, [len(poly_heights), 1])\n",
    "#print(poly_widths.shape)\n",
    "mod_ht =stats.mode(poly_heights)[0]\n",
    "med_ht = np.median(poly_heights)\n",
    "mean_ht = np.mean(poly_heights)\n",
    "cent_nonan = np.concatenate((cent_nonan, poly_widths, poly_heights), axis = 1)"
   ]
  },
  {
   "cell_type": "code",
   "execution_count": 94,
   "metadata": {
    "ExecuteTime": {
     "end_time": "2021-09-23T15:06:53.115296Z",
     "start_time": "2021-09-23T15:06:53.111282Z"
    },
    "colab": {
     "base_uri": "https://localhost:8080/"
    },
    "executionInfo": {
     "elapsed": 17619,
     "status": "ok",
     "timestamp": 1616014303071,
     "user": {
      "displayName": "Safiya Alpheus",
      "photoUrl": "",
      "userId": "18049693271511077124"
     },
     "user_tz": 240
    },
    "id": "DOElZXe84uVa",
    "outputId": "3fd7a4e1-0c0f-4fac-c4f9-0b442a265149",
    "scrolled": true,
    "tags": []
   },
   "outputs": [
    {
     "name": "stdout",
     "output_type": "stream",
     "text": [
      "355.0 1.9136998426179186\n"
     ]
    }
   ],
   "source": [
    "range_x = position.max()-position.min()\n",
    "range_y = np.nanmax(xy_topoc)-np.nanmin(xy_topoc)\n",
    "print(range_x, range_y)"
   ]
  },
  {
   "cell_type": "code",
   "execution_count": 95,
   "metadata": {
    "ExecuteTime": {
     "end_time": "2021-09-23T15:06:53.124124Z",
     "start_time": "2021-09-23T15:06:53.117126Z"
    },
    "executionInfo": {
     "elapsed": 16948,
     "status": "ok",
     "timestamp": 1616014303072,
     "user": {
      "displayName": "Safiya Alpheus",
      "photoUrl": "",
      "userId": "18049693271511077124"
     },
     "user_tz": 240
    },
    "id": "qNWfohLb4uVa",
    "tags": []
   },
   "outputs": [],
   "source": [
    "dists = np.zeros([len(cent_nonan[:, 3]), 1])\n",
    "reltime = np.zeros([len(cent_nonan[:, 3]), 1]) #will store the elapsed time between two consecutive centroids\n",
    "delx = np.zeros([len(cent_nonan[:, 3]), 1])\n",
    "dely = np.zeros([len(cent_nonan[:, 3]), 1])\n",
    "\n",
    "for i in range (0, len(cent_nonan)-1):\n",
    "    dists[i, 0] = ((cent_nonan[i+1, 1]-cent_nonan[i, 1])**2+(cent_nonan[i+1, 2]-cent_nonan[i, 2])**2)**0.5\n",
    "    reltime[i,0] = cent_nonan[i+1, 0]-cent_nonan[i, 0]\n",
    "    delx[i, 0] = abs(cent_nonan[i+1, 1]-cent_nonan[i, 1])/range_x\n",
    "    dely[i, 0] = abs(cent_nonan[i+1, 2]-cent_nonan[i, 2])/range_y\n",
    "cent_nonan = np.concatenate((cent_nonan, dists, reltime, delx, dely), axis = 1)\n"
   ]
  },
  {
   "cell_type": "code",
   "execution_count": 96,
   "metadata": {
    "ExecuteTime": {
     "end_time": "2021-09-23T15:06:53.128971Z",
     "start_time": "2021-09-23T15:06:53.126187Z"
    },
    "executionInfo": {
     "elapsed": 16318,
     "status": "ok",
     "timestamp": 1616014303073,
     "user": {
      "displayName": "Safiya Alpheus",
      "photoUrl": "",
      "userId": "18049693271511077124"
     },
     "user_tz": 240
    },
    "id": "V1ttV5zl4uVa",
    "tags": []
   },
   "outputs": [],
   "source": [
    "delx = np.delete(delx, -1, axis=0)\n",
    "dely = np.delete(dely, -1, axis=0)"
   ]
  },
  {
   "cell_type": "code",
   "execution_count": 97,
   "metadata": {
    "ExecuteTime": {
     "end_time": "2021-09-23T15:06:53.156141Z",
     "start_time": "2021-09-23T15:06:53.136274Z"
    },
    "tags": []
   },
   "outputs": [
    {
     "ename": "NameError",
     "evalue": "name 'bankfull' is not defined",
     "output_type": "error",
     "traceback": [
      "\u001b[0;31m---------------------------------------------------------------------------\u001b[0m",
      "\u001b[0;31mNameError\u001b[0m                                 Traceback (most recent call last)",
      "\u001b[0;32m/var/folders/yg/89nlrh5x2xzgdlgr2bczm4_m0000gn/T/ipykernel_29843/1617932369.py\u001b[0m in \u001b[0;36m<module>\u001b[0;34m\u001b[0m\n\u001b[1;32m     16\u001b[0m \u001b[0mbar_width\u001b[0m \u001b[0;34m=\u001b[0m \u001b[0mright\u001b[0m\u001b[0;34m-\u001b[0m\u001b[0mleft\u001b[0m\u001b[0;34m\u001b[0m\u001b[0;34m\u001b[0m\u001b[0m\n\u001b[1;32m     17\u001b[0m \u001b[0;34m\u001b[0m\u001b[0m\n\u001b[0;32m---> 18\u001b[0;31m \u001b[0mfd_bar_height\u001b[0m \u001b[0;34m=\u001b[0m \u001b[0mbar_height\u001b[0m\u001b[0;34m/\u001b[0m\u001b[0mbankfull\u001b[0m\u001b[0;34m\u001b[0m\u001b[0;34m\u001b[0m\u001b[0m\n\u001b[0m\u001b[1;32m     19\u001b[0m \u001b[0mfd_bar_width\u001b[0m \u001b[0;34m=\u001b[0m \u001b[0mbar_width\u001b[0m\u001b[0;34m/\u001b[0m\u001b[0mbankfull\u001b[0m\u001b[0;34m\u001b[0m\u001b[0;34m\u001b[0m\u001b[0m\n\u001b[1;32m     20\u001b[0m \u001b[0mbar_w_to_h\u001b[0m \u001b[0;34m=\u001b[0m \u001b[0mbar_width\u001b[0m\u001b[0;34m/\u001b[0m\u001b[0mbar_height\u001b[0m\u001b[0;34m\u001b[0m\u001b[0;34m\u001b[0m\u001b[0m\n",
      "\u001b[0;31mNameError\u001b[0m: name 'bankfull' is not defined"
     ]
    }
   ],
   "source": [
    "fig=plt.figure()\n",
    "fullbar = plt.fill_between(posnew, xy_topoc[0], xy_topoc[-1])\n",
    "plt.close(fig)\n",
    "barverts = fullbar.get_paths()[0].vertices\n",
    "    \n",
    "bar_polygon = Polygon(barverts) \n",
    "\n",
    "bds = bar_polygon.bounds\n",
    "bar_area = bar_polygon.area\n",
    "left = bds[0]\n",
    "bottom = bds[1]\n",
    "right = bds[2]\n",
    "top = bds[3]\n",
    "#bar_height = abs(bottom-top)\n",
    "bar_height = abs(np.nanmin(xy_topoc[-1])-np.nanmax(xy_topoc[-1]))\n",
    "bar_width = right-left\n",
    "\n",
    "fd_bar_height = bar_height/bankfull\n",
    "fd_bar_width = bar_width/bankfull\n",
    "bar_w_to_h = bar_width/bar_height\n"
   ]
  },
  {
   "cell_type": "code",
   "execution_count": 54,
   "metadata": {
    "ExecuteTime": {
     "end_time": "2021-09-23T15:06:53.287847Z",
     "start_time": "2021-09-23T15:06:53.158465Z"
    },
    "tags": []
   },
   "outputs": [],
   "source": [
    "dist_btwn = np.empty(len(cent_nonan)-1)\n",
    "for i in range(0, len(cent_nonan)-2):\n",
    "    ax, ay, bx, by = cent_nonan[i:i+2, 1:3].ravel()\n",
    "    \n",
    "    dist_btwn[i] = dist_between(ax, ay, bx, by)\n",
    "dist_btwn = dist_btwn/bar_width\n",
    "xdist = np.empty(len(cent_nonan)-1)\n",
    "for i in range(0, len(cent_nonan)-2):\n",
    "    ax, bx = cent_nonan[i:i+2, 1].ravel()\n",
    "    \n",
    "    xdist[i] = abs(ax-bx)\n",
    "xdist = xdist/bar_width\n",
    "plt.hist(dist_btwn, **kwargs, range=(0, 1));\n",
    "plt.hist(xdist, bins=20, range=(0, 1), histtype = 'step');\n",
    "plt.close()"
   ]
  },
  {
   "cell_type": "markdown",
   "metadata": {},
   "source": [
    "## Do some statistics on the bar"
   ]
  },
  {
   "cell_type": "code",
   "execution_count": 55,
   "metadata": {
    "ExecuteTime": {
     "end_time": "2021-09-23T15:06:54.124508Z",
     "start_time": "2021-09-23T15:06:53.289619Z"
    },
    "tags": []
   },
   "outputs": [
    {
     "name": "stdout",
     "output_type": "stream",
     "text": [
      "309\n",
      "Bar height rel to flow depth: 2.458811505712616\n",
      "Bar width rel to flow depth:  132.03962353311877\n",
      "Bar w/h:  53.70058795737205\n",
      "1.7797687823690005\n",
      "Bar makes up 72.27501399266424% of the xs\n",
      "Bar around for 309.0 hours, which is 99.67741935483872% of the total channel depo time\n",
      "Mode package height relative to bar height: 0.2187175679142916\n"
     ]
    }
   ],
   "source": [
    "packages_rel_to_bar_height = cent_nonan[:, 9]/bar_height\n",
    "prop_of_xs_is_bar = bar_area/xs_polygon.area \n",
    "bar_time = (en_time-st_time)*interval_to_plot #how long wad the bar around\n",
    "bar_time_rel_to_xs_time = bar_time/(datamaster.shape[2]*interval_to_plot) #how old is bar rel to channel\n",
    "#age_dist_in_bar = ages_ero#/bar_time #how many ages represented in bar, scaled to the length of the bar deposition time\n",
    "age_dist = en_time-st_time\n",
    "print(age_dist)\n",
    "\n",
    "print('Bar height rel to flow depth:', fd_bar_height)\n",
    "print('Bar width rel to flow depth: ', fd_bar_width)\n",
    "print('Bar w/h: ', bar_w_to_h)\n",
    "print(bankfull)\n",
    "print(f'Bar makes up {prop_of_xs_is_bar*100}% of the xs\\nBar around for {bar_time} hours, which is {bar_time_rel_to_xs_time*100}% of the total channel depo time\\nMode package height relative to bar height: {np.quantile(packages_rel_to_bar_height, 0.5)}', end='\\n')\n",
    "\n",
    "fig, ax = plt.subplots(1, 2, figsize = (10, 4), tight_layout = True)\n",
    "ax[0].hist(packages_rel_to_bar_height.ravel(), bins = 10, range=(0, 1),facecolor = 'k', edgecolor = 'k', alpha = .5);\n",
    "#ax[1].hist(age_dist_in_bar.ravel(), bins = 20, facecolor = 'k', edgecolor = 'k', alpha = .5);\n",
    "#plt.savefig(f'{savefilesto}bardims/histos/{nickname}-{iloc}-{barID}.png', dpi = 100)\n",
    "note = 'no more notes everything else is shit'#input('any notes? ')\n",
    "plt.close()"
   ]
  },
  {
   "cell_type": "code",
   "execution_count": 55,
   "metadata": {
    "ExecuteTime": {
     "end_time": "2021-09-23T15:06:54.124508Z",
     "start_time": "2021-09-23T15:06:53.289619Z"
    },
    "tags": []
   },
   "outputs": [
    {
     "name": "stdout",
     "output_type": "stream",
     "text": [
      "309\n",
      "Bar height rel to flow depth: 2.458811505712616\n",
      "Bar width rel to flow depth:  132.03962353311877\n",
      "Bar w/h:  53.70058795737205\n",
      "1.7797687823690005\n",
      "Bar makes up 72.27501399266424% of the xs\n",
      "Bar around for 309.0 hours, which is 99.67741935483872% of the total channel depo time\n",
      "Mode package height relative to bar height: 0.2187175679142916\n"
     ]
    }
   ],
   "source": [
    "packages_rel_to_bar_height = cent_nonan[:, 9]/bar_height\n",
    "prop_of_xs_is_bar = bar_area/xs_polygon.area \n",
    "bar_time = (en_time-st_time)*interval_to_plot #how long wad the bar around\n",
    "bar_time_rel_to_xs_time = bar_time/(datamaster.shape[2]*interval_to_plot) #how old is bar rel to channel\n",
    "#age_dist_in_bar = ages_ero#/bar_time #how many ages represented in bar, scaled to the length of the bar deposition time\n",
    "age_dist = en_time-st_time\n",
    "print(age_dist)\n",
    "\n",
    "print('Bar height rel to flow depth:', fd_bar_height)\n",
    "print('Bar width rel to flow depth: ', fd_bar_width)\n",
    "print('Bar w/h: ', bar_w_to_h)\n",
    "print(bankfull)\n",
    "print(f'Bar makes up {prop_of_xs_is_bar*100}% of the xs\\nBar around for {bar_time} hours, which is {bar_time_rel_to_xs_time*100}% of the total channel depo time\\nMode package height relative to bar height: {np.quantile(packages_rel_to_bar_height, 0.5)}', end='\\n')\n",
    "\n",
    "fig, ax = plt.subplots(1, 2, figsize = (10, 4), tight_layout = True)\n",
    "ax[0].hist(packages_rel_to_bar_height.ravel(), bins = 10, range=(0, 1),facecolor = 'k', edgecolor = 'k', alpha = .5);\n",
    "#ax[1].hist(age_dist_in_bar.ravel(), bins = 20, facecolor = 'k', edgecolor = 'k', alpha = .5);\n",
    "#plt.savefig(f'{savefilesto}bardims/histos/{nickname}-{iloc}-{barID}.png', dpi = 100)\n",
    "note = 'no more notes everything else is shit'#input('any notes? ')\n",
    "plt.close()"
   ]
  },
  {
   "cell_type": "code",
   "execution_count": 56,
   "metadata": {
    "tags": []
   },
   "outputs": [],
   "source": [
    "headers = 'barnm', 'iloc', 'pkg_type', 'st_time', 'en_time', 'time_int_hrs', 'barleft', 'barright', 'depth_max', 'depthCV', 'xsarea', 'pkg_area', 'modal_height', 'median_height', 'mean_height', 'bearingCV', 'angbetweenCV', 'W-H_bar','notes'\n",
    "variables = barID, iloc, pkg_type, st_time, en_time, bar_time, barleft, barright, maxdep, depCV, xs_area, bar_area, mod_ht, med_ht, mean_ht, bearCV, angbtwnCV, bar_w_to_h, note"
   ]
  },
  {
   "cell_type": "code",
   "execution_count": 57,
   "metadata": {
    "tags": []
   },
   "outputs": [],
   "source": [
    "exportpath = '/Volumes/SAF_Data/NAYS2DH_files/Data/barCSVs/'"
   ]
  },
  {
   "cell_type": "code",
   "execution_count": 58,
   "metadata": {
    "tags": []
   },
   "outputs": [],
   "source": [
    "bardata = pd.DataFrame([[barID, iloc, pkg_type, st_time, en_time, bar_time, barleft, barright, maxdep, depCV, xs_area, bar_area, mod_ht, med_ht, mean_ht, bearCV, angbtwnCV, bar_w_to_h, note]],\n",
    "                       columns=['barnm', 'iloc', 'pkg_type', 'st_time', 'en_time', 'time_int_hrs', 'barleft', 'barright', 'depth_max', 'depthCV', 'xsarea', 'pkg_area', 'modal_height', 'median_height', 'mean_height', 'bearingCV', 'angbetweenCV', 'W-H_bar','notes'])"
   ]
  },
  {
   "cell_type": "code",
   "execution_count": null,
   "metadata": {},
   "outputs": [],
   "source": [
    "bardata.to_csv(f'{exportpath}{barID}.csv', header = headers)"
   ]
  },
  {
   "cell_type": "code",
   "execution_count": null,
   "metadata": {
    "tags": []
   },
   "outputs": [],
   "source": []
  }
 ],
 "metadata": {
  "colab": {
   "collapsed_sections": [
    "6K_uao1A4uVS",
    "7hIP60LN4uVT",
    "bNyoSDsk4uVb",
    "ytEo3iLZ4uVb",
    "2l6t8Qzv4uVe",
    "ajA0OySt4uVe",
    "DR4Jkmmv4uVf",
    "XFdAXP0K4uVf",
    "qRo7sonu4uVf",
    "V2E9CZqY4uVf",
    "iklmZoRs4uVf",
    "LXclP8Xr4uVg"
   ],
   "name": "StratBuilder-CleanMar21.ipynb",
   "provenance": []
  },
  "kernelspec": {
   "display_name": "Python 3 (ipykernel)",
   "language": "python",
   "name": "python3"
  },
  "language_info": {
   "codemirror_mode": {
    "name": "ipython",
    "version": 3
   },
   "file_extension": ".py",
   "mimetype": "text/x-python",
   "name": "python",
   "nbconvert_exporter": "python",
   "pygments_lexer": "ipython3",
   "version": "3.8.12"
  },
  "toc": {
   "base_numbering": 1,
   "nav_menu": {},
   "number_sections": true,
   "sideBar": true,
   "skip_h1_title": false,
   "title_cell": "Table of Contents",
   "title_sidebar": "Contents",
   "toc_cell": false,
   "toc_position": {},
   "toc_section_display": true,
   "toc_window_display": false
  },
  "varInspector": {
   "cols": {
    "lenName": 16,
    "lenType": 16,
    "lenVar": 40
   },
   "kernels_config": {
    "python": {
     "delete_cmd_postfix": "",
     "delete_cmd_prefix": "del ",
     "library": "var_list.py",
     "varRefreshCmd": "print(var_dic_list())"
    },
    "r": {
     "delete_cmd_postfix": ") ",
     "delete_cmd_prefix": "rm(",
     "library": "var_list.r",
     "varRefreshCmd": "cat(var_dic_list()) "
    }
   },
   "position": {
    "height": "816px",
    "left": "1548px",
    "right": "20px",
    "top": "114px",
    "width": "354px"
   },
   "types_to_exclude": [
    "module",
    "function",
    "builtin_function_or_method",
    "instance",
    "_Feature"
   ],
   "window_display": false
  }
 },
 "nbformat": 4,
 "nbformat_minor": 4
}
