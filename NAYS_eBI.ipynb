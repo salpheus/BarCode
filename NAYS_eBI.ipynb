{
 "cells": [
  {
   "cell_type": "markdown",
   "id": "3f196e89-4503-4ebe-b8a6-1ce8c1135725",
   "metadata": {},
   "source": [
    "# Entropic Braiding Index\n",
    "Trying to calculate the eBI and BI ratios from Tejedor et al., 2022"
   ]
  },
  {
   "cell_type": "code",
   "execution_count": 219,
   "id": "66bce520-33b4-46f5-a6c5-7d2d6b4f5d9a",
   "metadata": {},
   "outputs": [],
   "source": [
    "import numpy as np\n",
    "import pandas as pd\n",
    "import matplotlib as mpl\n",
    "import matplotlib.pyplot as plt\n",
    "import copy\n",
    "from shapely.geometry import Polygon, MultiPolygon\n",
    "import seaborn as sns\n",
    "from scipy import stats"
   ]
  },
  {
   "cell_type": "code",
   "execution_count": 2,
   "id": "37135f14-ec0e-4102-aa4e-aaeeee2b1e9b",
   "metadata": {},
   "outputs": [],
   "source": [
    "### Load data\n",
    "depth = np.load('/Users/safiya/Desktop/depth.npy', allow_pickle = True)\n",
    "velo = np.load('/Users/safiya/Desktop/velocity.npy', allow_pickle = True)\n",
    "ylocs = np.load('/Users/safiya/Desktop/ypos.npy', allow_pickle = True)\n",
    "xlocs = np.load('/Users/safiya/Desktop/xpos.npy', allow_pickle = True)\n",
    "bedz = np.load('/Users/safiya/Desktop/bed_elevation.npy', allow_pickle = True)\n",
    "watersurf = np.load('/Users/safiya/Desktop/watersurf.npy', allow_pickle = True)"
   ]
  },
  {
   "cell_type": "code",
   "execution_count": 144,
   "id": "8ca7ce62-d673-4d69-9d45-0c5f2800f5a5",
   "metadata": {},
   "outputs": [],
   "source": [
    "wsurf = np.expand_dims(watersurf, 0) ## change dimensions to streamwise for watersurf"
   ]
  },
  {
   "cell_type": "code",
   "execution_count": 145,
   "id": "f07c14d5-006f-48da-868a-ede8bb6ee981",
   "metadata": {},
   "outputs": [],
   "source": [
    "section_sampling = 25 ## in 10s of m\n",
    "secstart = 100\n",
    "secend = 900\n",
    "adjustment_time = 65\n",
    "seclist = np.arange(secstart, secend+1, section_sampling)"
   ]
  },
  {
   "cell_type": "code",
   "execution_count": 146,
   "id": "29169416-cb6b-4747-b47b-72d781b74673",
   "metadata": {},
   "outputs": [],
   "source": [
    "bed_sample = copy.deepcopy(bedz) ## bed at the section sampled\n",
    "bed_sample = bedz[:, secstart:secend+1, :]\n",
    "bed_sample = bed_sample[:, ::25, adjustment_time:]"
   ]
  },
  {
   "cell_type": "code",
   "execution_count": 147,
   "id": "665a788e-49eb-43a4-9539-b8b42538cf8e",
   "metadata": {},
   "outputs": [
    {
     "name": "stdout",
     "output_type": "stream",
     "text": [
      "(705, 33, 317) (1, 33, 317)\n"
     ]
    }
   ],
   "source": [
    "wsurf_sample = wsurf[:, secstart:secend+1, :]\n",
    "wsurf_sample = wsurf_sample[:, ::25, adjustment_time:]\n",
    "print(bed_sample.shape, wsurf_sample.shape)"
   ]
  },
  {
   "cell_type": "code",
   "execution_count": 148,
   "id": "635e3c3a-0df5-4607-a0ec-eed5ef98e613",
   "metadata": {},
   "outputs": [
    {
     "name": "stdout",
     "output_type": "stream",
     "text": [
      "(705, 33, 317)\n"
     ]
    }
   ],
   "source": [
    "ylocs_sample = ylocs[:, secstart:secend+1, :]\n",
    "ylocs_sample = ylocs_sample[:, ::25, adjustment_time:]\n",
    "print(ylocs_sample.shape)"
   ]
  },
  {
   "cell_type": "code",
   "execution_count": 149,
   "id": "bfc5c81a-f9f4-4186-a4cd-095fe0106d8c",
   "metadata": {},
   "outputs": [],
   "source": [
    "bedz_nan = copy.deepcopy(bed_sample)\n",
    "ylocs_nan = copy.deepcopy(ylocs_sample)\n",
    "for t in range(bed_sample.shape[2]):\n",
    "    for x in range(bed_sample.shape[1]):\n",
    "        change = np.where(bed_sample[:, x, t]>wsurf_sample[:, x, t])[0]\n",
    "        bedz_nan[change, x, t] = np.nan\n",
    "        \n",
    "ylocs_nan[np.isnan(bedz_nan)] = np.nan"
   ]
  },
  {
   "cell_type": "code",
   "execution_count": 82,
   "id": "26558104-ec67-4bef-85d4-01a2dc5a8847",
   "metadata": {},
   "outputs": [
    {
     "data": {
      "text/plain": [
       "[<matplotlib.lines.Line2D at 0x7fc697505d00>]"
      ]
     },
     "execution_count": 82,
     "metadata": {},
     "output_type": "execute_result"
    },
    {
     "data": {
      "image/png": "[encoded data removed]",
      "text/plain": [
       "<Figure size 432x288 with 1 Axes>"
      ]
     },
     "metadata": {
      "needs_background": "light"
     },
     "output_type": "display_data"
    }
   ],
   "source": [
    "# plt.plot(bedz[:, 100, -1])\n",
    "plt.plot(bed_sample[:, x, t])\n",
    "plt.axhline(wsurf_sample[:, x, t])\n",
    "plt.plot(bedz_nan[:, x, t])"
   ]
  },
  {
   "cell_type": "code",
   "execution_count": 203,
   "id": "7c8dcddd-889b-470f-9ea3-ee52a1fbc45b",
   "metadata": {},
   "outputs": [],
   "source": [
    "def ebicalc(watermask):\n",
    "    '''return the ebi of every xs position in an array of [water, not water]\n",
    "    rows = cross stream position\n",
    "    columns = x locations\n",
    "    z = timesteps'''\n",
    "    \n",
    "    ebi = np.empty([1, watermask.shape[1], watermask.shape[2]]) ## create a storage matrix for ebi data values\n",
    "    print(ebi.shape)\n",
    "    ### current way I can think of doing this is taking each cross section, finding all the thread edges using l_edge, r_edge \n",
    "    ### code from polygon diagrams and getting those widths and using width as a Q proxy to get ebi.\n",
    "    \n",
    "    for ts in range(watermask.shape[2]):\n",
    "        for xpos in range(watermask.shape[1]):\n",
    "            l_idx = np.array([])\n",
    "            r_idx = np.array([])\n",
    "            for ypos in range(watermask.shape[0]-1):\n",
    "                # l_edge = np.logical_and(np.isnan(watermask[ypos, xpos, ts]), ~np.isnan(watermask[ypos, xpos, ts]))\n",
    "                # r_edge = np.logical_and(~np.isnan(watermask[ypos, xpos, ts]), np.isnan(watermask[ypos:, xpos, ts]))\n",
    "                \n",
    "                l_edge = np.all(np.isnan(watermask[ypos, xpos, ts]) and ~np.isnan(watermask[ypos+1, xpos, ts]))\n",
    "                r_edge = np.all(~np.isnan(watermask[ypos, xpos, ts]) and np.isnan(watermask[ypos+1, xpos, ts]))\n",
    "                # print(ypos, xpos, ts, l_edge, r_edge) ## yes this works.\n",
    "                if l_edge == True:\n",
    "                    l_idx = np.append(l_idx, [ypos], axis = 0)\n",
    "\n",
    "                if r_edge == True:\n",
    "                    r_idx = np.append(r_idx, [ypos], axis = 0)\n",
    "            \n",
    "            # if len(l_idx) != 0:\n",
    "                # print(l_idx, r_idx) ## yes this works and pulls the right indices\n",
    "                \n",
    "            widths = r_idx-l_idx ## create a list of the thread widths at each position, this will not be output\n",
    "            \n",
    "            totwet = np.sum(widths)\n",
    "            \n",
    "            ebi[:, xpos, ts] = -1* np.sum((widths/totwet)*np.log2(widths/totwet))\n",
    "            \n",
    "    print(ebi.shape)\n",
    "    return ebi"
   ]
  },
  {
   "cell_type": "code",
   "execution_count": 158,
   "id": "c6286d47-d62d-4785-bde6-54ad521c0263",
   "metadata": {},
   "outputs": [
    {
     "data": {
      "text/plain": [
       "[<matplotlib.lines.Line2D at 0x7fc6ae6e0100>]"
      ]
     },
     "execution_count": 158,
     "metadata": {},
     "output_type": "execute_result"
    },
    {
     "data": {
      "image/png": "[encoded data removed]",
      "text/plain": [
       "<Figure size 432x288 with 1 Axes>"
      ]
     },
     "metadata": {
      "needs_background": "light"
     },
     "output_type": "display_data"
    }
   ],
   "source": [
    "plt.plot(bedz_nan[:, 0, 0])"
   ]
  },
  {
   "cell_type": "code",
   "execution_count": 204,
   "id": "0628d053-9413-47d0-8cae-3eaea8898196",
   "metadata": {},
   "outputs": [
    {
     "name": "stdout",
     "output_type": "stream",
     "text": [
      "(1, 33, 317)\n",
      "(1, 33, 317)\n"
     ]
    }
   ],
   "source": [
    "# ylocs_nan[200:300, 0, 0]\n",
    "ebi_3d = ebicalc(ylocs_nan)"
   ]
  },
  {
   "cell_type": "code",
   "execution_count": 205,
   "id": "deefd5c9-1d4f-4081-8c09-51479884ce79",
   "metadata": {},
   "outputs": [],
   "source": [
    "ebi2d = np.transpose(copy.deepcopy(ebi_3d))"
   ]
  },
  {
   "cell_type": "code",
   "execution_count": 208,
   "id": "1ae6b3b3-13e0-4cec-adce-e4aa52a2f62b",
   "metadata": {},
   "outputs": [
    {
     "name": "stdout",
     "output_type": "stream",
     "text": [
      "(317, 33)\n"
     ]
    }
   ],
   "source": [
    "ebi2d[:, :, 0]"
   ]
  },
  {
   "cell_type": "code",
   "execution_count": 209,
   "id": "34661095-35dc-4c2a-ba59-f231ba133df4",
   "metadata": {},
   "outputs": [],
   "source": [
    "ebidf = pd.DataFrame(copy.deepcopy(ebi2d[:, :, 0]), columns = seclist)"
   ]
  },
  {
   "cell_type": "code",
   "execution_count": 210,
   "id": "cbd838c1-2d78-4504-995d-63ae77301296",
   "metadata": {},
   "outputs": [
    {
     "data": {
      "text/html": [
       "<div>\n",
       "<style scoped>\n",
       "    .dataframe tbody tr th:only-of-type {\n",
       "        vertical-align: middle;\n",
       "    }\n",
       "\n",
       "    .dataframe tbody tr th {\n",
       "        vertical-align: top;\n",
       "    }\n",
       "\n",
       "    .dataframe thead th {\n",
       "        text-align: right;\n",
       "    }\n",
       "</style>\n",
       "<table border=\"1\" class=\"dataframe\">\n",
       "  <thead>\n",
       "    <tr style=\"text-align: right;\">\n",
       "      <th></th>\n",
       "      <th>100</th>\n",
       "      <th>125</th>\n",
       "      <th>150</th>\n",
       "      <th>175</th>\n",
       "      <th>200</th>\n",
       "      <th>225</th>\n",
       "      <th>250</th>\n",
       "      <th>275</th>\n",
       "      <th>300</th>\n",
       "      <th>325</th>\n",
       "      <th>...</th>\n",
       "      <th>675</th>\n",
       "      <th>700</th>\n",
       "      <th>725</th>\n",
       "      <th>750</th>\n",
       "      <th>775</th>\n",
       "      <th>800</th>\n",
       "      <th>825</th>\n",
       "      <th>850</th>\n",
       "      <th>875</th>\n",
       "      <th>900</th>\n",
       "    </tr>\n",
       "  </thead>\n",
       "  <tbody>\n",
       "    <tr>\n",
       "      <th>0</th>\n",
       "      <td>1.000000</td>\n",
       "      <td>1.389103</td>\n",
       "      <td>-0.0</td>\n",
       "      <td>0.990123</td>\n",
       "      <td>1.675917</td>\n",
       "      <td>0.938575</td>\n",
       "      <td>1.488199</td>\n",
       "      <td>-0.0</td>\n",
       "      <td>1.029190</td>\n",
       "      <td>1.086306</td>\n",
       "      <td>...</td>\n",
       "      <td>0.740731</td>\n",
       "      <td>-0.0</td>\n",
       "      <td>1.640598</td>\n",
       "      <td>-0.000000</td>\n",
       "      <td>0.816984</td>\n",
       "      <td>1.412925</td>\n",
       "      <td>-0.000000</td>\n",
       "      <td>-0.00000</td>\n",
       "      <td>1.746248</td>\n",
       "      <td>1.181787</td>\n",
       "    </tr>\n",
       "    <tr>\n",
       "      <th>1</th>\n",
       "      <td>0.999987</td>\n",
       "      <td>1.422324</td>\n",
       "      <td>-0.0</td>\n",
       "      <td>1.364710</td>\n",
       "      <td>1.828197</td>\n",
       "      <td>0.942528</td>\n",
       "      <td>0.992267</td>\n",
       "      <td>-0.0</td>\n",
       "      <td>1.036718</td>\n",
       "      <td>1.089496</td>\n",
       "      <td>...</td>\n",
       "      <td>0.718390</td>\n",
       "      <td>-0.0</td>\n",
       "      <td>1.609263</td>\n",
       "      <td>-0.000000</td>\n",
       "      <td>0.598565</td>\n",
       "      <td>1.255209</td>\n",
       "      <td>0.355251</td>\n",
       "      <td>-0.00000</td>\n",
       "      <td>1.741025</td>\n",
       "      <td>1.806418</td>\n",
       "    </tr>\n",
       "    <tr>\n",
       "      <th>2</th>\n",
       "      <td>0.999789</td>\n",
       "      <td>1.241654</td>\n",
       "      <td>-0.0</td>\n",
       "      <td>0.987380</td>\n",
       "      <td>1.884779</td>\n",
       "      <td>0.790369</td>\n",
       "      <td>0.992859</td>\n",
       "      <td>-0.0</td>\n",
       "      <td>1.020721</td>\n",
       "      <td>0.355061</td>\n",
       "      <td>...</td>\n",
       "      <td>0.714727</td>\n",
       "      <td>-0.0</td>\n",
       "      <td>1.532753</td>\n",
       "      <td>0.991553</td>\n",
       "      <td>1.368777</td>\n",
       "      <td>1.282115</td>\n",
       "      <td>-0.000000</td>\n",
       "      <td>-0.00000</td>\n",
       "      <td>0.612614</td>\n",
       "      <td>1.795754</td>\n",
       "    </tr>\n",
       "    <tr>\n",
       "      <th>3</th>\n",
       "      <td>0.999988</td>\n",
       "      <td>0.938766</td>\n",
       "      <td>-0.0</td>\n",
       "      <td>-0.000000</td>\n",
       "      <td>1.698905</td>\n",
       "      <td>-0.000000</td>\n",
       "      <td>1.489573</td>\n",
       "      <td>-0.0</td>\n",
       "      <td>0.959420</td>\n",
       "      <td>1.074418</td>\n",
       "      <td>...</td>\n",
       "      <td>1.190368</td>\n",
       "      <td>-0.0</td>\n",
       "      <td>0.988262</td>\n",
       "      <td>-0.000000</td>\n",
       "      <td>0.763674</td>\n",
       "      <td>1.729620</td>\n",
       "      <td>0.299133</td>\n",
       "      <td>-0.00000</td>\n",
       "      <td>1.755994</td>\n",
       "      <td>1.315176</td>\n",
       "    </tr>\n",
       "    <tr>\n",
       "      <th>4</th>\n",
       "      <td>0.999987</td>\n",
       "      <td>1.761148</td>\n",
       "      <td>-0.0</td>\n",
       "      <td>-0.000000</td>\n",
       "      <td>1.270989</td>\n",
       "      <td>-0.000000</td>\n",
       "      <td>1.483700</td>\n",
       "      <td>-0.0</td>\n",
       "      <td>0.945420</td>\n",
       "      <td>1.066336</td>\n",
       "      <td>...</td>\n",
       "      <td>1.183812</td>\n",
       "      <td>-0.0</td>\n",
       "      <td>1.809659</td>\n",
       "      <td>-0.000000</td>\n",
       "      <td>0.846525</td>\n",
       "      <td>1.740632</td>\n",
       "      <td>0.300814</td>\n",
       "      <td>-0.00000</td>\n",
       "      <td>0.612614</td>\n",
       "      <td>1.819493</td>\n",
       "    </tr>\n",
       "    <tr>\n",
       "      <th>...</th>\n",
       "      <td>...</td>\n",
       "      <td>...</td>\n",
       "      <td>...</td>\n",
       "      <td>...</td>\n",
       "      <td>...</td>\n",
       "      <td>...</td>\n",
       "      <td>...</td>\n",
       "      <td>...</td>\n",
       "      <td>...</td>\n",
       "      <td>...</td>\n",
       "      <td>...</td>\n",
       "      <td>...</td>\n",
       "      <td>...</td>\n",
       "      <td>...</td>\n",
       "      <td>...</td>\n",
       "      <td>...</td>\n",
       "      <td>...</td>\n",
       "      <td>...</td>\n",
       "      <td>...</td>\n",
       "      <td>...</td>\n",
       "      <td>...</td>\n",
       "    </tr>\n",
       "    <tr>\n",
       "      <th>312</th>\n",
       "      <td>-0.000000</td>\n",
       "      <td>-0.000000</td>\n",
       "      <td>-0.0</td>\n",
       "      <td>0.236345</td>\n",
       "      <td>1.467972</td>\n",
       "      <td>-0.000000</td>\n",
       "      <td>1.541702</td>\n",
       "      <td>-0.0</td>\n",
       "      <td>1.518077</td>\n",
       "      <td>-0.000000</td>\n",
       "      <td>...</td>\n",
       "      <td>-0.000000</td>\n",
       "      <td>-0.0</td>\n",
       "      <td>1.564478</td>\n",
       "      <td>-0.000000</td>\n",
       "      <td>-0.000000</td>\n",
       "      <td>-0.000000</td>\n",
       "      <td>0.300218</td>\n",
       "      <td>0.20481</td>\n",
       "      <td>0.770479</td>\n",
       "      <td>1.478477</td>\n",
       "    </tr>\n",
       "    <tr>\n",
       "      <th>313</th>\n",
       "      <td>0.650022</td>\n",
       "      <td>-0.000000</td>\n",
       "      <td>-0.0</td>\n",
       "      <td>0.235767</td>\n",
       "      <td>1.666625</td>\n",
       "      <td>-0.000000</td>\n",
       "      <td>1.092026</td>\n",
       "      <td>-0.0</td>\n",
       "      <td>1.518856</td>\n",
       "      <td>-0.000000</td>\n",
       "      <td>...</td>\n",
       "      <td>-0.000000</td>\n",
       "      <td>-0.0</td>\n",
       "      <td>1.553170</td>\n",
       "      <td>-0.000000</td>\n",
       "      <td>-0.000000</td>\n",
       "      <td>-0.000000</td>\n",
       "      <td>-0.000000</td>\n",
       "      <td>-0.00000</td>\n",
       "      <td>1.519693</td>\n",
       "      <td>1.472063</td>\n",
       "    </tr>\n",
       "    <tr>\n",
       "      <th>314</th>\n",
       "      <td>1.327173</td>\n",
       "      <td>-0.000000</td>\n",
       "      <td>-0.0</td>\n",
       "      <td>1.128969</td>\n",
       "      <td>1.469108</td>\n",
       "      <td>-0.000000</td>\n",
       "      <td>1.118758</td>\n",
       "      <td>-0.0</td>\n",
       "      <td>1.522567</td>\n",
       "      <td>-0.000000</td>\n",
       "      <td>...</td>\n",
       "      <td>-0.000000</td>\n",
       "      <td>-0.0</td>\n",
       "      <td>1.541002</td>\n",
       "      <td>-0.000000</td>\n",
       "      <td>-0.000000</td>\n",
       "      <td>-0.000000</td>\n",
       "      <td>-0.000000</td>\n",
       "      <td>-0.00000</td>\n",
       "      <td>0.777601</td>\n",
       "      <td>1.481389</td>\n",
       "    </tr>\n",
       "    <tr>\n",
       "      <th>315</th>\n",
       "      <td>0.677819</td>\n",
       "      <td>-0.000000</td>\n",
       "      <td>-0.0</td>\n",
       "      <td>0.221188</td>\n",
       "      <td>1.469108</td>\n",
       "      <td>-0.000000</td>\n",
       "      <td>0.990449</td>\n",
       "      <td>-0.0</td>\n",
       "      <td>1.522361</td>\n",
       "      <td>-0.000000</td>\n",
       "      <td>...</td>\n",
       "      <td>-0.000000</td>\n",
       "      <td>-0.0</td>\n",
       "      <td>1.554526</td>\n",
       "      <td>-0.000000</td>\n",
       "      <td>-0.000000</td>\n",
       "      <td>-0.000000</td>\n",
       "      <td>-0.000000</td>\n",
       "      <td>-0.00000</td>\n",
       "      <td>0.777601</td>\n",
       "      <td>1.286121</td>\n",
       "    </tr>\n",
       "    <tr>\n",
       "      <th>316</th>\n",
       "      <td>0.024328</td>\n",
       "      <td>-0.000000</td>\n",
       "      <td>-0.0</td>\n",
       "      <td>0.249882</td>\n",
       "      <td>1.471574</td>\n",
       "      <td>-0.000000</td>\n",
       "      <td>0.989906</td>\n",
       "      <td>-0.0</td>\n",
       "      <td>1.518986</td>\n",
       "      <td>-0.000000</td>\n",
       "      <td>...</td>\n",
       "      <td>-0.000000</td>\n",
       "      <td>-0.0</td>\n",
       "      <td>1.563733</td>\n",
       "      <td>-0.000000</td>\n",
       "      <td>-0.000000</td>\n",
       "      <td>-0.000000</td>\n",
       "      <td>-0.000000</td>\n",
       "      <td>-0.00000</td>\n",
       "      <td>1.518304</td>\n",
       "      <td>1.280465</td>\n",
       "    </tr>\n",
       "  </tbody>\n",
       "</table>\n",
       "<p>317 rows × 33 columns</p>\n",
       "</div>"
      ],
      "text/plain": [
       "          100       125  150       175       200       225       250  275  \\\n",
       "0    1.000000  1.389103 -0.0  0.990123  1.675917  0.938575  1.488199 -0.0   \n",
       "1    0.999987  1.422324 -0.0  1.364710  1.828197  0.942528  0.992267 -0.0   \n",
       "2    0.999789  1.241654 -0.0  0.987380  1.884779  0.790369  0.992859 -0.0   \n",
       "3    0.999988  0.938766 -0.0 -0.000000  1.698905 -0.000000  1.489573 -0.0   \n",
       "4    0.999987  1.761148 -0.0 -0.000000  1.270989 -0.000000  1.483700 -0.0   \n",
       "..        ...       ...  ...       ...       ...       ...       ...  ...   \n",
       "312 -0.000000 -0.000000 -0.0  0.236345  1.467972 -0.000000  1.541702 -0.0   \n",
       "313  0.650022 -0.000000 -0.0  0.235767  1.666625 -0.000000  1.092026 -0.0   \n",
       "314  1.327173 -0.000000 -0.0  1.128969  1.469108 -0.000000  1.118758 -0.0   \n",
       "315  0.677819 -0.000000 -0.0  0.221188  1.469108 -0.000000  0.990449 -0.0   \n",
       "316  0.024328 -0.000000 -0.0  0.249882  1.471574 -0.000000  0.989906 -0.0   \n",
       "\n",
       "          300       325  ...       675  700       725       750       775  \\\n",
       "0    1.029190  1.086306  ...  0.740731 -0.0  1.640598 -0.000000  0.816984   \n",
       "1    1.036718  1.089496  ...  0.718390 -0.0  1.609263 -0.000000  0.598565   \n",
       "2    1.020721  0.355061  ...  0.714727 -0.0  1.532753  0.991553  1.368777   \n",
       "3    0.959420  1.074418  ...  1.190368 -0.0  0.988262 -0.000000  0.763674   \n",
       "4    0.945420  1.066336  ...  1.183812 -0.0  1.809659 -0.000000  0.846525   \n",
       "..        ...       ...  ...       ...  ...       ...       ...       ...   \n",
       "312  1.518077 -0.000000  ... -0.000000 -0.0  1.564478 -0.000000 -0.000000   \n",
       "313  1.518856 -0.000000  ... -0.000000 -0.0  1.553170 -0.000000 -0.000000   \n",
       "314  1.522567 -0.000000  ... -0.000000 -0.0  1.541002 -0.000000 -0.000000   \n",
       "315  1.522361 -0.000000  ... -0.000000 -0.0  1.554526 -0.000000 -0.000000   \n",
       "316  1.518986 -0.000000  ... -0.000000 -0.0  1.563733 -0.000000 -0.000000   \n",
       "\n",
       "          800       825      850       875       900  \n",
       "0    1.412925 -0.000000 -0.00000  1.746248  1.181787  \n",
       "1    1.255209  0.355251 -0.00000  1.741025  1.806418  \n",
       "2    1.282115 -0.000000 -0.00000  0.612614  1.795754  \n",
       "3    1.729620  0.299133 -0.00000  1.755994  1.315176  \n",
       "4    1.740632  0.300814 -0.00000  0.612614  1.819493  \n",
       "..        ...       ...      ...       ...       ...  \n",
       "312 -0.000000  0.300218  0.20481  0.770479  1.478477  \n",
       "313 -0.000000 -0.000000 -0.00000  1.519693  1.472063  \n",
       "314 -0.000000 -0.000000 -0.00000  0.777601  1.481389  \n",
       "315 -0.000000 -0.000000 -0.00000  0.777601  1.286121  \n",
       "316 -0.000000 -0.000000 -0.00000  1.518304  1.280465  \n",
       "\n",
       "[317 rows x 33 columns]"
      ]
     },
     "execution_count": 210,
     "metadata": {},
     "output_type": "execute_result"
    }
   ],
   "source": [
    "ebidf"
   ]
  },
  {
   "cell_type": "code",
   "execution_count": 218,
   "id": "8159fa0c-75ea-4714-8e37-a09f2263dc0b",
   "metadata": {},
   "outputs": [
    {
     "data": {
      "image/png": "[encoded data removed]",
      "text/plain": [
       "<Figure size 3000x400 with 1 Axes>"
      ]
     },
     "metadata": {
      "needs_background": "light"
     },
     "output_type": "display_data"
    }
   ],
   "source": [
    "plt.figure(figsize = (15,2), dpi = 200)\n",
    "PROPS = {'boxprops':{'facecolor':'none', 'edgecolor':'black'},}\n",
    "sns.boxplot(data = ebidf, **PROPS)\n",
    "\n",
    "plt.ylabel('eBI')\n",
    "plt.xlabel('Streamwise distance, x10m')\n",
    "\n",
    "plt.savefig('/Users/safiya/Desktop/BarManuscript_2022-local/figs/python-results/eBI.png', dpi = 300, transparent = True)"
   ]
  },
  {
   "cell_type": "code",
   "execution_count": 221,
   "id": "017df6d5-ede4-40dc-8879-14d3ec9f31a7",
   "metadata": {},
   "outputs": [
    {
     "data": {
      "image/png": "[encoded data removed]",
      "text/plain": [
       "<Figure size 1080x144 with 1 Axes>"
      ]
     },
     "metadata": {
      "needs_background": "light"
     },
     "output_type": "display_data"
    }
   ],
   "source": [
    "plt.figure(figsize = (15, 2))\n",
    "plt.plot(stats.variation(ebi2d, axis = 0), 'k', label = 'CV')\n",
    "plt.plot(np.var(ebi2d, axis = 0), 'k--', label = 'variance')\n",
    "plt.legend()\n",
    "plt.xlim(0, 33)\n",
    "plt.savefig('/Users/safiya/Desktop/BarManuscript_2022-local/figs/python-results/eBI_CVVar.png', dpi = 300, transparent = True)"
   ]
  },
  {
   "cell_type": "code",
   "execution_count": null,
   "id": "1ae91ff2-642f-4e3f-8fa6-20f00fa0bac2",
   "metadata": {},
   "outputs": [],
   "source": [
    "#print(len(posnew_nb))\n",
    "#l_edges = np.empty([1,]) #left edge distance measure of the wheeler fill\n",
    "l_idx = np.empty([1,]) #index value of left edge\n",
    "#r_edges = np.empty([1,]) #right edge of the wheeler fill\n",
    "r_idx = np.empty([1,]) #index value of right edge\n",
    "surf_age = np.empty([1,]) #age of each deposit for the wheeler diagram\n",
    "for i in range (0, len(delta)):\n",
    "    #if ~np.isnan(deposurf[i, 0]):\n",
    "    #   rectangles[i, 0] = ages[i, 0] #if the left edge of the stratigraphy is a depositional surface\n",
    "\n",
    "    for xpos in range (0, len(posnew_nb)-1):\n",
    "        l_edge = np.all((np.isnan(delta[i, xpos]) and ~np.isnan(delta[i, xpos+1])))\n",
    "        r_edge = np.all((~np.isnan(delta[i, xpos]) and np.isnan(delta[i, xpos+1])))\n",
    "        #print(xpos, 'L', l_edge)\n",
    "        #print(xpos, 'R', r_edge)\n",
    "        if l_edge == True:\n",
    "            #l_edges = np.append(l_edges, [posnew_nb[xpos+1]], axis = 0)\n",
    "            l_idx = np.append(l_idx, [xpos], axis = 0)\n",
    "            #print(posnew_nb[xpos+1], 'potato')\n",
    "            surf_age = np.append(surf_age, [i], axis = 0)\n",
    "        if r_edge == True:\n",
    "            #print(xpos, 'tomato')\n",
    "            #r_edges = np.append(r_edges, [posnew_nb[xpos-1]], axis = 0)\n",
    "            r_idx = np.append(r_idx, [xpos], axis = 0)\n",
    "            \n",
    "#surf_age = np.append(surf_age, [i+1], axis = 0)\n",
    "#print('L', l_edges)\n",
    "#print('R',r_edges)\n",
    "#print(dep_age)"
   ]
  }
 ],
 "metadata": {
  "kernelspec": {
   "display_name": "Python 3 (ipykernel)",
   "language": "python",
   "name": "python3"
  },
  "language_info": {
   "codemirror_mode": {
    "name": "ipython",
    "version": 3
   },
   "file_extension": ".py",
   "mimetype": "text/x-python",
   "name": "python",
   "nbconvert_exporter": "python",
   "pygments_lexer": "ipython3",
   "version": "3.8.12"
  }
 },
 "nbformat": 4,
 "nbformat_minor": 5
}
