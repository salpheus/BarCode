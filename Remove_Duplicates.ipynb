{
 "cells": [
  {
   "cell_type": "markdown",
   "id": "advised-singer",
   "metadata": {},
   "source": [
    "### Remove nan duplicates in the attributes and add mean mmp per unit"
   ]
  },
  {
   "cell_type": "code",
   "execution_count": 1,
   "id": "moving-merchant",
   "metadata": {},
   "outputs": [
    {
     "name": "stderr",
     "output_type": "stream",
     "text": [
      "In /opt/anaconda3/lib/python3.7/site-packages/matplotlib/mpl-data/stylelib/_classic_test.mplstyle: \n",
      "The text.latex.preview rcparam was deprecated in Matplotlib 3.3 and will be removed two minor releases later.\n",
      "In /opt/anaconda3/lib/python3.7/site-packages/matplotlib/mpl-data/stylelib/_classic_test.mplstyle: \n",
      "The mathtext.fallback_to_cm rcparam was deprecated in Matplotlib 3.3 and will be removed two minor releases later.\n",
      "In /opt/anaconda3/lib/python3.7/site-packages/matplotlib/mpl-data/stylelib/_classic_test.mplstyle: Support for setting the 'mathtext.fallback_to_cm' rcParam is deprecated since 3.3 and will be removed two minor releases later; use 'mathtext.fallback : 'cm' instead.\n",
      "In /opt/anaconda3/lib/python3.7/site-packages/matplotlib/mpl-data/stylelib/_classic_test.mplstyle: \n",
      "The validate_bool_maybe_none function was deprecated in Matplotlib 3.3 and will be removed two minor releases later.\n",
      "In /opt/anaconda3/lib/python3.7/site-packages/matplotlib/mpl-data/stylelib/_classic_test.mplstyle: \n",
      "The savefig.jpeg_quality rcparam was deprecated in Matplotlib 3.3 and will be removed two minor releases later.\n",
      "In /opt/anaconda3/lib/python3.7/site-packages/matplotlib/mpl-data/stylelib/_classic_test.mplstyle: \n",
      "The keymap.all_axes rcparam was deprecated in Matplotlib 3.3 and will be removed two minor releases later.\n",
      "In /opt/anaconda3/lib/python3.7/site-packages/matplotlib/mpl-data/stylelib/_classic_test.mplstyle: \n",
      "The animation.avconv_path rcparam was deprecated in Matplotlib 3.3 and will be removed two minor releases later.\n",
      "In /opt/anaconda3/lib/python3.7/site-packages/matplotlib/mpl-data/stylelib/_classic_test.mplstyle: \n",
      "The animation.avconv_args rcparam was deprecated in Matplotlib 3.3 and will be removed two minor releases later.\n"
     ]
    }
   ],
   "source": [
    "import numpy as np\n",
    "import matplotlib as mpl\n",
    "import copy\n",
    "import matplotlib.pyplot as plt\n",
    "import os"
   ]
  },
  {
   "cell_type": "code",
   "execution_count": 2,
   "id": "prime-chassis",
   "metadata": {},
   "outputs": [
    {
     "name": "stdin",
     "output_type": "stream",
     "text": [
      "what is the original shape of the array output from the bar picker?: 5\n"
     ]
    },
    {
     "name": "stderr",
     "output_type": "stream",
     "text": [
      "/opt/anaconda3/lib/python3.7/site-packages/ipykernel_launcher.py:11: RuntimeWarning: invalid value encountered in log10\n",
      "  # This is added back by InteractiveShellApp.init_path()\n"
     ]
    }
   ],
   "source": [
    "d50 = 0.00031\n",
    "# folnam = 'agubh2-100m-nanreplace'\n",
    "folnam = 'agubh2_agu22_PATCH2'\n",
    "#init = '/Volumes/SAF_Data/NAYS2DH_files/Data/nparrays/barpkg-arrays/Summer-bpkg-redo/JULY142022'\n",
    "init = f'/Volumes/SAF_Data/NAYS2DH_files/Data/nparrays/barpkg-arrays-fall23-patch2/{folnam}'\n",
    "\n",
    "og_shape = int(input('what is the original shape of the array output from the bar picker?:'))\n",
    "for root, dirs, files in os.walk(init):\n",
    "    for file in files:\n",
    "        bar = np.load(os.path.join(root, file), allow_pickle = True)\n",
    "        med_mmp =(1000*(bar[:, :, 4]**2))/(1650*((18*(np.log10(4*bar[:, :, 3]/d50)))**2)*d50)##### modified mobility parameter\n",
    "        mmp_replacenan = copy.deepcopy(med_mmp)\n",
    "\n",
    "        for i in range (0, mmp_replacenan.shape[0]-1):\n",
    "            for j in range (0, mmp_replacenan.shape[1]):\n",
    "                if np.logical_and(bar[i, j, 0] == bar[i+1, j, 0], mmp_replacenan[i, j] <= mmp_replacenan[i+1, j]):\n",
    "                    mmp_replacenan[i, j] = np.nan\n",
    "        \n",
    "        ## comcatenate the mmp now\n",
    "        if bar.shape[2] == og_shape: \n",
    "            withfacies = np.concatenate((bar, np.expand_dims(mmp_replacenan, 2)), axis=2)\n",
    "        else:\n",
    "            bar[:, :, -1] = np.expand_dims(mmp_replacenan, 2)\n",
    "            withfacies = copy.deepcopy(bar)\n",
    "        np.save(f'{os.path.join(root, file)}', withfacies, allow_pickle = True)"
   ]
  },
  {
   "cell_type": "code",
   "execution_count": 3,
   "id": "respective-moderator",
   "metadata": {},
   "outputs": [],
   "source": [
    "test=np.load('/Volumes/SAF_Data/NAYS2DH_files/Data/nparrays/barpkg-arrays-fall23-patch/agubh2_agu22_PATCH/100/100-FP-5-0.npy')"
   ]
  },
  {
   "cell_type": "code",
   "execution_count": 6,
   "id": "careful-hydrogen",
   "metadata": {},
   "outputs": [
    {
     "data": {
      "text/plain": [
       "(array([298., 215., 119.,  83.,  61.,  39.,   3.,   3.,   4.,   9.]),\n",
       " array([0.00933499, 0.10914518, 0.20895536, 0.30876555, 0.40857574,\n",
       "        0.50838592, 0.60819611, 0.70800629, 0.80781648, 0.90762667,\n",
       "        1.00743685]),\n",
       " <BarContainer object of 10 artists>)"
      ]
     },
     "execution_count": 6,
     "metadata": {},
     "output_type": "execute_result"
    },
    {
     "data": {
      "image/png": "[encoded data removed]",
      "text/plain": [
       "<Figure size 432x288 with 1 Axes>"
      ]
     },
     "metadata": {
      "needs_background": "light"
     },
     "output_type": "display_data"
    }
   ],
   "source": [
    "plt.hist(test[:, :, -1].ravel())"
   ]
  },
  {
   "cell_type": "code",
   "execution_count": null,
   "id": "beneficial-fleece",
   "metadata": {},
   "outputs": [],
   "source": []
  }
 ],
 "metadata": {
  "kernelspec": {
   "display_name": "Python 3",
   "language": "python",
   "name": "python3"
  },
  "language_info": {
   "codemirror_mode": {
    "name": "ipython",
    "version": 3
   },
   "file_extension": ".py",
   "mimetype": "text/x-python",
   "name": "python",
   "nbconvert_exporter": "python",
   "pygments_lexer": "ipython3",
   "version": "3.7.4"
  }
 },
 "nbformat": 4,
 "nbformat_minor": 5
}
