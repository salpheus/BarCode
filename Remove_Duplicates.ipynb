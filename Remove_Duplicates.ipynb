{
 "cells": [
  {
   "cell_type": "markdown",
   "id": "fa6dfc90-4cbc-42bc-948d-638568f68e1c",
   "metadata": {},
   "source": [
    "### Remove nan duplicates in the attributes and add mean mmp per unit"
   ]
  },
  {
   "cell_type": "code",
   "execution_count": 1,
   "id": "cb5c3347-8090-453a-bc4d-6bcf8749c571",
   "metadata": {},
   "outputs": [],
   "source": [
    "import numpy as np\n",
    "import matplotlib as mpl\n",
    "import copy\n",
    "import matplotlib.pyplot as plt\n",
    "import os"
   ]
  },
  {
   "cell_type": "code",
   "execution_count": 6,
   "id": "2090564d-2129-452d-8c80-a4746282c26b",
   "metadata": {},
   "outputs": [
    {
     "name": "stdout",
     "output_type": "stream",
     "text": [
      "1000-1100-fp-4-1.npy\n",
      "1000-1100-FP-5-5.npy\n",
      "1000-1100-FP-5-6.npy\n",
      "1000-1100-PP-4-8.npy\n",
      "1000-1100-PP-5-0.npy\n",
      "1000-1100-PP-5-7.npy\n",
      "1000-1100-TR-3-3.npy\n",
      "1000-1100-TR-4-2.npy\n",
      "1000-1100-TR-5-4.npy\n",
      "1150-1775-FP-4-15.npy\n",
      "1150-1775-FP-4-4.npy\n",
      "1150-1775-PP-4-0.npy\n",
      "1150-1775-PP-4-5.npy\n",
      "1150-1775-PP-5-9.npy\n",
      "1150-1775-TR-2-14.npy\n",
      "1150-1775-TR-2-7.npy\n"
     ]
    },
    {
     "name": "stderr",
     "output_type": "stream",
     "text": [
      "/var/folders/yg/89nlrh5x2xzgdlgr2bczm4_m0000gn/T/ipykernel_54334/350490388.py:10: RuntimeWarning: invalid value encountered in log10\n",
      "  med_mmp =(1000*(bar[:, :, 4]**2))/(1650*((18*(np.log10(4*bar[:, :, 3]/d50)))**2)*d50)##### modified mobility parameter\n"
     ]
    },
    {
     "name": "stdout",
     "output_type": "stream",
     "text": [
      "1150-1775-TR-3-1.npy\n",
      "1150-1775-TR-3-2.npy\n",
      "1150-1775-TR-3-3.npy\n",
      "1150-1775-TR-3-8.npy\n",
      "1150-1775-TR-4-10.npy\n",
      "1150-1775-TR-4-12.npy\n",
      "1150-1775-TR-4-13.npy\n",
      "1150-1775-TR-5-11.npy\n",
      "1150-1775-TR-5-16.npy\n",
      "1150-1775-TR-5-6.npy\n",
      "1750-2300-FP-3-13.npy\n",
      "1750-2300-FP-4-11.npy\n",
      "1750-2300-FP-4-5.npy\n",
      "1750-2300-FP-4-8.npy\n",
      "1750-2300-fp-5-0.npy\n",
      "1750-2300-pp-4-1.npy\n",
      "1750-2300-PP-4-9.npy\n",
      "1750-2300-T-4-7.npy\n",
      "1750-2300-TR-3-12.npy\n",
      "1750-2300-TR-3-3.npy\n",
      "1750-2300-TR-3-4.npy\n",
      "1750-2300-TR-3-6.npy\n",
      "1750-2300-TR-4-2.npy\n",
      "1750-2300-TR-5-10.npy\n",
      "2250-2800-FP-4-10.npy\n",
      "2250-2800-FP-4-15.npy\n",
      "2250-2800-FP-4-16.npy\n",
      "2250-2800-FP-4-3.npy\n",
      "2250-2800-FP-4-6.npy\n",
      "2250-2800-FP-4-8.npy\n",
      "2250-2800-FP-5-13.npy\n",
      "2250-2800-PP-3-1.npy\n",
      "2250-2800-PP-4-2.npy\n",
      "2250-2800-TR-3-12.npy\n",
      "2250-2800-TR-3-14.npy\n",
      "2250-2800-TR-3-4.npy\n",
      "2250-2800-TR-3-7.npy\n",
      "2250-2800-TR-3-9.npy\n",
      "2250-2800-TR-4-0.npy\n",
      "2250-2800-TR-4-11.npy\n",
      "2250-2800-TR-5-5.npy\n",
      "2750-3300-FP-4-17.npy\n",
      "2750-3300-FP-4-5.npy\n",
      "2750-3300-FP-4-7.npy\n",
      "2750-3300-PP-4-0.npy\n",
      "2750-3300-PP-4-3.npy\n",
      "2750-3300-PP-4-8.npy\n",
      "2750-3300-PP-4-9.npy\n",
      "2750-3300-PP-5-6.npy\n",
      "2750-3300-R-4-2.npy\n",
      "2750-3300-TR-3-10.npy\n",
      "2750-3300-TR-3-12.npy\n",
      "2750-3300-TR-3-15.npy\n",
      "2750-3300-TR-33-11.npy\n",
      "2750-3300-TR-4-1.npy\n",
      "2750-3300-TR-4-13.npy\n",
      "2750-3300-TR-4-14.npy\n",
      "2750-3300-TR-4-4.npy\n",
      "2750-3300-TR-5-16.npy\n",
      "3250-3800-FP-4-0.npy\n",
      "3250-3800-FP-4-3.npy\n",
      "3250-3800-FP-5-14.npy\n",
      "3250-3800-FP-5-6.npy\n",
      "3250-3800-PP-3-10.npy\n",
      "3250-3800-PP-3-16.npy\n",
      "3250-3800-PP-3-2.npy\n",
      "3250-3800-PP-3-5.npy\n",
      "3250-3800-PP-4-8.npy\n",
      "3250-3800-PP-4-9.npy\n",
      "3250-3800-PP-5-12.npy\n",
      "3250-3800-PP-5-15.npy\n",
      "3250-3800-PP-5-7.npy\n",
      "3250-3800-TR-2-1.npy\n",
      "3250-3800-TR-2-4.npy\n",
      "3250-3800-TR-3-11.npy\n",
      "3250-3800-TR-3-13.npy\n",
      "3750-4300-----0.npy\n",
      "3750-4300-----7.npy\n",
      "3750-4300-FP-5-6.npy\n",
      "3750-4300-PP-3-5.npy\n",
      "3750-4300-PP-4-2.npy\n",
      "3750-4300-TR-1-3.npy\n",
      "3750-4300-TR-2-4.npy\n",
      "3750-4300-TR-3-1.npy\n",
      "3850-4500-FP-4-1.npy\n",
      "3850-4500-PP-4-3.npy\n",
      "3850-4500-PP-4-5.npy\n",
      "3850-4500-PP-4-6.npy\n",
      "3850-4500-TR-1-4.npy\n",
      "3850-4500-TR-2-0.npy\n",
      "3850-4500-TR-3-2.npy\n",
      "975-1275-.-.-28.npy\n",
      "975-1275-FP-4-16.npy\n",
      "975-1275-FP-4-20.npy\n",
      "975-1275-FP-4-22.npy\n",
      "975-1275-FP-4-6.npy\n",
      "975-1275-FP-5-14.npy\n",
      "975-1275-FP-5-17.npy\n",
      "975-1275-FP-5-23.npy\n",
      "975-1275-FP-5-26.npy\n",
      "975-1275-FP-5-3.npy\n",
      "975-1275-fp-5-6.npy\n",
      "975-1275-PP-3-12.npy\n",
      "975-1275-PP-3-2.npy\n",
      "975-1275-PP-4-7.npy\n",
      "975-1275-PP-5-11.npy\n",
      "975-1275-PP-5-15.npy\n",
      "975-1275-TR-1-25.npy\n",
      "975-1275-TR-2-18.npy\n",
      "975-1275-TR-3-8.npy\n",
      "975-1275-TR-4-0.npy\n",
      "975-1275-TR-4-10.npy\n",
      "975-1275-TR-4-5.npy\n",
      "975-1275-TR-4-9.npy\n",
      "975-1275-TR-5-1.npy\n",
      "975-1275-TR-5-13.npy\n",
      "975-1275-TR-5-19.npy\n",
      "975-1275-TR-5-21.npy\n",
      "975-1275-TR-5-24.npy\n",
      "975-1275-TR-5-27.npy\n",
      "975-1275-tr-5-3.npy\n",
      "975-1275-TR-5-4.npy\n"
     ]
    }
   ],
   "source": [
    "d50 = 0.00031\n",
    "# folnam = 'agubh2-100m-nanreplace'\n",
    "folnam = 'agubh2_downstream-nanreplace'\n",
    "#init = '/Volumes/SAF_Data/NAYS2DH_files/Data/nparrays/barpkg-arrays/Summer-bpkg-redo/JULY142022'\n",
    "init = f'/Volumes/SAF_Data/NAYS2DH_files/Data/nparrays/barpkg-arrays/{folnam}'\n",
    "for root, dirs, files in os.walk(init):\n",
    "    for file in files:\n",
    "        bar = np.load(os.path.join(root, file), allow_pickle = True)\n",
    "        med_mmp =(1000*(bar[:, :, 4]**2))/(1650*((18*(np.log10(4*bar[:, :, 3]/d50)))**2)*d50)##### modified mobility parameter\n",
    "        mmp_replacenan = copy.deepcopy(med_mmp)\n",
    "\n",
    "        for i in range (0, mmp_replacenan.shape[0]-1):\n",
    "            for j in range (0, mmp_replacenan.shape[1]):\n",
    "                if np.logical_and(bar[i, j, 0] == bar[i+1, j, 0], mmp_replacenan[i, j] <= mmp_replacenan[i+1, j]):\n",
    "                    mmp_replacenan[i, j] = np.nan\n",
    "        \n",
    "        ## comcatenate the mmp now\n",
    "        withfacies = np.concatenate((bar, np.expand_dims(mmp_replacenan, 2)), axis=2)\n",
    "        np.save(f'{os.path.join(root, file)}', withfacies, allow_pickle = True)"
   ]
  },
  {
   "cell_type": "code",
   "execution_count": 4,
   "id": "b184083c-d4f4-43bf-a374-612bbddb7cba",
   "metadata": {},
   "outputs": [
    {
     "data": {
      "text/plain": [
       "<generator object walk at 0x7fefac6ccba0>"
      ]
     },
     "execution_count": 4,
     "metadata": {},
     "output_type": "execute_result"
    }
   ],
   "source": [
    "os.walk(init)"
   ]
  },
  {
   "cell_type": "code",
   "execution_count": null,
   "id": "6745a5bc-920b-48e7-b2d4-bc063080a475",
   "metadata": {},
   "outputs": [],
   "source": []
  }
 ],
 "metadata": {
  "kernelspec": {
   "display_name": "Python 3 (ipykernel)",
   "language": "python",
   "name": "python3"
  },
  "language_info": {
   "codemirror_mode": {
    "name": "ipython",
    "version": 3
   },
   "file_extension": ".py",
   "mimetype": "text/x-python",
   "name": "python",
   "nbconvert_exporter": "python",
   "pygments_lexer": "ipython3",
   "version": "3.8.12"
  }
 },
 "nbformat": 4,
 "nbformat_minor": 5
}
