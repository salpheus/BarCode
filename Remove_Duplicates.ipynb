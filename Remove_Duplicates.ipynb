{
 "cells": [
  {
   "cell_type": "code",
   "execution_count": 1,
   "id": "cb5c3347-8090-453a-bc4d-6bcf8749c571",
   "metadata": {},
   "outputs": [],
   "source": [
    "import numpy as np\n",
    "import matplotlib as mpl\n",
    "import copy\n",
    "import matplotlib.pyplot as plt\n",
    "import os"
   ]
  },
  {
   "cell_type": "code",
   "execution_count": 3,
   "id": "2090564d-2129-452d-8c80-a4746282c26b",
   "metadata": {},
   "outputs": [
    {
     "name": "stderr",
     "output_type": "stream",
     "text": [
      "/var/folders/yg/89nlrh5x2xzgdlgr2bczm4_m0000gn/T/ipykernel_60715/2160755725.py:8: RuntimeWarning: invalid value encountered in log10\n",
      "  med_mmp =(1000*(bar[:, :, 4]**2))/(1650*((18*(np.log10(4*bar[:, :, 3]/d50)))**2)*d50)##### modified mobility parameter\n"
     ]
    }
   ],
   "source": [
    "d50 = 0.00031\n",
    "folnam = 'agubh2-100m-mmp'\n",
    "#init = '/Volumes/SAF_Data/NAYS2DH_files/Data/nparrays/barpkg-arrays/Summer-bpkg-redo/JULY142022'\n",
    "init = f'/Volumes/SAF_Data/NAYS2DH_files/Data/nparrays/barpkg-arrays/{folnam}'\n",
    "for root, dirs, files in os.walk(init):\n",
    "    for file in files:\n",
    "        bar = np.load(os.path.join(root, file), allow_pickle = True)\n",
    "        med_mmp =(1000*(bar[:, :, 4]**2))/(1650*((18*(np.log10(4*bar[:, :, 3]/d50)))**2)*d50)##### modified mobility parameter\n",
    "        mmp_replacenan = copy.deepcopy(med_mmp)\n",
    "\n",
    "        for i in range (0, mmp_replacenan.shape[0]-1):\n",
    "            for j in range (0, mmp_replacenan.shape[1]):\n",
    "                if np.logical_and(bar[i, j, 0] == bar[i+1, j, 0], mmp_replacenan[i, j] <= mmp_replacenan[i+1, j]):\n",
    "                    mmp_replacenan[i, j] = np.nan\n",
    "        \n",
    "        ## comcatenate the mmp now\n",
    "        withfacies = np.concatenate((bar, np.expand_dims(mmp_replacenan, 2)), axis=2)\n",
    "        np.save(f'{os.path.join(root, file)}', withfacies, allow_pickle = True)"
   ]
  },
  {
   "cell_type": "code",
   "execution_count": null,
   "id": "b184083c-d4f4-43bf-a374-612bbddb7cba",
   "metadata": {},
   "outputs": [],
   "source": []
  }
 ],
 "metadata": {
  "kernelspec": {
   "display_name": "Python 3 (ipykernel)",
   "language": "python",
   "name": "python3"
  },
  "language_info": {
   "codemirror_mode": {
    "name": "ipython",
    "version": 3
   },
   "file_extension": ".py",
   "mimetype": "text/x-python",
   "name": "python",
   "nbconvert_exporter": "python",
   "pygments_lexer": "ipython3",
   "version": "3.8.12"
  }
 },
 "nbformat": 4,
 "nbformat_minor": 5
}
