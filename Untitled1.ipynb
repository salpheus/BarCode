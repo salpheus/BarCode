{
 "cells": [
  {
   "cell_type": "code",
   "execution_count": 41,
   "id": "5736cdca-5c24-449d-8839-58abe7725b92",
   "metadata": {},
   "outputs": [
    {
     "name": "stdout",
     "output_type": "stream",
     "text": [
      "-8.969556451612906 80.77380952380955\n",
      "-4.334475806451616 18.869047619047628\n"
     ]
    }
   ],
   "source": [
    "import numpy as np\n",
    "import matplotlib.pyplot as plt\n",
    "\n",
    "x = np.arange(-10,10)\n",
    "y = x**2\n",
    "\n",
    "fig = plt.figure()\n",
    "ax = fig.add_subplot(111)\n",
    "ax.plot(x,y)\n",
    "\n",
    "coords = []\n",
    "\n",
    "def onclick(event):\n",
    "    global ix, iy\n",
    "    ix, iy = event.xdata, event.ydata\n",
    "    print(ix, iy)\n",
    "\n",
    "    global coords\n",
    "    coords.append((ix, iy))\n",
    "\n",
    "    if len(coords) == 2:\n",
    "        fig.canvas.mpl_disconnect(cid)\n",
    "\n",
    "    return coords\n",
    "cid = fig.canvas.mpl_connect('button_press_event', onclick)\n"
   ]
  },
  {
   "cell_type": "code",
   "execution_count": 43,
   "id": "5d034f05-185a-47f5-93d6-291a56f26ee2",
   "metadata": {},
   "outputs": [
    {
     "data": {
      "text/html": [
       "<div>\n",
       "<style scoped>\n",
       "    .dataframe tbody tr th:only-of-type {\n",
       "        vertical-align: middle;\n",
       "    }\n",
       "\n",
       "    .dataframe tbody tr th {\n",
       "        vertical-align: top;\n",
       "    }\n",
       "\n",
       "    .dataframe thead th {\n",
       "        text-align: right;\n",
       "    }\n",
       "</style>\n",
       "<table border=\"1\" class=\"dataframe\">\n",
       "  <thead>\n",
       "    <tr style=\"text-align: right;\">\n",
       "      <th></th>\n",
       "      <th>0</th>\n",
       "      <th>1</th>\n",
       "    </tr>\n",
       "  </thead>\n",
       "  <tbody>\n",
       "    <tr>\n",
       "      <th>0</th>\n",
       "      <td>-8.969556</td>\n",
       "      <td>80.773810</td>\n",
       "    </tr>\n",
       "    <tr>\n",
       "      <th>1</th>\n",
       "      <td>-4.334476</td>\n",
       "      <td>18.869048</td>\n",
       "    </tr>\n",
       "  </tbody>\n",
       "</table>\n",
       "</div>"
      ],
      "text/plain": [
       "          0          1\n",
       "0 -8.969556  80.773810\n",
       "1 -4.334476  18.869048"
      ]
     },
     "execution_count": 43,
     "metadata": {},
     "output_type": "execute_result"
    }
   ],
   "source": [
    "pd.DataFrame(coords)"
   ]
  },
  {
   "cell_type": "code",
   "execution_count": 5,
   "id": "5067238a-6f50-4ba9-8993-578a145e4c76",
   "metadata": {
    "jupyter": {
     "source_hidden": true
    },
    "tags": []
   },
   "outputs": [
    {
     "ename": "NameError",
     "evalue": "name 'ginput' is not defined",
     "output_type": "error",
     "traceback": [
      "\u001b[0;31m---------------------------------------------------------------------------\u001b[0m",
      "\u001b[0;31mNameError\u001b[0m                                 Traceback (most recent call last)",
      "\u001b[0;32m/var/folders/yg/89nlrh5x2xzgdlgr2bczm4_m0000gn/T/ipykernel_78480/3230653145.py\u001b[0m in \u001b[0;36m<module>\u001b[0;34m\u001b[0m\n\u001b[1;32m      6\u001b[0m \u001b[0max\u001b[0m\u001b[0;34m.\u001b[0m\u001b[0mplot\u001b[0m\u001b[0;34m(\u001b[0m\u001b[0mx\u001b[0m\u001b[0;34m,\u001b[0m\u001b[0my\u001b[0m\u001b[0;34m)\u001b[0m\u001b[0;34m\u001b[0m\u001b[0;34m\u001b[0m\u001b[0m\n\u001b[1;32m      7\u001b[0m \u001b[0;34m\u001b[0m\u001b[0m\n\u001b[0;32m----> 8\u001b[0;31m \u001b[0mpts\u001b[0m \u001b[0;34m=\u001b[0m \u001b[0mginput\u001b[0m\u001b[0;34m(\u001b[0m\u001b[0;36m3\u001b[0m\u001b[0;34m)\u001b[0m\u001b[0;34m\u001b[0m\u001b[0;34m\u001b[0m\u001b[0m\n\u001b[0m",
      "\u001b[0;31mNameError\u001b[0m: name 'ginput' is not defined"
     ]
    }
   ],
   "source": [
    "x = np.arange(-10,10)\n",
    "y = x**2\n",
    "\n",
    "fig = plt.figure()\n",
    "ax = fig.add_subplot(111)\n",
    "ax.plot(x,y)\n",
    "\n",
    "pts = ginput(3)"
   ]
  },
  {
   "cell_type": "code",
   "execution_count": 6,
   "id": "190a1ba0-0a4f-4ee3-9122-c77812b741e3",
   "metadata": {},
   "outputs": [
    {
     "name": "stdout",
     "output_type": "stream",
     "text": [
      "[3.0828629032258053, 3.0910714285714285]\n",
      "[5.478024193548386, 5.5285714285714285]\n",
      "[8.112701612903223, 8.04642857142857]\n"
     ]
    }
   ],
   "source": [
    "store = np.empty(2, 2)\n",
    "\n",
    "# Function to print mouse click event coordinates\n",
    "def onclick(event):\n",
    "   print([event.xdata, event.ydata])\n",
    "\n",
    "# Create a figure and a set of subplots\n",
    "fig, ax = plt.subplots()\n",
    "\n",
    "# Plot a line in the range of 10\n",
    "ax.plot(range(10))\n",
    "\n",
    "# Bind the button_press_event with the onclick() method\n",
    "fig.canvas.mpl_connect('button_press_event', onclick)\n",
    "\n",
    "# Display the plot\n",
    "plt.show()"
   ]
  },
  {
   "cell_type": "code",
   "execution_count": 13,
   "id": "a2ab7231-0ac7-4fe3-b1b9-8793da20effb",
   "metadata": {},
   "outputs": [],
   "source": [
    "import pandas as pd"
   ]
  },
  {
   "cell_type": "code",
   "execution_count": 32,
   "id": "b1905f4c-0b49-4129-a45a-110b3b5179f6",
   "metadata": {},
   "outputs": [],
   "source": [
    "data = pd.DataFrame(data=None)"
   ]
  },
  {
   "cell_type": "code",
   "execution_count": 33,
   "id": "2b54490c-2768-47ac-a57c-62f8714cc73a",
   "metadata": {},
   "outputs": [
    {
     "data": {
      "text/html": [
       "<div>\n",
       "<style scoped>\n",
       "    .dataframe tbody tr th:only-of-type {\n",
       "        vertical-align: middle;\n",
       "    }\n",
       "\n",
       "    .dataframe tbody tr th {\n",
       "        vertical-align: top;\n",
       "    }\n",
       "\n",
       "    .dataframe thead th {\n",
       "        text-align: right;\n",
       "    }\n",
       "</style>\n",
       "<table border=\"1\" class=\"dataframe\">\n",
       "  <thead>\n",
       "    <tr style=\"text-align: right;\">\n",
       "      <th></th>\n",
       "      <th>0</th>\n",
       "      <th>1</th>\n",
       "    </tr>\n",
       "  </thead>\n",
       "  <tbody>\n",
       "    <tr>\n",
       "      <th>0</th>\n",
       "      <td>-5.430040</td>\n",
       "      <td>29.880952</td>\n",
       "    </tr>\n",
       "    <tr>\n",
       "      <th>1</th>\n",
       "      <td>-3.913105</td>\n",
       "      <td>16.488095</td>\n",
       "    </tr>\n",
       "  </tbody>\n",
       "</table>\n",
       "</div>"
      ],
      "text/plain": [
       "          0          1\n",
       "0 -5.430040  29.880952\n",
       "1 -3.913105  16.488095"
      ]
     },
     "execution_count": 33,
     "metadata": {},
     "output_type": "execute_result"
    }
   ],
   "source": [
    "data.append(pd.DataFrame(coords))\n"
   ]
  },
  {
   "cell_type": "code",
   "execution_count": null,
   "id": "001c35bb-c4fd-4e23-a1cd-fd3a702ae3e0",
   "metadata": {},
   "outputs": [],
   "source": [
    "import numpy as np\n",
    "import matplotlib.pyplot as plt\n",
    "\n",
    "x = np.arange(-10,10)\n",
    "y = x**2\n",
    "\n",
    "fig = plt.figure()\n",
    "ax = fig.add_subplot(111)\n",
    "ax.plot(x,y)\n",
    "\n",
    "coords = []\n",
    "\n",
    "def onclick(event):\n",
    "    global ix, iy\n",
    "    ix, iy = event.xdata, event.ydata\n",
    "    print 'x = %d, y = %d'%(\n",
    "        ix, iy)\n",
    "\n",
    "    global coords\n",
    "    coords.append((ix, iy))\n",
    "\n",
    "    if len(coords) == 2:\n",
    "        fig.canvas.mpl_disconnect(cid)\n",
    "\n",
    "    return coords\n",
    "cid = fig.canvas.mpl_connect('button_press_event', onclick)"
   ]
  }
 ],
 "metadata": {
  "kernelspec": {
   "display_name": "Python 3 (ipykernel)",
   "language": "python",
   "name": "python3"
  },
  "language_info": {
   "codemirror_mode": {
    "name": "ipython",
    "version": 3
   },
   "file_extension": ".py",
   "mimetype": "text/x-python",
   "name": "python",
   "nbconvert_exporter": "python",
   "pygments_lexer": "ipython3",
   "version": "3.8.12"
  }
 },
 "nbformat": 4,
 "nbformat_minor": 5
}
