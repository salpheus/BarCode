{
 "cells": [
  {
   "cell_type": "markdown",
   "id": "aggressive-imagination",
   "metadata": {},
   "source": [
    "### Replot Sections\n",
    "Supplementary script for replotting stratigraphic sections with bars coloured by mapped preservation grade.\n",
    "\n",
    "The file 'cross-section_README' stored in the zipfile with all of the cross-sections describes how the data is archived in each numpy array\n"
   ]
  },
  {
   "cell_type": "code",
   "execution_count": 1,
   "id": "noticed-canadian",
   "metadata": {},
   "outputs": [
    {
     "name": "stderr",
     "output_type": "stream",
     "text": [
      "In /opt/anaconda3/lib/python3.7/site-packages/matplotlib/mpl-data/stylelib/_classic_test.mplstyle: \n",
      "The text.latex.preview rcparam was deprecated in Matplotlib 3.3 and will be removed two minor releases later.\n",
      "In /opt/anaconda3/lib/python3.7/site-packages/matplotlib/mpl-data/stylelib/_classic_test.mplstyle: \n",
      "The mathtext.fallback_to_cm rcparam was deprecated in Matplotlib 3.3 and will be removed two minor releases later.\n",
      "In /opt/anaconda3/lib/python3.7/site-packages/matplotlib/mpl-data/stylelib/_classic_test.mplstyle: Support for setting the 'mathtext.fallback_to_cm' rcParam is deprecated since 3.3 and will be removed two minor releases later; use 'mathtext.fallback : 'cm' instead.\n",
      "In /opt/anaconda3/lib/python3.7/site-packages/matplotlib/mpl-data/stylelib/_classic_test.mplstyle: \n",
      "The validate_bool_maybe_none function was deprecated in Matplotlib 3.3 and will be removed two minor releases later.\n",
      "In /opt/anaconda3/lib/python3.7/site-packages/matplotlib/mpl-data/stylelib/_classic_test.mplstyle: \n",
      "The savefig.jpeg_quality rcparam was deprecated in Matplotlib 3.3 and will be removed two minor releases later.\n",
      "In /opt/anaconda3/lib/python3.7/site-packages/matplotlib/mpl-data/stylelib/_classic_test.mplstyle: \n",
      "The keymap.all_axes rcparam was deprecated in Matplotlib 3.3 and will be removed two minor releases later.\n",
      "In /opt/anaconda3/lib/python3.7/site-packages/matplotlib/mpl-data/stylelib/_classic_test.mplstyle: \n",
      "The animation.avconv_path rcparam was deprecated in Matplotlib 3.3 and will be removed two minor releases later.\n",
      "In /opt/anaconda3/lib/python3.7/site-packages/matplotlib/mpl-data/stylelib/_classic_test.mplstyle: \n",
      "The animation.avconv_args rcparam was deprecated in Matplotlib 3.3 and will be removed two minor releases later.\n"
     ]
    }
   ],
   "source": [
    "import pandas as pd\n",
    "import numpy as np\n",
    "import matplotlib as mpl\n",
    "import matplotlib.pyplot as plt\n",
    "\n",
    "import os\n",
    "from os import listdir\n",
    "from os.path import isfile, join\n",
    "import scipy.stats as stats"
   ]
  },
  {
   "cell_type": "markdown",
   "id": "removable-omega",
   "metadata": {},
   "source": [
    "Define paths and read in master"
   ]
  },
  {
   "cell_type": "code",
   "execution_count": 2,
   "id": "mexican-navigator",
   "metadata": {},
   "outputs": [],
   "source": [
    "pres_cols = ['#e08266', '#feb9a8', '#8da0ae']##for SANCAS and AGU\n",
    "\n",
    "font = {'family' : 'Helvetica',\n",
    "        'weight' : 'normal',\n",
    "        'size'   : 16}\n",
    "\n",
    "mpl.rc('font', **font)"
   ]
  },
  {
   "cell_type": "code",
   "execution_count": 3,
   "id": "unauthorized-postcard",
   "metadata": {},
   "outputs": [],
   "source": [
    "master_csv = '/Volumes/SAF_Data/NAYS2DH_files/Data/BarCSVs/concat-files/agubh2-250mint.xlsx'\n",
    "allbars = pd.read_excel(master_csv, header = 0, sheet_name = 'agubh2-andpatch2', usecols = 'A:BF') ## master csv file with all bar data"
   ]
  },
  {
   "cell_type": "code",
   "execution_count": 6,
   "id": "medium-elevation",
   "metadata": {},
   "outputs": [],
   "source": [
    "seclist = np.unique(allbars['iloc']) #list of mapped sections"
   ]
  },
  {
   "cell_type": "code",
   "execution_count": 16,
   "id": "musical-publisher",
   "metadata": {},
   "outputs": [],
   "source": [
    "for sec in seclist:\n",
    "    cropdf = allbars[allbars['iloc']==sec]\n",
    "#     barlist = cropdf[['StartTime', 'EndTime', 'LeftEdge', 'RightEdge']].to_numpy() ## get a list of bars in the section\n",
    "    \n",
    "    section_library = f'/Volumes/SAF_Data/NAYS2DH_files/Data/nparrays/streamwise-masters/agubh2-10km-xs-250m/agubh2-10km-{sec}-master.npy' ## location of the section to plot\n",
    "    \n",
    "    \n",
    "    ##make package outlines bigger\n",
    "    ## make unmapped bars grey\n",
    "    \n",
    "    xs = np.load(section_library, allow_pickle = True)\n",
    "    fig = plt.figure(figsize = (10, 3), tight_layout = True, dpi = 200);\n",
    "    for index, bar in cropdf.iterrows(): ## iterate through cropped dataframe plotting bars\n",
    "        if bar[\"PreservChar\"]=='FP':\n",
    "            plt.fill_between(np.arange(bar[\"LeftEdge\"], bar[\"RightEdge\"]),\n",
    "                            xs[bar[\"StartTime\"], bar[\"LeftEdge\"]:bar[\"RightEdge\"], 1],\n",
    "                            xs[bar[\"EndTime\"], bar[\"LeftEdge\"]:bar[\"RightEdge\"], 1], color = pres_cols[0])\n",
    "            plt.plot(np.arange(bar[\"LeftEdge\"], bar[\"RightEdge\"]), ## x values\n",
    "                            xs[bar[\"StartTime\"], bar[\"LeftEdge\"]:bar[\"RightEdge\"], 1], color = 'k', lw = 2)\n",
    "            \n",
    "            plt.plot(np.arange(bar[\"LeftEdge\"], bar[\"RightEdge\"]), ## x values\n",
    "                            xs[bar[\"EndTime\"], bar[\"LeftEdge\"]:bar[\"RightEdge\"], 1], color = 'k', lw = 2)\n",
    "                           \n",
    "        if bar[\"PreservChar\"]=='PP':\n",
    "            plt.fill_between(np.arange(bar[\"LeftEdge\"], bar[\"RightEdge\"]),\n",
    "                            xs[bar[\"StartTime\"], bar[\"LeftEdge\"]:bar[\"RightEdge\"], 1],\n",
    "                            xs[bar[\"EndTime\"], bar[\"LeftEdge\"]:bar[\"RightEdge\"], 1], color = pres_cols[1])\n",
    "            \n",
    "            plt.plot(np.arange(bar[\"LeftEdge\"], bar[\"RightEdge\"]), ## x values\n",
    "                            xs[bar[\"StartTime\"], bar[\"LeftEdge\"]:bar[\"RightEdge\"], 1], color = 'k', lw = 2)\n",
    "            \n",
    "            plt.plot(np.arange(bar[\"LeftEdge\"], bar[\"RightEdge\"]), ## x values\n",
    "                            xs[bar[\"EndTime\"], bar[\"LeftEdge\"]:bar[\"RightEdge\"], 1], color = 'k', lw = 2)\n",
    "                           \n",
    "        if bar[\"PreservChar\"]=='TR':\n",
    "            plt.fill_between(np.arange(bar[\"LeftEdge\"], bar[\"RightEdge\"]),\n",
    "                            xs[bar[\"StartTime\"], bar[\"LeftEdge\"]:bar[\"RightEdge\"], 1],\n",
    "                            xs[bar[\"EndTime\"], bar[\"LeftEdge\"]:bar[\"RightEdge\"], 1], color = pres_cols[2])\n",
    "            plt.plot(np.arange(bar[\"LeftEdge\"], bar[\"RightEdge\"]), ## x values\n",
    "                            xs[bar[\"StartTime\"], bar[\"LeftEdge\"]:bar[\"RightEdge\"], 1], color = 'k', lw = 2)\n",
    "            \n",
    "            plt.plot(np.arange(bar[\"LeftEdge\"], bar[\"RightEdge\"]), ## x values\n",
    "                            xs[bar[\"EndTime\"], bar[\"LeftEdge\"]:bar[\"RightEdge\"], 1], color = 'k', lw = 2)\n",
    "                           \n",
    "    for t in range(xs.shape[0]):\n",
    "        plt.plot(xs[t, :, 1], 'k', lw = 0.1)\n",
    "    plt.plot(xs[0, :, 1], 'k', lw =2)\n",
    "    plt.plot(xs[-1, :, 1], 'k', lw =2)\n",
    "    plt.title(f'Section {sec}')\n",
    "    plt.xlabel('Cross-Stream Distance [m]')\n",
    "    plt.ylabel('Bed Elevation [m]')\n",
    "    plt.savefig(f'/Volumes/SAF_Data/NAYS2DH_files/Plots/barlibrary/agubh2-10km-xs-250m_bars/lw2-agubh2-10km-bars-{sec}.png', dpi = 300, transparent = True)\n",
    "    \n",
    "    plt.close()"
   ]
  },
  {
   "cell_type": "code",
   "execution_count": null,
   "id": "enclosed-copyright",
   "metadata": {},
   "outputs": [],
   "source": []
  }
 ],
 "metadata": {
  "kernelspec": {
   "display_name": "Python 3",
   "language": "python",
   "name": "python3"
  },
  "language_info": {
   "codemirror_mode": {
    "name": "ipython",
    "version": 3
   },
   "file_extension": ".py",
   "mimetype": "text/x-python",
   "name": "python",
   "nbconvert_exporter": "python",
   "pygments_lexer": "ipython3",
   "version": "3.7.4"
  }
 },
 "nbformat": 4,
 "nbformat_minor": 5
}
